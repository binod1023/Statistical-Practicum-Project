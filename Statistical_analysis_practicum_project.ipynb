{
 "cells": [
  {
   "cell_type": "markdown",
   "metadata": {},
   "source": [
    "# Which Company brings more revenue?\n",
    "## Introduction \n",
    "\n",
    "The telecom operator Megaline company offers its clients two prepaid plans, Surf and Ultimate. The commercial department wants to know which of the plans brings in more revenue in order to adjust the advertising budget.\n",
    "\n",
    "A preliminary analysis of the plans based on a relatively small client selection is carried out. This analysis uses the data on 500 Megaline clients: who the clients are, where they're from, which plan they use, and the number of calls they made and text messages they sent in 2018. This project analyze the clients' behavior and determine which prepaid plan brings in more revenue.\n"
   ]
  },
  {
   "cell_type": "code",
   "execution_count": 1,
   "metadata": {},
   "outputs": [],
   "source": [
    "# Loading all the libraries\n",
    "import pandas as pd\n",
    "import numpy as np\n",
    "from scipy import stats as st\n",
    "import os\n",
    "import datetime\n",
    "import matplotlib\n",
    "import matplotlib.pyplot as plt\n",
    "import seaborn as sns"
   ]
  },
  {
   "cell_type": "markdown",
   "metadata": {},
   "source": [
    "## Load data"
   ]
  },
  {
   "cell_type": "code",
   "execution_count": 4,
   "metadata": {},
   "outputs": [],
   "source": [
    "# Load the data files into different DataFrames\n",
    "df_call=pd.read_csv(\"megaline_calls.csv\")\n",
    "df_message=pd.read_csv(\"megaline_messages.csv\")\n",
    "df_internet=pd.read_csv(\"megaline_internet.csv\")\n",
    "df_user=pd.read_csv(\"megaline_users.csv\")\n",
    "df_plan=pd.read_csv(\"megaline_plans.csv\")  "
   ]
  },
  {
   "cell_type": "markdown",
   "metadata": {},
   "source": [
    "## Prepare the data"
   ]
  },
  {
   "cell_type": "markdown",
   "metadata": {},
   "source": [
    "## Plans"
   ]
  },
  {
   "cell_type": "code",
   "execution_count": 5,
   "metadata": {},
   "outputs": [
    {
     "name": "stdout",
     "output_type": "stream",
     "text": [
      "<class 'pandas.core.frame.DataFrame'>\n",
      "RangeIndex: 2 entries, 0 to 1\n",
      "Data columns (total 8 columns):\n",
      " #   Column                 Non-Null Count  Dtype  \n",
      "---  ------                 --------------  -----  \n",
      " 0   messages_included      2 non-null      int64  \n",
      " 1   mb_per_month_included  2 non-null      int64  \n",
      " 2   minutes_included       2 non-null      int64  \n",
      " 3   usd_monthly_pay        2 non-null      int64  \n",
      " 4   usd_per_gb             2 non-null      int64  \n",
      " 5   usd_per_message        2 non-null      float64\n",
      " 6   usd_per_minute         2 non-null      float64\n",
      " 7   plan_name              2 non-null      object \n",
      "dtypes: float64(2), int64(5), object(1)\n",
      "memory usage: 256.0+ bytes\n"
     ]
    }
   ],
   "source": [
    "# Print the general/summary information about the plans' DataFrame\n",
    "df_plan.info()\n"
   ]
  },
  {
   "cell_type": "code",
   "execution_count": 4,
   "metadata": {},
   "outputs": [
    {
     "data": {
      "text/html": [
       "<div>\n",
       "<style scoped>\n",
       "    .dataframe tbody tr th:only-of-type {\n",
       "        vertical-align: middle;\n",
       "    }\n",
       "\n",
       "    .dataframe tbody tr th {\n",
       "        vertical-align: top;\n",
       "    }\n",
       "\n",
       "    .dataframe thead th {\n",
       "        text-align: right;\n",
       "    }\n",
       "</style>\n",
       "<table border=\"1\" class=\"dataframe\">\n",
       "  <thead>\n",
       "    <tr style=\"text-align: right;\">\n",
       "      <th></th>\n",
       "      <th>messages_included</th>\n",
       "      <th>mb_per_month_included</th>\n",
       "      <th>minutes_included</th>\n",
       "      <th>usd_monthly_pay</th>\n",
       "      <th>usd_per_gb</th>\n",
       "      <th>usd_per_message</th>\n",
       "      <th>usd_per_minute</th>\n",
       "      <th>plan_name</th>\n",
       "    </tr>\n",
       "  </thead>\n",
       "  <tbody>\n",
       "    <tr>\n",
       "      <th>0</th>\n",
       "      <td>50</td>\n",
       "      <td>15360</td>\n",
       "      <td>500</td>\n",
       "      <td>20</td>\n",
       "      <td>10</td>\n",
       "      <td>0.03</td>\n",
       "      <td>0.03</td>\n",
       "      <td>surf</td>\n",
       "    </tr>\n",
       "    <tr>\n",
       "      <th>1</th>\n",
       "      <td>1000</td>\n",
       "      <td>30720</td>\n",
       "      <td>3000</td>\n",
       "      <td>70</td>\n",
       "      <td>7</td>\n",
       "      <td>0.01</td>\n",
       "      <td>0.01</td>\n",
       "      <td>ultimate</td>\n",
       "    </tr>\n",
       "  </tbody>\n",
       "</table>\n",
       "</div>"
      ],
      "text/plain": [
       "   messages_included  mb_per_month_included  minutes_included  \\\n",
       "0                 50                  15360               500   \n",
       "1               1000                  30720              3000   \n",
       "\n",
       "   usd_monthly_pay  usd_per_gb  usd_per_message  usd_per_minute plan_name  \n",
       "0               20          10             0.03            0.03      surf  \n",
       "1               70           7             0.01            0.01  ultimate  "
      ]
     },
     "execution_count": 4,
     "metadata": {},
     "output_type": "execute_result"
    }
   ],
   "source": [
    "# Print a sample of data for plans\n",
    "df_plan.head(5)"
   ]
  },
  {
   "cell_type": "markdown",
   "metadata": {},
   "source": [
    " "
   ]
  },
  {
   "cell_type": "markdown",
   "metadata": {},
   "source": [
    "### Data about Users"
   ]
  },
  {
   "cell_type": "code",
   "execution_count": 5,
   "metadata": {},
   "outputs": [
    {
     "name": "stdout",
     "output_type": "stream",
     "text": [
      "<class 'pandas.core.frame.DataFrame'>\n",
      "RangeIndex: 500 entries, 0 to 499\n",
      "Data columns (total 8 columns):\n",
      " #   Column      Non-Null Count  Dtype \n",
      "---  ------      --------------  ----- \n",
      " 0   user_id     500 non-null    int64 \n",
      " 1   first_name  500 non-null    object\n",
      " 2   last_name   500 non-null    object\n",
      " 3   age         500 non-null    int64 \n",
      " 4   city        500 non-null    object\n",
      " 5   reg_date    500 non-null    object\n",
      " 6   plan        500 non-null    object\n",
      " 7   churn_date  34 non-null     object\n",
      "dtypes: int64(2), object(6)\n",
      "memory usage: 31.4+ KB\n"
     ]
    }
   ],
   "source": [
    "# Print the general/summary information about the users' DataFrame\n",
    "df_user.info()"
   ]
  },
  {
   "cell_type": "code",
   "execution_count": 6,
   "metadata": {},
   "outputs": [
    {
     "data": {
      "text/html": [
       "<div>\n",
       "<style scoped>\n",
       "    .dataframe tbody tr th:only-of-type {\n",
       "        vertical-align: middle;\n",
       "    }\n",
       "\n",
       "    .dataframe tbody tr th {\n",
       "        vertical-align: top;\n",
       "    }\n",
       "\n",
       "    .dataframe thead th {\n",
       "        text-align: right;\n",
       "    }\n",
       "</style>\n",
       "<table border=\"1\" class=\"dataframe\">\n",
       "  <thead>\n",
       "    <tr style=\"text-align: right;\">\n",
       "      <th></th>\n",
       "      <th>user_id</th>\n",
       "      <th>first_name</th>\n",
       "      <th>last_name</th>\n",
       "      <th>age</th>\n",
       "      <th>city</th>\n",
       "      <th>reg_date</th>\n",
       "      <th>plan</th>\n",
       "      <th>churn_date</th>\n",
       "    </tr>\n",
       "  </thead>\n",
       "  <tbody>\n",
       "    <tr>\n",
       "      <th>0</th>\n",
       "      <td>1000</td>\n",
       "      <td>Anamaria</td>\n",
       "      <td>Bauer</td>\n",
       "      <td>45</td>\n",
       "      <td>Atlanta-Sandy Springs-Roswell, GA MSA</td>\n",
       "      <td>2018-12-24</td>\n",
       "      <td>ultimate</td>\n",
       "      <td>NaN</td>\n",
       "    </tr>\n",
       "    <tr>\n",
       "      <th>1</th>\n",
       "      <td>1001</td>\n",
       "      <td>Mickey</td>\n",
       "      <td>Wilkerson</td>\n",
       "      <td>28</td>\n",
       "      <td>Seattle-Tacoma-Bellevue, WA MSA</td>\n",
       "      <td>2018-08-13</td>\n",
       "      <td>surf</td>\n",
       "      <td>NaN</td>\n",
       "    </tr>\n",
       "    <tr>\n",
       "      <th>2</th>\n",
       "      <td>1002</td>\n",
       "      <td>Carlee</td>\n",
       "      <td>Hoffman</td>\n",
       "      <td>36</td>\n",
       "      <td>Las Vegas-Henderson-Paradise, NV MSA</td>\n",
       "      <td>2018-10-21</td>\n",
       "      <td>surf</td>\n",
       "      <td>NaN</td>\n",
       "    </tr>\n",
       "    <tr>\n",
       "      <th>3</th>\n",
       "      <td>1003</td>\n",
       "      <td>Reynaldo</td>\n",
       "      <td>Jenkins</td>\n",
       "      <td>52</td>\n",
       "      <td>Tulsa, OK MSA</td>\n",
       "      <td>2018-01-28</td>\n",
       "      <td>surf</td>\n",
       "      <td>NaN</td>\n",
       "    </tr>\n",
       "    <tr>\n",
       "      <th>4</th>\n",
       "      <td>1004</td>\n",
       "      <td>Leonila</td>\n",
       "      <td>Thompson</td>\n",
       "      <td>40</td>\n",
       "      <td>Seattle-Tacoma-Bellevue, WA MSA</td>\n",
       "      <td>2018-05-23</td>\n",
       "      <td>surf</td>\n",
       "      <td>NaN</td>\n",
       "    </tr>\n",
       "  </tbody>\n",
       "</table>\n",
       "</div>"
      ],
      "text/plain": [
       "   user_id first_name  last_name  age                                   city  \\\n",
       "0     1000   Anamaria      Bauer   45  Atlanta-Sandy Springs-Roswell, GA MSA   \n",
       "1     1001     Mickey  Wilkerson   28        Seattle-Tacoma-Bellevue, WA MSA   \n",
       "2     1002     Carlee    Hoffman   36   Las Vegas-Henderson-Paradise, NV MSA   \n",
       "3     1003   Reynaldo    Jenkins   52                          Tulsa, OK MSA   \n",
       "4     1004    Leonila   Thompson   40        Seattle-Tacoma-Bellevue, WA MSA   \n",
       "\n",
       "     reg_date      plan churn_date  \n",
       "0  2018-12-24  ultimate        NaN  \n",
       "1  2018-08-13      surf        NaN  \n",
       "2  2018-10-21      surf        NaN  \n",
       "3  2018-01-28      surf        NaN  \n",
       "4  2018-05-23      surf        NaN  "
      ]
     },
     "execution_count": 6,
     "metadata": {},
     "output_type": "execute_result"
    }
   ],
   "source": [
    "# Print a sample of data for users\n",
    "df_user.head(5)"
   ]
  },
  {
   "cell_type": "markdown",
   "metadata": {},
   "source": [
    " "
   ]
  },
  {
   "cell_type": "code",
   "execution_count": 7,
   "metadata": {},
   "outputs": [],
   "source": [
    "# change data type\n",
    "df_user[\"reg_date\"]=pd.to_datetime(df_user[\"reg_date\"])"
   ]
  },
  {
   "cell_type": "code",
   "execution_count": 8,
   "metadata": {},
   "outputs": [],
   "source": [
    "df_user[\"churn_date\"]=pd.to_datetime(df_user[\"churn_date\"])\n"
   ]
  },
  {
   "cell_type": "code",
   "execution_count": 9,
   "metadata": {},
   "outputs": [
    {
     "data": {
      "text/plain": [
       "user_id         0\n",
       "first_name      0\n",
       "last_name       0\n",
       "age             0\n",
       "city            0\n",
       "reg_date        0\n",
       "plan            0\n",
       "churn_date    466\n",
       "dtype: int64"
      ]
     },
     "execution_count": 9,
     "metadata": {},
     "output_type": "execute_result"
    }
   ],
   "source": [
    "# check missing values\n",
    "df_user.isnull().sum()"
   ]
  },
  {
   "cell_type": "code",
   "execution_count": 10,
   "metadata": {},
   "outputs": [
    {
     "name": "stdout",
     "output_type": "stream",
     "text": [
      "<class 'pandas.core.frame.DataFrame'>\n",
      "RangeIndex: 500 entries, 0 to 499\n",
      "Data columns (total 8 columns):\n",
      " #   Column      Non-Null Count  Dtype         \n",
      "---  ------      --------------  -----         \n",
      " 0   user_id     500 non-null    int64         \n",
      " 1   first_name  500 non-null    object        \n",
      " 2   last_name   500 non-null    object        \n",
      " 3   age         500 non-null    int64         \n",
      " 4   city        500 non-null    object        \n",
      " 5   reg_date    500 non-null    datetime64[ns]\n",
      " 6   plan        500 non-null    object        \n",
      " 7   churn_date  34 non-null     datetime64[ns]\n",
      "dtypes: datetime64[ns](2), int64(2), object(4)\n",
      "memory usage: 31.4+ KB\n"
     ]
    }
   ],
   "source": [
    "df_user.info()"
   ]
  },
  {
   "cell_type": "markdown",
   "metadata": {},
   "source": [
    "### Enrich Data"
   ]
  },
  {
   "cell_type": "code",
   "execution_count": 11,
   "metadata": {},
   "outputs": [],
   "source": [
    "# get churn_month and reg_month from churn_date and reg_date respectively\n",
    "df_user[\"month\"]=df_user[\"reg_date\"].dt.month\n",
    "df_user[\"churn_month\"]=df_user[\"churn_date\"].dt.month"
   ]
  },
  {
   "cell_type": "markdown",
   "metadata": {},
   "source": [
    "## Calls"
   ]
  },
  {
   "cell_type": "code",
   "execution_count": 12,
   "metadata": {},
   "outputs": [
    {
     "name": "stdout",
     "output_type": "stream",
     "text": [
      "<class 'pandas.core.frame.DataFrame'>\n",
      "RangeIndex: 137735 entries, 0 to 137734\n",
      "Data columns (total 4 columns):\n",
      " #   Column     Non-Null Count   Dtype  \n",
      "---  ------     --------------   -----  \n",
      " 0   id         137735 non-null  object \n",
      " 1   user_id    137735 non-null  int64  \n",
      " 2   call_date  137735 non-null  object \n",
      " 3   duration   137735 non-null  float64\n",
      "dtypes: float64(1), int64(1), object(2)\n",
      "memory usage: 4.2+ MB\n"
     ]
    }
   ],
   "source": [
    "# Print the general/summary information about the calls' DataFrame\n",
    "df_call.info()"
   ]
  },
  {
   "cell_type": "code",
   "execution_count": 13,
   "metadata": {},
   "outputs": [
    {
     "data": {
      "text/html": [
       "<div>\n",
       "<style scoped>\n",
       "    .dataframe tbody tr th:only-of-type {\n",
       "        vertical-align: middle;\n",
       "    }\n",
       "\n",
       "    .dataframe tbody tr th {\n",
       "        vertical-align: top;\n",
       "    }\n",
       "\n",
       "    .dataframe thead th {\n",
       "        text-align: right;\n",
       "    }\n",
       "</style>\n",
       "<table border=\"1\" class=\"dataframe\">\n",
       "  <thead>\n",
       "    <tr style=\"text-align: right;\">\n",
       "      <th></th>\n",
       "      <th>id</th>\n",
       "      <th>user_id</th>\n",
       "      <th>call_date</th>\n",
       "      <th>duration</th>\n",
       "    </tr>\n",
       "  </thead>\n",
       "  <tbody>\n",
       "    <tr>\n",
       "      <th>0</th>\n",
       "      <td>1000_93</td>\n",
       "      <td>1000</td>\n",
       "      <td>2018-12-27</td>\n",
       "      <td>8.52</td>\n",
       "    </tr>\n",
       "    <tr>\n",
       "      <th>1</th>\n",
       "      <td>1000_145</td>\n",
       "      <td>1000</td>\n",
       "      <td>2018-12-27</td>\n",
       "      <td>13.66</td>\n",
       "    </tr>\n",
       "    <tr>\n",
       "      <th>2</th>\n",
       "      <td>1000_247</td>\n",
       "      <td>1000</td>\n",
       "      <td>2018-12-27</td>\n",
       "      <td>14.48</td>\n",
       "    </tr>\n",
       "    <tr>\n",
       "      <th>3</th>\n",
       "      <td>1000_309</td>\n",
       "      <td>1000</td>\n",
       "      <td>2018-12-28</td>\n",
       "      <td>5.76</td>\n",
       "    </tr>\n",
       "    <tr>\n",
       "      <th>4</th>\n",
       "      <td>1000_380</td>\n",
       "      <td>1000</td>\n",
       "      <td>2018-12-30</td>\n",
       "      <td>4.22</td>\n",
       "    </tr>\n",
       "  </tbody>\n",
       "</table>\n",
       "</div>"
      ],
      "text/plain": [
       "         id  user_id   call_date  duration\n",
       "0   1000_93     1000  2018-12-27      8.52\n",
       "1  1000_145     1000  2018-12-27     13.66\n",
       "2  1000_247     1000  2018-12-27     14.48\n",
       "3  1000_309     1000  2018-12-28      5.76\n",
       "4  1000_380     1000  2018-12-30      4.22"
      ]
     },
     "execution_count": 13,
     "metadata": {},
     "output_type": "execute_result"
    }
   ],
   "source": [
    "# Print a sample of data for calls\n",
    "df_call.head(5)"
   ]
  },
  {
   "cell_type": "markdown",
   "metadata": {},
   "source": [
    "Call_date column is in object dtype, so change them to date type"
   ]
  },
  {
   "cell_type": "markdown",
   "metadata": {},
   "source": [
    " "
   ]
  },
  {
   "cell_type": "markdown",
   "metadata": {},
   "source": [
    "### Fix data"
   ]
  },
  {
   "cell_type": "markdown",
   "metadata": {},
   "source": [
    "[Fix obvious issues with the data given the initial observations.]"
   ]
  },
  {
   "cell_type": "code",
   "execution_count": 14,
   "metadata": {},
   "outputs": [],
   "source": [
    "# change call_date date type to date type\n",
    "df_call[\"call_date\"]=pd.to_datetime(df_call[\"call_date\"])"
   ]
  },
  {
   "cell_type": "markdown",
   "metadata": {},
   "source": [
    "### Enrich data"
   ]
  },
  {
   "cell_type": "markdown",
   "metadata": {},
   "source": [
    "[Add additional factors to the data if you believe they might be useful.]"
   ]
  },
  {
   "cell_type": "code",
   "execution_count": 15,
   "metadata": {},
   "outputs": [],
   "source": [
    "df_call[\"month\"]=df_call[\"call_date\"].dt.month"
   ]
  },
  {
   "cell_type": "code",
   "execution_count": 16,
   "metadata": {},
   "outputs": [],
   "source": [
    "# round up duration to minutes\n",
    "def round_up(duration):\n",
    "    seconds=duration*60\n",
    "    if seconds%60==0:\n",
    "        return duration\n",
    "    return np.ceil(duration)"
   ]
  },
  {
   "cell_type": "code",
   "execution_count": 17,
   "metadata": {},
   "outputs": [],
   "source": [
    "# apply round up function\n",
    "df_call[\"duration\"]=df_call[\"duration\"].apply(round_up)"
   ]
  },
  {
   "cell_type": "code",
   "execution_count": 18,
   "metadata": {},
   "outputs": [
    {
     "data": {
      "text/html": [
       "<div>\n",
       "<style scoped>\n",
       "    .dataframe tbody tr th:only-of-type {\n",
       "        vertical-align: middle;\n",
       "    }\n",
       "\n",
       "    .dataframe tbody tr th {\n",
       "        vertical-align: top;\n",
       "    }\n",
       "\n",
       "    .dataframe thead th {\n",
       "        text-align: right;\n",
       "    }\n",
       "</style>\n",
       "<table border=\"1\" class=\"dataframe\">\n",
       "  <thead>\n",
       "    <tr style=\"text-align: right;\">\n",
       "      <th></th>\n",
       "      <th>id</th>\n",
       "      <th>user_id</th>\n",
       "      <th>call_date</th>\n",
       "      <th>duration</th>\n",
       "      <th>month</th>\n",
       "    </tr>\n",
       "  </thead>\n",
       "  <tbody>\n",
       "    <tr>\n",
       "      <th>0</th>\n",
       "      <td>1000_93</td>\n",
       "      <td>1000</td>\n",
       "      <td>2018-12-27</td>\n",
       "      <td>9.0</td>\n",
       "      <td>12</td>\n",
       "    </tr>\n",
       "    <tr>\n",
       "      <th>1</th>\n",
       "      <td>1000_145</td>\n",
       "      <td>1000</td>\n",
       "      <td>2018-12-27</td>\n",
       "      <td>14.0</td>\n",
       "      <td>12</td>\n",
       "    </tr>\n",
       "    <tr>\n",
       "      <th>2</th>\n",
       "      <td>1000_247</td>\n",
       "      <td>1000</td>\n",
       "      <td>2018-12-27</td>\n",
       "      <td>15.0</td>\n",
       "      <td>12</td>\n",
       "    </tr>\n",
       "    <tr>\n",
       "      <th>3</th>\n",
       "      <td>1000_309</td>\n",
       "      <td>1000</td>\n",
       "      <td>2018-12-28</td>\n",
       "      <td>6.0</td>\n",
       "      <td>12</td>\n",
       "    </tr>\n",
       "    <tr>\n",
       "      <th>4</th>\n",
       "      <td>1000_380</td>\n",
       "      <td>1000</td>\n",
       "      <td>2018-12-30</td>\n",
       "      <td>5.0</td>\n",
       "      <td>12</td>\n",
       "    </tr>\n",
       "  </tbody>\n",
       "</table>\n",
       "</div>"
      ],
      "text/plain": [
       "         id  user_id  call_date  duration  month\n",
       "0   1000_93     1000 2018-12-27       9.0     12\n",
       "1  1000_145     1000 2018-12-27      14.0     12\n",
       "2  1000_247     1000 2018-12-27      15.0     12\n",
       "3  1000_309     1000 2018-12-28       6.0     12\n",
       "4  1000_380     1000 2018-12-30       5.0     12"
      ]
     },
     "execution_count": 18,
     "metadata": {},
     "output_type": "execute_result"
    }
   ],
   "source": [
    "df_call.head(5)"
   ]
  },
  {
   "cell_type": "markdown",
   "metadata": {},
   "source": [
    "<div class=\"alert alert-success\" role=\"alert\">\n",
    "<b>Reviewer's comment v2:</b>\n",
    "    \n",
    "- Ok, great job! You can also use here np.ceil () function.\n",
    "\n",
    "- This function by the way also works without `apply` which makes code shorter and faster.\n",
    "\n",
    "```\n",
    "calls['duration'] = np.ceil(calls['duration'])\n",
    "```"
   ]
  },
  {
   "cell_type": "markdown",
   "metadata": {},
   "source": [
    "## Messages"
   ]
  },
  {
   "cell_type": "code",
   "execution_count": 19,
   "metadata": {},
   "outputs": [
    {
     "name": "stdout",
     "output_type": "stream",
     "text": [
      "<class 'pandas.core.frame.DataFrame'>\n",
      "RangeIndex: 76051 entries, 0 to 76050\n",
      "Data columns (total 3 columns):\n",
      " #   Column        Non-Null Count  Dtype \n",
      "---  ------        --------------  ----- \n",
      " 0   id            76051 non-null  object\n",
      " 1   user_id       76051 non-null  int64 \n",
      " 2   message_date  76051 non-null  object\n",
      "dtypes: int64(1), object(2)\n",
      "memory usage: 1.7+ MB\n"
     ]
    }
   ],
   "source": [
    "# Print the general/summary information about the messages' DataFrame\n",
    "df_message.info()\n"
   ]
  },
  {
   "cell_type": "code",
   "execution_count": 20,
   "metadata": {},
   "outputs": [
    {
     "data": {
      "text/html": [
       "<div>\n",
       "<style scoped>\n",
       "    .dataframe tbody tr th:only-of-type {\n",
       "        vertical-align: middle;\n",
       "    }\n",
       "\n",
       "    .dataframe tbody tr th {\n",
       "        vertical-align: top;\n",
       "    }\n",
       "\n",
       "    .dataframe thead th {\n",
       "        text-align: right;\n",
       "    }\n",
       "</style>\n",
       "<table border=\"1\" class=\"dataframe\">\n",
       "  <thead>\n",
       "    <tr style=\"text-align: right;\">\n",
       "      <th></th>\n",
       "      <th>id</th>\n",
       "      <th>user_id</th>\n",
       "      <th>message_date</th>\n",
       "    </tr>\n",
       "  </thead>\n",
       "  <tbody>\n",
       "    <tr>\n",
       "      <th>0</th>\n",
       "      <td>1000_125</td>\n",
       "      <td>1000</td>\n",
       "      <td>2018-12-27</td>\n",
       "    </tr>\n",
       "    <tr>\n",
       "      <th>1</th>\n",
       "      <td>1000_160</td>\n",
       "      <td>1000</td>\n",
       "      <td>2018-12-31</td>\n",
       "    </tr>\n",
       "    <tr>\n",
       "      <th>2</th>\n",
       "      <td>1000_223</td>\n",
       "      <td>1000</td>\n",
       "      <td>2018-12-31</td>\n",
       "    </tr>\n",
       "    <tr>\n",
       "      <th>3</th>\n",
       "      <td>1000_251</td>\n",
       "      <td>1000</td>\n",
       "      <td>2018-12-27</td>\n",
       "    </tr>\n",
       "    <tr>\n",
       "      <th>4</th>\n",
       "      <td>1000_255</td>\n",
       "      <td>1000</td>\n",
       "      <td>2018-12-26</td>\n",
       "    </tr>\n",
       "  </tbody>\n",
       "</table>\n",
       "</div>"
      ],
      "text/plain": [
       "         id  user_id message_date\n",
       "0  1000_125     1000   2018-12-27\n",
       "1  1000_160     1000   2018-12-31\n",
       "2  1000_223     1000   2018-12-31\n",
       "3  1000_251     1000   2018-12-27\n",
       "4  1000_255     1000   2018-12-26"
      ]
     },
     "execution_count": 20,
     "metadata": {},
     "output_type": "execute_result"
    }
   ],
   "source": [
    "# Print a sample of data for messages\n",
    "df_message.head(5)"
   ]
  },
  {
   "cell_type": "markdown",
   "metadata": {},
   "source": [
    "message_date is given in object type, so change it to date type"
   ]
  },
  {
   "cell_type": "markdown",
   "metadata": {},
   "source": [
    " "
   ]
  },
  {
   "cell_type": "markdown",
   "metadata": {},
   "source": [
    "### Fix data"
   ]
  },
  {
   "cell_type": "markdown",
   "metadata": {},
   "source": [
    "[Fix obvious issues with the data given the initial observations.]"
   ]
  },
  {
   "cell_type": "code",
   "execution_count": 21,
   "metadata": {},
   "outputs": [],
   "source": [
    "# change the given column to date type\n",
    "df_message[\"message_date\"]=pd.to_datetime(df_message[\"message_date\"])"
   ]
  },
  {
   "cell_type": "markdown",
   "metadata": {},
   "source": [
    "### Enrich data"
   ]
  },
  {
   "cell_type": "markdown",
   "metadata": {},
   "source": [
    "[Add additional factors to the data if you believe they might be useful.]"
   ]
  },
  {
   "cell_type": "code",
   "execution_count": 22,
   "metadata": {},
   "outputs": [],
   "source": [
    "# get month of message_date\n",
    "df_message[\"month\"]=df_message[\"message_date\"].dt.month"
   ]
  },
  {
   "cell_type": "markdown",
   "metadata": {},
   "source": [
    "## Internet"
   ]
  },
  {
   "cell_type": "code",
   "execution_count": 23,
   "metadata": {},
   "outputs": [
    {
     "name": "stdout",
     "output_type": "stream",
     "text": [
      "<class 'pandas.core.frame.DataFrame'>\n",
      "RangeIndex: 104825 entries, 0 to 104824\n",
      "Data columns (total 4 columns):\n",
      " #   Column        Non-Null Count   Dtype  \n",
      "---  ------        --------------   -----  \n",
      " 0   id            104825 non-null  object \n",
      " 1   user_id       104825 non-null  int64  \n",
      " 2   session_date  104825 non-null  object \n",
      " 3   mb_used       104825 non-null  float64\n",
      "dtypes: float64(1), int64(1), object(2)\n",
      "memory usage: 3.2+ MB\n"
     ]
    }
   ],
   "source": [
    "# Print the general/summary information about the internet DataFrame\n",
    "df_internet.info()"
   ]
  },
  {
   "cell_type": "code",
   "execution_count": 24,
   "metadata": {},
   "outputs": [
    {
     "data": {
      "text/html": [
       "<div>\n",
       "<style scoped>\n",
       "    .dataframe tbody tr th:only-of-type {\n",
       "        vertical-align: middle;\n",
       "    }\n",
       "\n",
       "    .dataframe tbody tr th {\n",
       "        vertical-align: top;\n",
       "    }\n",
       "\n",
       "    .dataframe thead th {\n",
       "        text-align: right;\n",
       "    }\n",
       "</style>\n",
       "<table border=\"1\" class=\"dataframe\">\n",
       "  <thead>\n",
       "    <tr style=\"text-align: right;\">\n",
       "      <th></th>\n",
       "      <th>id</th>\n",
       "      <th>user_id</th>\n",
       "      <th>session_date</th>\n",
       "      <th>mb_used</th>\n",
       "    </tr>\n",
       "  </thead>\n",
       "  <tbody>\n",
       "    <tr>\n",
       "      <th>0</th>\n",
       "      <td>1000_13</td>\n",
       "      <td>1000</td>\n",
       "      <td>2018-12-29</td>\n",
       "      <td>89.86</td>\n",
       "    </tr>\n",
       "    <tr>\n",
       "      <th>1</th>\n",
       "      <td>1000_204</td>\n",
       "      <td>1000</td>\n",
       "      <td>2018-12-31</td>\n",
       "      <td>0.00</td>\n",
       "    </tr>\n",
       "    <tr>\n",
       "      <th>2</th>\n",
       "      <td>1000_379</td>\n",
       "      <td>1000</td>\n",
       "      <td>2018-12-28</td>\n",
       "      <td>660.40</td>\n",
       "    </tr>\n",
       "    <tr>\n",
       "      <th>3</th>\n",
       "      <td>1000_413</td>\n",
       "      <td>1000</td>\n",
       "      <td>2018-12-26</td>\n",
       "      <td>270.99</td>\n",
       "    </tr>\n",
       "    <tr>\n",
       "      <th>4</th>\n",
       "      <td>1000_442</td>\n",
       "      <td>1000</td>\n",
       "      <td>2018-12-27</td>\n",
       "      <td>880.22</td>\n",
       "    </tr>\n",
       "  </tbody>\n",
       "</table>\n",
       "</div>"
      ],
      "text/plain": [
       "         id  user_id session_date  mb_used\n",
       "0   1000_13     1000   2018-12-29    89.86\n",
       "1  1000_204     1000   2018-12-31     0.00\n",
       "2  1000_379     1000   2018-12-28   660.40\n",
       "3  1000_413     1000   2018-12-26   270.99\n",
       "4  1000_442     1000   2018-12-27   880.22"
      ]
     },
     "execution_count": 24,
     "metadata": {},
     "output_type": "execute_result"
    }
   ],
   "source": [
    "# Print a sample of data for the internet traffic\n",
    "df_internet.head(5)"
   ]
  },
  {
   "cell_type": "markdown",
   "metadata": {},
   "source": [
    " session_date is given as object type, so change it to date data type."
   ]
  },
  {
   "cell_type": "markdown",
   "metadata": {},
   "source": [
    "### Fix data"
   ]
  },
  {
   "cell_type": "markdown",
   "metadata": {},
   "source": [
    "[Fix obvious issues with the data given the initial observations.]"
   ]
  },
  {
   "cell_type": "code",
   "execution_count": 25,
   "metadata": {},
   "outputs": [],
   "source": [
    "# change the given column to datetime type\n",
    "df_internet[\"session_date\"]=pd.to_datetime(df_internet[\"session_date\"])"
   ]
  },
  {
   "cell_type": "markdown",
   "metadata": {},
   "source": [
    "### Enrich data"
   ]
  },
  {
   "cell_type": "markdown",
   "metadata": {},
   "source": [
    "[Add additional factors to the data if you believe they might be useful.]"
   ]
  },
  {
   "cell_type": "code",
   "execution_count": 26,
   "metadata": {},
   "outputs": [],
   "source": [
    "# Get session month from session date\n",
    "df_internet[\"month\"]=df_internet[\"session_date\"].dt.month"
   ]
  },
  {
   "cell_type": "markdown",
   "metadata": {},
   "source": [
    "## Study plan conditions"
   ]
  },
  {
   "cell_type": "markdown",
   "metadata": {},
   "source": [
    "[It is critical to understand how the plans work, how users are charged based on their plan subscription. So, we suggest printing out the plan information to view their conditions once again.]"
   ]
  },
  {
   "cell_type": "code",
   "execution_count": 27,
   "metadata": {},
   "outputs": [
    {
     "data": {
      "text/html": [
       "<div>\n",
       "<style scoped>\n",
       "    .dataframe tbody tr th:only-of-type {\n",
       "        vertical-align: middle;\n",
       "    }\n",
       "\n",
       "    .dataframe tbody tr th {\n",
       "        vertical-align: top;\n",
       "    }\n",
       "\n",
       "    .dataframe thead th {\n",
       "        text-align: right;\n",
       "    }\n",
       "</style>\n",
       "<table border=\"1\" class=\"dataframe\">\n",
       "  <thead>\n",
       "    <tr style=\"text-align: right;\">\n",
       "      <th></th>\n",
       "      <th>messages_included</th>\n",
       "      <th>mb_per_month_included</th>\n",
       "      <th>minutes_included</th>\n",
       "      <th>usd_monthly_pay</th>\n",
       "      <th>usd_per_gb</th>\n",
       "      <th>usd_per_message</th>\n",
       "      <th>usd_per_minute</th>\n",
       "      <th>plan_name</th>\n",
       "    </tr>\n",
       "  </thead>\n",
       "  <tbody>\n",
       "    <tr>\n",
       "      <th>0</th>\n",
       "      <td>50</td>\n",
       "      <td>15360</td>\n",
       "      <td>500</td>\n",
       "      <td>20</td>\n",
       "      <td>10</td>\n",
       "      <td>0.03</td>\n",
       "      <td>0.03</td>\n",
       "      <td>surf</td>\n",
       "    </tr>\n",
       "    <tr>\n",
       "      <th>1</th>\n",
       "      <td>1000</td>\n",
       "      <td>30720</td>\n",
       "      <td>3000</td>\n",
       "      <td>70</td>\n",
       "      <td>7</td>\n",
       "      <td>0.01</td>\n",
       "      <td>0.01</td>\n",
       "      <td>ultimate</td>\n",
       "    </tr>\n",
       "  </tbody>\n",
       "</table>\n",
       "</div>"
      ],
      "text/plain": [
       "   messages_included  mb_per_month_included  minutes_included  \\\n",
       "0                 50                  15360               500   \n",
       "1               1000                  30720              3000   \n",
       "\n",
       "   usd_monthly_pay  usd_per_gb  usd_per_message  usd_per_minute plan_name  \n",
       "0               20          10             0.03            0.03      surf  \n",
       "1               70           7             0.01            0.01  ultimate  "
      ]
     },
     "execution_count": 27,
     "metadata": {},
     "output_type": "execute_result"
    }
   ],
   "source": [
    "# Print out the plan conditions and make sure they are clear for you\n",
    "df_plan.head(5)\n"
   ]
  },
  {
   "cell_type": "code",
   "execution_count": 28,
   "metadata": {},
   "outputs": [
    {
     "data": {
      "image/png": "[encoded data removed]",
      "text/plain": [
       "<Figure size 432x288 with 4 Axes>"
      ]
     },
     "metadata": {
      "needs_background": "light"
     },
     "output_type": "display_data"
    }
   ],
   "source": [
    "# check data\n",
    "df_call.hist()\n",
    "plt.show()"
   ]
  },
  {
   "cell_type": "code",
   "execution_count": 29,
   "metadata": {},
   "outputs": [
    {
     "data": {
      "image/png": "[encoded data removed]",
      "text/plain": [
       "<Figure size 432x288 with 4 Axes>"
      ]
     },
     "metadata": {
      "needs_background": "light"
     },
     "output_type": "display_data"
    }
   ],
   "source": [
    "# check internet data\n",
    "df_internet.hist()\n",
    "plt.show()"
   ]
  },
  {
   "cell_type": "markdown",
   "metadata": {},
   "source": [
    "<div class=\"alert alert-success\">\n",
    "<b>Reviewer's comment v1:</b>\n",
    "    \n",
    "Good start and first view on data! \n",
    "\n",
    "Additionally would be great to double-check the internet data and calls - are there any strange things (missing/zero values, for example)? It is very useful to always check the numerical data. Sometimes it is difficult due to a large amount of data, but after that, we have an idea of the data quality and existent issues with the data. You can easily check this data, for example, by creating histograms."
   ]
  },
  {
   "cell_type": "markdown",
   "metadata": {},
   "source": [
    "## Aggregate data per user\n",
    "\n",
    "[Now, as the data is clean, aggregate data per user per period in order to have just one record per user per period. It should ease the further analysis a lot.]"
   ]
  },
  {
   "cell_type": "markdown",
   "metadata": {},
   "source": [
    "<div class=\"alert alert-danger\">\n",
    "<b>Reviewer's comment v1:</b>\n",
    "    \n",
    "- Please note that the telecom operator rounds up all minutes and traffic values.\n",
    "\n",
    "`Note: Megaline rounds seconds up to minutes, and megabytes to gigabytes. For calls, each individual call is rounded up: even if the call lasted just one second, it will be counted as one minute. For web traffic, individual web sessions are not rounded up. Instead, the total for the month is rounded up. If someone uses 1025 megabytes this month, they will be charged for 2 gigabytes.`\n",
    "\n",
    "Can you please add data rounding?"
   ]
  },
  {
   "cell_type": "markdown",
   "metadata": {},
   "source": [
    "student comment: I rounded call data in df_call section above."
   ]
  },
  {
   "cell_type": "code",
   "execution_count": 30,
   "metadata": {},
   "outputs": [],
   "source": [
    "# Calculate the amount of minutes spent by each user per month. Save the result.\n",
    "\n",
    "call_per_user_month=df_call.pivot_table(index = ('user_id','month'), values = 'duration', aggfunc = ('count','sum')).reset_index()"
   ]
  },
  {
   "cell_type": "code",
   "execution_count": 31,
   "metadata": {},
   "outputs": [],
   "source": [
    "# change columns name \n",
    "call_per_user_month.rename(columns={\"count\":\"call_count\",\"sum\":\"total_duration\"},inplace=True)"
   ]
  },
  {
   "cell_type": "code",
   "execution_count": 32,
   "metadata": {},
   "outputs": [
    {
     "data": {
      "text/plain": [
       "Index(['user_id', 'month', 'call_count', 'total_duration'], dtype='object')"
      ]
     },
     "execution_count": 32,
     "metadata": {},
     "output_type": "execute_result"
    }
   ],
   "source": [
    "call_per_user_month.columns"
   ]
  },
  {
   "cell_type": "code",
   "execution_count": 33,
   "metadata": {},
   "outputs": [],
   "source": [
    "# creating avg_call_duration of each user\n",
    "call_per_user_month[\"avg_call_duration\"]=round(call_per_user_month[\"total_duration\"]/call_per_user_month[\"call_count\"],2)"
   ]
  },
  {
   "cell_type": "code",
   "execution_count": 34,
   "metadata": {},
   "outputs": [
    {
     "data": {
      "text/html": [
       "<div>\n",
       "<style scoped>\n",
       "    .dataframe tbody tr th:only-of-type {\n",
       "        vertical-align: middle;\n",
       "    }\n",
       "\n",
       "    .dataframe tbody tr th {\n",
       "        vertical-align: top;\n",
       "    }\n",
       "\n",
       "    .dataframe thead th {\n",
       "        text-align: right;\n",
       "    }\n",
       "</style>\n",
       "<table border=\"1\" class=\"dataframe\">\n",
       "  <thead>\n",
       "    <tr style=\"text-align: right;\">\n",
       "      <th></th>\n",
       "      <th>user_id</th>\n",
       "      <th>month</th>\n",
       "      <th>call_count</th>\n",
       "      <th>total_duration</th>\n",
       "      <th>avg_call_duration</th>\n",
       "    </tr>\n",
       "  </thead>\n",
       "  <tbody>\n",
       "    <tr>\n",
       "      <th>0</th>\n",
       "      <td>1000</td>\n",
       "      <td>12</td>\n",
       "      <td>16</td>\n",
       "      <td>124.0</td>\n",
       "      <td>7.75</td>\n",
       "    </tr>\n",
       "    <tr>\n",
       "      <th>1</th>\n",
       "      <td>1001</td>\n",
       "      <td>8</td>\n",
       "      <td>27</td>\n",
       "      <td>182.0</td>\n",
       "      <td>6.74</td>\n",
       "    </tr>\n",
       "    <tr>\n",
       "      <th>2</th>\n",
       "      <td>1001</td>\n",
       "      <td>9</td>\n",
       "      <td>49</td>\n",
       "      <td>315.0</td>\n",
       "      <td>6.43</td>\n",
       "    </tr>\n",
       "    <tr>\n",
       "      <th>3</th>\n",
       "      <td>1001</td>\n",
       "      <td>10</td>\n",
       "      <td>65</td>\n",
       "      <td>393.0</td>\n",
       "      <td>6.05</td>\n",
       "    </tr>\n",
       "    <tr>\n",
       "      <th>4</th>\n",
       "      <td>1001</td>\n",
       "      <td>11</td>\n",
       "      <td>64</td>\n",
       "      <td>426.0</td>\n",
       "      <td>6.66</td>\n",
       "    </tr>\n",
       "  </tbody>\n",
       "</table>\n",
       "</div>"
      ],
      "text/plain": [
       "   user_id  month  call_count  total_duration  avg_call_duration\n",
       "0     1000     12          16           124.0               7.75\n",
       "1     1001      8          27           182.0               6.74\n",
       "2     1001      9          49           315.0               6.43\n",
       "3     1001     10          65           393.0               6.05\n",
       "4     1001     11          64           426.0               6.66"
      ]
     },
     "execution_count": 34,
     "metadata": {},
     "output_type": "execute_result"
    }
   ],
   "source": [
    "call_per_user_month.head(5)"
   ]
  },
  {
   "cell_type": "markdown",
   "metadata": {},
   "source": [
    "<div class=\"alert alert-warning\">\n",
    "<b>Reviewer's comment v1:</b>\n",
    "    \n",
    "- In pivot_table or groupby it is possible to pass multiple arguments, so here, you can create an aggregated table in one go like this:\n",
    "\n",
    "```\n",
    "data_calls.groupby(['user_id','month']).agg({'duration' : ('count','sum')}).reset_index()\n",
    "```\n",
    "\n",
    "or\n",
    "\n",
    "```\n",
    "data_calls.pivot_table(index = ('user_id','month'), values = 'duration', aggfunc = ('count','sum')).reset_index()\n",
    "```"
   ]
  },
  {
   "cell_type": "code",
   "execution_count": 35,
   "metadata": {
    "scrolled": true
   },
   "outputs": [
    {
     "data": {
      "text/html": [
       "<div>\n",
       "<style scoped>\n",
       "    .dataframe tbody tr th:only-of-type {\n",
       "        vertical-align: middle;\n",
       "    }\n",
       "\n",
       "    .dataframe tbody tr th {\n",
       "        vertical-align: top;\n",
       "    }\n",
       "\n",
       "    .dataframe thead th {\n",
       "        text-align: right;\n",
       "    }\n",
       "</style>\n",
       "<table border=\"1\" class=\"dataframe\">\n",
       "  <thead>\n",
       "    <tr style=\"text-align: right;\">\n",
       "      <th></th>\n",
       "      <th>user_id</th>\n",
       "      <th>month</th>\n",
       "      <th>id</th>\n",
       "    </tr>\n",
       "  </thead>\n",
       "  <tbody>\n",
       "    <tr>\n",
       "      <th>0</th>\n",
       "      <td>1000</td>\n",
       "      <td>12</td>\n",
       "      <td>11</td>\n",
       "    </tr>\n",
       "    <tr>\n",
       "      <th>1</th>\n",
       "      <td>1001</td>\n",
       "      <td>8</td>\n",
       "      <td>30</td>\n",
       "    </tr>\n",
       "    <tr>\n",
       "      <th>2</th>\n",
       "      <td>1001</td>\n",
       "      <td>9</td>\n",
       "      <td>44</td>\n",
       "    </tr>\n",
       "    <tr>\n",
       "      <th>3</th>\n",
       "      <td>1001</td>\n",
       "      <td>10</td>\n",
       "      <td>53</td>\n",
       "    </tr>\n",
       "    <tr>\n",
       "      <th>4</th>\n",
       "      <td>1001</td>\n",
       "      <td>11</td>\n",
       "      <td>36</td>\n",
       "    </tr>\n",
       "  </tbody>\n",
       "</table>\n",
       "</div>"
      ],
      "text/plain": [
       "   user_id  month  id\n",
       "0     1000     12  11\n",
       "1     1001      8  30\n",
       "2     1001      9  44\n",
       "3     1001     10  53\n",
       "4     1001     11  36"
      ]
     },
     "execution_count": 35,
     "metadata": {},
     "output_type": "execute_result"
    }
   ],
   "source": [
    "# Calculate the number of messages sent by each user per month. Save the result.\n",
    "message_by_user_month=df_message.pivot_table(index=(\"user_id\",\"month\"),values=\"id\",aggfunc=\"count\").reset_index()\n",
    "message_by_user_month.head(5)"
   ]
  },
  {
   "cell_type": "code",
   "execution_count": 36,
   "metadata": {},
   "outputs": [],
   "source": [
    "# change column names\n",
    "message_by_user_month.rename(columns={\"id\":\"number_of_messages\"},inplace=True)"
   ]
  },
  {
   "cell_type": "code",
   "execution_count": 37,
   "metadata": {},
   "outputs": [
    {
     "data": {
      "text/html": [
       "<div>\n",
       "<style scoped>\n",
       "    .dataframe tbody tr th:only-of-type {\n",
       "        vertical-align: middle;\n",
       "    }\n",
       "\n",
       "    .dataframe tbody tr th {\n",
       "        vertical-align: top;\n",
       "    }\n",
       "\n",
       "    .dataframe thead th {\n",
       "        text-align: right;\n",
       "    }\n",
       "</style>\n",
       "<table border=\"1\" class=\"dataframe\">\n",
       "  <thead>\n",
       "    <tr style=\"text-align: right;\">\n",
       "      <th></th>\n",
       "      <th>user_id</th>\n",
       "      <th>month</th>\n",
       "      <th>number_of_messages</th>\n",
       "    </tr>\n",
       "  </thead>\n",
       "  <tbody>\n",
       "    <tr>\n",
       "      <th>0</th>\n",
       "      <td>1000</td>\n",
       "      <td>12</td>\n",
       "      <td>11</td>\n",
       "    </tr>\n",
       "    <tr>\n",
       "      <th>1</th>\n",
       "      <td>1001</td>\n",
       "      <td>8</td>\n",
       "      <td>30</td>\n",
       "    </tr>\n",
       "    <tr>\n",
       "      <th>2</th>\n",
       "      <td>1001</td>\n",
       "      <td>9</td>\n",
       "      <td>44</td>\n",
       "    </tr>\n",
       "    <tr>\n",
       "      <th>3</th>\n",
       "      <td>1001</td>\n",
       "      <td>10</td>\n",
       "      <td>53</td>\n",
       "    </tr>\n",
       "    <tr>\n",
       "      <th>4</th>\n",
       "      <td>1001</td>\n",
       "      <td>11</td>\n",
       "      <td>36</td>\n",
       "    </tr>\n",
       "    <tr>\n",
       "      <th>...</th>\n",
       "      <td>...</td>\n",
       "      <td>...</td>\n",
       "      <td>...</td>\n",
       "    </tr>\n",
       "    <tr>\n",
       "      <th>1801</th>\n",
       "      <td>1496</td>\n",
       "      <td>9</td>\n",
       "      <td>21</td>\n",
       "    </tr>\n",
       "    <tr>\n",
       "      <th>1802</th>\n",
       "      <td>1496</td>\n",
       "      <td>10</td>\n",
       "      <td>18</td>\n",
       "    </tr>\n",
       "    <tr>\n",
       "      <th>1803</th>\n",
       "      <td>1496</td>\n",
       "      <td>11</td>\n",
       "      <td>13</td>\n",
       "    </tr>\n",
       "    <tr>\n",
       "      <th>1804</th>\n",
       "      <td>1496</td>\n",
       "      <td>12</td>\n",
       "      <td>11</td>\n",
       "    </tr>\n",
       "    <tr>\n",
       "      <th>1805</th>\n",
       "      <td>1497</td>\n",
       "      <td>12</td>\n",
       "      <td>50</td>\n",
       "    </tr>\n",
       "  </tbody>\n",
       "</table>\n",
       "<p>1806 rows × 3 columns</p>\n",
       "</div>"
      ],
      "text/plain": [
       "      user_id  month  number_of_messages\n",
       "0        1000     12                  11\n",
       "1        1001      8                  30\n",
       "2        1001      9                  44\n",
       "3        1001     10                  53\n",
       "4        1001     11                  36\n",
       "...       ...    ...                 ...\n",
       "1801     1496      9                  21\n",
       "1802     1496     10                  18\n",
       "1803     1496     11                  13\n",
       "1804     1496     12                  11\n",
       "1805     1497     12                  50\n",
       "\n",
       "[1806 rows x 3 columns]"
      ]
     },
     "execution_count": 37,
     "metadata": {},
     "output_type": "execute_result"
    }
   ],
   "source": [
    "message_by_user_month"
   ]
  },
  {
   "cell_type": "code",
   "execution_count": 38,
   "metadata": {},
   "outputs": [
    {
     "data": {
      "text/html": [
       "<div>\n",
       "<style scoped>\n",
       "    .dataframe tbody tr th:only-of-type {\n",
       "        vertical-align: middle;\n",
       "    }\n",
       "\n",
       "    .dataframe tbody tr th {\n",
       "        vertical-align: top;\n",
       "    }\n",
       "\n",
       "    .dataframe thead th {\n",
       "        text-align: right;\n",
       "    }\n",
       "</style>\n",
       "<table border=\"1\" class=\"dataframe\">\n",
       "  <thead>\n",
       "    <tr style=\"text-align: right;\">\n",
       "      <th></th>\n",
       "      <th>id</th>\n",
       "      <th>user_id</th>\n",
       "      <th>session_date</th>\n",
       "      <th>mb_used</th>\n",
       "      <th>month</th>\n",
       "    </tr>\n",
       "  </thead>\n",
       "  <tbody>\n",
       "    <tr>\n",
       "      <th>0</th>\n",
       "      <td>1000_13</td>\n",
       "      <td>1000</td>\n",
       "      <td>2018-12-29</td>\n",
       "      <td>89.86</td>\n",
       "      <td>12</td>\n",
       "    </tr>\n",
       "    <tr>\n",
       "      <th>1</th>\n",
       "      <td>1000_204</td>\n",
       "      <td>1000</td>\n",
       "      <td>2018-12-31</td>\n",
       "      <td>0.00</td>\n",
       "      <td>12</td>\n",
       "    </tr>\n",
       "    <tr>\n",
       "      <th>2</th>\n",
       "      <td>1000_379</td>\n",
       "      <td>1000</td>\n",
       "      <td>2018-12-28</td>\n",
       "      <td>660.40</td>\n",
       "      <td>12</td>\n",
       "    </tr>\n",
       "    <tr>\n",
       "      <th>3</th>\n",
       "      <td>1000_413</td>\n",
       "      <td>1000</td>\n",
       "      <td>2018-12-26</td>\n",
       "      <td>270.99</td>\n",
       "      <td>12</td>\n",
       "    </tr>\n",
       "    <tr>\n",
       "      <th>4</th>\n",
       "      <td>1000_442</td>\n",
       "      <td>1000</td>\n",
       "      <td>2018-12-27</td>\n",
       "      <td>880.22</td>\n",
       "      <td>12</td>\n",
       "    </tr>\n",
       "  </tbody>\n",
       "</table>\n",
       "</div>"
      ],
      "text/plain": [
       "         id  user_id session_date  mb_used  month\n",
       "0   1000_13     1000   2018-12-29    89.86     12\n",
       "1  1000_204     1000   2018-12-31     0.00     12\n",
       "2  1000_379     1000   2018-12-28   660.40     12\n",
       "3  1000_413     1000   2018-12-26   270.99     12\n",
       "4  1000_442     1000   2018-12-27   880.22     12"
      ]
     },
     "execution_count": 38,
     "metadata": {},
     "output_type": "execute_result"
    }
   ],
   "source": [
    "df_internet.head(5)"
   ]
  },
  {
   "cell_type": "code",
   "execution_count": 39,
   "metadata": {},
   "outputs": [
    {
     "data": {
      "text/html": [
       "<div>\n",
       "<style scoped>\n",
       "    .dataframe tbody tr th:only-of-type {\n",
       "        vertical-align: middle;\n",
       "    }\n",
       "\n",
       "    .dataframe tbody tr th {\n",
       "        vertical-align: top;\n",
       "    }\n",
       "\n",
       "    .dataframe thead th {\n",
       "        text-align: right;\n",
       "    }\n",
       "</style>\n",
       "<table border=\"1\" class=\"dataframe\">\n",
       "  <thead>\n",
       "    <tr style=\"text-align: right;\">\n",
       "      <th></th>\n",
       "      <th>user_id</th>\n",
       "      <th>month</th>\n",
       "      <th>count</th>\n",
       "      <th>sum</th>\n",
       "    </tr>\n",
       "  </thead>\n",
       "  <tbody>\n",
       "    <tr>\n",
       "      <th>0</th>\n",
       "      <td>1000</td>\n",
       "      <td>12</td>\n",
       "      <td>5</td>\n",
       "      <td>1901.47</td>\n",
       "    </tr>\n",
       "    <tr>\n",
       "      <th>1</th>\n",
       "      <td>1001</td>\n",
       "      <td>8</td>\n",
       "      <td>25</td>\n",
       "      <td>6919.15</td>\n",
       "    </tr>\n",
       "    <tr>\n",
       "      <th>2</th>\n",
       "      <td>1001</td>\n",
       "      <td>9</td>\n",
       "      <td>53</td>\n",
       "      <td>13314.82</td>\n",
       "    </tr>\n",
       "    <tr>\n",
       "      <th>3</th>\n",
       "      <td>1001</td>\n",
       "      <td>10</td>\n",
       "      <td>56</td>\n",
       "      <td>22330.49</td>\n",
       "    </tr>\n",
       "    <tr>\n",
       "      <th>4</th>\n",
       "      <td>1001</td>\n",
       "      <td>11</td>\n",
       "      <td>51</td>\n",
       "      <td>18504.30</td>\n",
       "    </tr>\n",
       "  </tbody>\n",
       "</table>\n",
       "</div>"
      ],
      "text/plain": [
       "   user_id  month  count       sum\n",
       "0     1000     12      5   1901.47\n",
       "1     1001      8     25   6919.15\n",
       "2     1001      9     53  13314.82\n",
       "3     1001     10     56  22330.49\n",
       "4     1001     11     51  18504.30"
      ]
     },
     "execution_count": 39,
     "metadata": {},
     "output_type": "execute_result"
    }
   ],
   "source": [
    "# Calculate the volume of internet traffic used by each user per month. Save the result.\n",
    "mb_by_user_month=df_internet.pivot_table(index=(\"user_id\",\"month\"),values=\"mb_used\",aggfunc=(\"count\",\"sum\")).reset_index()\n",
    "mb_by_user_month.head(5)"
   ]
  },
  {
   "cell_type": "code",
   "execution_count": 40,
   "metadata": {},
   "outputs": [],
   "source": [
    "# renaming column names\n",
    "mb_by_user_month.rename(columns={\"count\":\"num_of_session\",\"sum\":\"total_mb_used\"},inplace=True)"
   ]
  },
  {
   "cell_type": "code",
   "execution_count": 41,
   "metadata": {},
   "outputs": [],
   "source": [
    "# rounding mb\n",
    "def round_up_mb(mb_used):\n",
    "    if mb_used%1024==0:\n",
    "        return mb_used\n",
    "    return np.ceil(mb_used)"
   ]
  },
  {
   "cell_type": "code",
   "execution_count": 42,
   "metadata": {},
   "outputs": [],
   "source": [
    "# apply rounding up function for mb_used\n",
    "mb_by_user_month[\"total_mb_used\"]=mb_by_user_month[\"total_mb_used\"].apply(round_up_mb)"
   ]
  },
  {
   "cell_type": "code",
   "execution_count": 43,
   "metadata": {},
   "outputs": [],
   "source": [
    "# creating new column average_mb_used\n",
    "mb_by_user_month[\"avg_mb_used\"]=round(mb_by_user_month[\"total_mb_used\"]/mb_by_user_month[\"num_of_session\"],2)"
   ]
  },
  {
   "cell_type": "code",
   "execution_count": 44,
   "metadata": {},
   "outputs": [
    {
     "data": {
      "text/html": [
       "<div>\n",
       "<style scoped>\n",
       "    .dataframe tbody tr th:only-of-type {\n",
       "        vertical-align: middle;\n",
       "    }\n",
       "\n",
       "    .dataframe tbody tr th {\n",
       "        vertical-align: top;\n",
       "    }\n",
       "\n",
       "    .dataframe thead th {\n",
       "        text-align: right;\n",
       "    }\n",
       "</style>\n",
       "<table border=\"1\" class=\"dataframe\">\n",
       "  <thead>\n",
       "    <tr style=\"text-align: right;\">\n",
       "      <th></th>\n",
       "      <th>user_id</th>\n",
       "      <th>month</th>\n",
       "      <th>num_of_session</th>\n",
       "      <th>total_mb_used</th>\n",
       "      <th>avg_mb_used</th>\n",
       "    </tr>\n",
       "  </thead>\n",
       "  <tbody>\n",
       "    <tr>\n",
       "      <th>0</th>\n",
       "      <td>1000</td>\n",
       "      <td>12</td>\n",
       "      <td>5</td>\n",
       "      <td>1902.0</td>\n",
       "      <td>380.40</td>\n",
       "    </tr>\n",
       "    <tr>\n",
       "      <th>1</th>\n",
       "      <td>1001</td>\n",
       "      <td>8</td>\n",
       "      <td>25</td>\n",
       "      <td>6920.0</td>\n",
       "      <td>276.80</td>\n",
       "    </tr>\n",
       "    <tr>\n",
       "      <th>2</th>\n",
       "      <td>1001</td>\n",
       "      <td>9</td>\n",
       "      <td>53</td>\n",
       "      <td>13315.0</td>\n",
       "      <td>251.23</td>\n",
       "    </tr>\n",
       "    <tr>\n",
       "      <th>3</th>\n",
       "      <td>1001</td>\n",
       "      <td>10</td>\n",
       "      <td>56</td>\n",
       "      <td>22331.0</td>\n",
       "      <td>398.77</td>\n",
       "    </tr>\n",
       "    <tr>\n",
       "      <th>4</th>\n",
       "      <td>1001</td>\n",
       "      <td>11</td>\n",
       "      <td>51</td>\n",
       "      <td>18505.0</td>\n",
       "      <td>362.84</td>\n",
       "    </tr>\n",
       "  </tbody>\n",
       "</table>\n",
       "</div>"
      ],
      "text/plain": [
       "   user_id  month  num_of_session  total_mb_used  avg_mb_used\n",
       "0     1000     12               5         1902.0       380.40\n",
       "1     1001      8              25         6920.0       276.80\n",
       "2     1001      9              53        13315.0       251.23\n",
       "3     1001     10              56        22331.0       398.77\n",
       "4     1001     11              51        18505.0       362.84"
      ]
     },
     "execution_count": 44,
     "metadata": {},
     "output_type": "execute_result"
    }
   ],
   "source": [
    "mb_by_user_month.head(5)"
   ]
  },
  {
   "cell_type": "code",
   "execution_count": 45,
   "metadata": {},
   "outputs": [
    {
     "name": "stdout",
     "output_type": "stream",
     "text": [
      "<class 'pandas.core.frame.DataFrame'>\n",
      "RangeIndex: 1806 entries, 0 to 1805\n",
      "Data columns (total 3 columns):\n",
      " #   Column              Non-Null Count  Dtype\n",
      "---  ------              --------------  -----\n",
      " 0   user_id             1806 non-null   int64\n",
      " 1   month               1806 non-null   int64\n",
      " 2   number_of_messages  1806 non-null   int64\n",
      "dtypes: int64(3)\n",
      "memory usage: 42.5 KB\n"
     ]
    }
   ],
   "source": [
    "message_by_user_month.info()"
   ]
  },
  {
   "cell_type": "code",
   "execution_count": 46,
   "metadata": {},
   "outputs": [
    {
     "name": "stdout",
     "output_type": "stream",
     "text": [
      "<class 'pandas.core.frame.DataFrame'>\n",
      "RangeIndex: 2258 entries, 0 to 2257\n",
      "Data columns (total 5 columns):\n",
      " #   Column             Non-Null Count  Dtype  \n",
      "---  ------             --------------  -----  \n",
      " 0   user_id            2258 non-null   int64  \n",
      " 1   month              2258 non-null   int64  \n",
      " 2   call_count         2258 non-null   int64  \n",
      " 3   total_duration     2258 non-null   float64\n",
      " 4   avg_call_duration  2258 non-null   float64\n",
      "dtypes: float64(2), int64(3)\n",
      "memory usage: 88.3 KB\n"
     ]
    }
   ],
   "source": [
    "call_per_user_month.info()"
   ]
  },
  {
   "cell_type": "markdown",
   "metadata": {},
   "source": [
    "[Put the aggregate data together into one DataFrame so that one record in it would represent what an unique user consumed in a given month.]"
   ]
  },
  {
   "cell_type": "code",
   "execution_count": 47,
   "metadata": {},
   "outputs": [],
   "source": [
    "# Merge the data for calls, minutes, messages, internet based on user_id and month\n",
    "df_combined =call_per_user_month.merge(message_by_user_month[[\"user_id\",\"number_of_messages\"]],how=\"left\",left_on=\"user_id\",right_on=\"user_id\")\n"
   ]
  },
  {
   "cell_type": "code",
   "execution_count": 48,
   "metadata": {},
   "outputs": [],
   "source": [
    "df_combined=df_combined.merge(mb_by_user_month[[\"user_id\",\"num_of_session\",\"total_mb_used\"]],how=\"left\",left_on=\"user_id\",right_on=\"user_id\")"
   ]
  },
  {
   "cell_type": "code",
   "execution_count": 49,
   "metadata": {},
   "outputs": [
    {
     "data": {
      "text/plain": [
       "Index(['user_id', 'first_name', 'last_name', 'age', 'city', 'reg_date', 'plan',\n",
       "       'churn_date', 'month', 'churn_month'],\n",
       "      dtype='object')"
      ]
     },
     "execution_count": 49,
     "metadata": {},
     "output_type": "execute_result"
    }
   ],
   "source": [
    "df_user.columns"
   ]
  },
  {
   "cell_type": "code",
   "execution_count": 50,
   "metadata": {},
   "outputs": [],
   "source": [
    "df_combined=df_combined.merge(df_user[[\"user_id\",\"first_name\",\"last_name\",\"age\",\"city\",\"reg_date\",\"plan\",\"churn_date\",\n",
    "\"churn_month\"]],how=\"left\",left_on=\"user_id\",right_on=\"user_id\")"
   ]
  },
  {
   "cell_type": "code",
   "execution_count": 51,
   "metadata": {},
   "outputs": [
    {
     "data": {
      "text/html": [
       "<div>\n",
       "<style scoped>\n",
       "    .dataframe tbody tr th:only-of-type {\n",
       "        vertical-align: middle;\n",
       "    }\n",
       "\n",
       "    .dataframe tbody tr th {\n",
       "        vertical-align: top;\n",
       "    }\n",
       "\n",
       "    .dataframe thead th {\n",
       "        text-align: right;\n",
       "    }\n",
       "</style>\n",
       "<table border=\"1\" class=\"dataframe\">\n",
       "  <thead>\n",
       "    <tr style=\"text-align: right;\">\n",
       "      <th></th>\n",
       "      <th>user_id</th>\n",
       "      <th>month</th>\n",
       "      <th>call_count</th>\n",
       "      <th>total_duration</th>\n",
       "      <th>avg_call_duration</th>\n",
       "      <th>number_of_messages</th>\n",
       "      <th>num_of_session</th>\n",
       "      <th>total_mb_used</th>\n",
       "      <th>first_name</th>\n",
       "      <th>last_name</th>\n",
       "      <th>age</th>\n",
       "      <th>city</th>\n",
       "      <th>reg_date</th>\n",
       "      <th>plan</th>\n",
       "      <th>churn_date</th>\n",
       "      <th>churn_month</th>\n",
       "    </tr>\n",
       "  </thead>\n",
       "  <tbody>\n",
       "    <tr>\n",
       "      <th>0</th>\n",
       "      <td>1000</td>\n",
       "      <td>12</td>\n",
       "      <td>16</td>\n",
       "      <td>124.0</td>\n",
       "      <td>7.75</td>\n",
       "      <td>11.0</td>\n",
       "      <td>5.0</td>\n",
       "      <td>1902.0</td>\n",
       "      <td>Anamaria</td>\n",
       "      <td>Bauer</td>\n",
       "      <td>45</td>\n",
       "      <td>Atlanta-Sandy Springs-Roswell, GA MSA</td>\n",
       "      <td>2018-12-24</td>\n",
       "      <td>ultimate</td>\n",
       "      <td>NaT</td>\n",
       "      <td>NaN</td>\n",
       "    </tr>\n",
       "    <tr>\n",
       "      <th>1</th>\n",
       "      <td>1001</td>\n",
       "      <td>8</td>\n",
       "      <td>27</td>\n",
       "      <td>182.0</td>\n",
       "      <td>6.74</td>\n",
       "      <td>30.0</td>\n",
       "      <td>25.0</td>\n",
       "      <td>6920.0</td>\n",
       "      <td>Mickey</td>\n",
       "      <td>Wilkerson</td>\n",
       "      <td>28</td>\n",
       "      <td>Seattle-Tacoma-Bellevue, WA MSA</td>\n",
       "      <td>2018-08-13</td>\n",
       "      <td>surf</td>\n",
       "      <td>NaT</td>\n",
       "      <td>NaN</td>\n",
       "    </tr>\n",
       "    <tr>\n",
       "      <th>2</th>\n",
       "      <td>1001</td>\n",
       "      <td>8</td>\n",
       "      <td>27</td>\n",
       "      <td>182.0</td>\n",
       "      <td>6.74</td>\n",
       "      <td>30.0</td>\n",
       "      <td>53.0</td>\n",
       "      <td>13315.0</td>\n",
       "      <td>Mickey</td>\n",
       "      <td>Wilkerson</td>\n",
       "      <td>28</td>\n",
       "      <td>Seattle-Tacoma-Bellevue, WA MSA</td>\n",
       "      <td>2018-08-13</td>\n",
       "      <td>surf</td>\n",
       "      <td>NaT</td>\n",
       "      <td>NaN</td>\n",
       "    </tr>\n",
       "    <tr>\n",
       "      <th>3</th>\n",
       "      <td>1001</td>\n",
       "      <td>8</td>\n",
       "      <td>27</td>\n",
       "      <td>182.0</td>\n",
       "      <td>6.74</td>\n",
       "      <td>30.0</td>\n",
       "      <td>56.0</td>\n",
       "      <td>22331.0</td>\n",
       "      <td>Mickey</td>\n",
       "      <td>Wilkerson</td>\n",
       "      <td>28</td>\n",
       "      <td>Seattle-Tacoma-Bellevue, WA MSA</td>\n",
       "      <td>2018-08-13</td>\n",
       "      <td>surf</td>\n",
       "      <td>NaT</td>\n",
       "      <td>NaN</td>\n",
       "    </tr>\n",
       "    <tr>\n",
       "      <th>4</th>\n",
       "      <td>1001</td>\n",
       "      <td>8</td>\n",
       "      <td>27</td>\n",
       "      <td>182.0</td>\n",
       "      <td>6.74</td>\n",
       "      <td>30.0</td>\n",
       "      <td>51.0</td>\n",
       "      <td>18505.0</td>\n",
       "      <td>Mickey</td>\n",
       "      <td>Wilkerson</td>\n",
       "      <td>28</td>\n",
       "      <td>Seattle-Tacoma-Bellevue, WA MSA</td>\n",
       "      <td>2018-08-13</td>\n",
       "      <td>surf</td>\n",
       "      <td>NaT</td>\n",
       "      <td>NaN</td>\n",
       "    </tr>\n",
       "  </tbody>\n",
       "</table>\n",
       "</div>"
      ],
      "text/plain": [
       "   user_id  month  call_count  total_duration  avg_call_duration  \\\n",
       "0     1000     12          16           124.0               7.75   \n",
       "1     1001      8          27           182.0               6.74   \n",
       "2     1001      8          27           182.0               6.74   \n",
       "3     1001      8          27           182.0               6.74   \n",
       "4     1001      8          27           182.0               6.74   \n",
       "\n",
       "   number_of_messages  num_of_session  total_mb_used first_name  last_name  \\\n",
       "0                11.0             5.0         1902.0   Anamaria      Bauer   \n",
       "1                30.0            25.0         6920.0     Mickey  Wilkerson   \n",
       "2                30.0            53.0        13315.0     Mickey  Wilkerson   \n",
       "3                30.0            56.0        22331.0     Mickey  Wilkerson   \n",
       "4                30.0            51.0        18505.0     Mickey  Wilkerson   \n",
       "\n",
       "   age                                   city   reg_date      plan churn_date  \\\n",
       "0   45  Atlanta-Sandy Springs-Roswell, GA MSA 2018-12-24  ultimate        NaT   \n",
       "1   28        Seattle-Tacoma-Bellevue, WA MSA 2018-08-13      surf        NaT   \n",
       "2   28        Seattle-Tacoma-Bellevue, WA MSA 2018-08-13      surf        NaT   \n",
       "3   28        Seattle-Tacoma-Bellevue, WA MSA 2018-08-13      surf        NaT   \n",
       "4   28        Seattle-Tacoma-Bellevue, WA MSA 2018-08-13      surf        NaT   \n",
       "\n",
       "   churn_month  \n",
       "0          NaN  \n",
       "1          NaN  \n",
       "2          NaN  \n",
       "3          NaN  \n",
       "4          NaN  "
      ]
     },
     "execution_count": 51,
     "metadata": {},
     "output_type": "execute_result"
    }
   ],
   "source": [
    "df_combined.head(5)"
   ]
  },
  {
   "cell_type": "markdown",
   "metadata": {},
   "source": [
    "<div class=\"alert alert-danger\">\n",
    "<b>Reviewer's comment v1:</b>\n",
    "    \n",
    "Here you need to use another way of joining tables (change the how parameter, by default merge has how='inner'). Now, if users made calls, but did not send messages, it will not be tracked in the new table (the same with the Internet). This will happen because with the left method we take all the keys from the left table and look for their matches in the right table. If there are unique values in the right table, we will ignore them. For this task, we need to take all the records from the right and left tables. You can see about connections here https://medium.com/@Lexx01/sql-inner--outer-join-64f3862d8540"
   ]
  },
  {
   "cell_type": "markdown",
   "metadata": {},
   "source": [
    "<div class=\"alert alert-block alert-success\">\n",
    "<b>Reviewer's comment v2:</b>\n",
    "    \n",
    "Here you can also use `how = 'outer' to prevent data loss.\n",
    "    "
   ]
  },
  {
   "cell_type": "code",
   "execution_count": 52,
   "metadata": {},
   "outputs": [],
   "source": [
    "# change plan to plan_name\n",
    "df_combined.rename(columns={\"plan\":\"plan_name\"},inplace=True)"
   ]
  },
  {
   "cell_type": "code",
   "execution_count": 53,
   "metadata": {},
   "outputs": [],
   "source": [
    "df_combined=df_combined.merge(df_plan,on=\"plan_name\")"
   ]
  },
  {
   "cell_type": "code",
   "execution_count": 54,
   "metadata": {},
   "outputs": [
    {
     "name": "stdout",
     "output_type": "stream",
     "text": [
      "<class 'pandas.core.frame.DataFrame'>\n",
      "Int64Index: 88144 entries, 0 to 88143\n",
      "Data columns (total 23 columns):\n",
      " #   Column                 Non-Null Count  Dtype         \n",
      "---  ------                 --------------  -----         \n",
      " 0   user_id                88144 non-null  int64         \n",
      " 1   month                  88144 non-null  int64         \n",
      " 2   call_count             88144 non-null  int64         \n",
      " 3   total_duration         88144 non-null  float64       \n",
      " 4   avg_call_duration      88144 non-null  float64       \n",
      " 5   number_of_messages     84804 non-null  float64       \n",
      " 6   num_of_session         88080 non-null  float64       \n",
      " 7   total_mb_used          88080 non-null  float64       \n",
      " 8   first_name             88144 non-null  object        \n",
      " 9   last_name              88144 non-null  object        \n",
      " 10  age                    88144 non-null  int64         \n",
      " 11  city                   88144 non-null  object        \n",
      " 12  reg_date               88144 non-null  datetime64[ns]\n",
      " 13  plan_name              88144 non-null  object        \n",
      " 14  churn_date             6124 non-null   datetime64[ns]\n",
      " 15  churn_month            6124 non-null   float64       \n",
      " 16  messages_included      88144 non-null  int64         \n",
      " 17  mb_per_month_included  88144 non-null  int64         \n",
      " 18  minutes_included       88144 non-null  int64         \n",
      " 19  usd_monthly_pay        88144 non-null  int64         \n",
      " 20  usd_per_gb             88144 non-null  int64         \n",
      " 21  usd_per_message        88144 non-null  float64       \n",
      " 22  usd_per_minute         88144 non-null  float64       \n",
      "dtypes: datetime64[ns](2), float64(8), int64(9), object(4)\n",
      "memory usage: 16.1+ MB\n"
     ]
    }
   ],
   "source": [
    "df_combined.info()"
   ]
  },
  {
   "cell_type": "code",
   "execution_count": 55,
   "metadata": {},
   "outputs": [],
   "source": [
    "# changing month number to month name\n",
    "import calendar\n",
    "d = dict(enumerate(calendar.month_abbr))\n",
    "df_combined['month'] = df_combined['month'].map(d)"
   ]
  },
  {
   "cell_type": "markdown",
   "metadata": {},
   "source": [
    "[Calculate the monthly revenue from each user (subtract the free package limit from the total number of calls, text messages, and data; multiply the result by the calling plan value; add the monthly charge depending on the calling plan). N.B. This might not be as trivial as just a couple of lines given the plan conditions! So, it's okay to spend some time on it.]"
   ]
  },
  {
   "cell_type": "code",
   "execution_count": 56,
   "metadata": {},
   "outputs": [],
   "source": [
    "# Calculate the monthly revenue for each user\n",
    "def cal_revenue(row):\n",
    "    \"\"\"\n",
    "    Calculate the revenue for each plan\n",
    "    \"\"\"\n",
    "    (\n",
    "        total_duration,\n",
    "        number_of_messages,\n",
    "        total_mb_used,\n",
    "        messages_included,\n",
    "        mb_per_month_included,\n",
    "        minutes_included,\n",
    "        usd_monthly_pay,\n",
    "        usd_per_gb,\n",
    "        usd_per_message,\n",
    "        usd_per_minute\n",
    "    ) = row\n",
    "    additional_call_cost, additional_session_cost, additional_msg_cost = 0, 0, 0\n",
    "    if total_duration > minutes_included:\n",
    "        additional_call_cost = (total_duration - minutes_included) * usd_per_minute\n",
    "    if total_mb_used > mb_per_month_included:\n",
    "        additional_session_cost = ((total_mb_used - mb_per_month_included) / 1024) * usd_per_gb\n",
    "    if number_of_messages > messages_included:\n",
    "        additional_msg_cost = (number_of_messages - messages_included) * usd_per_message\n",
    "    return round(usd_monthly_pay + additional_call_cost + additional_session_cost + additional_msg_cost,2)"
   ]
  },
  {
   "cell_type": "code",
   "execution_count": 57,
   "metadata": {},
   "outputs": [],
   "source": [
    "columns_to_use = ['total_duration', 'number_of_messages', 'total_mb_used',\n",
    "                'messages_included', 'mb_per_month_included', 'minutes_included',\n",
    "                'usd_monthly_pay', 'usd_per_gb', 'usd_per_message', 'usd_per_minute']\n",
    "df_combined['cal_revenue'] = df_combined[columns_to_use].apply(cal_revenue, axis=1)"
   ]
  },
  {
   "cell_type": "code",
   "execution_count": 58,
   "metadata": {},
   "outputs": [],
   "source": [
    "pd.set_option('display.max_columns',None)"
   ]
  },
  {
   "cell_type": "markdown",
   "metadata": {},
   "source": [
    "<div class=\"alert alert-warning\">\n",
    "<b>Reviewer's comment v1:</b>\n",
    "    \n",
    "I see that some columns are hidden. It is possible to disable this and display all columns/rows with:\n",
    "\n",
    "```python\n",
    "pd.set_option ('display.max_columns', None)\n",
    "```"
   ]
  },
  {
   "cell_type": "markdown",
   "metadata": {},
   "source": [
    "<div class=\"alert alert-success\">\n",
    "<b>Reviewer's comment v1:</b>\n",
    "    \n",
    "Everything is correct here! Great, that you created a function to calculate revenue, but results will be a little bit different after data rounding. \n",
    "    \n",
    "Btw it is also possible to make the calculation of revenue a little bit differently using np.where - [https://numpy.org/doc/stable/reference/generated/numpy.where.html](https://numpy.org/doc/stable/reference/generated/numpy.where.html)\n",
    "\n",
    "```\n",
    "  np.where ('condition: if exceeding the package limit', 'multiply the difference by the price of additional services', '0')\n",
    "```\n",
    "   "
   ]
  },
  {
   "cell_type": "markdown",
   "metadata": {},
   "source": [
    "student comments: I was not able to use above way of findign revenue. Would please give me the idea on how to do it."
   ]
  },
  {
   "cell_type": "code",
   "execution_count": 59,
   "metadata": {},
   "outputs": [],
   "source": [
    " # creating age group function\n",
    "def age_groups(age):\n",
    "    if age < 30:\n",
    "        return '18-29 years'\n",
    "    if age < 40:\n",
    "        return '30-39 years'\n",
    "    if age < 50:\n",
    "        return '40-49 years'\n",
    "    if age < 60:\n",
    "        return '50-59 years'\n",
    "    return '60+ years'"
   ]
  },
  {
   "cell_type": "code",
   "execution_count": 60,
   "metadata": {},
   "outputs": [],
   "source": [
    "# creating age_group column\n",
    "df_combined[\"age_groups\"]=df_combined[\"age\"].apply(age_groups)"
   ]
  },
  {
   "cell_type": "code",
   "execution_count": 61,
   "metadata": {},
   "outputs": [
    {
     "data": {
      "text/plain": [
       "60+ years      0.267766\n",
       "18-29 years    0.211245\n",
       "40-49 years    0.191448\n",
       "30-39 years    0.181816\n",
       "50-59 years    0.147724\n",
       "Name: age_groups, dtype: float64"
      ]
     },
     "execution_count": 61,
     "metadata": {},
     "output_type": "execute_result"
    }
   ],
   "source": [
    "df_combined[\"age_groups\"].value_counts(normalize=True)"
   ]
  },
  {
   "cell_type": "markdown",
   "metadata": {},
   "source": [
    "60 plus group are the top age group"
   ]
  },
  {
   "cell_type": "code",
   "execution_count": 62,
   "metadata": {},
   "outputs": [],
   "source": [
    "# df of each plan\n",
    "df_surf=df_combined.query('plan_name==\"surf\"')\n",
    "df_ultimate=df_combined.query('plan_name==\"ultimate\"')"
   ]
  },
  {
   "cell_type": "code",
   "execution_count": 63,
   "metadata": {},
   "outputs": [
    {
     "data": {
      "text/plain": [
       "60+ years      0.257632\n",
       "18-29 years    0.229345\n",
       "40-49 years    0.200367\n",
       "30-39 years    0.167700\n",
       "50-59 years    0.144956\n",
       "Name: age_groups, dtype: float64"
      ]
     },
     "execution_count": 63,
     "metadata": {},
     "output_type": "execute_result"
    }
   ],
   "source": [
    "# age group in surf plan\n",
    "df_surf[\"age_groups\"].value_counts(normalize=True)"
   ]
  },
  {
   "cell_type": "code",
   "execution_count": 64,
   "metadata": {},
   "outputs": [
    {
     "data": {
      "text/plain": [
       "60+ years      0.288662\n",
       "30-39 years    0.210921\n",
       "18-29 years    0.173927\n",
       "40-49 years    0.173058\n",
       "50-59 years    0.153432\n",
       "Name: age_groups, dtype: float64"
      ]
     },
     "execution_count": 64,
     "metadata": {},
     "output_type": "execute_result"
    }
   ],
   "source": [
    "# age_group in ultimate plan\n",
    "df_ultimate[\"age_groups\"].value_counts(normalize=True)"
   ]
  },
  {
   "cell_type": "markdown",
   "metadata": {},
   "source": [
    "On both plans 60 plus age group have the top age group.\n",
    "Age group of Surf plan is similar to the overall dataset."
   ]
  },
  {
   "cell_type": "code",
   "execution_count": 65,
   "metadata": {},
   "outputs": [
    {
     "name": "stdout",
     "output_type": "stream",
     "text": [
      "Average duration of each user per month in Surf plan is 465.12 minutes\n",
      "Average duration of each user per month in Ultimate plan is 443.71 minutes \n"
     ]
    }
   ],
   "source": [
    "print('Average duration of each user per month in Surf plan is {:.2f} minutes'.format(df_surf[\"total_duration\"].mean()))\n",
    "print('Average duration of each user per month in Ultimate plan is {:.2f} minutes '.format(df_ultimate[\"total_duration\"].mean()))"
   ]
  },
  {
   "cell_type": "code",
   "execution_count": 66,
   "metadata": {},
   "outputs": [
    {
     "name": "stdout",
     "output_type": "stream",
     "text": [
      "Average number of messages of each user per month in Surf plan is 37.63 messages\n",
      "Average number of messages of each user per month in Ultimate plan is 45.74 messages\n"
     ]
    }
   ],
   "source": [
    "print('Average number of messages of each user per month in Surf plan is {:.2f} messages'.format(df_surf[\"number_of_messages\"].mean()))\n",
    "print('Average number of messages of each user per month in Ultimate plan is {:.2f} messages'.format(df_ultimate[\"number_of_messages\"].mean()))"
   ]
  },
  {
   "cell_type": "code",
   "execution_count": 67,
   "metadata": {},
   "outputs": [
    {
     "name": "stdout",
     "output_type": "stream",
     "text": [
      "Average mb used by each user per month in Surf plan is 16870.76 mb\n",
      "Average mb used by each user per month in Ultimate plan is 18620.65 mb\n"
     ]
    }
   ],
   "source": [
    "print('Average mb used by each user per month in Surf plan is {:.2f} mb'.format(df_surf[\"total_mb_used\"].mean()))\n",
    "print('Average mb used by each user per month in Ultimate plan is {:.2f} mb'.format(df_ultimate[\"total_mb_used\"].mean()))"
   ]
  },
  {
   "cell_type": "code",
   "execution_count": 68,
   "metadata": {},
   "outputs": [
    {
     "name": "stdout",
     "output_type": "stream",
     "text": [
      "Average revenue of each user per month in Surf plan is $ 56.54\n",
      "Average revenue of each user per month in Ultimate plan is  $73.04\n"
     ]
    }
   ],
   "source": [
    "print('Average revenue of each user per month in Surf plan is $ {:.2f}'.format(df_surf[\"cal_revenue\"].mean()))\n",
    "print('Average revenue of each user per month in Ultimate plan is  ${:.2f}'.format(df_ultimate[\"cal_revenue\"].mean()))"
   ]
  },
  {
   "cell_type": "code",
   "execution_count": 69,
   "metadata": {},
   "outputs": [],
   "source": [
    "# splitting city column \n",
    "new=df_combined[\"city\"].str.split(\",\", n = 2, expand = True)"
   ]
  },
  {
   "cell_type": "code",
   "execution_count": 70,
   "metadata": {},
   "outputs": [],
   "source": [
    "# city_new column is created that contains only city name \n",
    "df_combined[\"city_new\"]=new[0]"
   ]
  },
  {
   "cell_type": "code",
   "execution_count": 71,
   "metadata": {},
   "outputs": [],
   "source": [
    "# df of New York and New Jersy area\n",
    "df_combined_NY_NJ = df_combined.query('city_new==\"New York-Newark-Jersey City\"')"
   ]
  },
  {
   "cell_type": "code",
   "execution_count": 72,
   "metadata": {},
   "outputs": [],
   "source": [
    "# df of areas other than New York and New Jersy\n",
    "df_combined_Other_Areas = df_combined.query('city_new!=\"New York-Newark-Jersey City\"')"
   ]
  },
  {
   "cell_type": "code",
   "execution_count": 73,
   "metadata": {},
   "outputs": [],
   "source": [
    "# Revenue of Other areas\n",
    "df_combined_other_area_revenue=df_combined_Other_Areas[\"cal_revenue\"]"
   ]
  },
  {
   "cell_type": "code",
   "execution_count": 74,
   "metadata": {},
   "outputs": [],
   "source": [
    "# revenue of NY NJ\n",
    "df_combined_NY_NJ_revenue=df_combined_NY_NJ[\"cal_revenue\"]"
   ]
  },
  {
   "cell_type": "markdown",
   "metadata": {},
   "source": [
    "## Study user behaviour"
   ]
  },
  {
   "cell_type": "markdown",
   "metadata": {},
   "source": [
    "[Calculate some useful descriptive statistics for the aggregated and merged data, which typically reveal an overall picture captured by the data. Draw useful plots to help the understanding. Given that the main task is to compare the plans and decide on which one is more profitable, the statistics and the plots should be calculated on a per-plan basis.]\n",
    "\n",
    "[There are relevant hints in the comments for Calls but they are not provided for Messages and Internet though the principle of statistical study is the same for them as for Calls.]"
   ]
  },
  {
   "cell_type": "markdown",
   "metadata": {},
   "source": [
    "### Calls"
   ]
  },
  {
   "cell_type": "code",
   "execution_count": 75,
   "metadata": {},
   "outputs": [
    {
     "name": "stdout",
     "output_type": "stream",
     "text": [
      "<class 'pandas.core.frame.DataFrame'>\n",
      "Int64Index: 59356 entries, 28788 to 88143\n",
      "Data columns (total 25 columns):\n",
      " #   Column                 Non-Null Count  Dtype         \n",
      "---  ------                 --------------  -----         \n",
      " 0   user_id                59356 non-null  int64         \n",
      " 1   month                  59356 non-null  object        \n",
      " 2   call_count             59356 non-null  int64         \n",
      " 3   total_duration         59356 non-null  float64       \n",
      " 4   avg_call_duration      59356 non-null  float64       \n",
      " 5   number_of_messages     56973 non-null  float64       \n",
      " 6   num_of_session         59292 non-null  float64       \n",
      " 7   total_mb_used          59292 non-null  float64       \n",
      " 8   first_name             59356 non-null  object        \n",
      " 9   last_name              59356 non-null  object        \n",
      " 10  age                    59356 non-null  int64         \n",
      " 11  city                   59356 non-null  object        \n",
      " 12  reg_date               59356 non-null  datetime64[ns]\n",
      " 13  plan_name              59356 non-null  object        \n",
      " 14  churn_date             4038 non-null   datetime64[ns]\n",
      " 15  churn_month            4038 non-null   float64       \n",
      " 16  messages_included      59356 non-null  int64         \n",
      " 17  mb_per_month_included  59356 non-null  int64         \n",
      " 18  minutes_included       59356 non-null  int64         \n",
      " 19  usd_monthly_pay        59356 non-null  int64         \n",
      " 20  usd_per_gb             59356 non-null  int64         \n",
      " 21  usd_per_message        59356 non-null  float64       \n",
      " 22  usd_per_minute         59356 non-null  float64       \n",
      " 23  cal_revenue            59356 non-null  float64       \n",
      " 24  age_groups             59356 non-null  object        \n",
      "dtypes: datetime64[ns](2), float64(9), int64(8), object(6)\n",
      "memory usage: 11.8+ MB\n"
     ]
    }
   ],
   "source": [
    "# Compare average duration of calls per each plan per each distinct month. Plot a bar plat to visualize it.\n",
    "df_surf.info()"
   ]
  },
  {
   "cell_type": "code",
   "execution_count": 76,
   "metadata": {},
   "outputs": [],
   "source": [
    "# average duration for each month\n",
    "avg_duration_surf=df_surf.groupby(\"month\")[\"total_duration\"].mean()\n",
    "avg_duration_ultimate=df_ultimate.groupby(\"month\")[\"total_duration\"].mean()"
   ]
  },
  {
   "cell_type": "code",
   "execution_count": 77,
   "metadata": {
    "scrolled": false
   },
   "outputs": [
    {
     "data": {
      "image/png": "[encoded data removed]",
      "text/plain": [
       "<Figure size 720x432 with 1 Axes>"
      ]
     },
     "metadata": {
      "needs_background": "light"
     },
     "output_type": "display_data"
    },
    {
     "data": {
      "image/png": "[encoded data removed]",
      "text/plain": [
       "<Figure size 720x432 with 1 Axes>"
      ]
     },
     "metadata": {
      "needs_background": "light"
     },
     "output_type": "display_data"
    }
   ],
   "source": [
    "fig, ax = plt.subplots(figsize=(10, 6))\n",
    "plt.subplot(2, 1, 1) # row 1, col 2 index 1\n",
    "avg_duration_surf.plot.bar()\n",
    "plt.title(\"Average call Durtion of Surf Users\")\n",
    "plt.xlabel('month')\n",
    "plt.ylabel('Average calll duration')\n",
    "plt.show()\n",
    "\n",
    "fig, ax = plt.subplots(figsize=(10, 6))\n",
    "plt.subplot(2, 1, 2) # index 2\n",
    "avg_duration_ultimate.plot.bar(color=\"orange\")\n",
    "plt.title(\"Average Call Duration of Ultimate Users\")\n",
    "plt.xlabel('month')\n",
    "plt.ylabel('Average call duration')\n",
    "plt.show()"
   ]
  },
  {
   "cell_type": "markdown",
   "metadata": {},
   "source": [
    "The average call duration of each user per month is similar in Surf and Ultimate plan."
   ]
  },
  {
   "cell_type": "code",
   "execution_count": 78,
   "metadata": {
    "scrolled": true
   },
   "outputs": [
    {
     "data": {
      "image/png": "[encoded data removed]",
      "text/plain": [
       "<Figure size 432x288 with 1 Axes>"
      ]
     },
     "metadata": {
      "needs_background": "light"
     },
     "output_type": "display_data"
    }
   ],
   "source": [
    "sns.barplot( y = \"total_duration\", x='month', data = df_combined, hue='plan_name')\n",
    "plt.title('Messages counting by each users per month')\n",
    "plt.show()\n"
   ]
  },
  {
   "cell_type": "markdown",
   "metadata": {},
   "source": [
    "It shows that in most of the months Surf plan users used more messages than Ultimate plan users."
   ]
  },
  {
   "cell_type": "markdown",
   "metadata": {},
   "source": [
    "Surf plan users have longer call duration per month than Ultimate plan users."
   ]
  },
  {
   "cell_type": "code",
   "execution_count": 79,
   "metadata": {},
   "outputs": [],
   "source": [
    "# Compare the number of minutes users of each plan require each month. Plot a histogram.\n",
    "# getting total minutes for each month\n",
    "total_minutes_surf=df_surf.groupby(\"month\")[\"total_duration\"].sum()\n",
    "total_minutes_ultimate=df_ultimate.groupby(\"month\")[\"total_duration\"].sum()"
   ]
  },
  {
   "cell_type": "code",
   "execution_count": 80,
   "metadata": {},
   "outputs": [
    {
     "data": {
      "image/png": "[encoded data removed]",
      "text/plain": [
       "<Figure size 720x432 with 1 Axes>"
      ]
     },
     "metadata": {
      "needs_background": "light"
     },
     "output_type": "display_data"
    },
    {
     "data": {
      "image/png": "[encoded data removed]",
      "text/plain": [
       "<Figure size 720x432 with 1 Axes>"
      ]
     },
     "metadata": {
      "needs_background": "light"
     },
     "output_type": "display_data"
    }
   ],
   "source": [
    "# histogram plot for each plan\n",
    "fig, ax = plt.subplots(figsize=(10, 6))\n",
    "plt.subplot(1, 2, 1) # row 1, col 2 index 1\n",
    "total_minutes_surf.plot.hist(range=(0,4500000))\n",
    "plt.title(\"Histogram of total minutes in Surf plan\")\n",
    "plt.xlabel('total minutes')\n",
    "plt.ylabel('frequency of total minutes')\n",
    "plt.show()\n",
    "\n",
    "fig, ax = plt.subplots(figsize=(10, 6))\n",
    "plt.subplot(1, 2, 2) # index 2\n",
    "total_minutes_ultimate.plot.hist(range=(0,4500000),color=\"orange\")\n",
    "plt.title(\"Histogram of total minutes in Ultmate plan\")\n",
    "plt.xlabel('total minutes')\n",
    "plt.ylabel('frequency of total minutes')\n",
    "plt.show()"
   ]
  },
  {
   "cell_type": "markdown",
   "metadata": {},
   "source": [
    "Surf plan users used more call minutes than Ultimate plan users."
   ]
  },
  {
   "cell_type": "markdown",
   "metadata": {},
   "source": [
    "[Calculate the mean and the variable of the call duration to reason on whether users on the different plans have different behaviours for their calls.]"
   ]
  },
  {
   "cell_type": "code",
   "execution_count": 81,
   "metadata": {},
   "outputs": [],
   "source": [
    "# variance of the monthly call duration \n",
    "variance_monthly_duration_surf=df_surf.groupby(\"month\")[\"total_duration\"].var()\n",
    "variance_monthly_duration_ultimate=df_ultimate.groupby(\"month\")[\"total_duration\"].var()"
   ]
  },
  {
   "cell_type": "code",
   "execution_count": 82,
   "metadata": {},
   "outputs": [
    {
     "data": {
      "image/png": "[encoded data removed]",
      "text/plain": [
       "<Figure size 576x432 with 1 Axes>"
      ]
     },
     "metadata": {
      "needs_background": "light"
     },
     "output_type": "display_data"
    },
    {
     "data": {
      "image/png": "[encoded data removed]",
      "text/plain": [
       "<Figure size 576x432 with 1 Axes>"
      ]
     },
     "metadata": {
      "needs_background": "light"
     },
     "output_type": "display_data"
    }
   ],
   "source": [
    "# Plot a boxplot to visualize the distribution of the monthly call duration\n",
    "fig, ax = plt.subplots(figsize=(8, 6))\n",
    "plt.subplot(1, 2, 1) # row 1, col 2 index 1\n",
    "sns.boxplot(x=avg_duration_surf)\n",
    "plt.title(\"Distribution of call duration in Surf plan\")\n",
    "plt.xlabel('call duration')\n",
    "plt.ylabel('frequency of call duration')\n",
    "plt.show()\n",
    "\n",
    "fig, ax = plt.subplots(figsize=(8, 6))\n",
    "plt.subplot(1, 2, 2) # index 2\n",
    "sns.boxplot(x=avg_duration_ultimate)\n",
    "plt.title(\"Distribution of call duration in Ultimate plan\")\n",
    "plt.xlabel('call duration')\n",
    "plt.ylabel('frequency of call duration')\n",
    "plt.show()"
   ]
  },
  {
   "cell_type": "code",
   "execution_count": 83,
   "metadata": {},
   "outputs": [
    {
     "data": {
      "image/png": "[encoded data removed]",
      "text/plain": [
       "<Figure size 720x432 with 1 Axes>"
      ]
     },
     "metadata": {
      "needs_background": "light"
     },
     "output_type": "display_data"
    },
    {
     "data": {
      "image/png": "[encoded data removed]",
      "text/plain": [
       "<Figure size 720x432 with 1 Axes>"
      ]
     },
     "metadata": {
      "needs_background": "light"
     },
     "output_type": "display_data"
    }
   ],
   "source": [
    "fig, ax = plt.subplots(figsize=(10, 6))\n",
    "plt.subplot(1, 2, 1) # row 1, col 2 index 1\n",
    "sns.violinplot(x=avg_duration_surf)\n",
    "plt.title(\" Distribution of call duration in Surf plan\")\n",
    "plt.xlabel('call duration')\n",
    "plt.ylabel('frequency of call duration')\n",
    "\n",
    "plt.show()\n",
    "\n",
    "fig, ax = plt.subplots(figsize=(10, 6))\n",
    "plt.subplot(1, 2, 2) # index 2\n",
    "sns.violinplot(x=avg_duration_ultimate,color=\"orange\")\n",
    "plt.title(\"Distribution of call duration in Ultmate plan\")\n",
    "plt.xlabel('call duration')\n",
    "plt.ylabel('frequency of call duration')\n",
    "plt.show()"
   ]
  },
  {
   "cell_type": "markdown",
   "metadata": {},
   "source": [
    "Average call duration per each user per month is mostly concerntrated near 450 minutes. This average call duration is \n",
    "widely distributed between 100 minutes to 400 minutes in Surf plan whereas it is narrowly distributed in Ultimate plan."
   ]
  },
  {
   "cell_type": "code",
   "execution_count": 84,
   "metadata": {},
   "outputs": [
    {
     "data": {
      "image/png": "[encoded data removed]",
      "text/plain": [
       "<Figure size 432x288 with 1 Axes>"
      ]
     },
     "metadata": {
      "needs_background": "light"
     },
     "output_type": "display_data"
    },
    {
     "data": {
      "image/png": "[encoded data removed]",
      "text/plain": [
       "<Figure size 432x288 with 1 Axes>"
      ]
     },
     "metadata": {
      "needs_background": "light"
     },
     "output_type": "display_data"
    }
   ],
   "source": [
    "sns.violinplot(x=variance_monthly_duration_surf)\n",
    "plt.title(\"Variance of Monthly Duration in Surf Plan\")\n",
    "plt.show()\n",
    "sns.violinplot(x=variance_monthly_duration_ultimate,color=\"orange\")\n",
    "plt.title(\"Variance of Monthly Duration in Ultimate Plan\",color=\"orange\")\n",
    "plt.show()"
   ]
  },
  {
   "cell_type": "markdown",
   "metadata": {},
   "source": [
    "[Formulate conclusions on how the users behave in terms of calling. Is their behaviour different between the plans?]"
   ]
  },
  {
   "cell_type": "markdown",
   "metadata": {},
   "source": [
    "Call duration time in Surf plan have few values that spread widely than in Ultimate plan. Call duration time around 6000\n",
    "minutes in Ultimate plan have higher variance than in Surf plan.\n",
    "It shows that in average Ultimate plan users have longer call duration than Surf plan users."
   ]
  },
  {
   "cell_type": "markdown",
   "metadata": {},
   "source": [
    " "
   ]
  },
  {
   "cell_type": "markdown",
   "metadata": {},
   "source": [
    "### Messages"
   ]
  },
  {
   "cell_type": "code",
   "execution_count": 85,
   "metadata": {},
   "outputs": [],
   "source": [
    "# Compare the number of messages users of each plan tend to send each month\n",
    "# messages in each plan in each month\n",
    "avg_messages_month_surf=df_surf.groupby(\"month\")[\"number_of_messages\"].sum()\n",
    "avg_messages_month_ultimate= df_ultimate.groupby(\"month\")[\"number_of_messages\"].sum()"
   ]
  },
  {
   "cell_type": "code",
   "execution_count": 86,
   "metadata": {},
   "outputs": [
    {
     "data": {
      "image/png": "[encoded data removed]",
      "text/plain": [
       "<Figure size 432x288 with 1 Axes>"
      ]
     },
     "metadata": {
      "needs_background": "light"
     },
     "output_type": "display_data"
    },
    {
     "data": {
      "image/png": "[encoded data removed]",
      "text/plain": [
       "<Figure size 432x288 with 1 Axes>"
      ]
     },
     "metadata": {
      "needs_background": "light"
     },
     "output_type": "display_data"
    }
   ],
   "source": [
    "avg_messages_month_surf.plot.bar(rot=45)\n",
    "plt.title(\"Average messages in month in Surf plan\")\n",
    "plt.ylabel(\"average messages\")\n",
    "plt.xlabel(\"months\")\n",
    "plt.show()\n",
    "avg_messages_month_ultimate.plot.bar(rot=45,color=\"orange\")\n",
    "plt.title(\"Average messages in month in Ultimate plan\")\n",
    "plt.ylabel(\"average messages\")\n",
    "plt.xlabel(\"months\")\n",
    "plt.show()"
   ]
  },
  {
   "cell_type": "code",
   "execution_count": 87,
   "metadata": {},
   "outputs": [
    {
     "data": {
      "image/png": "[encoded data removed]",
      "text/plain": [
       "<Figure size 432x288 with 1 Axes>"
      ]
     },
     "metadata": {
      "needs_background": "light"
     },
     "output_type": "display_data"
    },
    {
     "data": {
      "image/png": "[encoded data removed]",
      "text/plain": [
       "<Figure size 432x288 with 1 Axes>"
      ]
     },
     "metadata": {
      "needs_background": "light"
     },
     "output_type": "display_data"
    }
   ],
   "source": [
    "# boxplot of messages in each plan in each month\n",
    "sns.boxplot(x=avg_messages_month_surf)\n",
    "plt.title(\"Messages in month in Surf Plan\")\n",
    "plt.xlabel(\"average messages in month\")\n",
    "plt.show()\n",
    "sns.boxplot(x=avg_messages_month_ultimate,color=\"orange\")\n",
    "plt.title(\"Messages in month in Ultimate Plan\")\n",
    "plt.xlabel(\"average messages in month\")\n",
    "plt.show()"
   ]
  },
  {
   "cell_type": "code",
   "execution_count": 88,
   "metadata": {},
   "outputs": [
    {
     "data": {
      "image/png": "[encoded data removed]",
      "text/plain": [
       "<Figure size 432x288 with 1 Axes>"
      ]
     },
     "metadata": {
      "needs_background": "light"
     },
     "output_type": "display_data"
    },
    {
     "data": {
      "image/png": "[encoded data removed]",
      "text/plain": [
       "<Figure size 432x288 with 1 Axes>"
      ]
     },
     "metadata": {
      "needs_background": "light"
     },
     "output_type": "display_data"
    }
   ],
   "source": [
    "sns.violinplot(x=avg_messages_month_surf)\n",
    "plt.title(\"Messages of each user per month in Surf Plan\")\n",
    "plt.show()\n",
    "sns.violinplot(x=avg_messages_month_ultimate,color=\"orange\")\n",
    "plt.title(\"Messages of each user per month in Ultimate Plan\",color=\"orange\")\n",
    "plt.show()"
   ]
  },
  {
   "cell_type": "markdown",
   "metadata": {},
   "source": [
    "[Formulate conclusions on how the users behave in terms of messaging. Is their behaviour different between the plans?]"
   ]
  },
  {
   "cell_type": "markdown",
   "metadata": {},
   "source": [
    "Users from both plans have used messages in similar pattern throughout 2018.\n",
    "Median average number of messages in each month of Surf plan is higher than that of Ultimate plan.\n",
    "Surf plan users have wider range in distribution of message usages."
   ]
  },
  {
   "cell_type": "markdown",
   "metadata": {},
   "source": [
    " "
   ]
  },
  {
   "cell_type": "markdown",
   "metadata": {},
   "source": [
    "### Internet"
   ]
  },
  {
   "cell_type": "code",
   "execution_count": 89,
   "metadata": {},
   "outputs": [],
   "source": [
    "# Compare the amount of internet traffic consumed by users per plan"
   ]
  },
  {
   "cell_type": "code",
   "execution_count": 90,
   "metadata": {},
   "outputs": [],
   "source": [
    "# df of each plan that have mb used in each month\n",
    "total_mb_month_surf = df_surf.groupby(\"month\")[\"total_mb_used\"].sum()\n",
    "total_mb_month_ultimate = df_ultimate.groupby(\"month\")[\"total_mb_used\"].sum()"
   ]
  },
  {
   "cell_type": "code",
   "execution_count": 91,
   "metadata": {},
   "outputs": [
    {
     "data": {
      "image/png": "[encoded data removed]",
      "text/plain": [
       "<Figure size 432x288 with 1 Axes>"
      ]
     },
     "metadata": {
      "needs_background": "light"
     },
     "output_type": "display_data"
    },
    {
     "data": {
      "image/png": "[encoded data removed]",
      "text/plain": [
       "<Figure size 432x288 with 1 Axes>"
      ]
     },
     "metadata": {
      "needs_background": "light"
     },
     "output_type": "display_data"
    }
   ],
   "source": [
    "total_mb_month_surf.plot.bar(rot=45)\n",
    "plt.title(\"total mb used in each month in Surf plan\")\n",
    "plt.ylabel(\"mb used in Surf plan\")\n",
    "plt.xlabel(\"months\")\n",
    "plt.show()\n",
    "total_mb_month_ultimate.plot.bar(rot=45,color=\"orange\")\n",
    "plt.title(\"total mb used in each in Ultimate plan\")\n",
    "plt.ylabel(\"mb used in Ultimate\")\n",
    "plt.xlabel(\"months\")\n",
    "plt.show()"
   ]
  },
  {
   "cell_type": "code",
   "execution_count": 92,
   "metadata": {},
   "outputs": [
    {
     "data": {
      "image/png": "[encoded data removed]",
      "text/plain": [
       "<Figure size 432x288 with 1 Axes>"
      ]
     },
     "metadata": {
      "needs_background": "light"
     },
     "output_type": "display_data"
    },
    {
     "data": {
      "image/png": "[encoded data removed]",
      "text/plain": [
       "<Figure size 432x288 with 1 Axes>"
      ]
     },
     "metadata": {
      "needs_background": "light"
     },
     "output_type": "display_data"
    }
   ],
   "source": [
    "sns.boxplot(x=total_mb_month_surf)\n",
    "plt.title(\"mb used in month in Surf Plan\")\n",
    "plt.xlabel(\"total mb used in month\")\n",
    "plt.show()\n",
    "sns.boxplot(x=total_mb_month_ultimate,color=\"orange\")\n",
    "plt.title(\"mb used in month in Ultimate Plan\")\n",
    "plt.xlabel(\"total mb used in month\")\n",
    "plt.show()"
   ]
  },
  {
   "cell_type": "code",
   "execution_count": 93,
   "metadata": {},
   "outputs": [
    {
     "data": {
      "image/png": "[encoded data removed]",
      "text/plain": [
       "<Figure size 432x288 with 1 Axes>"
      ]
     },
     "metadata": {
      "needs_background": "light"
     },
     "output_type": "display_data"
    },
    {
     "data": {
      "image/png": "[encoded data removed]",
      "text/plain": [
       "<Figure size 432x288 with 1 Axes>"
      ]
     },
     "metadata": {
      "needs_background": "light"
     },
     "output_type": "display_data"
    }
   ],
   "source": [
    "sns.violinplot(x=total_mb_month_surf)\n",
    "plt.title(\"mb used of each user per month in Surf Plan\")\n",
    "plt.show()\n",
    "sns.violinplot(x=total_mb_month_ultimate,color=\"orange\")\n",
    "plt.title(\"mb used of each user per month in Ultimate Plan\",color=\"orange\")\n",
    "plt.show()"
   ]
  },
  {
   "cell_type": "markdown",
   "metadata": {},
   "source": [
    "[Formulate conclusions on how the users tend to consume the internet traffic? Is their behaviour different between the plans?]"
   ]
  },
  {
   "cell_type": "markdown",
   "metadata": {},
   "source": [
    "The pattern of mb used by both plan users are similar in each month in 2018.\n",
    "Median mb used in each month in Surf plan is higher than in Ultimate plan.\n",
    "Few users in Surf plan have few extreme lower and higher mb used values."
   ]
  },
  {
   "cell_type": "markdown",
   "metadata": {},
   "source": [
    " "
   ]
  },
  {
   "cell_type": "markdown",
   "metadata": {},
   "source": [
    "## Revenue"
   ]
  },
  {
   "cell_type": "markdown",
   "metadata": {},
   "source": [
    "[Likewise you have studied the user behaviour, statistically describe the revenue between the plans.]"
   ]
  },
  {
   "cell_type": "code",
   "execution_count": 94,
   "metadata": {},
   "outputs": [],
   "source": [
    "# df of revenue in each month in each plan\n",
    "total_revenue_month_surf = df_surf.groupby(\"month\")[\"cal_revenue\"].sum()\n",
    "total_revenue_month_ultimate = df_ultimate.groupby(\"month\")[\"cal_revenue\"].sum()"
   ]
  },
  {
   "cell_type": "code",
   "execution_count": 95,
   "metadata": {},
   "outputs": [
    {
     "data": {
      "image/png": "[encoded data removed]",
      "text/plain": [
       "<Figure size 432x288 with 1 Axes>"
      ]
     },
     "metadata": {
      "needs_background": "light"
     },
     "output_type": "display_data"
    },
    {
     "data": {
      "image/png": "[encoded data removed]",
      "text/plain": [
       "<Figure size 432x288 with 1 Axes>"
      ]
     },
     "metadata": {
      "needs_background": "light"
     },
     "output_type": "display_data"
    }
   ],
   "source": [
    "# bar plot of total revenue in each plan\n",
    "total_revenue_month_surf.plot.bar(rot=45)\n",
    "plt.title(\"total revenue used in each month in Surf plan\")\n",
    "plt.ylabel(\"total revenue in Surf plan\")\n",
    "plt.xlabel(\"months\")\n",
    "plt.show()\n",
    "total_revenue_month_ultimate.plot.bar(rot=45,color=\"orange\")\n",
    "plt.title(\"total revenue used in each in Ultimate plan\")\n",
    "plt.ylabel(\"total revenue in Ultimate plan\")\n",
    "plt.xlabel(\"months\")\n",
    "plt.show()"
   ]
  },
  {
   "cell_type": "code",
   "execution_count": 96,
   "metadata": {},
   "outputs": [
    {
     "data": {
      "image/png": "[encoded data removed]",
      "text/plain": [
       "<Figure size 432x288 with 1 Axes>"
      ]
     },
     "metadata": {
      "needs_background": "light"
     },
     "output_type": "display_data"
    },
    {
     "data": {
      "image/png": "[encoded data removed]",
      "text/plain": [
       "<Figure size 432x288 with 1 Axes>"
      ]
     },
     "metadata": {
      "needs_background": "light"
     },
     "output_type": "display_data"
    }
   ],
   "source": [
    "sns.boxplot(x=total_revenue_month_surf)\n",
    "plt.title(\"total revenue in month in Surf Plan\")\n",
    "plt.xlabel(\"total revenue in month\")\n",
    "plt.show()\n",
    "sns.boxplot(x=total_revenue_month_ultimate,color=\"orange\")\n",
    "plt.title(\"total revenuw in month in Ultimate Plan\")\n",
    "plt.xlabel(\"total revenue in month\")\n",
    "plt.show()"
   ]
  },
  {
   "cell_type": "code",
   "execution_count": 97,
   "metadata": {},
   "outputs": [
    {
     "data": {
      "image/png": "[encoded data removed]",
      "text/plain": [
       "<Figure size 432x288 with 1 Axes>"
      ]
     },
     "metadata": {
      "needs_background": "light"
     },
     "output_type": "display_data"
    },
    {
     "data": {
      "image/png": "[encoded data removed]",
      "text/plain": [
       "<Figure size 432x288 with 1 Axes>"
      ]
     },
     "metadata": {
      "needs_background": "light"
     },
     "output_type": "display_data"
    }
   ],
   "source": [
    "sns.violinplot(x=total_revenue_month_surf)\n",
    "plt.title(\"total revenue of each user per month in Surf Plan\")\n",
    "plt.show()\n",
    "sns.violinplot(x=total_revenue_month_ultimate,color=\"orange\")\n",
    "plt.title(\"total revenue of each user per month in Ultimate Plan\",color=\"orange\")\n",
    "plt.show()"
   ]
  },
  {
   "cell_type": "markdown",
   "metadata": {},
   "source": [
    "More revenue are collected from Surf plan users in 10 months out of 12 months. \n",
    "Total revenue of each month in Surf plan have higher median than in ultimate plan.\n",
    "Surf plan users have few low and high extreme revenue values than that of Ultimate plan users.\n",
    "In Surf plan, revenues of each per month is concerntrated neear 400000 dollars where as in Ultimate plan it is concerntrated near\n",
    "250000 dollars.\n"
   ]
  },
  {
   "cell_type": "markdown",
   "metadata": {},
   "source": [
    "[Formulate conclusions about how the revenue differs between the plans.]"
   ]
  },
  {
   "cell_type": "markdown",
   "metadata": {},
   "source": [
    "<div class=\"alert alert-success\">\n",
    "<b>Reviewer's comment v1:</b>\n",
    "    \n",
    "- I will write overall thoughts about the data analysis section:\n",
    "- Very nice visualisation of the data. Would be additionally great to combine both plans on one graph for the comparison and also used different graph types to check available data.\n",
    "-  If you have time and willing to practice, you can display two charts (histogram and a boxplot) using a two-column subplot.\n",
    "\n",
    "```\n",
    "    # Create one row with 2 columns\n",
    "\t  fig, axes = plt.subplots(1, 2, figsize=(16, 5))\n",
    "\n",
    "\t  # Create a histogram for the surf plan\n",
    "\t  sns.distplot(... ax=axes[0])\n",
    "\t  # Create a histogram for the second plan\n",
    "\t  sns.distplot(... ax=axes[0])\n",
    "\t\n",
    "\t  # Create a boxplot for both plans\n",
    "\t  sns.boxplot(... ax=axes[1])\n",
    "```"
   ]
  },
  {
   "cell_type": "markdown",
   "metadata": {},
   "source": [
    " "
   ]
  },
  {
   "cell_type": "markdown",
   "metadata": {},
   "source": [
    "## Test statistical hypotheses"
   ]
  },
  {
   "cell_type": "markdown",
   "metadata": {},
   "source": [
    "[Test the hypothesis that the average revenue from users of the Ultimate and Surf calling plans differs.]"
   ]
  },
  {
   "cell_type": "markdown",
   "metadata": {},
   "source": [
    "[Formulate the null and the alternative hypotheses, choose the statistical test, decide on the alpha value.]"
   ]
  },
  {
   "cell_type": "markdown",
   "metadata": {},
   "source": [
    "### hypothesis testing of revenue of two plans"
   ]
  },
  {
   "cell_type": "markdown",
   "metadata": {},
   "source": [
    "Null hypothesis is mean revenue in each month in Surf plan is equal to mean revenue of Ultimate plan.\n",
    "\n",
    "Alternative hypothesis is mean revenue in each month in Surf plan is not equal to mean revenue of Ultimate plan."
   ]
  },
  {
   "cell_type": "markdown",
   "metadata": {},
   "source": [
    "<div class=\"alert alert-warning\">\n",
    "<b>Reviewer's comment v1:</b>\n",
    " \n",
    "- Can you please also formulate an alternative hypothesis in addition to the null hypotheses?"
   ]
  },
  {
   "cell_type": "markdown",
   "metadata": {},
   "source": [
    "<div class=\"alert alert-success\" role=\"alert\">\n",
    "<b>Reviewer's comment v2:</b>\n",
    "    \n",
    "🙌"
   ]
  },
  {
   "cell_type": "code",
   "execution_count": 98,
   "metadata": {},
   "outputs": [
    {
     "name": "stdout",
     "output_type": "stream",
     "text": [
      "p-value: nan\n",
      "We can't reject the null hypothesis\n"
     ]
    },
    {
     "name": "stderr",
     "output_type": "stream",
     "text": [
      "/opt/conda/lib/python3.7/site-packages/numpy/core/fromnumeric.py:3622: RuntimeWarning: Degrees of freedom <= 0 for slice\n",
      "  **kwargs)\n",
      "/opt/conda/lib/python3.7/site-packages/numpy/core/_methods.py:226: RuntimeWarning: invalid value encountered in double_scalars\n",
      "  ret = ret.dtype.type(ret / rcount)\n"
     ]
    }
   ],
   "source": [
    "# Test the hypotheses\n",
    "mean_revenue_surf = df_combined[df_combined[\"plan_name\"]==\"surf\"][\"cal_revenue\"].mean()\n",
    "mean_revenue_ultimate = df_combined[df_combined[\"plan_name\"]==\"ultimate\"][\"cal_revenue\"].mean()\n",
    "\n",
    "alpha = 0.05 # your code: set a critical statistical significance level\n",
    "\n",
    "results = st.ttest_ind(mean_revenue_surf, mean_revenue_ultimate)\n",
    "# your code: test the hypothesis that the means of the two independent populations are equal\n",
    "\n",
    "print('p-value:', results.pvalue) # your code: print the p-value you get\n",
    "\n",
    "if results.pvalue < alpha:\n",
    "    print(\"We reject the null hypothesis\")\n",
    "else:\n",
    "    print(\"We can't reject the null hypothesis\")\n"
   ]
  },
  {
   "cell_type": "markdown",
   "metadata": {},
   "source": [
    "[Test the hypothesis that the average revenue from users in the NY-NJ area is different from that of the users from the other regions.]"
   ]
  },
  {
   "cell_type": "markdown",
   "metadata": {},
   "source": [
    "Since it is less expenxive to use Surf plan for getting similar service like Ultimate plan, it is better to use Surf plan."
   ]
  },
  {
   "cell_type": "markdown",
   "metadata": {},
   "source": [
    "### hypothesis testing of City areas\n",
    "\n",
    "Null hypothesis: average revenue in NY-NJ area is equal to Other areas\n",
    "\n",
    "Alternative hypothesis: average revenue in NY-NJ area is not equal to other areas"
   ]
  },
  {
   "cell_type": "markdown",
   "metadata": {},
   "source": [
    "[Formulate the null and the alternative hypotheses, choose the statistical test, decide on the alpha value.]"
   ]
  },
  {
   "cell_type": "code",
   "execution_count": 99,
   "metadata": {},
   "outputs": [
    {
     "name": "stdout",
     "output_type": "stream",
     "text": [
      "p-value: 7.382977766876453e-200\n",
      "We reject the null hypothesis\n"
     ]
    }
   ],
   "source": [
    "# Test the hypotheses\n",
    "\n",
    "alpha = 0.05 # your code: set a critical statistical significance level\n",
    "\n",
    "results = st.ttest_ind(df_combined_NY_NJ_revenue, df_combined_other_area_revenue)\n",
    "# your code: test the hypothesis that the means of the two independent populations are equal\n",
    "\n",
    "print('p-value:', results.pvalue) # your code: print the p-value you get\n",
    "\n",
    "if results.pvalue < alpha:\n",
    "    print(\"We reject the null hypothesis\")\n",
    "else:\n",
    "    print(\"We can't reject the null hypothesis\")"
   ]
  },
  {
   "cell_type": "markdown",
   "metadata": {},
   "source": [
    "<div class=\"alert alert-success\">\n",
    "<b>Reviewer's comment v1:</b>\n",
    "    \n",
    "- Overall job! Hypotheses have been formulated and tested correctly.\n",
    "- You can also additionally compare the variances of the samples before testing hypotheses in order to understand with which equal_var parameter to use the ttest_ind test method (by default, True). Here you can manually calculate variances, or use Levene's statistic test (https://docs.scipy.org/doc/scipy/reference/generated/scipy.stats.levene.html) or Barlett's test (https: //docs.scipy .org / doc / scipy / reference / generated / scipy.stats.bartlett.html # scipy.stats.bartlett)"
   ]
  },
  {
   "cell_type": "markdown",
   "metadata": {},
   "source": [
    "## General conclusion\n",
    "\n",
    "[List your important conclusions in this final section, make sure they cover all those important decisions (assumptions) that you've made and that led you to the way you processed and analyzed the data.]"
   ]
  },
  {
   "cell_type": "code",
   "execution_count": 100,
   "metadata": {},
   "outputs": [
    {
     "name": "stdout",
     "output_type": "stream",
     "text": [
      "percentage of surf plan users: 0.68\n",
      "entage of ultimate plan users: 0.32\n"
     ]
    }
   ],
   "source": [
    "print(\"percentage of surf plan users:\", round(len(df_surf[\"user_id\"].unique())/len(df_combined[\"user_id\"].unique()),2))\n",
    "print(\"entage of ultimate plan users:\", round(len(df_ultimate[\"user_id\"].unique())/len(df_combined[\"user_id\"].unique()),2))"
   ]
  },
  {
   "cell_type": "code",
   "execution_count": 101,
   "metadata": {},
   "outputs": [
    {
     "name": "stdout",
     "output_type": "stream",
     "text": [
      "percentage of Surf users who paid no additioal revenue 0.182\n",
      "percentage of Ultimate users who paid no additioal revenue 0.924\n"
     ]
    }
   ],
   "source": [
    "# no additional revenue\n",
    "print(\"percentage of Surf users who paid no additioal revenue\",round(len(df_surf[df_surf[\"cal_revenue\"]==20][\"user_id\"])/\n",
    "len(df_surf),3))\n",
    "print(\"percentage of Ultimate users who paid no additioal revenue\",round(len(df_ultimate[df_ultimate[\"cal_revenue\"]==70][\"user_id\"])/\n",
    "len(df_ultimate),3))"
   ]
  },
  {
   "cell_type": "code",
   "execution_count": 102,
   "metadata": {},
   "outputs": [
    {
     "name": "stdout",
     "output_type": "stream",
     "text": [
      "Additional revenue from Surf users 3139320.91\n",
      "Additional revenue from Ultimate users 240689.52\n"
     ]
    }
   ],
   "source": [
    "print(\"Additional revenue from Surf users\",round(df_surf[df_surf[\"cal_revenue\"]!=20][\"cal_revenue\"].sum(),2))\n",
    "print(\"Additional revenue from Ultimate users\",round(df_ultimate[df_ultimate[\"cal_revenue\"]!=70][\"cal_revenue\"].sum(),2))"
   ]
  },
  {
   "cell_type": "markdown",
   "metadata": {},
   "source": [
    "plan users\n",
    "\n",
    "68 percent users are Surf plan users and 32 percent are Ultimate users.\n",
    "\n",
    "About 18 percent Surf plan users paid no additinal amount and about 92 percent Ultimate plan users paid no additional cost.\n",
    "\n",
    "Since most of the Surf plan users paid additional amount for using additional calls, messages, and data, it is reasonable to conclude that Surf plan generated higher revenue than Ultimate plan in this type of user population distribution and \n",
    "behaviour.\n",
    "\n",
    "\n",
    "1. Age_group\n",
    "\n",
    "On both plans 60 plus age group have the top age group.\n",
    "\n",
    "Age group composition percentage of Surf plan is closely related to  the overall dataset.\n",
    "\n",
    "\n",
    "2. Call duration\n",
    "\n",
    "Average duration of each user in Surf plan is 465.12 minutes\n",
    "\n",
    "Average duration of each user in Ultimate plan is 443. 71 minutes \n",
    "\n",
    "\n",
    "3. Number of messages\n",
    "\n",
    "Average messages of each user in Surf plan is 37.63 messages\n",
    "\n",
    "Average messages of each user in Ultimate plan is 45.74 messages\n",
    "\n",
    "\n",
    "4. mb used\n",
    "\n",
    "Average mb used of each user in Surf plan is 16870.77 mb\n",
    "\n",
    "Average mb used of each user in Ultimate plan is 18620.65 mb\n",
    "\n",
    "\n",
    "5. Revenue\n",
    "\n",
    "Average Revenue of each user  in Surf plan is $ 56.54\n",
    "\n",
    "Average Revenue of each user in Ultimate plan is  $73.04\n",
    "\n",
    "\n",
    "\n",
    "Eventhough average revenue from Ultimate plan is higher, from above findings we can conclude that more revenue is generated from Surf plan users. "
   ]
  },
  {
   "cell_type": "markdown",
   "metadata": {},
   "source": [
    "<div class=\"alert alert-warning\">\n",
    "<b>Reviewer's comment v1:</b>\n",
    " \n",
    "Overall you conducted great research with correct interim findings, clean code and nice visualisation.\n",
    "Nevertheless, general conclusions represent the overall work progress that you achieved. On a real project, this is probably the only thing the business stakeholders will read. Therefore, it is crucial to indicate in a structured way all conclusions that you made on each step in the project. It is also important to provide explanations and interpretations that will be interesting for business based on your analysis (a detailed description of the average user per each plan, which client group brings more additional revenue, which group brings more revenue in the total revenue)."
   ]
  },
  {
   "cell_type": "markdown",
   "metadata": {},
   "source": [
    "student comments: I tried my best to complete this project. I highly appreciate any comment and suggestion from your side \n",
    "to make this project better."
   ]
  },
  {
   "cell_type": "markdown",
   "metadata": {},
   "source": [
    "<div class=\"alert alert-success\" role=\"alert\">\n",
    "<b>Reviewer's comment v2:</b>\n",
    "    \n",
    "Thanks for going an extra mile and extending your project, overall conclusions and adding recommendations to the business."
   ]
  }
 ],
 "metadata": {
  "ExecuteTimeLog": [
   {
    "duration": 828,
    "start_time": "2021-11-16T09:21:11.304Z"
   },
   {
    "duration": 893,
    "start_time": "2021-11-16T09:21:17.728Z"
   },
   {
    "duration": 1150,
    "start_time": "2021-11-16T09:21:29.568Z"
   },
   {
    "duration": 3,
    "start_time": "2021-11-16T09:24:14.495Z"
   },
   {
    "duration": 120,
    "start_time": "2021-11-16T09:24:46.630Z"
   },
   {
    "duration": 3,
    "start_time": "2021-11-16T09:28:27.882Z"
   },
   {
    "duration": 4,
    "start_time": "2021-11-16T09:29:54.281Z"
   },
   {
    "duration": 3,
    "start_time": "2021-11-16T09:30:45.936Z"
   },
   {
    "duration": 4,
    "start_time": "2021-11-16T09:31:06.300Z"
   },
   {
    "duration": 113,
    "start_time": "2021-11-16T09:31:37.208Z"
   },
   {
    "duration": 143,
    "start_time": "2021-11-16T09:31:48.656Z"
   },
   {
    "duration": 98,
    "start_time": "2021-11-16T09:31:55.678Z"
   },
   {
    "duration": 3,
    "start_time": "2021-11-16T09:32:08.535Z"
   },
   {
    "duration": 111,
    "start_time": "2021-11-16T09:32:10.120Z"
   },
   {
    "duration": 3,
    "start_time": "2021-11-16T09:32:15.732Z"
   },
   {
    "duration": 4,
    "start_time": "2021-11-16T09:32:29.423Z"
   },
   {
    "duration": 3,
    "start_time": "2021-11-16T10:03:03.074Z"
   },
   {
    "duration": 3,
    "start_time": "2021-11-16T10:10:01.288Z"
   },
   {
    "duration": 3,
    "start_time": "2021-11-16T10:10:46.923Z"
   },
   {
    "duration": 121,
    "start_time": "2021-11-16T10:37:46.494Z"
   },
   {
    "duration": 125,
    "start_time": "2021-11-16T10:38:20.632Z"
   },
   {
    "duration": 112,
    "start_time": "2021-11-16T10:46:53.001Z"
   },
   {
    "duration": 110,
    "start_time": "2021-11-16T10:48:25.775Z"
   },
   {
    "duration": 3,
    "start_time": "2021-11-16T10:50:18.720Z"
   },
   {
    "duration": 4,
    "start_time": "2021-11-16T10:50:37.649Z"
   },
   {
    "duration": 2,
    "start_time": "2021-11-16T10:50:51.884Z"
   },
   {
    "duration": 3,
    "start_time": "2021-11-16T10:51:56.237Z"
   },
   {
    "duration": 101,
    "start_time": "2021-11-16T10:53:13.791Z"
   },
   {
    "duration": 3,
    "start_time": "2021-11-16T10:55:59.186Z"
   },
   {
    "duration": 3,
    "start_time": "2021-11-16T10:56:10.751Z"
   },
   {
    "duration": 3,
    "start_time": "2021-11-16T10:56:49.038Z"
   },
   {
    "duration": 3,
    "start_time": "2021-11-16T10:56:49.174Z"
   },
   {
    "duration": 4,
    "start_time": "2021-11-16T10:56:49.414Z"
   },
   {
    "duration": 3,
    "start_time": "2021-11-16T10:56:49.680Z"
   },
   {
    "duration": 3,
    "start_time": "2021-11-16T10:56:50.370Z"
   },
   {
    "duration": 114,
    "start_time": "2021-11-16T10:59:34.518Z"
   },
   {
    "duration": 3,
    "start_time": "2021-11-16T11:01:41.201Z"
   },
   {
    "duration": 116,
    "start_time": "2021-11-16T11:01:48.754Z"
   },
   {
    "duration": 3,
    "start_time": "2021-11-16T11:02:16.685Z"
   },
   {
    "duration": 3,
    "start_time": "2021-11-16T11:02:19.479Z"
   },
   {
    "duration": 3,
    "start_time": "2021-11-16T11:02:47.067Z"
   },
   {
    "duration": 3,
    "start_time": "2021-11-16T11:02:49.353Z"
   },
   {
    "duration": 3,
    "start_time": "2021-11-16T11:03:07.835Z"
   },
   {
    "duration": 3,
    "start_time": "2021-11-16T11:03:07.953Z"
   },
   {
    "duration": 112,
    "start_time": "2021-11-16T11:07:52.072Z"
   },
   {
    "duration": 187,
    "start_time": "2021-11-16T11:09:23.468Z"
   },
   {
    "duration": 4,
    "start_time": "2021-11-16T11:10:01.455Z"
   },
   {
    "duration": 3,
    "start_time": "2021-11-16T11:10:05.069Z"
   },
   {
    "duration": 4,
    "start_time": "2021-11-16T11:10:13.376Z"
   },
   {
    "duration": 3,
    "start_time": "2021-11-16T11:10:14.434Z"
   },
   {
    "duration": 3,
    "start_time": "2021-11-16T11:10:22.853Z"
   },
   {
    "duration": 4,
    "start_time": "2021-11-16T11:27:29.279Z"
   },
   {
    "duration": 4,
    "start_time": "2021-11-16T11:29:08.919Z"
   },
   {
    "duration": 118,
    "start_time": "2021-11-16T11:29:46.703Z"
   },
   {
    "duration": 437,
    "start_time": "2021-11-16T11:36:02.181Z"
   },
   {
    "duration": 157,
    "start_time": "2021-11-16T11:36:14.388Z"
   },
   {
    "duration": 207,
    "start_time": "2021-11-16T11:47:15.898Z"
   },
   {
    "duration": 3,
    "start_time": "2021-11-16T11:53:52.092Z"
   },
   {
    "duration": 3,
    "start_time": "2021-11-16T11:53:52.236Z"
   },
   {
    "duration": 3,
    "start_time": "2021-11-16T11:59:12.005Z"
   },
   {
    "duration": 112,
    "start_time": "2021-11-16T12:00:33.446Z"
   },
   {
    "duration": 3,
    "start_time": "2021-11-16T12:02:14.453Z"
   },
   {
    "duration": 3,
    "start_time": "2021-11-16T12:02:39.512Z"
   },
   {
    "duration": 106,
    "start_time": "2021-11-16T12:03:03.460Z"
   },
   {
    "duration": 3,
    "start_time": "2021-11-17T20:37:21.139Z"
   },
   {
    "duration": 3,
    "start_time": "2021-11-17T20:37:22.229Z"
   },
   {
    "duration": 3,
    "start_time": "2021-11-17T20:38:38.806Z"
   },
   {
    "duration": 3,
    "start_time": "2021-11-17T20:38:41.958Z"
   },
   {
    "duration": 3,
    "start_time": "2021-11-17T20:43:46.551Z"
   },
   {
    "duration": 4,
    "start_time": "2021-11-17T20:58:21.835Z"
   },
   {
    "duration": 3,
    "start_time": "2021-11-17T20:59:21.872Z"
   },
   {
    "duration": 4,
    "start_time": "2021-11-17T20:59:45.352Z"
   },
   {
    "duration": 4,
    "start_time": "2021-11-17T20:59:49.646Z"
   },
   {
    "duration": 159,
    "start_time": "2021-11-17T21:02:26.949Z"
   },
   {
    "duration": 3,
    "start_time": "2021-11-17T21:03:53.461Z"
   },
   {
    "duration": 3,
    "start_time": "2021-11-17T21:03:53.694Z"
   },
   {
    "duration": 3,
    "start_time": "2021-11-17T21:05:28.145Z"
   },
   {
    "duration": 116,
    "start_time": "2021-11-17T21:05:57.787Z"
   },
   {
    "duration": 3,
    "start_time": "2021-11-17T21:06:37.993Z"
   },
   {
    "duration": 3,
    "start_time": "2021-11-17T21:06:38.261Z"
   },
   {
    "duration": 3,
    "start_time": "2021-11-17T21:11:54.358Z"
   },
   {
    "duration": 3,
    "start_time": "2021-11-17T21:12:43.846Z"
   },
   {
    "duration": 4,
    "start_time": "2021-11-17T21:13:08.773Z"
   },
   {
    "duration": 3,
    "start_time": "2021-11-17T21:14:44.441Z"
   },
   {
    "duration": 3,
    "start_time": "2021-11-17T21:15:42.059Z"
   },
   {
    "duration": 4,
    "start_time": "2021-11-17T21:15:51.995Z"
   },
   {
    "duration": 3,
    "start_time": "2021-11-17T21:15:53.923Z"
   },
   {
    "duration": 3,
    "start_time": "2021-11-17T21:15:55.282Z"
   },
   {
    "duration": 3,
    "start_time": "2021-11-17T21:16:28.492Z"
   },
   {
    "duration": 3,
    "start_time": "2021-11-17T21:16:32.603Z"
   },
   {
    "duration": 3,
    "start_time": "2021-11-17T21:17:06.941Z"
   },
   {
    "duration": 98,
    "start_time": "2021-11-17T21:18:05.733Z"
   },
   {
    "duration": 4,
    "start_time": "2021-11-17T21:21:35.255Z"
   },
   {
    "duration": 3,
    "start_time": "2021-11-17T21:21:37.804Z"
   },
   {
    "duration": 4,
    "start_time": "2021-11-17T21:23:06.071Z"
   },
   {
    "duration": 3,
    "start_time": "2021-11-17T21:23:24.799Z"
   },
   {
    "duration": 3,
    "start_time": "2021-11-17T21:23:32.591Z"
   },
   {
    "duration": 98,
    "start_time": "2021-11-17T21:28:31.559Z"
   },
   {
    "duration": 3,
    "start_time": "2021-11-17T21:28:45.448Z"
   },
   {
    "duration": 3,
    "start_time": "2021-11-17T21:29:17.303Z"
   },
   {
    "duration": 3,
    "start_time": "2021-11-17T21:29:29.617Z"
   },
   {
    "duration": 3,
    "start_time": "2021-11-17T21:29:32.681Z"
   },
   {
    "duration": 3,
    "start_time": "2021-11-17T21:36:11.474Z"
   },
   {
    "duration": 3,
    "start_time": "2021-11-17T21:36:14.791Z"
   },
   {
    "duration": 3,
    "start_time": "2021-11-17T21:36:53.943Z"
   },
   {
    "duration": 3,
    "start_time": "2021-11-17T21:36:56.165Z"
   },
   {
    "duration": 4,
    "start_time": "2021-11-17T21:37:16.590Z"
   },
   {
    "duration": 3,
    "start_time": "2021-11-17T21:37:22.702Z"
   },
   {
    "duration": 4,
    "start_time": "2021-11-17T21:38:03.479Z"
   },
   {
    "duration": 3,
    "start_time": "2021-11-17T21:38:08.601Z"
   },
   {
    "duration": 3,
    "start_time": "2021-11-17T21:38:12.928Z"
   },
   {
    "duration": 3,
    "start_time": "2021-11-17T21:38:48.896Z"
   },
   {
    "duration": 2,
    "start_time": "2021-11-17T21:38:49.171Z"
   },
   {
    "duration": 4,
    "start_time": "2021-11-17T21:39:57.889Z"
   },
   {
    "duration": 3,
    "start_time": "2021-11-17T21:39:58.057Z"
   },
   {
    "duration": 3,
    "start_time": "2021-11-17T21:41:20.108Z"
   },
   {
    "duration": 3,
    "start_time": "2021-11-17T21:41:20.629Z"
   },
   {
    "duration": 3,
    "start_time": "2021-11-17T21:42:49.136Z"
   },
   {
    "duration": 3,
    "start_time": "2021-11-17T21:43:15.137Z"
   },
   {
    "duration": 4,
    "start_time": "2021-11-17T21:43:16.766Z"
   },
   {
    "duration": 4,
    "start_time": "2021-11-17T21:43:31.711Z"
   },
   {
    "duration": 3,
    "start_time": "2021-11-17T21:43:36.312Z"
   },
   {
    "duration": 4,
    "start_time": "2021-11-17T21:45:08.825Z"
   },
   {
    "duration": 4,
    "start_time": "2021-11-17T21:45:10.119Z"
   },
   {
    "duration": 4,
    "start_time": "2021-11-17T21:45:13.748Z"
   },
   {
    "duration": 3,
    "start_time": "2021-11-17T21:45:22.219Z"
   },
   {
    "duration": 3,
    "start_time": "2021-11-17T21:45:33.412Z"
   },
   {
    "duration": 2,
    "start_time": "2021-11-17T21:46:01.885Z"
   },
   {
    "duration": 3,
    "start_time": "2021-11-17T21:46:03.628Z"
   },
   {
    "duration": 107,
    "start_time": "2021-11-17T21:47:32.512Z"
   },
   {
    "duration": 103,
    "start_time": "2021-11-17T21:50:36.243Z"
   },
   {
    "duration": 3,
    "start_time": "2021-11-18T06:28:31.440Z"
   },
   {
    "duration": 3,
    "start_time": "2021-11-18T06:29:00.168Z"
   },
   {
    "duration": 3,
    "start_time": "2021-11-18T06:31:27.008Z"
   },
   {
    "duration": 2,
    "start_time": "2021-11-18T06:35:34.288Z"
   },
   {
    "duration": 2,
    "start_time": "2021-11-18T06:38:04.527Z"
   },
   {
    "duration": 1226,
    "start_time": "2021-11-28T19:04:53.440Z"
   },
   {
    "duration": 387,
    "start_time": "2021-11-28T19:06:47.222Z"
   },
   {
    "duration": 6274,
    "start_time": "2021-11-28T19:09:14.928Z"
   },
   {
    "duration": 5647,
    "start_time": "2021-11-28T19:10:52.099Z"
   },
   {
    "duration": 376,
    "start_time": "2021-11-28T19:13:03.302Z"
   },
   {
    "duration": 5630,
    "start_time": "2021-11-28T19:13:41.764Z"
   },
   {
    "duration": 3980,
    "start_time": "2021-11-28T19:14:56.242Z"
   },
   {
    "duration": 1067,
    "start_time": "2021-11-28T19:15:23.554Z"
   },
   {
    "duration": 5671,
    "start_time": "2021-11-28T20:06:49.446Z"
   },
   {
    "duration": 657,
    "start_time": "2021-11-28T20:07:18.474Z"
   },
   {
    "duration": 10,
    "start_time": "2021-11-28T20:07:41.643Z"
   },
   {
    "duration": 363,
    "start_time": "2021-11-28T20:08:41.955Z"
   },
   {
    "duration": 357,
    "start_time": "2021-11-28T20:08:49.730Z"
   },
   {
    "duration": 23,
    "start_time": "2021-11-28T20:09:02.544Z"
   },
   {
    "duration": 10,
    "start_time": "2021-11-28T20:18:50.130Z"
   },
   {
    "duration": 14,
    "start_time": "2021-11-28T20:19:08.007Z"
   },
   {
    "duration": 383,
    "start_time": "2021-11-28T20:25:15.242Z"
   },
   {
    "duration": 9,
    "start_time": "2021-11-28T20:25:32.048Z"
   },
   {
    "duration": 9,
    "start_time": "2021-11-28T20:26:09.678Z"
   },
   {
    "duration": 7,
    "start_time": "2021-11-28T20:27:03.278Z"
   },
   {
    "duration": 7,
    "start_time": "2021-11-28T20:27:15.767Z"
   },
   {
    "duration": 32,
    "start_time": "2021-11-28T21:02:17.768Z"
   },
   {
    "duration": 30,
    "start_time": "2021-11-28T21:16:53.524Z"
   },
   {
    "duration": 6,
    "start_time": "2021-11-28T21:17:50.512Z"
   },
   {
    "duration": 362,
    "start_time": "2021-11-28T21:17:55.890Z"
   },
   {
    "duration": 716,
    "start_time": "2021-11-28T21:18:13.994Z"
   },
   {
    "duration": 22,
    "start_time": "2021-11-28T21:18:22.976Z"
   },
   {
    "duration": 11,
    "start_time": "2021-11-28T21:18:57.369Z"
   },
   {
    "duration": 340,
    "start_time": "2021-11-28T21:24:13.684Z"
   },
   {
    "duration": 28,
    "start_time": "2021-11-28T21:24:50.351Z"
   },
   {
    "duration": 352,
    "start_time": "2021-11-28T21:55:58.948Z"
   },
   {
    "duration": 15,
    "start_time": "2021-11-28T21:56:04.373Z"
   },
   {
    "duration": 11,
    "start_time": "2021-11-28T21:57:47.684Z"
   },
   {
    "duration": 26,
    "start_time": "2021-11-28T21:59:34.803Z"
   },
   {
    "duration": 23,
    "start_time": "2021-11-28T21:59:52.400Z"
   },
   {
    "duration": 19,
    "start_time": "2021-11-28T22:00:23.395Z"
   },
   {
    "duration": 39,
    "start_time": "2021-11-28T22:01:46.788Z"
   },
   {
    "duration": 14,
    "start_time": "2021-11-28T22:21:37.231Z"
   },
   {
    "duration": 17,
    "start_time": "2021-11-28T22:22:44.000Z"
   },
   {
    "duration": 361,
    "start_time": "2021-11-28T22:28:08.883Z"
   },
   {
    "duration": 23,
    "start_time": "2021-11-28T22:28:29.927Z"
   },
   {
    "duration": 8740,
    "start_time": "2021-11-28T22:29:39.844Z"
   },
   {
    "duration": 15,
    "start_time": "2021-11-28T22:29:49.700Z"
   },
   {
    "duration": 19,
    "start_time": "2021-11-28T22:30:46.529Z"
   },
   {
    "duration": 372,
    "start_time": "2021-11-28T22:33:09.076Z"
   },
   {
    "duration": 9,
    "start_time": "2021-11-28T22:33:29.208Z"
   },
   {
    "duration": 8,
    "start_time": "2021-11-28T22:33:42.014Z"
   },
   {
    "duration": 14,
    "start_time": "2021-11-28T23:34:11.090Z"
   },
   {
    "duration": 5,
    "start_time": "2021-11-28T23:34:54.359Z"
   },
   {
    "duration": 35,
    "start_time": "2021-11-28T23:35:10.440Z"
   },
   {
    "duration": 201,
    "start_time": "2021-11-28T23:37:47.126Z"
   },
   {
    "duration": 10,
    "start_time": "2021-11-28T23:37:50.849Z"
   },
   {
    "duration": 376,
    "start_time": "2021-11-28T23:38:58.663Z"
   },
   {
    "duration": 15,
    "start_time": "2021-11-28T23:39:12.483Z"
   },
   {
    "duration": 9,
    "start_time": "2021-11-28T23:39:19.432Z"
   },
   {
    "duration": 375,
    "start_time": "2021-11-28T23:40:31.241Z"
   },
   {
    "duration": 15,
    "start_time": "2021-11-28T23:44:11.180Z"
   },
   {
    "duration": 9,
    "start_time": "2021-11-28T23:44:18.064Z"
   },
   {
    "duration": 9,
    "start_time": "2021-11-28T23:44:32.708Z"
   },
   {
    "duration": 367,
    "start_time": "2021-11-28T23:45:53.415Z"
   },
   {
    "duration": 168,
    "start_time": "2021-11-28T23:47:37.496Z"
   },
   {
    "duration": 6,
    "start_time": "2021-11-28T23:47:43.932Z"
   },
   {
    "duration": 346,
    "start_time": "2021-11-28T23:48:05.020Z"
   },
   {
    "duration": 4,
    "start_time": "2021-11-28T23:48:10.670Z"
   },
   {
    "duration": 6,
    "start_time": "2021-11-28T23:48:13.714Z"
   },
   {
    "duration": 15,
    "start_time": "2021-11-28T23:48:22.826Z"
   },
   {
    "duration": 4,
    "start_time": "2021-11-28T23:49:00.274Z"
   },
   {
    "duration": 20,
    "start_time": "2021-11-28T23:49:03.394Z"
   },
   {
    "duration": 377,
    "start_time": "2021-11-28T23:49:30.549Z"
   },
   {
    "duration": 41,
    "start_time": "2021-11-28T23:51:59.602Z"
   },
   {
    "duration": 19,
    "start_time": "2021-11-28T23:52:14.546Z"
   },
   {
    "duration": 10,
    "start_time": "2021-11-28T23:52:47.269Z"
   },
   {
    "duration": 40,
    "start_time": "2021-11-28T23:53:10.629Z"
   },
   {
    "duration": 11,
    "start_time": "2021-11-28T23:53:16.672Z"
   },
   {
    "duration": 42,
    "start_time": "2021-11-28T23:56:24.373Z"
   },
   {
    "duration": 396,
    "start_time": "2021-11-28T23:56:26.659Z"
   },
   {
    "duration": 11,
    "start_time": "2021-11-28T23:56:35.094Z"
   },
   {
    "duration": 5,
    "start_time": "2021-11-28T23:57:58.742Z"
   },
   {
    "duration": 43,
    "start_time": "2021-11-28T23:59:35.981Z"
   },
   {
    "duration": 28,
    "start_time": "2021-11-29T00:25:02.483Z"
   },
   {
    "duration": 39,
    "start_time": "2021-11-29T00:25:16.679Z"
   },
   {
    "duration": 13,
    "start_time": "2021-11-29T00:29:02.847Z"
   },
   {
    "duration": 31,
    "start_time": "2021-11-29T00:30:58.342Z"
   },
   {
    "duration": 40,
    "start_time": "2021-11-29T00:46:58.170Z"
   },
   {
    "duration": 33,
    "start_time": "2021-11-29T00:47:07.942Z"
   },
   {
    "duration": 8,
    "start_time": "2021-11-29T01:17:20.911Z"
   },
   {
    "duration": 24,
    "start_time": "2021-11-29T01:17:33.566Z"
   },
   {
    "duration": 18,
    "start_time": "2021-11-29T01:17:48.257Z"
   },
   {
    "duration": 19,
    "start_time": "2021-11-29T01:18:01.558Z"
   },
   {
    "duration": 3,
    "start_time": "2021-11-29T01:18:45.220Z"
   },
   {
    "duration": 656,
    "start_time": "2021-11-29T01:18:45.226Z"
   },
   {
    "duration": 9,
    "start_time": "2021-11-29T01:18:45.885Z"
   },
   {
    "duration": 24,
    "start_time": "2021-11-29T01:18:45.897Z"
   },
   {
    "duration": 19,
    "start_time": "2021-11-29T01:18:45.924Z"
   },
   {
    "duration": 46,
    "start_time": "2021-11-29T01:18:45.946Z"
   },
   {
    "duration": 16,
    "start_time": "2021-11-29T01:18:45.996Z"
   },
   {
    "duration": 12,
    "start_time": "2021-11-29T01:18:46.016Z"
   },
   {
    "duration": 9,
    "start_time": "2021-11-29T01:18:46.030Z"
   },
   {
    "duration": 350,
    "start_time": "2021-11-29T01:18:46.041Z"
   },
   {
    "duration": -298,
    "start_time": "2021-11-29T01:18:46.692Z"
   },
   {
    "duration": -301,
    "start_time": "2021-11-29T01:18:46.697Z"
   },
   {
    "duration": -304,
    "start_time": "2021-11-29T01:18:46.702Z"
   },
   {
    "duration": -495,
    "start_time": "2021-11-29T01:18:46.894Z"
   },
   {
    "duration": -505,
    "start_time": "2021-11-29T01:18:46.906Z"
   },
   {
    "duration": -509,
    "start_time": "2021-11-29T01:18:46.913Z"
   },
   {
    "duration": -511,
    "start_time": "2021-11-29T01:18:46.918Z"
   },
   {
    "duration": -515,
    "start_time": "2021-11-29T01:18:46.924Z"
   },
   {
    "duration": -519,
    "start_time": "2021-11-29T01:18:46.929Z"
   },
   {
    "duration": -523,
    "start_time": "2021-11-29T01:18:46.935Z"
   },
   {
    "duration": -528,
    "start_time": "2021-11-29T01:18:46.941Z"
   },
   {
    "duration": -533,
    "start_time": "2021-11-29T01:18:46.947Z"
   },
   {
    "duration": -536,
    "start_time": "2021-11-29T01:18:46.952Z"
   },
   {
    "duration": -534,
    "start_time": "2021-11-29T01:18:46.958Z"
   },
   {
    "duration": -537,
    "start_time": "2021-11-29T01:18:46.963Z"
   },
   {
    "duration": -542,
    "start_time": "2021-11-29T01:18:46.969Z"
   },
   {
    "duration": -546,
    "start_time": "2021-11-29T01:18:46.974Z"
   },
   {
    "duration": -549,
    "start_time": "2021-11-29T01:18:46.979Z"
   },
   {
    "duration": -554,
    "start_time": "2021-11-29T01:18:46.985Z"
   },
   {
    "duration": 5,
    "start_time": "2021-11-29T01:19:47.541Z"
   },
   {
    "duration": 463,
    "start_time": "2021-11-29T01:20:04.200Z"
   },
   {
    "duration": 10,
    "start_time": "2021-11-29T01:22:22.638Z"
   },
   {
    "duration": 7057,
    "start_time": "2021-11-29T01:22:54.098Z"
   },
   {
    "duration": 613,
    "start_time": "2021-11-29T01:23:27.329Z"
   },
   {
    "duration": 6,
    "start_time": "2021-11-29T01:23:43.375Z"
   },
   {
    "duration": 6,
    "start_time": "2021-11-29T01:23:46.220Z"
   },
   {
    "duration": 8,
    "start_time": "2021-11-29T01:23:49.475Z"
   },
   {
    "duration": 11,
    "start_time": "2021-11-29T01:23:53.365Z"
   },
   {
    "duration": 8,
    "start_time": "2021-11-29T01:23:59.982Z"
   },
   {
    "duration": 4,
    "start_time": "2021-11-29T01:24:19.978Z"
   },
   {
    "duration": 631,
    "start_time": "2021-11-29T01:24:19.984Z"
   },
   {
    "duration": 8,
    "start_time": "2021-11-29T01:24:20.618Z"
   },
   {
    "duration": 21,
    "start_time": "2021-11-29T01:24:20.629Z"
   },
   {
    "duration": 15,
    "start_time": "2021-11-29T01:24:20.652Z"
   },
   {
    "duration": 28,
    "start_time": "2021-11-29T01:24:20.670Z"
   },
   {
    "duration": 13,
    "start_time": "2021-11-29T01:24:20.701Z"
   },
   {
    "duration": 33,
    "start_time": "2021-11-29T01:24:20.717Z"
   },
   {
    "duration": 12,
    "start_time": "2021-11-29T01:24:20.753Z"
   },
   {
    "duration": 9,
    "start_time": "2021-11-29T01:24:20.767Z"
   },
   {
    "duration": 8,
    "start_time": "2021-11-29T01:24:20.779Z"
   },
   {
    "duration": 25,
    "start_time": "2021-11-29T01:24:20.790Z"
   },
   {
    "duration": 11,
    "start_time": "2021-11-29T01:24:20.817Z"
   },
   {
    "duration": 28,
    "start_time": "2021-11-29T01:24:20.830Z"
   },
   {
    "duration": 53,
    "start_time": "2021-11-29T01:24:20.860Z"
   },
   {
    "duration": 18,
    "start_time": "2021-11-29T01:24:20.915Z"
   },
   {
    "duration": 13,
    "start_time": "2021-11-29T01:24:20.936Z"
   },
   {
    "duration": 57,
    "start_time": "2021-11-29T01:24:20.951Z"
   },
   {
    "duration": 15,
    "start_time": "2021-11-29T01:24:21.015Z"
   },
   {
    "duration": 21,
    "start_time": "2021-11-29T01:24:21.033Z"
   },
   {
    "duration": 46,
    "start_time": "2021-11-29T01:24:21.057Z"
   },
   {
    "duration": 30,
    "start_time": "2021-11-29T01:24:21.107Z"
   },
   {
    "duration": 18,
    "start_time": "2021-11-29T01:24:21.140Z"
   },
   {
    "duration": 13,
    "start_time": "2021-11-29T01:24:21.160Z"
   },
   {
    "duration": 47,
    "start_time": "2021-11-29T01:24:21.200Z"
   },
   {
    "duration": 11,
    "start_time": "2021-11-29T01:24:21.250Z"
   },
   {
    "duration": 8,
    "start_time": "2021-11-29T01:24:21.263Z"
   },
   {
    "duration": 46,
    "start_time": "2021-11-29T01:24:21.300Z"
   },
   {
    "duration": 64,
    "start_time": "2021-11-29T01:24:21.349Z"
   },
   {
    "duration": 14,
    "start_time": "2021-11-29T01:24:21.416Z"
   },
   {
    "duration": 37,
    "start_time": "2021-11-29T01:24:21.433Z"
   },
   {
    "duration": 363,
    "start_time": "2021-11-29T01:28:30.964Z"
   },
   {
    "duration": 408,
    "start_time": "2021-11-29T01:45:21.219Z"
   },
   {
    "duration": 410,
    "start_time": "2021-11-29T01:47:19.556Z"
   },
   {
    "duration": 1274,
    "start_time": "2021-11-29T01:47:43.905Z"
   },
   {
    "duration": 1242,
    "start_time": "2021-11-29T01:47:45.182Z"
   },
   {
    "duration": 10,
    "start_time": "2021-11-29T01:47:46.427Z"
   },
   {
    "duration": 29,
    "start_time": "2021-11-29T01:47:46.440Z"
   },
   {
    "duration": 10,
    "start_time": "2021-11-29T01:47:46.472Z"
   },
   {
    "duration": 21,
    "start_time": "2021-11-29T01:47:46.485Z"
   },
   {
    "duration": 7,
    "start_time": "2021-11-29T01:47:46.509Z"
   },
   {
    "duration": 9,
    "start_time": "2021-11-29T01:47:46.520Z"
   },
   {
    "duration": 13,
    "start_time": "2021-11-29T01:47:46.532Z"
   },
   {
    "duration": 16,
    "start_time": "2021-11-29T01:47:46.548Z"
   },
   {
    "duration": 34,
    "start_time": "2021-11-29T01:47:46.566Z"
   },
   {
    "duration": 21,
    "start_time": "2021-11-29T01:47:46.603Z"
   },
   {
    "duration": 12,
    "start_time": "2021-11-29T01:47:46.626Z"
   },
   {
    "duration": 62,
    "start_time": "2021-11-29T01:47:46.640Z"
   },
   {
    "duration": 24,
    "start_time": "2021-11-29T01:47:46.704Z"
   },
   {
    "duration": 15,
    "start_time": "2021-11-29T01:47:46.730Z"
   },
   {
    "duration": 9,
    "start_time": "2021-11-29T01:47:46.748Z"
   },
   {
    "duration": 51,
    "start_time": "2021-11-29T01:47:46.760Z"
   },
   {
    "duration": 15,
    "start_time": "2021-11-29T01:47:46.813Z"
   },
   {
    "duration": 19,
    "start_time": "2021-11-29T01:47:46.830Z"
   },
   {
    "duration": 15,
    "start_time": "2021-11-29T01:47:46.852Z"
   },
   {
    "duration": 54,
    "start_time": "2021-11-29T01:47:46.869Z"
   },
   {
    "duration": 19,
    "start_time": "2021-11-29T01:47:46.928Z"
   },
   {
    "duration": 12,
    "start_time": "2021-11-29T01:47:46.949Z"
   },
   {
    "duration": 79,
    "start_time": "2021-11-29T01:47:46.964Z"
   },
   {
    "duration": 11,
    "start_time": "2021-11-29T01:47:47.045Z"
   },
   {
    "duration": 25,
    "start_time": "2021-11-29T01:47:47.058Z"
   },
   {
    "duration": 57,
    "start_time": "2021-11-29T01:47:47.086Z"
   },
   {
    "duration": 36,
    "start_time": "2021-11-29T01:47:47.145Z"
   },
   {
    "duration": 30,
    "start_time": "2021-11-29T01:47:47.183Z"
   },
   {
    "duration": 50,
    "start_time": "2021-11-29T01:47:47.215Z"
   },
   {
    "duration": 416,
    "start_time": "2021-11-29T01:48:03.561Z"
   },
   {
    "duration": 47,
    "start_time": "2021-11-29T01:48:29.752Z"
   },
   {
    "duration": 24,
    "start_time": "2021-11-29T01:48:39.270Z"
   },
   {
    "duration": 33,
    "start_time": "2021-11-29T01:48:53.450Z"
   },
   {
    "duration": 43,
    "start_time": "2021-11-29T01:50:23.509Z"
   },
   {
    "duration": 15,
    "start_time": "2021-11-29T01:57:31.021Z"
   },
   {
    "duration": 32,
    "start_time": "2021-11-29T01:57:47.688Z"
   },
   {
    "duration": 6,
    "start_time": "2021-11-29T02:02:11.271Z"
   },
   {
    "duration": 31,
    "start_time": "2021-11-29T02:02:16.553Z"
   },
   {
    "duration": 1236,
    "start_time": "2021-11-29T04:53:37.346Z"
   },
   {
    "duration": 606,
    "start_time": "2021-11-29T04:53:38.585Z"
   },
   {
    "duration": 11,
    "start_time": "2021-11-29T04:53:39.195Z"
   },
   {
    "duration": 24,
    "start_time": "2021-11-29T04:53:39.210Z"
   },
   {
    "duration": 9,
    "start_time": "2021-11-29T04:53:39.237Z"
   },
   {
    "duration": 60,
    "start_time": "2021-11-29T04:53:39.249Z"
   },
   {
    "duration": 9,
    "start_time": "2021-11-29T04:53:39.312Z"
   },
   {
    "duration": 9,
    "start_time": "2021-11-29T04:53:39.325Z"
   },
   {
    "duration": 11,
    "start_time": "2021-11-29T04:53:39.336Z"
   },
   {
    "duration": 9,
    "start_time": "2021-11-29T04:53:39.350Z"
   },
   {
    "duration": 39,
    "start_time": "2021-11-29T04:53:39.361Z"
   },
   {
    "duration": 24,
    "start_time": "2021-11-29T04:53:39.403Z"
   },
   {
    "duration": 11,
    "start_time": "2021-11-29T04:53:39.430Z"
   },
   {
    "duration": 57,
    "start_time": "2021-11-29T04:53:39.443Z"
   },
   {
    "duration": 24,
    "start_time": "2021-11-29T04:53:39.503Z"
   },
   {
    "duration": 15,
    "start_time": "2021-11-29T04:53:39.529Z"
   },
   {
    "duration": 10,
    "start_time": "2021-11-29T04:53:39.547Z"
   },
   {
    "duration": 51,
    "start_time": "2021-11-29T04:53:39.559Z"
   },
   {
    "duration": 15,
    "start_time": "2021-11-29T04:53:39.613Z"
   },
   {
    "duration": 21,
    "start_time": "2021-11-29T04:53:39.630Z"
   },
   {
    "duration": 11,
    "start_time": "2021-11-29T04:53:39.654Z"
   },
   {
    "duration": 54,
    "start_time": "2021-11-29T04:53:39.667Z"
   },
   {
    "duration": 21,
    "start_time": "2021-11-29T04:53:39.725Z"
   },
   {
    "duration": 17,
    "start_time": "2021-11-29T04:53:39.749Z"
   },
   {
    "duration": 76,
    "start_time": "2021-11-29T04:53:39.769Z"
   },
   {
    "duration": 11,
    "start_time": "2021-11-29T04:53:39.847Z"
   },
   {
    "duration": 10,
    "start_time": "2021-11-29T04:53:39.860Z"
   },
   {
    "duration": 69,
    "start_time": "2021-11-29T04:53:39.872Z"
   },
   {
    "duration": 34,
    "start_time": "2021-11-29T04:53:39.943Z"
   },
   {
    "duration": 30,
    "start_time": "2021-11-29T04:53:39.980Z"
   },
   {
    "duration": 44,
    "start_time": "2021-11-29T04:53:40.013Z"
   },
   {
    "duration": 70,
    "start_time": "2021-11-29T04:53:40.061Z"
   },
   {
    "duration": 7,
    "start_time": "2021-11-29T04:53:40.134Z"
   },
   {
    "duration": 1071,
    "start_time": "2021-12-06T13:56:38.037Z"
   },
   {
    "duration": 405,
    "start_time": "2021-12-06T13:56:39.110Z"
   },
   {
    "duration": 8,
    "start_time": "2021-12-06T13:56:39.517Z"
   },
   {
    "duration": 17,
    "start_time": "2021-12-06T13:56:39.526Z"
   },
   {
    "duration": 6,
    "start_time": "2021-12-06T13:56:39.544Z"
   },
   {
    "duration": 11,
    "start_time": "2021-12-06T13:56:39.552Z"
   },
   {
    "duration": 6,
    "start_time": "2021-12-06T13:56:39.564Z"
   },
   {
    "duration": 7,
    "start_time": "2021-12-06T13:56:39.572Z"
   },
   {
    "duration": 9,
    "start_time": "2021-12-06T13:56:39.580Z"
   },
   {
    "duration": 8,
    "start_time": "2021-12-06T13:56:39.591Z"
   },
   {
    "duration": 7,
    "start_time": "2021-12-06T13:56:39.600Z"
   },
   {
    "duration": 20,
    "start_time": "2021-12-06T13:56:39.608Z"
   },
   {
    "duration": 7,
    "start_time": "2021-12-06T13:56:39.629Z"
   },
   {
    "duration": 21,
    "start_time": "2021-12-06T13:56:39.638Z"
   },
   {
    "duration": 32,
    "start_time": "2021-12-06T13:56:39.660Z"
   },
   {
    "duration": 11,
    "start_time": "2021-12-06T13:56:39.693Z"
   },
   {
    "duration": 9,
    "start_time": "2021-12-06T13:56:39.705Z"
   },
   {
    "duration": 15,
    "start_time": "2021-12-06T13:56:39.716Z"
   },
   {
    "duration": 11,
    "start_time": "2021-12-06T13:56:39.732Z"
   },
   {
    "duration": 13,
    "start_time": "2021-12-06T13:56:39.744Z"
   },
   {
    "duration": 37,
    "start_time": "2021-12-06T13:56:39.759Z"
   },
   {
    "duration": 18,
    "start_time": "2021-12-06T13:56:39.798Z"
   },
   {
    "duration": 13,
    "start_time": "2021-12-06T13:56:39.820Z"
   },
   {
    "duration": 11,
    "start_time": "2021-12-06T13:56:39.836Z"
   },
   {
    "duration": 61,
    "start_time": "2021-12-06T13:56:39.849Z"
   },
   {
    "duration": 6,
    "start_time": "2021-12-06T13:56:39.912Z"
   },
   {
    "duration": 5,
    "start_time": "2021-12-06T13:56:39.920Z"
   },
   {
    "duration": 31,
    "start_time": "2021-12-06T13:56:39.927Z"
   },
   {
    "duration": 45,
    "start_time": "2021-12-06T13:56:39.959Z"
   },
   {
    "duration": 8,
    "start_time": "2021-12-06T13:56:40.006Z"
   },
   {
    "duration": 28,
    "start_time": "2021-12-06T13:56:40.016Z"
   },
   {
    "duration": 49,
    "start_time": "2021-12-06T13:56:40.045Z"
   },
   {
    "duration": 5,
    "start_time": "2021-12-06T13:56:40.095Z"
   },
   {
    "duration": 24,
    "start_time": "2021-12-06T13:56:40.101Z"
   },
   {
    "duration": 4,
    "start_time": "2021-12-06T13:56:40.127Z"
   },
   {
    "duration": 8,
    "start_time": "2021-12-06T13:56:40.133Z"
   },
   {
    "duration": 4,
    "start_time": "2021-12-06T13:56:40.142Z"
   },
   {
    "duration": 6,
    "start_time": "2021-12-06T13:56:40.147Z"
   },
   {
    "duration": 62,
    "start_time": "2021-12-06T13:56:40.155Z"
   },
   {
    "duration": 27,
    "start_time": "2021-12-06T13:56:40.218Z"
   },
   {
    "duration": 3,
    "start_time": "2021-12-06T13:56:40.247Z"
   },
   {
    "duration": 7,
    "start_time": "2021-12-06T13:56:40.251Z"
   },
   {
    "duration": 10,
    "start_time": "2021-12-06T13:56:40.260Z"
   },
   {
    "duration": 25,
    "start_time": "2021-12-06T13:56:40.272Z"
   },
   {
    "duration": 6,
    "start_time": "2021-12-06T13:56:40.299Z"
   },
   {
    "duration": 8,
    "start_time": "2021-12-06T13:56:40.306Z"
   },
   {
    "duration": 5,
    "start_time": "2021-12-06T13:56:40.316Z"
   },
   {
    "duration": 6,
    "start_time": "2021-12-06T13:56:40.322Z"
   },
   {
    "duration": 5,
    "start_time": "2021-12-06T13:56:40.329Z"
   },
   {
    "duration": 5,
    "start_time": "2021-12-06T13:56:40.336Z"
   },
   {
    "duration": 11,
    "start_time": "2021-12-06T13:56:40.342Z"
   },
   {
    "duration": 39,
    "start_time": "2021-12-06T13:56:40.354Z"
   },
   {
    "duration": 10,
    "start_time": "2021-12-06T13:56:40.394Z"
   },
   {
    "duration": 10,
    "start_time": "2021-12-06T13:56:40.406Z"
   },
   {
    "duration": 21,
    "start_time": "2021-12-06T13:56:40.418Z"
   },
   {
    "duration": 12,
    "start_time": "2021-12-06T13:56:40.440Z"
   },
   {
    "duration": 5,
    "start_time": "2021-12-06T13:56:40.453Z"
   },
   {
    "duration": 12,
    "start_time": "2021-12-06T13:56:40.460Z"
   },
   {
    "duration": 3,
    "start_time": "2021-12-06T13:56:40.474Z"
   },
   {
    "duration": 5,
    "start_time": "2021-12-06T13:56:40.478Z"
   },
   {
    "duration": 9,
    "start_time": "2021-12-06T13:56:40.484Z"
   },
   {
    "duration": 366,
    "start_time": "2021-12-06T13:56:40.494Z"
   },
   {
    "duration": 6,
    "start_time": "2021-12-06T13:56:40.861Z"
   },
   {
    "duration": 445,
    "start_time": "2021-12-06T13:56:40.869Z"
   },
   {
    "duration": 5,
    "start_time": "2021-12-06T13:56:41.317Z"
   },
   {
    "duration": 7,
    "start_time": "2021-12-06T13:56:41.324Z"
   },
   {
    "duration": 351,
    "start_time": "2021-12-06T13:56:41.332Z"
   },
   {
    "duration": 274,
    "start_time": "2021-12-06T13:56:41.692Z"
   },
   {
    "duration": 6,
    "start_time": "2021-12-06T13:56:41.968Z"
   },
   {
    "duration": 380,
    "start_time": "2021-12-06T13:56:41.976Z"
   },
   {
    "duration": 269,
    "start_time": "2021-12-06T13:56:42.358Z"
   },
   {
    "duration": 2,
    "start_time": "2021-12-06T13:56:42.630Z"
   },
   {
    "duration": 11,
    "start_time": "2021-12-06T13:56:42.634Z"
   },
   {
    "duration": 384,
    "start_time": "2021-12-06T13:56:42.646Z"
   },
   {
    "duration": 282,
    "start_time": "2021-12-06T13:56:43.032Z"
   },
   {
    "duration": 5,
    "start_time": "2021-12-06T13:56:43.316Z"
   },
   {
    "duration": 444,
    "start_time": "2021-12-06T13:56:43.323Z"
   },
   {
    "duration": 269,
    "start_time": "2021-12-06T13:56:43.768Z"
   },
   {
    "duration": 4,
    "start_time": "2021-12-06T13:56:44.039Z"
   },
   {
    "duration": 9,
    "start_time": "2021-12-06T13:56:44.045Z"
   },
   {
    "duration": 13,
    "start_time": "2021-12-06T14:03:35.247Z"
   },
   {
    "duration": 20,
    "start_time": "2021-12-06T14:05:12.047Z"
   },
   {
    "duration": 12,
    "start_time": "2021-12-06T14:05:21.315Z"
   },
   {
    "duration": 13,
    "start_time": "2021-12-06T14:05:28.291Z"
   },
   {
    "duration": 25,
    "start_time": "2021-12-06T14:10:16.168Z"
   },
   {
    "duration": 568,
    "start_time": "2021-12-07T04:12:58.643Z"
   },
   {
    "duration": 1137,
    "start_time": "2021-12-07T04:13:06.752Z"
   },
   {
    "duration": 1109,
    "start_time": "2021-12-07T04:13:07.891Z"
   },
   {
    "duration": 7,
    "start_time": "2021-12-07T04:13:09.002Z"
   },
   {
    "duration": 12,
    "start_time": "2021-12-07T04:13:09.011Z"
   },
   {
    "duration": 5,
    "start_time": "2021-12-07T04:13:09.025Z"
   },
   {
    "duration": 11,
    "start_time": "2021-12-07T04:13:09.032Z"
   },
   {
    "duration": 6,
    "start_time": "2021-12-07T04:13:09.044Z"
   },
   {
    "duration": 5,
    "start_time": "2021-12-07T04:13:09.052Z"
   },
   {
    "duration": 8,
    "start_time": "2021-12-07T04:13:09.059Z"
   },
   {
    "duration": 5,
    "start_time": "2021-12-07T04:13:09.069Z"
   },
   {
    "duration": 321,
    "start_time": "2021-12-07T04:13:16.432Z"
   },
   {
    "duration": 4,
    "start_time": "2021-12-07T04:13:41.040Z"
   },
   {
    "duration": 540,
    "start_time": "2021-12-07T17:25:11.995Z"
   },
   {
    "duration": 1544,
    "start_time": "2021-12-07T17:25:30.594Z"
   },
   {
    "duration": 664,
    "start_time": "2021-12-07T17:25:32.141Z"
   },
   {
    "duration": 9,
    "start_time": "2021-12-07T17:25:32.808Z"
   },
   {
    "duration": 20,
    "start_time": "2021-12-07T17:25:32.820Z"
   },
   {
    "duration": 9,
    "start_time": "2021-12-07T17:25:32.843Z"
   },
   {
    "duration": 16,
    "start_time": "2021-12-07T17:25:32.854Z"
   },
   {
    "duration": 6,
    "start_time": "2021-12-07T17:25:32.872Z"
   },
   {
    "duration": 7,
    "start_time": "2021-12-07T17:25:32.882Z"
   },
   {
    "duration": 12,
    "start_time": "2021-12-07T17:25:32.892Z"
   },
   {
    "duration": 10,
    "start_time": "2021-12-07T17:25:32.907Z"
   },
   {
    "duration": 46,
    "start_time": "2021-12-07T17:25:32.920Z"
   },
   {
    "duration": 31,
    "start_time": "2021-12-07T17:25:32.969Z"
   },
   {
    "duration": 11,
    "start_time": "2021-12-07T17:25:33.002Z"
   },
   {
    "duration": 64,
    "start_time": "2021-12-07T17:25:33.015Z"
   },
   {
    "duration": 24,
    "start_time": "2021-12-07T17:25:37.072Z"
   },
   {
    "duration": 444,
    "start_time": "2021-12-07T17:33:12.813Z"
   },
   {
    "duration": 138,
    "start_time": "2021-12-07T17:33:19.919Z"
   },
   {
    "duration": 5,
    "start_time": "2021-12-07T17:33:53.136Z"
   },
   {
    "duration": 418,
    "start_time": "2021-12-07T17:34:06.074Z"
   },
   {
    "duration": 208,
    "start_time": "2021-12-07T17:34:44.484Z"
   },
   {
    "duration": 12,
    "start_time": "2021-12-07T17:35:18.199Z"
   },
   {
    "duration": 459,
    "start_time": "2021-12-07T18:09:17.803Z"
   },
   {
    "duration": 647,
    "start_time": "2021-12-07T18:09:28.832Z"
   },
   {
    "duration": 727,
    "start_time": "2021-12-07T18:09:46.649Z"
   },
   {
    "duration": 543,
    "start_time": "2021-12-07T18:10:18.284Z"
   },
   {
    "duration": 556,
    "start_time": "2021-12-07T18:10:32.646Z"
   },
   {
    "duration": 4,
    "start_time": "2021-12-07T18:14:12.275Z"
   },
   {
    "duration": 627,
    "start_time": "2021-12-07T18:14:12.282Z"
   },
   {
    "duration": 9,
    "start_time": "2021-12-07T18:14:12.912Z"
   },
   {
    "duration": 14,
    "start_time": "2021-12-07T18:14:12.924Z"
   },
   {
    "duration": 8,
    "start_time": "2021-12-07T18:14:12.940Z"
   },
   {
    "duration": 16,
    "start_time": "2021-12-07T18:14:12.951Z"
   },
   {
    "duration": 5,
    "start_time": "2021-12-07T18:14:12.971Z"
   },
   {
    "duration": 7,
    "start_time": "2021-12-07T18:14:12.979Z"
   },
   {
    "duration": 8,
    "start_time": "2021-12-07T18:14:12.988Z"
   },
   {
    "duration": 9,
    "start_time": "2021-12-07T18:14:12.999Z"
   },
   {
    "duration": 10,
    "start_time": "2021-12-07T18:14:13.010Z"
   },
   {
    "duration": 51,
    "start_time": "2021-12-07T18:14:13.022Z"
   },
   {
    "duration": 11,
    "start_time": "2021-12-07T18:14:13.075Z"
   },
   {
    "duration": 27,
    "start_time": "2021-12-07T18:14:13.089Z"
   },
   {
    "duration": 55,
    "start_time": "2021-12-07T18:14:13.118Z"
   },
   {
    "duration": 4,
    "start_time": "2021-12-07T18:14:13.176Z"
   },
   {
    "duration": 215,
    "start_time": "2021-12-07T18:14:13.183Z"
   },
   {
    "duration": 14,
    "start_time": "2021-12-07T18:14:13.401Z"
   },
   {
    "duration": 15,
    "start_time": "2021-12-07T18:14:13.419Z"
   },
   {
    "duration": 31,
    "start_time": "2021-12-07T18:14:13.437Z"
   },
   {
    "duration": 19,
    "start_time": "2021-12-07T18:14:13.470Z"
   },
   {
    "duration": 14,
    "start_time": "2021-12-07T18:14:13.492Z"
   },
   {
    "duration": 55,
    "start_time": "2021-12-07T18:14:13.508Z"
   },
   {
    "duration": 11,
    "start_time": "2021-12-07T18:14:13.565Z"
   },
   {
    "duration": 22,
    "start_time": "2021-12-07T18:14:13.579Z"
   },
   {
    "duration": 18,
    "start_time": "2021-12-07T18:14:13.603Z"
   },
   {
    "duration": 41,
    "start_time": "2021-12-07T18:14:13.624Z"
   },
   {
    "duration": 655,
    "start_time": "2021-12-07T18:14:13.668Z"
   },
   {
    "duration": 639,
    "start_time": "2021-12-07T18:14:14.325Z"
   },
   {
    "duration": 42,
    "start_time": "2021-12-07T18:14:14.966Z"
   },
   {
    "duration": 11,
    "start_time": "2021-12-07T18:14:15.011Z"
   },
   {
    "duration": 46,
    "start_time": "2021-12-07T18:14:29.212Z"
   },
   {
    "duration": 376,
    "start_time": "2021-12-07T18:16:57.050Z"
   },
   {
    "duration": 50,
    "start_time": "2021-12-07T18:17:05.546Z"
   },
   {
    "duration": 158,
    "start_time": "2021-12-07T18:21:58.068Z"
   },
   {
    "duration": 133,
    "start_time": "2021-12-07T18:22:14.131Z"
   },
   {
    "duration": 22,
    "start_time": "2021-12-07T18:22:38.474Z"
   },
   {
    "duration": 19,
    "start_time": "2021-12-07T18:23:02.219Z"
   },
   {
    "duration": 377,
    "start_time": "2021-12-07T18:23:49.060Z"
   },
   {
    "duration": 6,
    "start_time": "2021-12-07T18:23:57.682Z"
   },
   {
    "duration": 402,
    "start_time": "2021-12-07T18:24:09.995Z"
   },
   {
    "duration": 519,
    "start_time": "2021-12-07T18:24:44.940Z"
   },
   {
    "duration": 7,
    "start_time": "2021-12-07T18:24:50.858Z"
   },
   {
    "duration": 5,
    "start_time": "2021-12-07T18:25:00.412Z"
   },
   {
    "duration": 18,
    "start_time": "2021-12-07T18:25:23.123Z"
   },
   {
    "duration": 4,
    "start_time": "2021-12-07T18:32:48.906Z"
   },
   {
    "duration": 646,
    "start_time": "2021-12-07T18:32:48.913Z"
   },
   {
    "duration": 8,
    "start_time": "2021-12-07T18:32:49.562Z"
   },
   {
    "duration": 13,
    "start_time": "2021-12-07T18:32:49.573Z"
   },
   {
    "duration": 10,
    "start_time": "2021-12-07T18:32:49.588Z"
   },
   {
    "duration": 17,
    "start_time": "2021-12-07T18:32:49.601Z"
   },
   {
    "duration": 7,
    "start_time": "2021-12-07T18:32:49.660Z"
   },
   {
    "duration": 8,
    "start_time": "2021-12-07T18:32:49.670Z"
   },
   {
    "duration": 14,
    "start_time": "2021-12-07T18:32:49.681Z"
   },
   {
    "duration": 10,
    "start_time": "2021-12-07T18:32:49.698Z"
   },
   {
    "duration": 49,
    "start_time": "2021-12-07T18:32:49.711Z"
   },
   {
    "duration": 25,
    "start_time": "2021-12-07T18:32:49.763Z"
   },
   {
    "duration": 11,
    "start_time": "2021-12-07T18:32:49.791Z"
   },
   {
    "duration": 58,
    "start_time": "2021-12-07T18:32:49.805Z"
   },
   {
    "duration": 22,
    "start_time": "2021-12-07T18:32:49.866Z"
   },
   {
    "duration": 4,
    "start_time": "2021-12-07T18:32:49.891Z"
   },
   {
    "duration": 227,
    "start_time": "2021-12-07T18:32:49.897Z"
   },
   {
    "duration": 12,
    "start_time": "2021-12-07T18:32:50.127Z"
   },
   {
    "duration": 27,
    "start_time": "2021-12-07T18:32:50.143Z"
   },
   {
    "duration": 10,
    "start_time": "2021-12-07T18:32:50.172Z"
   },
   {
    "duration": 17,
    "start_time": "2021-12-07T18:32:50.184Z"
   },
   {
    "duration": 14,
    "start_time": "2021-12-07T18:32:50.203Z"
   },
   {
    "duration": 52,
    "start_time": "2021-12-07T18:32:50.219Z"
   },
   {
    "duration": 10,
    "start_time": "2021-12-07T18:32:50.274Z"
   },
   {
    "duration": 21,
    "start_time": "2021-12-07T18:32:50.287Z"
   },
   {
    "duration": 54,
    "start_time": "2021-12-07T18:32:50.310Z"
   },
   {
    "duration": 12,
    "start_time": "2021-12-07T18:32:50.368Z"
   },
   {
    "duration": 661,
    "start_time": "2021-12-07T18:32:50.382Z"
   },
   {
    "duration": 664,
    "start_time": "2021-12-07T18:32:51.045Z"
   },
   {
    "duration": 41,
    "start_time": "2021-12-07T18:32:58.874Z"
   },
   {
    "duration": 5,
    "start_time": "2021-12-07T18:33:03.176Z"
   },
   {
    "duration": 14,
    "start_time": "2021-12-07T18:33:06.486Z"
   },
   {
    "duration": 32,
    "start_time": "2021-12-07T18:38:08.274Z"
   },
   {
    "duration": 32,
    "start_time": "2021-12-07T18:40:27.788Z"
   },
   {
    "duration": 404,
    "start_time": "2021-12-07T18:41:45.884Z"
   },
   {
    "duration": 5,
    "start_time": "2021-12-07T18:42:08.313Z"
   },
   {
    "duration": 18,
    "start_time": "2021-12-07T18:42:29.602Z"
   },
   {
    "duration": 34,
    "start_time": "2021-12-07T18:43:47.071Z"
   },
   {
    "duration": 6,
    "start_time": "2021-12-07T18:43:55.484Z"
   },
   {
    "duration": 13,
    "start_time": "2021-12-07T18:43:58.603Z"
   },
   {
    "duration": 239,
    "start_time": "2021-12-07T18:49:10.525Z"
   },
   {
    "duration": 36,
    "start_time": "2021-12-07T18:49:32.385Z"
   },
   {
    "duration": 187,
    "start_time": "2021-12-07T18:51:11.643Z"
   },
   {
    "duration": 62,
    "start_time": "2021-12-07T18:59:31.796Z"
   },
   {
    "duration": 443,
    "start_time": "2021-12-07T19:01:14.707Z"
   },
   {
    "duration": 42,
    "start_time": "2021-12-07T19:01:24.821Z"
   },
   {
    "duration": 7,
    "start_time": "2021-12-07T19:01:29.252Z"
   },
   {
    "duration": 4,
    "start_time": "2021-12-07T19:28:46.278Z"
   },
   {
    "duration": 469,
    "start_time": "2021-12-07T19:31:07.881Z"
   },
   {
    "duration": 512,
    "start_time": "2021-12-07T19:31:21.479Z"
   },
   {
    "duration": 10294,
    "start_time": "2021-12-07T19:33:11.120Z"
   },
   {
    "duration": 8,
    "start_time": "2021-12-07T19:33:57.874Z"
   },
   {
    "duration": 386,
    "start_time": "2021-12-07T19:34:41.584Z"
   },
   {
    "duration": 12,
    "start_time": "2021-12-07T19:34:59.872Z"
   },
   {
    "duration": 6,
    "start_time": "2021-12-07T19:54:01.850Z"
   },
   {
    "duration": 12,
    "start_time": "2021-12-07T19:57:22.843Z"
   },
   {
    "duration": 14,
    "start_time": "2021-12-07T20:03:38.343Z"
   },
   {
    "duration": 11917,
    "start_time": "2021-12-07T20:08:37.685Z"
   },
   {
    "duration": -601,
    "start_time": "2021-12-07T20:08:50.207Z"
   },
   {
    "duration": 5,
    "start_time": "2021-12-07T20:09:16.547Z"
   },
   {
    "duration": 12,
    "start_time": "2021-12-07T20:09:20.476Z"
   },
   {
    "duration": 5,
    "start_time": "2021-12-07T20:10:08.603Z"
   },
   {
    "duration": 14,
    "start_time": "2021-12-07T20:10:13.619Z"
   },
   {
    "duration": 141,
    "start_time": "2021-12-07T20:26:23.872Z"
   },
   {
    "duration": 130,
    "start_time": "2021-12-07T20:26:44.234Z"
   },
   {
    "duration": 2006,
    "start_time": "2021-12-07T20:27:07.896Z"
   },
   {
    "duration": 153,
    "start_time": "2021-12-07T20:29:24.819Z"
   },
   {
    "duration": 117,
    "start_time": "2021-12-07T20:49:53.777Z"
   },
   {
    "duration": 382,
    "start_time": "2021-12-07T20:50:23.152Z"
   },
   {
    "duration": 731,
    "start_time": "2021-12-07T20:50:45.243Z"
   },
   {
    "duration": 401,
    "start_time": "2021-12-07T20:52:50.051Z"
   },
   {
    "duration": 9,
    "start_time": "2021-12-07T20:56:27.506Z"
   },
   {
    "duration": 406,
    "start_time": "2021-12-07T20:56:51.532Z"
   },
   {
    "duration": 10,
    "start_time": "2021-12-07T20:57:04.907Z"
   },
   {
    "duration": 9,
    "start_time": "2021-12-07T20:57:53.396Z"
   },
   {
    "duration": 434,
    "start_time": "2021-12-07T21:29:07.847Z"
   },
   {
    "duration": 1752,
    "start_time": "2021-12-07T21:29:31.507Z"
   },
   {
    "duration": 1098,
    "start_time": "2021-12-07T21:29:33.263Z"
   },
   {
    "duration": 10,
    "start_time": "2021-12-07T21:29:34.363Z"
   },
   {
    "duration": 19,
    "start_time": "2021-12-07T21:29:34.375Z"
   },
   {
    "duration": 8,
    "start_time": "2021-12-07T21:29:34.396Z"
   },
   {
    "duration": 17,
    "start_time": "2021-12-07T21:29:34.406Z"
   },
   {
    "duration": 10,
    "start_time": "2021-12-07T21:29:34.426Z"
   },
   {
    "duration": 8,
    "start_time": "2021-12-07T21:29:34.439Z"
   },
   {
    "duration": 10,
    "start_time": "2021-12-07T21:29:34.450Z"
   },
   {
    "duration": 9,
    "start_time": "2021-12-07T21:29:34.463Z"
   },
   {
    "duration": 7,
    "start_time": "2021-12-07T21:29:34.474Z"
   },
   {
    "duration": 25,
    "start_time": "2021-12-07T21:29:34.483Z"
   },
   {
    "duration": 11,
    "start_time": "2021-12-07T21:29:34.510Z"
   },
   {
    "duration": 36,
    "start_time": "2021-12-07T21:29:34.523Z"
   },
   {
    "duration": 25,
    "start_time": "2021-12-07T21:29:34.561Z"
   },
   {
    "duration": 4,
    "start_time": "2021-12-07T21:29:34.588Z"
   },
   {
    "duration": 406,
    "start_time": "2021-12-07T21:29:34.594Z"
   },
   {
    "duration": 64,
    "start_time": "2021-12-07T21:29:35.003Z"
   },
   {
    "duration": 20,
    "start_time": "2021-12-07T21:29:35.069Z"
   },
   {
    "duration": 11,
    "start_time": "2021-12-07T21:29:35.091Z"
   },
   {
    "duration": 60,
    "start_time": "2021-12-07T21:29:35.104Z"
   },
   {
    "duration": 13,
    "start_time": "2021-12-07T21:29:35.167Z"
   },
   {
    "duration": 20,
    "start_time": "2021-12-07T21:29:35.185Z"
   },
   {
    "duration": 11,
    "start_time": "2021-12-07T21:29:35.208Z"
   },
   {
    "duration": 23,
    "start_time": "2021-12-07T21:29:35.222Z"
   },
   {
    "duration": 27,
    "start_time": "2021-12-07T21:29:35.247Z"
   },
   {
    "duration": 13,
    "start_time": "2021-12-07T21:29:35.276Z"
   },
   {
    "duration": 925,
    "start_time": "2021-12-07T21:29:35.291Z"
   },
   {
    "duration": 699,
    "start_time": "2021-12-07T21:29:36.219Z"
   },
   {
    "duration": 103,
    "start_time": "2021-12-07T21:29:36.928Z"
   },
   {
    "duration": 53,
    "start_time": "2021-12-07T21:29:37.035Z"
   },
   {
    "duration": 81,
    "start_time": "2021-12-07T21:29:37.091Z"
   },
   {
    "duration": 70,
    "start_time": "2021-12-07T21:29:37.175Z"
   },
   {
    "duration": 48,
    "start_time": "2021-12-07T21:29:37.248Z"
   },
   {
    "duration": 37,
    "start_time": "2021-12-07T21:29:37.299Z"
   },
   {
    "duration": 5,
    "start_time": "2021-12-07T21:29:37.338Z"
   },
   {
    "duration": 14,
    "start_time": "2021-12-07T21:29:37.346Z"
   },
   {
    "duration": 14,
    "start_time": "2021-12-07T21:29:37.363Z"
   },
   {
    "duration": 42,
    "start_time": "2021-12-07T21:29:37.379Z"
   },
   {
    "duration": 35,
    "start_time": "2021-12-07T21:29:37.424Z"
   },
   {
    "duration": 5,
    "start_time": "2021-12-07T21:29:37.462Z"
   },
   {
    "duration": 9,
    "start_time": "2021-12-07T21:29:37.469Z"
   },
   {
    "duration": 7,
    "start_time": "2021-12-07T21:29:37.481Z"
   },
   {
    "duration": 12,
    "start_time": "2021-12-07T21:29:37.490Z"
   },
   {
    "duration": 8,
    "start_time": "2021-12-07T21:29:37.505Z"
   },
   {
    "duration": 47,
    "start_time": "2021-12-07T21:29:37.515Z"
   },
   {
    "duration": 436,
    "start_time": "2021-12-07T21:30:49.073Z"
   },
   {
    "duration": 386,
    "start_time": "2021-12-07T21:31:25.336Z"
   },
   {
    "duration": 498,
    "start_time": "2021-12-07T21:33:01.337Z"
   },
   {
    "duration": 575,
    "start_time": "2021-12-07T21:33:51.329Z"
   },
   {
    "duration": 1922,
    "start_time": "2021-12-07T21:35:10.662Z"
   },
   {
    "duration": 1126,
    "start_time": "2021-12-07T21:35:12.587Z"
   },
   {
    "duration": 11,
    "start_time": "2021-12-07T21:35:13.717Z"
   },
   {
    "duration": 19,
    "start_time": "2021-12-07T21:35:13.732Z"
   },
   {
    "duration": 10,
    "start_time": "2021-12-07T21:35:13.754Z"
   },
   {
    "duration": 19,
    "start_time": "2021-12-07T21:35:13.767Z"
   },
   {
    "duration": 8,
    "start_time": "2021-12-07T21:35:13.789Z"
   },
   {
    "duration": 6,
    "start_time": "2021-12-07T21:35:13.802Z"
   },
   {
    "duration": 50,
    "start_time": "2021-12-07T21:35:13.811Z"
   },
   {
    "duration": 10,
    "start_time": "2021-12-07T21:35:13.863Z"
   },
   {
    "duration": 9,
    "start_time": "2021-12-07T21:35:13.875Z"
   },
   {
    "duration": 27,
    "start_time": "2021-12-07T21:35:13.886Z"
   },
   {
    "duration": 45,
    "start_time": "2021-12-07T21:35:13.916Z"
   },
   {
    "duration": 31,
    "start_time": "2021-12-07T21:35:13.963Z"
   },
   {
    "duration": 23,
    "start_time": "2021-12-07T21:35:13.997Z"
   },
   {
    "duration": 4,
    "start_time": "2021-12-07T21:35:14.023Z"
   },
   {
    "duration": 299,
    "start_time": "2021-12-07T21:35:14.029Z"
   },
   {
    "duration": 12,
    "start_time": "2021-12-07T21:35:14.330Z"
   },
   {
    "duration": 26,
    "start_time": "2021-12-07T21:35:14.345Z"
   },
   {
    "duration": 11,
    "start_time": "2021-12-07T21:35:14.373Z"
   },
   {
    "duration": 21,
    "start_time": "2021-12-07T21:35:14.386Z"
   },
   {
    "duration": 49,
    "start_time": "2021-12-07T21:35:14.410Z"
   },
   {
    "duration": 19,
    "start_time": "2021-12-07T21:35:14.466Z"
   },
   {
    "duration": 13,
    "start_time": "2021-12-07T21:35:14.489Z"
   },
   {
    "duration": 55,
    "start_time": "2021-12-07T21:35:14.504Z"
   },
   {
    "duration": 19,
    "start_time": "2021-12-07T21:35:14.562Z"
   },
   {
    "duration": 15,
    "start_time": "2021-12-07T21:35:14.584Z"
   },
   {
    "duration": 782,
    "start_time": "2021-12-07T21:35:14.601Z"
   },
   {
    "duration": 674,
    "start_time": "2021-12-07T21:35:15.385Z"
   },
   {
    "duration": 58,
    "start_time": "2021-12-07T21:35:16.062Z"
   },
   {
    "duration": 7,
    "start_time": "2021-12-07T21:35:16.124Z"
   },
   {
    "duration": 32,
    "start_time": "2021-12-07T21:35:16.134Z"
   },
   {
    "duration": 13,
    "start_time": "2021-12-07T21:35:16.168Z"
   },
   {
    "duration": 17,
    "start_time": "2021-12-07T21:35:16.183Z"
   },
   {
    "duration": 70,
    "start_time": "2021-12-07T21:35:16.202Z"
   },
   {
    "duration": 5,
    "start_time": "2021-12-07T21:35:16.275Z"
   },
   {
    "duration": 17,
    "start_time": "2021-12-07T21:35:16.282Z"
   },
   {
    "duration": 13,
    "start_time": "2021-12-07T21:35:16.301Z"
   },
   {
    "duration": 77,
    "start_time": "2021-12-07T21:35:16.316Z"
   },
   {
    "duration": 5,
    "start_time": "2021-12-07T21:35:16.396Z"
   },
   {
    "duration": 5,
    "start_time": "2021-12-07T21:35:16.403Z"
   },
   {
    "duration": 10,
    "start_time": "2021-12-07T21:35:16.411Z"
   },
   {
    "duration": 35,
    "start_time": "2021-12-07T21:35:16.424Z"
   },
   {
    "duration": 13,
    "start_time": "2021-12-07T21:35:16.462Z"
   },
   {
    "duration": 8,
    "start_time": "2021-12-07T21:35:16.478Z"
   },
   {
    "duration": 13,
    "start_time": "2021-12-07T21:35:16.488Z"
   },
   {
    "duration": 11,
    "start_time": "2021-12-07T21:35:26.559Z"
   },
   {
    "duration": 434,
    "start_time": "2021-12-07T21:35:47.033Z"
   },
   {
    "duration": 1511,
    "start_time": "2021-12-07T21:36:03.032Z"
   },
   {
    "duration": 668,
    "start_time": "2021-12-07T21:36:04.546Z"
   },
   {
    "duration": 9,
    "start_time": "2021-12-07T21:36:05.217Z"
   },
   {
    "duration": 21,
    "start_time": "2021-12-07T21:36:05.229Z"
   },
   {
    "duration": 9,
    "start_time": "2021-12-07T21:36:05.252Z"
   },
   {
    "duration": 18,
    "start_time": "2021-12-07T21:36:05.263Z"
   },
   {
    "duration": 8,
    "start_time": "2021-12-07T21:36:05.284Z"
   },
   {
    "duration": 7,
    "start_time": "2021-12-07T21:36:05.296Z"
   },
   {
    "duration": 9,
    "start_time": "2021-12-07T21:36:05.305Z"
   },
   {
    "duration": 42,
    "start_time": "2021-12-07T21:36:05.317Z"
   },
   {
    "duration": 7,
    "start_time": "2021-12-07T21:36:05.362Z"
   },
   {
    "duration": 33,
    "start_time": "2021-12-07T21:36:05.371Z"
   },
   {
    "duration": 11,
    "start_time": "2021-12-07T21:36:05.406Z"
   },
   {
    "duration": 61,
    "start_time": "2021-12-07T21:36:05.420Z"
   },
   {
    "duration": 23,
    "start_time": "2021-12-07T21:36:05.483Z"
   },
   {
    "duration": 4,
    "start_time": "2021-12-07T21:36:05.508Z"
   },
   {
    "duration": 212,
    "start_time": "2021-12-07T21:36:05.514Z"
   },
   {
    "duration": 12,
    "start_time": "2021-12-07T21:36:05.729Z"
   },
   {
    "duration": 26,
    "start_time": "2021-12-07T21:36:05.743Z"
   },
   {
    "duration": 10,
    "start_time": "2021-12-07T21:36:05.772Z"
   },
   {
    "duration": 19,
    "start_time": "2021-12-07T21:36:05.784Z"
   },
   {
    "duration": 15,
    "start_time": "2021-12-07T21:36:05.805Z"
   },
   {
    "duration": 50,
    "start_time": "2021-12-07T21:36:05.825Z"
   },
   {
    "duration": 10,
    "start_time": "2021-12-07T21:36:05.878Z"
   },
   {
    "duration": 23,
    "start_time": "2021-12-07T21:36:05.890Z"
   },
   {
    "duration": 50,
    "start_time": "2021-12-07T21:36:05.916Z"
   },
   {
    "duration": 12,
    "start_time": "2021-12-07T21:36:05.968Z"
   },
   {
    "duration": 653,
    "start_time": "2021-12-07T21:36:05.983Z"
   },
   {
    "duration": 632,
    "start_time": "2021-12-07T21:36:06.640Z"
   },
   {
    "duration": 41,
    "start_time": "2021-12-07T21:36:07.276Z"
   },
   {
    "duration": 6,
    "start_time": "2021-12-07T21:36:07.320Z"
   },
   {
    "duration": 32,
    "start_time": "2021-12-07T21:36:07.329Z"
   },
   {
    "duration": 13,
    "start_time": "2021-12-07T21:36:07.364Z"
   },
   {
    "duration": 12,
    "start_time": "2021-12-07T21:36:07.379Z"
   },
   {
    "duration": 34,
    "start_time": "2021-12-07T21:36:07.393Z"
   },
   {
    "duration": 5,
    "start_time": "2021-12-07T21:36:07.460Z"
   },
   {
    "duration": 14,
    "start_time": "2021-12-07T21:36:07.467Z"
   },
   {
    "duration": 15,
    "start_time": "2021-12-07T21:36:07.483Z"
   },
   {
    "duration": 74,
    "start_time": "2021-12-07T21:36:07.501Z"
   },
   {
    "duration": 6,
    "start_time": "2021-12-07T21:36:07.577Z"
   },
   {
    "duration": 7,
    "start_time": "2021-12-07T21:36:07.585Z"
   },
   {
    "duration": 12,
    "start_time": "2021-12-07T21:36:07.595Z"
   },
   {
    "duration": 8,
    "start_time": "2021-12-07T21:36:07.609Z"
   },
   {
    "duration": 42,
    "start_time": "2021-12-07T21:36:07.619Z"
   },
   {
    "duration": 9,
    "start_time": "2021-12-07T21:36:07.663Z"
   },
   {
    "duration": 9,
    "start_time": "2021-12-07T21:36:07.675Z"
   },
   {
    "duration": 9,
    "start_time": "2021-12-07T21:36:07.686Z"
   },
   {
    "duration": 1603,
    "start_time": "2021-12-07T21:36:32.157Z"
   },
   {
    "duration": 816,
    "start_time": "2021-12-07T21:36:33.763Z"
   },
   {
    "duration": 11,
    "start_time": "2021-12-07T21:36:34.582Z"
   },
   {
    "duration": 18,
    "start_time": "2021-12-07T21:36:34.596Z"
   },
   {
    "duration": 10,
    "start_time": "2021-12-07T21:36:34.616Z"
   },
   {
    "duration": 36,
    "start_time": "2021-12-07T21:36:34.628Z"
   },
   {
    "duration": 6,
    "start_time": "2021-12-07T21:36:34.666Z"
   },
   {
    "duration": 6,
    "start_time": "2021-12-07T21:36:34.676Z"
   },
   {
    "duration": 9,
    "start_time": "2021-12-07T21:36:34.685Z"
   },
   {
    "duration": 9,
    "start_time": "2021-12-07T21:36:34.696Z"
   },
   {
    "duration": 7,
    "start_time": "2021-12-07T21:36:34.708Z"
   },
   {
    "duration": 21,
    "start_time": "2021-12-07T21:36:34.760Z"
   },
   {
    "duration": 14,
    "start_time": "2021-12-07T21:36:34.783Z"
   },
   {
    "duration": 33,
    "start_time": "2021-12-07T21:36:34.800Z"
   },
   {
    "duration": 45,
    "start_time": "2021-12-07T21:36:34.835Z"
   },
   {
    "duration": 4,
    "start_time": "2021-12-07T21:36:34.883Z"
   },
   {
    "duration": 257,
    "start_time": "2021-12-07T21:36:34.890Z"
   },
   {
    "duration": 18,
    "start_time": "2021-12-07T21:36:35.150Z"
   },
   {
    "duration": 19,
    "start_time": "2021-12-07T21:36:35.171Z"
   },
   {
    "duration": 12,
    "start_time": "2021-12-07T21:36:35.193Z"
   },
   {
    "duration": 56,
    "start_time": "2021-12-07T21:36:35.208Z"
   },
   {
    "duration": 16,
    "start_time": "2021-12-07T21:36:35.267Z"
   },
   {
    "duration": 19,
    "start_time": "2021-12-07T21:36:35.290Z"
   },
   {
    "duration": 11,
    "start_time": "2021-12-07T21:36:35.313Z"
   },
   {
    "duration": 57,
    "start_time": "2021-12-07T21:36:35.327Z"
   },
   {
    "duration": 19,
    "start_time": "2021-12-07T21:36:35.387Z"
   },
   {
    "duration": 52,
    "start_time": "2021-12-07T21:36:35.409Z"
   },
   {
    "duration": 654,
    "start_time": "2021-12-07T21:36:35.464Z"
   },
   {
    "duration": 646,
    "start_time": "2021-12-07T21:36:36.121Z"
   },
   {
    "duration": 40,
    "start_time": "2021-12-07T21:36:36.770Z"
   },
   {
    "duration": 5,
    "start_time": "2021-12-07T21:36:36.812Z"
   },
   {
    "duration": 7,
    "start_time": "2021-12-07T21:36:36.819Z"
   },
   {
    "duration": 38,
    "start_time": "2021-12-07T21:36:36.828Z"
   },
   {
    "duration": 12,
    "start_time": "2021-12-07T21:36:36.868Z"
   },
   {
    "duration": 35,
    "start_time": "2021-12-07T21:36:36.882Z"
   },
   {
    "duration": 4,
    "start_time": "2021-12-07T21:36:36.919Z"
   },
   {
    "duration": 36,
    "start_time": "2021-12-07T21:36:36.926Z"
   },
   {
    "duration": 13,
    "start_time": "2021-12-07T21:36:36.965Z"
   },
   {
    "duration": 42,
    "start_time": "2021-12-07T21:36:36.980Z"
   },
   {
    "duration": 37,
    "start_time": "2021-12-07T21:36:37.025Z"
   },
   {
    "duration": 7,
    "start_time": "2021-12-07T21:36:37.064Z"
   },
   {
    "duration": 11,
    "start_time": "2021-12-07T21:36:37.073Z"
   },
   {
    "duration": 9,
    "start_time": "2021-12-07T21:36:37.086Z"
   },
   {
    "duration": 27,
    "start_time": "2021-12-07T21:36:37.097Z"
   },
   {
    "duration": 33,
    "start_time": "2021-12-07T21:36:37.126Z"
   },
   {
    "duration": 9,
    "start_time": "2021-12-07T21:36:37.162Z"
   },
   {
    "duration": 13,
    "start_time": "2021-12-07T21:36:37.174Z"
   },
   {
    "duration": 1553,
    "start_time": "2021-12-07T21:36:53.969Z"
   },
   {
    "duration": 1078,
    "start_time": "2021-12-07T21:36:55.524Z"
   },
   {
    "duration": 11,
    "start_time": "2021-12-07T21:36:56.605Z"
   },
   {
    "duration": 19,
    "start_time": "2021-12-07T21:36:56.618Z"
   },
   {
    "duration": 8,
    "start_time": "2021-12-07T21:36:56.639Z"
   },
   {
    "duration": 17,
    "start_time": "2021-12-07T21:36:56.649Z"
   },
   {
    "duration": 7,
    "start_time": "2021-12-07T21:36:56.668Z"
   },
   {
    "duration": 9,
    "start_time": "2021-12-07T21:36:56.677Z"
   },
   {
    "duration": 9,
    "start_time": "2021-12-07T21:36:56.689Z"
   },
   {
    "duration": 8,
    "start_time": "2021-12-07T21:36:56.701Z"
   },
   {
    "duration": 7,
    "start_time": "2021-12-07T21:36:56.711Z"
   },
   {
    "duration": 23,
    "start_time": "2021-12-07T21:36:56.720Z"
   },
   {
    "duration": 15,
    "start_time": "2021-12-07T21:36:56.745Z"
   },
   {
    "duration": 29,
    "start_time": "2021-12-07T21:36:56.762Z"
   },
   {
    "duration": 23,
    "start_time": "2021-12-07T21:36:56.793Z"
   },
   {
    "duration": 4,
    "start_time": "2021-12-07T21:36:56.818Z"
   },
   {
    "duration": 238,
    "start_time": "2021-12-07T21:36:56.824Z"
   },
   {
    "duration": 17,
    "start_time": "2021-12-07T21:36:57.064Z"
   },
   {
    "duration": 19,
    "start_time": "2021-12-07T21:36:57.084Z"
   },
   {
    "duration": 10,
    "start_time": "2021-12-07T21:36:57.105Z"
   },
   {
    "duration": 18,
    "start_time": "2021-12-07T21:36:57.118Z"
   },
   {
    "duration": 26,
    "start_time": "2021-12-07T21:36:57.139Z"
   },
   {
    "duration": 17,
    "start_time": "2021-12-07T21:36:57.168Z"
   },
   {
    "duration": 10,
    "start_time": "2021-12-07T21:36:57.188Z"
   },
   {
    "duration": 26,
    "start_time": "2021-12-07T21:36:57.201Z"
   },
   {
    "duration": 19,
    "start_time": "2021-12-07T21:36:57.230Z"
   },
   {
    "duration": 17,
    "start_time": "2021-12-07T21:36:57.253Z"
   },
   {
    "duration": 690,
    "start_time": "2021-12-07T21:36:57.273Z"
   },
   {
    "duration": 1041,
    "start_time": "2021-12-07T21:36:57.966Z"
   },
   {
    "duration": 58,
    "start_time": "2021-12-07T21:36:59.009Z"
   },
   {
    "duration": 6,
    "start_time": "2021-12-07T21:36:59.069Z"
   },
   {
    "duration": 10,
    "start_time": "2021-12-07T21:36:59.077Z"
   },
   {
    "duration": 7,
    "start_time": "2021-12-07T21:36:59.089Z"
   },
   {
    "duration": 11,
    "start_time": "2021-12-07T21:36:59.098Z"
   },
   {
    "duration": 73,
    "start_time": "2021-12-07T21:36:59.112Z"
   },
   {
    "duration": 5,
    "start_time": "2021-12-07T21:36:59.187Z"
   },
   {
    "duration": 15,
    "start_time": "2021-12-07T21:36:59.195Z"
   },
   {
    "duration": 13,
    "start_time": "2021-12-07T21:36:59.213Z"
   },
   {
    "duration": 69,
    "start_time": "2021-12-07T21:36:59.228Z"
   },
   {
    "duration": 4,
    "start_time": "2021-12-07T21:36:59.299Z"
   },
   {
    "duration": 9,
    "start_time": "2021-12-07T21:36:59.305Z"
   },
   {
    "duration": 10,
    "start_time": "2021-12-07T21:36:59.316Z"
   },
   {
    "duration": 31,
    "start_time": "2021-12-07T21:36:59.328Z"
   },
   {
    "duration": 12,
    "start_time": "2021-12-07T21:36:59.361Z"
   },
   {
    "duration": 8,
    "start_time": "2021-12-07T21:36:59.375Z"
   },
   {
    "duration": 10,
    "start_time": "2021-12-07T21:36:59.386Z"
   },
   {
    "duration": 16,
    "start_time": "2021-12-07T21:36:59.399Z"
   },
   {
    "duration": 433,
    "start_time": "2021-12-07T21:37:12.271Z"
   },
   {
    "duration": 1512,
    "start_time": "2021-12-07T21:37:50.429Z"
   },
   {
    "duration": 634,
    "start_time": "2021-12-07T21:37:51.944Z"
   },
   {
    "duration": 9,
    "start_time": "2021-12-07T21:37:52.581Z"
   },
   {
    "duration": 26,
    "start_time": "2021-12-07T21:37:52.593Z"
   },
   {
    "duration": 10,
    "start_time": "2021-12-07T21:37:52.622Z"
   },
   {
    "duration": 28,
    "start_time": "2021-12-07T21:37:52.634Z"
   },
   {
    "duration": 7,
    "start_time": "2021-12-07T21:37:52.665Z"
   },
   {
    "duration": 8,
    "start_time": "2021-12-07T21:37:52.676Z"
   },
   {
    "duration": 10,
    "start_time": "2021-12-07T21:37:52.687Z"
   },
   {
    "duration": 10,
    "start_time": "2021-12-07T21:37:52.699Z"
   },
   {
    "duration": 48,
    "start_time": "2021-12-07T21:37:52.712Z"
   },
   {
    "duration": 24,
    "start_time": "2021-12-07T21:37:52.763Z"
   },
   {
    "duration": 11,
    "start_time": "2021-12-07T21:37:52.789Z"
   },
   {
    "duration": 57,
    "start_time": "2021-12-07T21:37:52.802Z"
   },
   {
    "duration": 22,
    "start_time": "2021-12-07T21:37:52.862Z"
   },
   {
    "duration": 4,
    "start_time": "2021-12-07T21:37:52.887Z"
   },
   {
    "duration": 227,
    "start_time": "2021-12-07T21:37:52.893Z"
   },
   {
    "duration": 13,
    "start_time": "2021-12-07T21:37:53.122Z"
   },
   {
    "duration": 27,
    "start_time": "2021-12-07T21:37:53.137Z"
   },
   {
    "duration": 10,
    "start_time": "2021-12-07T21:37:53.167Z"
   },
   {
    "duration": 19,
    "start_time": "2021-12-07T21:37:53.180Z"
   },
   {
    "duration": 14,
    "start_time": "2021-12-07T21:37:53.202Z"
   },
   {
    "duration": 50,
    "start_time": "2021-12-07T21:37:53.221Z"
   },
   {
    "duration": 10,
    "start_time": "2021-12-07T21:37:53.275Z"
   },
   {
    "duration": 28,
    "start_time": "2021-12-07T21:37:53.287Z"
   },
   {
    "duration": 47,
    "start_time": "2021-12-07T21:37:53.317Z"
   },
   {
    "duration": 12,
    "start_time": "2021-12-07T21:37:53.367Z"
   },
   {
    "duration": 646,
    "start_time": "2021-12-07T21:37:53.381Z"
   },
   {
    "duration": 633,
    "start_time": "2021-12-07T21:37:54.029Z"
   },
   {
    "duration": 42,
    "start_time": "2021-12-07T21:37:54.664Z"
   },
   {
    "duration": 6,
    "start_time": "2021-12-07T21:37:54.708Z"
   },
   {
    "duration": 7,
    "start_time": "2021-12-07T21:37:54.717Z"
   },
   {
    "duration": 13,
    "start_time": "2021-12-07T21:37:54.760Z"
   },
   {
    "duration": 13,
    "start_time": "2021-12-07T21:37:54.775Z"
   },
   {
    "duration": 70,
    "start_time": "2021-12-07T21:37:54.791Z"
   },
   {
    "duration": 6,
    "start_time": "2021-12-07T21:37:54.863Z"
   },
   {
    "duration": 12,
    "start_time": "2021-12-07T21:37:54.871Z"
   },
   {
    "duration": 14,
    "start_time": "2021-12-07T21:37:54.886Z"
   },
   {
    "duration": 81,
    "start_time": "2021-12-07T21:37:54.903Z"
   },
   {
    "duration": 5,
    "start_time": "2021-12-07T21:37:54.986Z"
   },
   {
    "duration": 7,
    "start_time": "2021-12-07T21:37:54.994Z"
   },
   {
    "duration": 11,
    "start_time": "2021-12-07T21:37:55.004Z"
   },
   {
    "duration": 7,
    "start_time": "2021-12-07T21:37:55.018Z"
   },
   {
    "duration": 14,
    "start_time": "2021-12-07T21:37:55.060Z"
   },
   {
    "duration": 11,
    "start_time": "2021-12-07T21:37:55.077Z"
   },
   {
    "duration": 11,
    "start_time": "2021-12-07T21:37:55.092Z"
   },
   {
    "duration": 55,
    "start_time": "2021-12-07T21:37:55.106Z"
   },
   {
    "duration": 20,
    "start_time": "2021-12-07T21:37:55.164Z"
   },
   {
    "duration": 515,
    "start_time": "2021-12-07T21:38:08.401Z"
   },
   {
    "duration": 1615,
    "start_time": "2021-12-07T21:38:14.871Z"
   },
   {
    "duration": 634,
    "start_time": "2021-12-07T21:38:16.489Z"
   },
   {
    "duration": 9,
    "start_time": "2021-12-07T21:38:17.127Z"
   },
   {
    "duration": 19,
    "start_time": "2021-12-07T21:38:17.140Z"
   },
   {
    "duration": 9,
    "start_time": "2021-12-07T21:38:17.162Z"
   },
   {
    "duration": 16,
    "start_time": "2021-12-07T21:38:17.174Z"
   },
   {
    "duration": 8,
    "start_time": "2021-12-07T21:38:17.193Z"
   },
   {
    "duration": 6,
    "start_time": "2021-12-07T21:38:17.207Z"
   },
   {
    "duration": 53,
    "start_time": "2021-12-07T21:38:17.216Z"
   },
   {
    "duration": 11,
    "start_time": "2021-12-07T21:38:17.272Z"
   },
   {
    "duration": 8,
    "start_time": "2021-12-07T21:38:17.286Z"
   },
   {
    "duration": 69,
    "start_time": "2021-12-07T21:38:17.297Z"
   },
   {
    "duration": 11,
    "start_time": "2021-12-07T21:38:17.368Z"
   },
   {
    "duration": 31,
    "start_time": "2021-12-07T21:38:17.381Z"
   },
   {
    "duration": 51,
    "start_time": "2021-12-07T21:38:17.415Z"
   },
   {
    "duration": 4,
    "start_time": "2021-12-07T21:38:17.468Z"
   },
   {
    "duration": 238,
    "start_time": "2021-12-07T21:38:17.475Z"
   },
   {
    "duration": 13,
    "start_time": "2021-12-07T21:38:17.716Z"
   },
   {
    "duration": 32,
    "start_time": "2021-12-07T21:38:17.732Z"
   },
   {
    "duration": 10,
    "start_time": "2021-12-07T21:38:17.766Z"
   },
   {
    "duration": 18,
    "start_time": "2021-12-07T21:38:17.778Z"
   },
   {
    "duration": 15,
    "start_time": "2021-12-07T21:38:17.799Z"
   },
   {
    "duration": 46,
    "start_time": "2021-12-07T21:38:17.819Z"
   },
   {
    "duration": 11,
    "start_time": "2021-12-07T21:38:17.869Z"
   },
   {
    "duration": 23,
    "start_time": "2021-12-07T21:38:17.882Z"
   },
   {
    "duration": 52,
    "start_time": "2021-12-07T21:38:17.907Z"
   },
   {
    "duration": 13,
    "start_time": "2021-12-07T21:38:17.961Z"
   },
   {
    "duration": 650,
    "start_time": "2021-12-07T21:38:17.976Z"
   },
   {
    "duration": 666,
    "start_time": "2021-12-07T21:38:18.629Z"
   },
   {
    "duration": 43,
    "start_time": "2021-12-07T21:38:19.298Z"
   },
   {
    "duration": 6,
    "start_time": "2021-12-07T21:38:19.359Z"
   },
   {
    "duration": 8,
    "start_time": "2021-12-07T21:38:19.367Z"
   },
   {
    "duration": 15,
    "start_time": "2021-12-07T21:38:19.377Z"
   },
   {
    "duration": 27,
    "start_time": "2021-12-07T21:38:19.395Z"
   },
   {
    "duration": 51,
    "start_time": "2021-12-07T21:38:19.424Z"
   },
   {
    "duration": 5,
    "start_time": "2021-12-07T21:38:19.477Z"
   },
   {
    "duration": 16,
    "start_time": "2021-12-07T21:38:19.484Z"
   },
   {
    "duration": 12,
    "start_time": "2021-12-07T21:38:19.502Z"
   },
   {
    "duration": 71,
    "start_time": "2021-12-07T21:38:19.516Z"
   },
   {
    "duration": 6,
    "start_time": "2021-12-07T21:38:19.589Z"
   },
   {
    "duration": 6,
    "start_time": "2021-12-07T21:38:19.597Z"
   },
   {
    "duration": 10,
    "start_time": "2021-12-07T21:38:19.605Z"
   },
   {
    "duration": 6,
    "start_time": "2021-12-07T21:38:19.618Z"
   },
   {
    "duration": 43,
    "start_time": "2021-12-07T21:38:19.626Z"
   },
   {
    "duration": 7,
    "start_time": "2021-12-07T21:38:19.671Z"
   },
   {
    "duration": 10,
    "start_time": "2021-12-07T21:38:19.681Z"
   },
   {
    "duration": 9,
    "start_time": "2021-12-07T21:38:19.693Z"
   },
   {
    "duration": 55,
    "start_time": "2021-12-07T21:38:19.705Z"
   },
   {
    "duration": 445,
    "start_time": "2021-12-07T21:38:52.939Z"
   },
   {
    "duration": 1601,
    "start_time": "2021-12-07T21:39:01.146Z"
   },
   {
    "duration": 642,
    "start_time": "2021-12-07T21:39:02.749Z"
   },
   {
    "duration": 9,
    "start_time": "2021-12-07T21:39:03.394Z"
   },
   {
    "duration": 17,
    "start_time": "2021-12-07T21:39:03.406Z"
   },
   {
    "duration": 8,
    "start_time": "2021-12-07T21:39:03.426Z"
   },
   {
    "duration": 23,
    "start_time": "2021-12-07T21:39:03.437Z"
   },
   {
    "duration": 5,
    "start_time": "2021-12-07T21:39:03.463Z"
   },
   {
    "duration": 7,
    "start_time": "2021-12-07T21:39:03.472Z"
   },
   {
    "duration": 8,
    "start_time": "2021-12-07T21:39:03.482Z"
   },
   {
    "duration": 10,
    "start_time": "2021-12-07T21:39:03.492Z"
   },
   {
    "duration": 8,
    "start_time": "2021-12-07T21:39:03.505Z"
   },
   {
    "duration": 58,
    "start_time": "2021-12-07T21:39:03.515Z"
   },
   {
    "duration": 10,
    "start_time": "2021-12-07T21:39:03.576Z"
   },
   {
    "duration": 33,
    "start_time": "2021-12-07T21:39:03.589Z"
   },
   {
    "duration": 48,
    "start_time": "2021-12-07T21:39:03.624Z"
   },
   {
    "duration": 4,
    "start_time": "2021-12-07T21:39:03.674Z"
   },
   {
    "duration": 226,
    "start_time": "2021-12-07T21:39:03.680Z"
   },
   {
    "duration": 13,
    "start_time": "2021-12-07T21:39:03.908Z"
   },
   {
    "duration": 37,
    "start_time": "2021-12-07T21:39:03.923Z"
   },
   {
    "duration": 10,
    "start_time": "2021-12-07T21:39:03.963Z"
   },
   {
    "duration": 19,
    "start_time": "2021-12-07T21:39:03.976Z"
   },
   {
    "duration": 14,
    "start_time": "2021-12-07T21:39:03.997Z"
   },
   {
    "duration": 49,
    "start_time": "2021-12-07T21:39:04.016Z"
   },
   {
    "duration": 12,
    "start_time": "2021-12-07T21:39:04.068Z"
   },
   {
    "duration": 26,
    "start_time": "2021-12-07T21:39:04.083Z"
   },
   {
    "duration": 47,
    "start_time": "2021-12-07T21:39:04.112Z"
   },
   {
    "duration": 13,
    "start_time": "2021-12-07T21:39:04.162Z"
   },
   {
    "duration": 645,
    "start_time": "2021-12-07T21:39:04.178Z"
   },
   {
    "duration": 660,
    "start_time": "2021-12-07T21:39:04.825Z"
   },
   {
    "duration": 40,
    "start_time": "2021-12-07T21:39:05.487Z"
   },
   {
    "duration": 5,
    "start_time": "2021-12-07T21:39:05.529Z"
   },
   {
    "duration": 25,
    "start_time": "2021-12-07T21:39:05.536Z"
   },
   {
    "duration": 25,
    "start_time": "2021-12-07T21:39:05.563Z"
   },
   {
    "duration": 11,
    "start_time": "2021-12-07T21:39:05.591Z"
   },
   {
    "duration": 39,
    "start_time": "2021-12-07T21:39:05.605Z"
   },
   {
    "duration": 5,
    "start_time": "2021-12-07T21:39:05.660Z"
   },
   {
    "duration": 15,
    "start_time": "2021-12-07T21:39:05.667Z"
   },
   {
    "duration": 12,
    "start_time": "2021-12-07T21:39:05.684Z"
   },
   {
    "duration": 79,
    "start_time": "2021-12-07T21:39:05.698Z"
   },
   {
    "duration": 6,
    "start_time": "2021-12-07T21:39:05.779Z"
   },
   {
    "duration": 11,
    "start_time": "2021-12-07T21:39:05.788Z"
   },
   {
    "duration": 10,
    "start_time": "2021-12-07T21:39:05.802Z"
   },
   {
    "duration": 8,
    "start_time": "2021-12-07T21:39:05.815Z"
   },
   {
    "duration": 42,
    "start_time": "2021-12-07T21:39:05.825Z"
   },
   {
    "duration": 8,
    "start_time": "2021-12-07T21:39:05.870Z"
   },
   {
    "duration": 36,
    "start_time": "2021-12-07T21:39:05.881Z"
   },
   {
    "duration": 16,
    "start_time": "2021-12-07T21:39:05.919Z"
   },
   {
    "duration": 28,
    "start_time": "2021-12-07T21:39:05.937Z"
   },
   {
    "duration": 53,
    "start_time": "2021-12-07T21:39:05.968Z"
   },
   {
    "duration": 601,
    "start_time": "2021-12-07T21:39:06.024Z"
   },
   {
    "duration": 29,
    "start_time": "2021-12-07T21:40:23.184Z"
   },
   {
    "duration": 413,
    "start_time": "2021-12-07T21:42:42.585Z"
   },
   {
    "duration": 403,
    "start_time": "2021-12-07T21:44:15.195Z"
   },
   {
    "duration": 378,
    "start_time": "2021-12-07T21:45:07.011Z"
   },
   {
    "duration": 27,
    "start_time": "2021-12-07T21:45:23.033Z"
   },
   {
    "duration": 16,
    "start_time": "2021-12-07T21:46:17.227Z"
   },
   {
    "duration": 5,
    "start_time": "2021-12-07T21:47:12.835Z"
   },
   {
    "duration": 6,
    "start_time": "2021-12-07T21:48:11.801Z"
   },
   {
    "duration": 733,
    "start_time": "2021-12-07T23:24:35.347Z"
   },
   {
    "duration": 390,
    "start_time": "2021-12-07T23:25:08.250Z"
   },
   {
    "duration": 17,
    "start_time": "2021-12-07T23:25:23.003Z"
   },
   {
    "duration": 63,
    "start_time": "2021-12-07T23:26:32.601Z"
   },
   {
    "duration": 6,
    "start_time": "2021-12-07T23:27:02.523Z"
   },
   {
    "duration": 6,
    "start_time": "2021-12-07T23:37:25.602Z"
   },
   {
    "duration": 881,
    "start_time": "2021-12-07T23:38:17.981Z"
   },
   {
    "duration": 7,
    "start_time": "2021-12-07T23:39:02.125Z"
   },
   {
    "duration": 1903,
    "start_time": "2021-12-07T23:39:05.861Z"
   },
   {
    "duration": 30,
    "start_time": "2021-12-07T23:39:19.046Z"
   },
   {
    "duration": 6,
    "start_time": "2021-12-07T23:40:22.829Z"
   },
   {
    "duration": 2067,
    "start_time": "2021-12-07T23:40:26.605Z"
   },
   {
    "duration": 30,
    "start_time": "2021-12-07T23:40:32.269Z"
   },
   {
    "duration": 5,
    "start_time": "2021-12-07T23:41:58.526Z"
   },
   {
    "duration": 30,
    "start_time": "2021-12-07T23:42:49.342Z"
   },
   {
    "duration": 4,
    "start_time": "2021-12-07T23:45:01.908Z"
   },
   {
    "duration": 33,
    "start_time": "2021-12-07T23:45:22.766Z"
   },
   {
    "duration": 28,
    "start_time": "2021-12-07T23:45:36.614Z"
   },
   {
    "duration": 33,
    "start_time": "2021-12-07T23:47:09.270Z"
   },
   {
    "duration": 15,
    "start_time": "2021-12-07T23:47:16.015Z"
   },
   {
    "duration": 12,
    "start_time": "2021-12-07T23:47:26.134Z"
   },
   {
    "duration": 6,
    "start_time": "2021-12-07T23:47:50.313Z"
   },
   {
    "duration": 10949,
    "start_time": "2021-12-07T23:51:02.759Z"
   },
   {
    "duration": 9,
    "start_time": "2021-12-07T23:51:38.999Z"
   },
   {
    "duration": 9,
    "start_time": "2021-12-07T23:53:36.664Z"
   },
   {
    "duration": 10,
    "start_time": "2021-12-07T23:53:53.639Z"
   },
   {
    "duration": 8,
    "start_time": "2021-12-07T23:55:13.231Z"
   },
   {
    "duration": 8,
    "start_time": "2021-12-07T23:57:48.584Z"
   },
   {
    "duration": 8,
    "start_time": "2021-12-07T23:58:45.400Z"
   },
   {
    "duration": 286,
    "start_time": "2021-12-07T23:59:20.017Z"
   },
   {
    "duration": 7,
    "start_time": "2021-12-07T23:59:30.977Z"
   },
   {
    "duration": 408,
    "start_time": "2021-12-07T23:59:48.985Z"
   },
   {
    "duration": 31,
    "start_time": "2021-12-08T00:00:02.304Z"
   },
   {
    "duration": 26,
    "start_time": "2021-12-08T00:00:13.873Z"
   },
   {
    "duration": 37,
    "start_time": "2021-12-08T00:00:25.672Z"
   },
   {
    "duration": 5,
    "start_time": "2021-12-08T00:01:18.529Z"
   },
   {
    "duration": 4,
    "start_time": "2021-12-08T00:01:25.081Z"
   },
   {
    "duration": 139,
    "start_time": "2021-12-08T00:25:59.755Z"
   },
   {
    "duration": 8267,
    "start_time": "2021-12-08T00:26:09.482Z"
   },
   {
    "duration": 5216,
    "start_time": "2021-12-08T00:27:03.678Z"
   },
   {
    "duration": 397,
    "start_time": "2021-12-08T00:29:21.020Z"
   },
   {
    "duration": 394,
    "start_time": "2021-12-08T00:30:07.036Z"
   },
   {
    "duration": 31,
    "start_time": "2021-12-08T00:31:34.075Z"
   },
   {
    "duration": 5,
    "start_time": "2021-12-08T00:32:19.844Z"
   },
   {
    "duration": 12,
    "start_time": "2021-12-08T00:32:22.325Z"
   },
   {
    "duration": 28,
    "start_time": "2021-12-08T00:33:07.140Z"
   },
   {
    "duration": 454,
    "start_time": "2021-12-08T00:35:50.707Z"
   },
   {
    "duration": 413,
    "start_time": "2021-12-08T00:36:05.821Z"
   },
   {
    "duration": 409,
    "start_time": "2021-12-08T00:37:18.564Z"
   },
   {
    "duration": 379,
    "start_time": "2021-12-08T00:37:52.958Z"
   },
   {
    "duration": 389,
    "start_time": "2021-12-08T00:38:02.005Z"
   },
   {
    "duration": 12,
    "start_time": "2021-12-08T00:38:18.580Z"
   },
   {
    "duration": 461,
    "start_time": "2021-12-08T00:38:45.491Z"
   },
   {
    "duration": 384,
    "start_time": "2021-12-08T00:38:53.142Z"
   },
   {
    "duration": 391,
    "start_time": "2021-12-08T00:39:02.978Z"
   },
   {
    "duration": 54,
    "start_time": "2021-12-08T00:39:21.590Z"
   },
   {
    "duration": 389,
    "start_time": "2021-12-08T00:40:17.551Z"
   },
   {
    "duration": 813,
    "start_time": "2021-12-08T00:42:02.629Z"
   },
   {
    "duration": 43,
    "start_time": "2021-12-08T00:44:13.565Z"
   },
   {
    "duration": 9278,
    "start_time": "2021-12-08T00:46:24.783Z"
   },
   {
    "duration": 11,
    "start_time": "2021-12-08T00:47:17.991Z"
   },
   {
    "duration": 6,
    "start_time": "2021-12-08T00:48:15.549Z"
   },
   {
    "duration": 17,
    "start_time": "2021-12-08T00:49:34.751Z"
   },
   {
    "duration": 6,
    "start_time": "2021-12-08T00:50:08.053Z"
   },
   {
    "duration": 198,
    "start_time": "2021-12-08T00:51:41.816Z"
   },
   {
    "duration": 127,
    "start_time": "2021-12-08T00:52:15.502Z"
   },
   {
    "duration": 44,
    "start_time": "2021-12-08T00:52:47.536Z"
   },
   {
    "duration": 4,
    "start_time": "2021-12-08T00:53:02.563Z"
   },
   {
    "duration": 607,
    "start_time": "2021-12-08T00:53:02.570Z"
   },
   {
    "duration": 9,
    "start_time": "2021-12-08T00:53:03.180Z"
   },
   {
    "duration": 14,
    "start_time": "2021-12-08T00:53:03.192Z"
   },
   {
    "duration": 10,
    "start_time": "2021-12-08T00:53:03.208Z"
   },
   {
    "duration": 15,
    "start_time": "2021-12-08T00:53:03.220Z"
   },
   {
    "duration": 27,
    "start_time": "2021-12-08T00:53:03.237Z"
   },
   {
    "duration": 13,
    "start_time": "2021-12-08T00:53:03.268Z"
   },
   {
    "duration": 16,
    "start_time": "2021-12-08T00:53:03.284Z"
   },
   {
    "duration": 9,
    "start_time": "2021-12-08T00:53:03.303Z"
   },
   {
    "duration": 7,
    "start_time": "2021-12-08T00:53:03.315Z"
   },
   {
    "duration": 49,
    "start_time": "2021-12-08T00:53:03.325Z"
   },
   {
    "duration": 12,
    "start_time": "2021-12-08T00:53:03.376Z"
   },
   {
    "duration": 29,
    "start_time": "2021-12-08T00:53:03.390Z"
   },
   {
    "duration": 50,
    "start_time": "2021-12-08T00:53:03.422Z"
   },
   {
    "duration": 3,
    "start_time": "2021-12-08T00:53:03.475Z"
   },
   {
    "duration": 208,
    "start_time": "2021-12-08T00:53:03.481Z"
   },
   {
    "duration": 12,
    "start_time": "2021-12-08T00:53:03.692Z"
   },
   {
    "duration": 16,
    "start_time": "2021-12-08T00:53:03.707Z"
   },
   {
    "duration": 34,
    "start_time": "2021-12-08T00:53:03.725Z"
   },
   {
    "duration": 18,
    "start_time": "2021-12-08T00:53:03.762Z"
   },
   {
    "duration": 13,
    "start_time": "2021-12-08T00:53:03.783Z"
   },
   {
    "duration": 17,
    "start_time": "2021-12-08T00:53:03.801Z"
   },
   {
    "duration": 45,
    "start_time": "2021-12-08T00:53:03.822Z"
   },
   {
    "duration": 21,
    "start_time": "2021-12-08T00:53:03.869Z"
   },
   {
    "duration": 18,
    "start_time": "2021-12-08T00:53:03.892Z"
   },
   {
    "duration": 47,
    "start_time": "2021-12-08T00:53:03.912Z"
   },
   {
    "duration": 607,
    "start_time": "2021-12-08T00:53:03.961Z"
   },
   {
    "duration": 625,
    "start_time": "2021-12-08T00:53:04.570Z"
   },
   {
    "duration": 38,
    "start_time": "2021-12-08T00:53:05.198Z"
   },
   {
    "duration": 22,
    "start_time": "2021-12-08T00:53:05.238Z"
   },
   {
    "duration": 8,
    "start_time": "2021-12-08T00:53:05.262Z"
   },
   {
    "duration": 6,
    "start_time": "2021-12-08T00:53:05.272Z"
   },
   {
    "duration": 12,
    "start_time": "2021-12-08T00:53:05.280Z"
   },
   {
    "duration": 69,
    "start_time": "2021-12-08T00:53:05.295Z"
   },
   {
    "duration": 4,
    "start_time": "2021-12-08T00:53:05.367Z"
   },
   {
    "duration": 13,
    "start_time": "2021-12-08T00:53:05.374Z"
   },
   {
    "duration": 12,
    "start_time": "2021-12-08T00:53:05.390Z"
   },
   {
    "duration": 73,
    "start_time": "2021-12-08T00:53:05.405Z"
   },
   {
    "duration": 5,
    "start_time": "2021-12-08T00:53:05.480Z"
   },
   {
    "duration": 8,
    "start_time": "2021-12-08T00:53:05.487Z"
   },
   {
    "duration": 10,
    "start_time": "2021-12-08T00:53:05.498Z"
   },
   {
    "duration": 11,
    "start_time": "2021-12-08T00:53:05.510Z"
   },
   {
    "duration": 39,
    "start_time": "2021-12-08T00:53:05.523Z"
   },
   {
    "duration": 8,
    "start_time": "2021-12-08T00:53:05.564Z"
   },
   {
    "duration": 17,
    "start_time": "2021-12-08T00:53:05.574Z"
   },
   {
    "duration": 11,
    "start_time": "2021-12-08T00:53:05.594Z"
   },
   {
    "duration": 17,
    "start_time": "2021-12-08T00:53:05.608Z"
   },
   {
    "duration": 34,
    "start_time": "2021-12-08T00:53:05.627Z"
   },
   {
    "duration": 48,
    "start_time": "2021-12-08T00:53:05.664Z"
   },
   {
    "duration": 47,
    "start_time": "2021-12-08T00:53:05.714Z"
   },
   {
    "duration": 708,
    "start_time": "2021-12-08T00:53:05.764Z"
   },
   {
    "duration": -502,
    "start_time": "2021-12-08T00:53:06.976Z"
   },
   {
    "duration": -511,
    "start_time": "2021-12-08T00:53:06.987Z"
   },
   {
    "duration": -521,
    "start_time": "2021-12-08T00:53:06.998Z"
   },
   {
    "duration": 29,
    "start_time": "2021-12-08T00:53:38.270Z"
   },
   {
    "duration": 57,
    "start_time": "2021-12-08T00:53:43.797Z"
   },
   {
    "duration": 49,
    "start_time": "2021-12-08T00:53:58.335Z"
   },
   {
    "duration": 2104,
    "start_time": "2021-12-08T00:54:12.503Z"
   },
   {
    "duration": 9509,
    "start_time": "2021-12-08T00:56:28.969Z"
   },
   {
    "duration": 11,
    "start_time": "2021-12-08T00:56:51.312Z"
   },
   {
    "duration": 32,
    "start_time": "2021-12-08T00:57:14.329Z"
   },
   {
    "duration": 1696,
    "start_time": "2021-12-08T00:57:23.685Z"
   },
   {
    "duration": 6,
    "start_time": "2021-12-08T00:58:25.953Z"
   },
   {
    "duration": 2353,
    "start_time": "2021-12-08T00:58:29.787Z"
   },
   {
    "duration": 4,
    "start_time": "2021-12-08T00:58:33.173Z"
   },
   {
    "duration": 31,
    "start_time": "2021-12-08T00:58:37.312Z"
   },
   {
    "duration": 5,
    "start_time": "2021-12-08T00:58:58.657Z"
   },
   {
    "duration": 30,
    "start_time": "2021-12-08T00:59:02.175Z"
   },
   {
    "duration": 16,
    "start_time": "2021-12-08T00:59:05.791Z"
   },
   {
    "duration": 41,
    "start_time": "2021-12-08T00:59:10.064Z"
   },
   {
    "duration": 13,
    "start_time": "2021-12-08T00:59:13.154Z"
   },
   {
    "duration": 11,
    "start_time": "2021-12-08T00:59:16.761Z"
   },
   {
    "duration": 6,
    "start_time": "2021-12-08T00:59:20.797Z"
   },
   {
    "duration": 7,
    "start_time": "2021-12-08T00:59:31.375Z"
   },
   {
    "duration": 6,
    "start_time": "2021-12-08T00:59:34.383Z"
   },
   {
    "duration": 8,
    "start_time": "2021-12-08T00:59:37.144Z"
   },
   {
    "duration": 6,
    "start_time": "2021-12-08T00:59:40.576Z"
   },
   {
    "duration": 340,
    "start_time": "2021-12-08T00:59:43.295Z"
   },
   {
    "duration": 7,
    "start_time": "2021-12-08T00:59:45.567Z"
   },
   {
    "duration": 45,
    "start_time": "2021-12-08T00:59:48.086Z"
   },
   {
    "duration": 28,
    "start_time": "2021-12-08T00:59:51.362Z"
   },
   {
    "duration": 4,
    "start_time": "2021-12-08T01:00:00.311Z"
   },
   {
    "duration": 3,
    "start_time": "2021-12-08T01:00:02.750Z"
   },
   {
    "duration": 28,
    "start_time": "2021-12-08T01:00:13.096Z"
   },
   {
    "duration": 590,
    "start_time": "2021-12-08T01:00:20.272Z"
   },
   {
    "duration": 13,
    "start_time": "2021-12-08T01:00:40.272Z"
   },
   {
    "duration": 842,
    "start_time": "2021-12-08T01:30:02.732Z"
   },
   {
    "duration": 638,
    "start_time": "2021-12-08T01:30:34.246Z"
   },
   {
    "duration": 547,
    "start_time": "2021-12-08T01:31:00.500Z"
   },
   {
    "duration": 527,
    "start_time": "2021-12-08T01:31:19.197Z"
   },
   {
    "duration": 542,
    "start_time": "2021-12-08T01:39:53.149Z"
   },
   {
    "duration": 765,
    "start_time": "2021-12-08T01:40:54.125Z"
   },
   {
    "duration": 755,
    "start_time": "2021-12-08T01:41:06.876Z"
   },
   {
    "duration": 547,
    "start_time": "2021-12-08T01:41:20.103Z"
   },
   {
    "duration": 554,
    "start_time": "2021-12-08T01:41:41.412Z"
   },
   {
    "duration": 1483,
    "start_time": "2021-12-08T02:46:51.554Z"
   },
   {
    "duration": 604,
    "start_time": "2021-12-08T02:46:53.039Z"
   },
   {
    "duration": 9,
    "start_time": "2021-12-08T02:46:53.646Z"
   },
   {
    "duration": 18,
    "start_time": "2021-12-08T02:46:53.658Z"
   },
   {
    "duration": 8,
    "start_time": "2021-12-08T02:46:53.678Z"
   },
   {
    "duration": 15,
    "start_time": "2021-12-08T02:46:53.688Z"
   },
   {
    "duration": 6,
    "start_time": "2021-12-08T02:46:53.706Z"
   },
   {
    "duration": 47,
    "start_time": "2021-12-08T02:46:53.716Z"
   },
   {
    "duration": 9,
    "start_time": "2021-12-08T02:46:53.766Z"
   },
   {
    "duration": 11,
    "start_time": "2021-12-08T02:46:53.777Z"
   },
   {
    "duration": 7,
    "start_time": "2021-12-08T02:46:53.790Z"
   },
   {
    "duration": 21,
    "start_time": "2021-12-08T02:46:53.799Z"
   },
   {
    "duration": 12,
    "start_time": "2021-12-08T02:46:53.858Z"
   },
   {
    "duration": 29,
    "start_time": "2021-12-08T02:46:53.872Z"
   },
   {
    "duration": 23,
    "start_time": "2021-12-08T02:46:53.903Z"
   },
   {
    "duration": 31,
    "start_time": "2021-12-08T02:46:53.928Z"
   },
   {
    "duration": 203,
    "start_time": "2021-12-08T02:46:53.962Z"
   },
   {
    "duration": 12,
    "start_time": "2021-12-08T02:46:54.167Z"
   },
   {
    "duration": 17,
    "start_time": "2021-12-08T02:46:54.181Z"
   },
   {
    "duration": 9,
    "start_time": "2021-12-08T02:46:54.200Z"
   },
   {
    "duration": 51,
    "start_time": "2021-12-08T02:46:54.211Z"
   },
   {
    "duration": 14,
    "start_time": "2021-12-08T02:46:54.265Z"
   },
   {
    "duration": 18,
    "start_time": "2021-12-08T02:46:54.284Z"
   },
   {
    "duration": 11,
    "start_time": "2021-12-08T02:46:54.306Z"
   },
   {
    "duration": 56,
    "start_time": "2021-12-08T02:46:54.319Z"
   },
   {
    "duration": 18,
    "start_time": "2021-12-08T02:46:54.378Z"
   },
   {
    "duration": 13,
    "start_time": "2021-12-08T02:46:54.399Z"
   },
   {
    "duration": 645,
    "start_time": "2021-12-08T02:46:54.414Z"
   },
   {
    "duration": 635,
    "start_time": "2021-12-08T02:46:55.062Z"
   },
   {
    "duration": 42,
    "start_time": "2021-12-08T02:46:55.700Z"
   },
   {
    "duration": 19,
    "start_time": "2021-12-08T02:46:55.744Z"
   },
   {
    "duration": 7,
    "start_time": "2021-12-08T02:46:55.765Z"
   },
   {
    "duration": 12,
    "start_time": "2021-12-08T02:46:55.774Z"
   },
   {
    "duration": 11,
    "start_time": "2021-12-08T02:46:55.788Z"
   },
   {
    "duration": 69,
    "start_time": "2021-12-08T02:46:55.802Z"
   },
   {
    "duration": 5,
    "start_time": "2021-12-08T02:46:55.874Z"
   },
   {
    "duration": 13,
    "start_time": "2021-12-08T02:46:55.881Z"
   },
   {
    "duration": 14,
    "start_time": "2021-12-08T02:46:55.896Z"
   },
   {
    "duration": 75,
    "start_time": "2021-12-08T02:46:55.913Z"
   },
   {
    "duration": 6,
    "start_time": "2021-12-08T02:46:55.990Z"
   },
   {
    "duration": 7,
    "start_time": "2021-12-08T02:46:55.998Z"
   },
   {
    "duration": 11,
    "start_time": "2021-12-08T02:46:56.007Z"
   },
   {
    "duration": 40,
    "start_time": "2021-12-08T02:46:56.021Z"
   },
   {
    "duration": 12,
    "start_time": "2021-12-08T02:46:56.063Z"
   },
   {
    "duration": 10,
    "start_time": "2021-12-08T02:46:56.077Z"
   },
   {
    "duration": 10,
    "start_time": "2021-12-08T02:46:56.090Z"
   },
   {
    "duration": 11,
    "start_time": "2021-12-08T02:46:56.102Z"
   },
   {
    "duration": 21,
    "start_time": "2021-12-08T02:46:56.160Z"
   },
   {
    "duration": 5,
    "start_time": "2021-12-08T02:46:56.184Z"
   },
   {
    "duration": 80,
    "start_time": "2021-12-08T02:46:56.192Z"
   },
   {
    "duration": 24,
    "start_time": "2021-12-08T02:46:56.274Z"
   },
   {
    "duration": 29,
    "start_time": "2021-12-08T02:46:56.300Z"
   },
   {
    "duration": 79,
    "start_time": "2021-12-08T02:46:56.332Z"
   },
   {
    "duration": 64,
    "start_time": "2021-12-08T02:46:56.414Z"
   },
   {
    "duration": 13,
    "start_time": "2021-12-08T02:46:56.481Z"
   },
   {
    "duration": 6,
    "start_time": "2021-12-08T02:46:56.496Z"
   },
   {
    "duration": 1988,
    "start_time": "2021-12-08T02:46:56.505Z"
   },
   {
    "duration": 4,
    "start_time": "2021-12-08T02:46:58.495Z"
   },
   {
    "duration": 6,
    "start_time": "2021-12-08T02:46:58.501Z"
   },
   {
    "duration": 56,
    "start_time": "2021-12-08T02:46:58.509Z"
   },
   {
    "duration": 17,
    "start_time": "2021-12-08T02:46:58.567Z"
   },
   {
    "duration": 48,
    "start_time": "2021-12-08T02:46:58.586Z"
   },
   {
    "duration": 30,
    "start_time": "2021-12-08T02:46:58.636Z"
   },
   {
    "duration": 11,
    "start_time": "2021-12-08T02:46:58.669Z"
   },
   {
    "duration": 11,
    "start_time": "2021-12-08T02:46:58.683Z"
   },
   {
    "duration": 7,
    "start_time": "2021-12-08T02:46:58.697Z"
   },
   {
    "duration": 8,
    "start_time": "2021-12-08T02:46:58.706Z"
   },
   {
    "duration": 7,
    "start_time": "2021-12-08T02:46:58.765Z"
   },
   {
    "duration": 316,
    "start_time": "2021-12-08T02:46:58.776Z"
   },
   {
    "duration": 6,
    "start_time": "2021-12-08T02:46:59.095Z"
   },
   {
    "duration": 63,
    "start_time": "2021-12-08T02:46:59.104Z"
   },
   {
    "duration": 31,
    "start_time": "2021-12-08T02:46:59.170Z"
   },
   {
    "duration": 3,
    "start_time": "2021-12-08T02:46:59.203Z"
   },
   {
    "duration": 5,
    "start_time": "2021-12-08T02:46:59.209Z"
   },
   {
    "duration": 55,
    "start_time": "2021-12-08T02:46:59.216Z"
   },
   {
    "duration": 12,
    "start_time": "2021-12-08T02:46:59.273Z"
   },
   {
    "duration": 1005,
    "start_time": "2021-12-08T02:47:06.907Z"
   },
   {
    "duration": 544,
    "start_time": "2021-12-08T02:47:27.020Z"
   },
   {
    "duration": 1365020,
    "start_time": "2021-12-08T02:47:37.355Z"
   },
   {
    "duration": 437,
    "start_time": "2021-12-08T03:10:22.397Z"
   },
   {
    "duration": 385,
    "start_time": "2021-12-08T03:12:32.108Z"
   },
   {
    "duration": 2649,
    "start_time": "2021-12-08T03:12:54.964Z"
   },
   {
    "duration": 1750,
    "start_time": "2021-12-08T03:13:26.804Z"
   },
   {
    "duration": 403,
    "start_time": "2021-12-08T03:13:53.724Z"
   },
   {
    "duration": 370,
    "start_time": "2021-12-08T03:14:13.947Z"
   },
   {
    "duration": 6010,
    "start_time": "2021-12-08T03:15:00.194Z"
   },
   {
    "duration": 3000,
    "start_time": "2021-12-08T03:15:54.163Z"
   },
   {
    "duration": 2919,
    "start_time": "2021-12-08T03:17:31.540Z"
   },
   {
    "duration": 2900,
    "start_time": "2021-12-08T03:57:43.097Z"
   },
   {
    "duration": 2854,
    "start_time": "2021-12-08T03:58:36.414Z"
   },
   {
    "duration": 120,
    "start_time": "2021-12-08T04:00:29.745Z"
   },
   {
    "duration": 847,
    "start_time": "2021-12-08T04:06:36.702Z"
   },
   {
    "duration": 388,
    "start_time": "2021-12-08T04:06:42.743Z"
   },
   {
    "duration": 12,
    "start_time": "2021-12-08T04:06:57.274Z"
   },
   {
    "duration": 826,
    "start_time": "2021-12-08T04:07:02.720Z"
   },
   {
    "duration": 873,
    "start_time": "2021-12-08T04:07:39.743Z"
   },
   {
    "duration": 319,
    "start_time": "2021-12-08T04:08:20.310Z"
   },
   {
    "duration": 1035,
    "start_time": "2021-12-08T04:08:32.609Z"
   },
   {
    "duration": 929,
    "start_time": "2021-12-08T04:08:51.560Z"
   },
   {
    "duration": 925,
    "start_time": "2021-12-08T04:09:08.526Z"
   },
   {
    "duration": 692,
    "start_time": "2021-12-08T04:09:31.848Z"
   },
   {
    "duration": 618,
    "start_time": "2021-12-08T04:10:37.660Z"
   },
   {
    "duration": 584,
    "start_time": "2021-12-08T04:16:11.475Z"
   },
   {
    "duration": 593,
    "start_time": "2021-12-08T04:16:36.969Z"
   },
   {
    "duration": 589,
    "start_time": "2021-12-08T04:17:11.672Z"
   },
   {
    "duration": 839,
    "start_time": "2021-12-08T04:17:34.705Z"
   },
   {
    "duration": 824,
    "start_time": "2021-12-08T04:18:12.163Z"
   },
   {
    "duration": 1004,
    "start_time": "2021-12-08T04:18:39.264Z"
   },
   {
    "duration": 1258,
    "start_time": "2021-12-08T04:20:13.549Z"
   },
   {
    "duration": 615,
    "start_time": "2021-12-08T04:28:30.864Z"
   },
   {
    "duration": 583,
    "start_time": "2021-12-08T04:28:55.276Z"
   },
   {
    "duration": 515,
    "start_time": "2021-12-08T04:30:01.957Z"
   },
   {
    "duration": 665,
    "start_time": "2021-12-08T04:31:35.821Z"
   },
   {
    "duration": 601,
    "start_time": "2021-12-08T04:31:58.898Z"
   },
   {
    "duration": 547,
    "start_time": "2021-12-08T04:32:24.493Z"
   },
   {
    "duration": 521,
    "start_time": "2021-12-08T04:32:36.723Z"
   },
   {
    "duration": 580,
    "start_time": "2021-12-08T04:32:58.501Z"
   },
   {
    "duration": 536,
    "start_time": "2021-12-08T04:35:17.853Z"
   },
   {
    "duration": 553,
    "start_time": "2021-12-08T04:35:27.748Z"
   },
   {
    "duration": 1267,
    "start_time": "2021-12-08T04:37:00.512Z"
   },
   {
    "duration": 549,
    "start_time": "2021-12-08T04:37:35.405Z"
   },
   {
    "duration": 460,
    "start_time": "2021-12-08T04:39:52.047Z"
   },
   {
    "duration": 3002,
    "start_time": "2021-12-08T04:40:29.815Z"
   },
   {
    "duration": 381,
    "start_time": "2021-12-08T04:43:28.422Z"
   },
   {
    "duration": 137,
    "start_time": "2021-12-08T04:44:08.664Z"
   },
   {
    "duration": 403,
    "start_time": "2021-12-08T04:44:15.529Z"
   },
   {
    "duration": 380,
    "start_time": "2021-12-08T04:44:27.639Z"
   },
   {
    "duration": 365,
    "start_time": "2021-12-08T04:45:53.480Z"
   },
   {
    "duration": 1050,
    "start_time": "2021-12-08T04:51:06.300Z"
   },
   {
    "duration": 5,
    "start_time": "2021-12-08T04:51:22.169Z"
   },
   {
    "duration": 606,
    "start_time": "2021-12-08T04:51:22.178Z"
   },
   {
    "duration": 9,
    "start_time": "2021-12-08T04:51:22.786Z"
   },
   {
    "duration": 13,
    "start_time": "2021-12-08T04:51:22.798Z"
   },
   {
    "duration": 10,
    "start_time": "2021-12-08T04:51:22.814Z"
   },
   {
    "duration": 15,
    "start_time": "2021-12-08T04:51:22.827Z"
   },
   {
    "duration": 6,
    "start_time": "2021-12-08T04:51:22.858Z"
   },
   {
    "duration": 7,
    "start_time": "2021-12-08T04:51:22.867Z"
   },
   {
    "duration": 8,
    "start_time": "2021-12-08T04:51:22.877Z"
   },
   {
    "duration": 8,
    "start_time": "2021-12-08T04:51:22.888Z"
   },
   {
    "duration": 8,
    "start_time": "2021-12-08T04:51:22.899Z"
   },
   {
    "duration": 66,
    "start_time": "2021-12-08T04:51:22.909Z"
   },
   {
    "duration": 11,
    "start_time": "2021-12-08T04:51:22.977Z"
   },
   {
    "duration": 25,
    "start_time": "2021-12-08T04:51:22.991Z"
   },
   {
    "duration": 55,
    "start_time": "2021-12-08T04:51:23.018Z"
   },
   {
    "duration": 5,
    "start_time": "2021-12-08T04:51:23.076Z"
   },
   {
    "duration": 203,
    "start_time": "2021-12-08T04:51:23.084Z"
   },
   {
    "duration": 14,
    "start_time": "2021-12-08T04:51:23.290Z"
   },
   {
    "duration": 16,
    "start_time": "2021-12-08T04:51:23.313Z"
   },
   {
    "duration": 35,
    "start_time": "2021-12-08T04:51:23.333Z"
   },
   {
    "duration": 22,
    "start_time": "2021-12-08T04:51:23.371Z"
   },
   {
    "duration": 16,
    "start_time": "2021-12-08T04:51:23.396Z"
   },
   {
    "duration": 57,
    "start_time": "2021-12-08T04:51:23.414Z"
   },
   {
    "duration": 12,
    "start_time": "2021-12-08T04:51:23.474Z"
   },
   {
    "duration": 22,
    "start_time": "2021-12-08T04:51:23.490Z"
   },
   {
    "duration": 56,
    "start_time": "2021-12-08T04:51:23.515Z"
   },
   {
    "duration": 14,
    "start_time": "2021-12-08T04:51:23.574Z"
   },
   {
    "duration": 668,
    "start_time": "2021-12-08T04:51:23.591Z"
   },
   {
    "duration": 644,
    "start_time": "2021-12-08T04:51:24.262Z"
   },
   {
    "duration": 32,
    "start_time": "2021-12-08T04:51:24.908Z"
   },
   {
    "duration": 18,
    "start_time": "2021-12-08T04:51:24.942Z"
   },
   {
    "duration": 9,
    "start_time": "2021-12-08T04:51:24.962Z"
   },
   {
    "duration": 7,
    "start_time": "2021-12-08T04:51:24.974Z"
   },
   {
    "duration": 11,
    "start_time": "2021-12-08T04:51:24.983Z"
   },
   {
    "duration": 69,
    "start_time": "2021-12-08T04:51:24.997Z"
   },
   {
    "duration": 5,
    "start_time": "2021-12-08T04:51:25.068Z"
   },
   {
    "duration": 15,
    "start_time": "2021-12-08T04:51:25.075Z"
   },
   {
    "duration": 13,
    "start_time": "2021-12-08T04:51:25.093Z"
   },
   {
    "duration": 69,
    "start_time": "2021-12-08T04:51:25.108Z"
   },
   {
    "duration": 6,
    "start_time": "2021-12-08T04:51:25.179Z"
   },
   {
    "duration": 7,
    "start_time": "2021-12-08T04:51:25.187Z"
   },
   {
    "duration": 9,
    "start_time": "2021-12-08T04:51:25.196Z"
   },
   {
    "duration": 7,
    "start_time": "2021-12-08T04:51:25.207Z"
   },
   {
    "duration": 44,
    "start_time": "2021-12-08T04:51:25.216Z"
   },
   {
    "duration": 8,
    "start_time": "2021-12-08T04:51:25.263Z"
   },
   {
    "duration": 10,
    "start_time": "2021-12-08T04:51:25.273Z"
   },
   {
    "duration": 10,
    "start_time": "2021-12-08T04:51:25.285Z"
   },
   {
    "duration": 17,
    "start_time": "2021-12-08T04:51:25.298Z"
   },
   {
    "duration": 5,
    "start_time": "2021-12-08T04:51:25.317Z"
   },
   {
    "duration": 47,
    "start_time": "2021-12-08T04:51:25.360Z"
   },
   {
    "duration": 23,
    "start_time": "2021-12-08T04:51:25.410Z"
   },
   {
    "duration": 26,
    "start_time": "2021-12-08T04:51:25.459Z"
   },
   {
    "duration": 44,
    "start_time": "2021-12-08T04:51:25.488Z"
   },
   {
    "duration": 60,
    "start_time": "2021-12-08T04:51:25.534Z"
   },
   {
    "duration": 11,
    "start_time": "2021-12-08T04:51:25.601Z"
   },
   {
    "duration": 5,
    "start_time": "2021-12-08T04:51:25.615Z"
   },
   {
    "duration": 2171,
    "start_time": "2021-12-08T04:51:25.623Z"
   },
   {
    "duration": 3,
    "start_time": "2021-12-08T04:51:27.796Z"
   },
   {
    "duration": 6,
    "start_time": "2021-12-08T04:51:27.802Z"
   },
   {
    "duration": 50,
    "start_time": "2021-12-08T04:51:27.810Z"
   },
   {
    "duration": 16,
    "start_time": "2021-12-08T04:51:27.862Z"
   },
   {
    "duration": 48,
    "start_time": "2021-12-08T04:51:27.880Z"
   },
   {
    "duration": 34,
    "start_time": "2021-12-08T04:51:27.931Z"
   },
   {
    "duration": 12,
    "start_time": "2021-12-08T04:51:27.967Z"
   },
   {
    "duration": 9,
    "start_time": "2021-12-08T04:51:27.982Z"
   },
   {
    "duration": 7,
    "start_time": "2021-12-08T04:51:27.993Z"
   },
   {
    "duration": 6,
    "start_time": "2021-12-08T04:51:28.002Z"
   },
   {
    "duration": 7,
    "start_time": "2021-12-08T04:51:28.010Z"
   },
   {
    "duration": 271,
    "start_time": "2021-12-08T04:51:28.058Z"
   },
   {
    "duration": 7,
    "start_time": "2021-12-08T04:51:28.332Z"
   },
   {
    "duration": 56,
    "start_time": "2021-12-08T04:51:28.341Z"
   },
   {
    "duration": 36,
    "start_time": "2021-12-08T04:51:28.400Z"
   },
   {
    "duration": 21,
    "start_time": "2021-12-08T04:51:28.438Z"
   },
   {
    "duration": 20,
    "start_time": "2021-12-08T04:51:28.463Z"
   },
   {
    "duration": 32,
    "start_time": "2021-12-08T04:51:28.485Z"
   },
   {
    "duration": 14,
    "start_time": "2021-12-08T04:51:28.520Z"
   },
   {
    "duration": 574,
    "start_time": "2021-12-08T04:51:28.536Z"
   },
   {
    "duration": 2955,
    "start_time": "2021-12-08T04:51:29.113Z"
   },
   {
    "duration": -463,
    "start_time": "2021-12-08T04:54:33.101Z"
   },
   {
    "duration": -475,
    "start_time": "2021-12-08T04:54:33.114Z"
   },
   {
    "duration": 1662,
    "start_time": "2021-12-08T04:57:26.715Z"
   },
   {
    "duration": 567,
    "start_time": "2021-12-08T05:02:57.126Z"
   },
   {
    "duration": 523,
    "start_time": "2021-12-08T05:03:11.905Z"
   },
   {
    "duration": 527,
    "start_time": "2021-12-08T05:04:04.707Z"
   },
   {
    "duration": 559,
    "start_time": "2021-12-08T05:04:45.234Z"
   },
   {
    "duration": 614,
    "start_time": "2021-12-08T05:06:48.516Z"
   },
   {
    "duration": 598,
    "start_time": "2021-12-08T05:08:57.430Z"
   },
   {
    "duration": 581,
    "start_time": "2021-12-08T05:11:11.837Z"
   },
   {
    "duration": 13,
    "start_time": "2021-12-08T05:11:41.081Z"
   },
   {
    "duration": 595,
    "start_time": "2021-12-08T05:11:45.992Z"
   },
   {
    "duration": 566,
    "start_time": "2021-12-08T05:25:32.042Z"
   },
   {
    "duration": 589,
    "start_time": "2021-12-08T05:27:45.763Z"
   },
   {
    "duration": 579,
    "start_time": "2021-12-08T05:28:07.497Z"
   },
   {
    "duration": 655,
    "start_time": "2021-12-08T05:28:24.773Z"
   },
   {
    "duration": 721,
    "start_time": "2021-12-08T05:28:39.310Z"
   },
   {
    "duration": 760,
    "start_time": "2021-12-08T05:28:53.842Z"
   },
   {
    "duration": 848,
    "start_time": "2021-12-08T05:29:07.522Z"
   },
   {
    "duration": 734,
    "start_time": "2021-12-08T05:30:41.546Z"
   },
   {
    "duration": 775,
    "start_time": "2021-12-08T05:31:22.151Z"
   },
   {
    "duration": 714,
    "start_time": "2021-12-08T05:33:10.082Z"
   },
   {
    "duration": 694,
    "start_time": "2021-12-08T05:33:31.599Z"
   },
   {
    "duration": 12,
    "start_time": "2021-12-08T05:36:41.609Z"
   },
   {
    "duration": 370,
    "start_time": "2021-12-08T05:36:59.442Z"
   },
   {
    "duration": 839,
    "start_time": "2021-12-08T05:37:39.391Z"
   },
   {
    "duration": 1136,
    "start_time": "2021-12-08T05:37:55.029Z"
   },
   {
    "duration": 883,
    "start_time": "2021-12-08T05:38:22.416Z"
   },
   {
    "duration": 681,
    "start_time": "2021-12-08T05:39:51.914Z"
   },
   {
    "duration": 598,
    "start_time": "2021-12-08T05:40:41.186Z"
   },
   {
    "duration": 690,
    "start_time": "2021-12-08T05:41:21.450Z"
   },
   {
    "duration": 858,
    "start_time": "2021-12-08T05:45:41.930Z"
   },
   {
    "duration": 553,
    "start_time": "2021-12-08T05:46:44.522Z"
   },
   {
    "duration": 654,
    "start_time": "2021-12-08T05:48:53.608Z"
   },
   {
    "duration": 845,
    "start_time": "2021-12-08T05:49:20.798Z"
   },
   {
    "duration": 801,
    "start_time": "2021-12-08T05:49:55.445Z"
   },
   {
    "duration": 529,
    "start_time": "2021-12-08T05:50:18.517Z"
   },
   {
    "duration": 486,
    "start_time": "2021-12-08T05:50:37.601Z"
   },
   {
    "duration": 829,
    "start_time": "2021-12-08T05:52:57.510Z"
   },
   {
    "duration": 483,
    "start_time": "2021-12-08T05:55:24.315Z"
   },
   {
    "duration": 765,
    "start_time": "2021-12-08T05:55:34.875Z"
   },
   {
    "duration": 548,
    "start_time": "2021-12-08T05:59:04.550Z"
   },
   {
    "duration": 616,
    "start_time": "2021-12-08T05:59:33.262Z"
   },
   {
    "duration": 828,
    "start_time": "2021-12-08T06:00:55.909Z"
   },
   {
    "duration": 378,
    "start_time": "2021-12-08T06:10:11.561Z"
   },
   {
    "duration": 13,
    "start_time": "2021-12-08T06:10:51.599Z"
   },
   {
    "duration": 620,
    "start_time": "2021-12-08T06:10:58.030Z"
   },
   {
    "duration": 785,
    "start_time": "2021-12-08T06:12:57.456Z"
   },
   {
    "duration": 625,
    "start_time": "2021-12-08T06:13:23.969Z"
   },
   {
    "duration": 706,
    "start_time": "2021-12-08T06:14:35.797Z"
   },
   {
    "duration": 13,
    "start_time": "2021-12-08T06:20:52.530Z"
   },
   {
    "duration": 778,
    "start_time": "2021-12-08T06:21:02.889Z"
   },
   {
    "duration": 524,
    "start_time": "2021-12-08T06:21:19.582Z"
   },
   {
    "duration": 694,
    "start_time": "2021-12-08T06:24:34.975Z"
   },
   {
    "duration": 12,
    "start_time": "2021-12-08T06:31:10.625Z"
   },
   {
    "duration": 723,
    "start_time": "2021-12-08T06:31:16.000Z"
   },
   {
    "duration": 697,
    "start_time": "2021-12-08T06:33:50.521Z"
   },
   {
    "duration": 844,
    "start_time": "2021-12-08T06:35:12.019Z"
   },
   {
    "duration": 6,
    "start_time": "2021-12-08T06:49:28.613Z"
   },
   {
    "duration": 703,
    "start_time": "2021-12-08T06:52:58.991Z"
   },
   {
    "duration": 8,
    "start_time": "2021-12-08T06:54:26.007Z"
   },
   {
    "duration": 9,
    "start_time": "2021-12-08T07:00:42.368Z"
   },
   {
    "duration": 7,
    "start_time": "2021-12-08T07:01:01.030Z"
   },
   {
    "duration": 371,
    "start_time": "2021-12-08T07:07:55.323Z"
   },
   {
    "duration": 7,
    "start_time": "2021-12-08T07:08:10.761Z"
   },
   {
    "duration": 123,
    "start_time": "2021-12-08T07:09:38.544Z"
   },
   {
    "duration": 6,
    "start_time": "2021-12-08T07:09:58.560Z"
   },
   {
    "duration": 9,
    "start_time": "2021-12-08T07:11:22.936Z"
   },
   {
    "duration": -637,
    "start_time": "2021-12-08T07:16:58.004Z"
   },
   {
    "duration": 9534,
    "start_time": "2021-12-08T07:17:04.112Z"
   },
   {
    "duration": 442,
    "start_time": "2021-12-08T07:18:16.096Z"
   },
   {
    "duration": 510,
    "start_time": "2021-12-08T07:18:42.522Z"
   },
   {
    "duration": 533,
    "start_time": "2021-12-08T07:18:49.846Z"
   },
   {
    "duration": 635,
    "start_time": "2021-12-08T07:22:51.246Z"
   },
   {
    "duration": 13017,
    "start_time": "2021-12-08T07:23:24.043Z"
   },
   {
    "duration": 58,
    "start_time": "2021-12-08T07:24:14.538Z"
   },
   {
    "duration": 41,
    "start_time": "2021-12-08T07:24:29.809Z"
   },
   {
    "duration": 41,
    "start_time": "2021-12-08T07:26:00.017Z"
   },
   {
    "duration": 125,
    "start_time": "2021-12-08T07:28:17.708Z"
   },
   {
    "duration": 12,
    "start_time": "2021-12-08T07:28:35.330Z"
   },
   {
    "duration": 12,
    "start_time": "2021-12-08T07:29:22.794Z"
   },
   {
    "duration": 1321,
    "start_time": "2021-12-08T07:42:35.138Z"
   },
   {
    "duration": 1179,
    "start_time": "2021-12-08T07:42:36.461Z"
   },
   {
    "duration": 7,
    "start_time": "2021-12-08T07:42:37.643Z"
   },
   {
    "duration": 12,
    "start_time": "2021-12-08T07:42:37.652Z"
   },
   {
    "duration": 6,
    "start_time": "2021-12-08T07:42:37.666Z"
   },
   {
    "duration": 10,
    "start_time": "2021-12-08T07:42:37.674Z"
   },
   {
    "duration": 6,
    "start_time": "2021-12-08T07:42:37.686Z"
   },
   {
    "duration": 6,
    "start_time": "2021-12-08T07:42:37.695Z"
   },
   {
    "duration": 7,
    "start_time": "2021-12-08T07:42:37.703Z"
   },
   {
    "duration": 8,
    "start_time": "2021-12-08T07:42:37.712Z"
   },
   {
    "duration": 7,
    "start_time": "2021-12-08T07:42:37.721Z"
   },
   {
    "duration": 18,
    "start_time": "2021-12-08T07:42:37.730Z"
   },
   {
    "duration": 7,
    "start_time": "2021-12-08T07:42:37.750Z"
   },
   {
    "duration": 47,
    "start_time": "2021-12-08T07:42:37.759Z"
   },
   {
    "duration": 17,
    "start_time": "2021-12-08T07:42:37.808Z"
   },
   {
    "duration": 3,
    "start_time": "2021-12-08T07:42:37.826Z"
   },
   {
    "duration": 150,
    "start_time": "2021-12-08T07:42:37.831Z"
   },
   {
    "duration": 8,
    "start_time": "2021-12-08T07:42:37.983Z"
   },
   {
    "duration": 22,
    "start_time": "2021-12-08T07:42:37.992Z"
   },
   {
    "duration": 7,
    "start_time": "2021-12-08T07:42:38.015Z"
   },
   {
    "duration": 14,
    "start_time": "2021-12-08T07:42:38.024Z"
   },
   {
    "duration": 10,
    "start_time": "2021-12-08T07:42:38.040Z"
   },
   {
    "duration": 13,
    "start_time": "2021-12-08T07:42:38.054Z"
   },
   {
    "duration": 38,
    "start_time": "2021-12-08T07:42:38.070Z"
   },
   {
    "duration": 20,
    "start_time": "2021-12-08T07:42:38.110Z"
   },
   {
    "duration": 13,
    "start_time": "2021-12-08T07:42:38.132Z"
   },
   {
    "duration": 8,
    "start_time": "2021-12-08T07:42:38.147Z"
   },
   {
    "duration": 405,
    "start_time": "2021-12-08T07:42:38.156Z"
   },
   {
    "duration": 384,
    "start_time": "2021-12-08T07:42:38.563Z"
   },
   {
    "duration": 28,
    "start_time": "2021-12-08T07:42:38.949Z"
   },
   {
    "duration": 3,
    "start_time": "2021-12-08T07:42:38.979Z"
   },
   {
    "duration": 23,
    "start_time": "2021-12-08T07:42:38.984Z"
   },
   {
    "duration": 9,
    "start_time": "2021-12-08T07:42:39.008Z"
   },
   {
    "duration": 8,
    "start_time": "2021-12-08T07:42:39.018Z"
   },
   {
    "duration": 28,
    "start_time": "2021-12-08T07:42:39.027Z"
   },
   {
    "duration": 4,
    "start_time": "2021-12-08T07:42:39.056Z"
   },
   {
    "duration": 11,
    "start_time": "2021-12-08T07:42:39.061Z"
   },
   {
    "duration": 9,
    "start_time": "2021-12-08T07:42:39.073Z"
   },
   {
    "duration": 29,
    "start_time": "2021-12-08T07:42:39.107Z"
   },
   {
    "duration": 4,
    "start_time": "2021-12-08T07:42:39.138Z"
   },
   {
    "duration": 5,
    "start_time": "2021-12-08T07:42:39.143Z"
   },
   {
    "duration": 7,
    "start_time": "2021-12-08T07:42:39.150Z"
   },
   {
    "duration": 5,
    "start_time": "2021-12-08T07:42:39.159Z"
   },
   {
    "duration": 10,
    "start_time": "2021-12-08T07:42:39.165Z"
   },
   {
    "duration": 31,
    "start_time": "2021-12-08T07:42:39.176Z"
   },
   {
    "duration": 9,
    "start_time": "2021-12-08T07:42:39.209Z"
   },
   {
    "duration": 8,
    "start_time": "2021-12-08T07:42:39.219Z"
   },
   {
    "duration": 15,
    "start_time": "2021-12-08T07:42:39.228Z"
   },
   {
    "duration": 3,
    "start_time": "2021-12-08T07:42:39.245Z"
   },
   {
    "duration": 59,
    "start_time": "2021-12-08T07:42:39.250Z"
   },
   {
    "duration": 15,
    "start_time": "2021-12-08T07:42:39.311Z"
   },
   {
    "duration": 28,
    "start_time": "2021-12-08T07:42:39.327Z"
   },
   {
    "duration": 49,
    "start_time": "2021-12-08T07:42:39.357Z"
   },
   {
    "duration": 34,
    "start_time": "2021-12-08T07:42:39.408Z"
   },
   {
    "duration": 7,
    "start_time": "2021-12-08T07:42:39.444Z"
   },
   {
    "duration": 5,
    "start_time": "2021-12-08T07:42:39.453Z"
   },
   {
    "duration": 1208,
    "start_time": "2021-12-08T07:42:39.459Z"
   },
   {
    "duration": 2,
    "start_time": "2021-12-08T07:42:40.669Z"
   },
   {
    "duration": 5,
    "start_time": "2021-12-08T07:42:40.673Z"
   },
   {
    "duration": 32,
    "start_time": "2021-12-08T07:42:40.680Z"
   },
   {
    "duration": 15,
    "start_time": "2021-12-08T07:42:40.713Z"
   },
   {
    "duration": 33,
    "start_time": "2021-12-08T07:42:40.730Z"
   },
   {
    "duration": 11,
    "start_time": "2021-12-08T07:42:40.765Z"
   },
   {
    "duration": 31,
    "start_time": "2021-12-08T07:42:40.778Z"
   },
   {
    "duration": 5,
    "start_time": "2021-12-08T07:42:40.811Z"
   },
   {
    "duration": 4,
    "start_time": "2021-12-08T07:42:40.818Z"
   },
   {
    "duration": 5,
    "start_time": "2021-12-08T07:42:40.824Z"
   },
   {
    "duration": 4,
    "start_time": "2021-12-08T07:42:40.834Z"
   },
   {
    "duration": 272,
    "start_time": "2021-12-08T07:42:40.840Z"
   },
   {
    "duration": 6,
    "start_time": "2021-12-08T07:42:41.114Z"
   },
   {
    "duration": 37,
    "start_time": "2021-12-08T07:42:41.122Z"
   },
   {
    "duration": 21,
    "start_time": "2021-12-08T07:42:41.161Z"
   },
   {
    "duration": 2,
    "start_time": "2021-12-08T07:42:41.184Z"
   },
   {
    "duration": 21,
    "start_time": "2021-12-08T07:42:41.188Z"
   },
   {
    "duration": 26,
    "start_time": "2021-12-08T07:42:41.211Z"
   },
   {
    "duration": 9,
    "start_time": "2021-12-08T07:42:41.239Z"
   },
   {
    "duration": 464,
    "start_time": "2021-12-08T07:42:41.249Z"
   },
   {
    "duration": 2102,
    "start_time": "2021-12-08T07:42:41.715Z"
   },
   {
    "duration": 9,
    "start_time": "2021-12-08T07:42:43.818Z"
   },
   {
    "duration": 442,
    "start_time": "2021-12-08T07:42:43.828Z"
   },
   {
    "duration": 9,
    "start_time": "2021-12-08T07:42:44.272Z"
   },
   {
    "duration": 317,
    "start_time": "2021-12-08T07:42:44.283Z"
   },
   {
    "duration": 598,
    "start_time": "2021-12-08T07:42:44.602Z"
   },
   {
    "duration": 512,
    "start_time": "2021-12-08T07:42:45.206Z"
   },
   {
    "duration": 10,
    "start_time": "2021-12-08T07:42:45.721Z"
   },
   {
    "duration": 384,
    "start_time": "2021-12-08T07:42:45.733Z"
   },
   {
    "duration": 376,
    "start_time": "2021-12-08T07:42:46.119Z"
   },
   {
    "duration": 543,
    "start_time": "2021-12-08T07:42:46.497Z"
   },
   {
    "duration": 3,
    "start_time": "2021-12-08T07:42:47.041Z"
   },
   {
    "duration": 13,
    "start_time": "2021-12-08T07:42:47.045Z"
   },
   {
    "duration": 378,
    "start_time": "2021-12-08T07:42:47.060Z"
   },
   {
    "duration": 257,
    "start_time": "2021-12-08T07:42:47.440Z"
   },
   {
    "duration": 466,
    "start_time": "2021-12-08T07:42:47.699Z"
   },
   {
    "duration": 8,
    "start_time": "2021-12-08T07:42:48.166Z"
   },
   {
    "duration": 448,
    "start_time": "2021-12-08T07:42:48.176Z"
   },
   {
    "duration": 357,
    "start_time": "2021-12-08T07:42:48.625Z"
   },
   {
    "duration": 499,
    "start_time": "2021-12-08T07:42:48.983Z"
   },
   {
    "duration": 15,
    "start_time": "2021-12-08T07:44:21.330Z"
   },
   {
    "duration": 18,
    "start_time": "2021-12-08T07:45:11.419Z"
   },
   {
    "duration": 14,
    "start_time": "2021-12-08T07:46:11.409Z"
   },
   {
    "duration": 112,
    "start_time": "2021-12-08T07:46:26.544Z"
   },
   {
    "duration": 11,
    "start_time": "2021-12-08T07:46:37.627Z"
   },
   {
    "duration": 9,
    "start_time": "2021-12-08T07:47:19.041Z"
   },
   {
    "duration": 7,
    "start_time": "2021-12-08T07:47:33.298Z"
   },
   {
    "duration": 112,
    "start_time": "2021-12-08T07:48:21.892Z"
   },
   {
    "duration": 7,
    "start_time": "2021-12-08T07:48:39.674Z"
   },
   {
    "duration": 124,
    "start_time": "2021-12-08T07:49:41.179Z"
   },
   {
    "duration": 7,
    "start_time": "2021-12-08T07:51:04.855Z"
   },
   {
    "duration": 10,
    "start_time": "2021-12-08T07:51:57.705Z"
   },
   {
    "duration": 13,
    "start_time": "2021-12-08T07:52:16.953Z"
   },
   {
    "duration": 12,
    "start_time": "2021-12-08T07:52:28.337Z"
   },
   {
    "duration": 4713,
    "start_time": "2021-12-08T07:54:55.539Z"
   },
   {
    "duration": 13,
    "start_time": "2021-12-08T07:55:22.106Z"
   },
   {
    "duration": 13,
    "start_time": "2021-12-08T07:57:47.634Z"
   },
   {
    "duration": 2,
    "start_time": "2021-12-08T08:08:31.733Z"
   },
   {
    "duration": 13,
    "start_time": "2021-12-08T08:12:02.487Z"
   },
   {
    "duration": 5,
    "start_time": "2021-12-08T08:12:33.525Z"
   },
   {
    "duration": 6,
    "start_time": "2021-12-08T08:12:58.268Z"
   },
   {
    "duration": 3,
    "start_time": "2021-12-08T08:14:05.892Z"
   },
   {
    "duration": 563,
    "start_time": "2021-12-08T08:14:05.897Z"
   },
   {
    "duration": 7,
    "start_time": "2021-12-08T08:14:06.462Z"
   },
   {
    "duration": 10,
    "start_time": "2021-12-08T08:14:06.471Z"
   },
   {
    "duration": 7,
    "start_time": "2021-12-08T08:14:06.483Z"
   },
   {
    "duration": 15,
    "start_time": "2021-12-08T08:14:06.492Z"
   },
   {
    "duration": 5,
    "start_time": "2021-12-08T08:14:06.510Z"
   },
   {
    "duration": 14,
    "start_time": "2021-12-08T08:14:06.516Z"
   },
   {
    "duration": 14,
    "start_time": "2021-12-08T08:14:06.531Z"
   },
   {
    "duration": 10,
    "start_time": "2021-12-08T08:14:06.546Z"
   },
   {
    "duration": 7,
    "start_time": "2021-12-08T08:14:06.558Z"
   },
   {
    "duration": 23,
    "start_time": "2021-12-08T08:14:06.566Z"
   },
   {
    "duration": 20,
    "start_time": "2021-12-08T08:14:06.591Z"
   },
   {
    "duration": 20,
    "start_time": "2021-12-08T08:14:06.613Z"
   },
   {
    "duration": 17,
    "start_time": "2021-12-08T08:14:06.635Z"
   },
   {
    "duration": 3,
    "start_time": "2021-12-08T08:14:06.653Z"
   },
   {
    "duration": 164,
    "start_time": "2021-12-08T08:14:06.658Z"
   },
   {
    "duration": 10,
    "start_time": "2021-12-08T08:14:06.823Z"
   },
   {
    "duration": 12,
    "start_time": "2021-12-08T08:14:06.837Z"
   },
   {
    "duration": 6,
    "start_time": "2021-12-08T08:14:06.852Z"
   },
   {
    "duration": 15,
    "start_time": "2021-12-08T08:14:06.860Z"
   },
   {
    "duration": 40,
    "start_time": "2021-12-08T08:14:06.876Z"
   },
   {
    "duration": 13,
    "start_time": "2021-12-08T08:14:06.918Z"
   },
   {
    "duration": 7,
    "start_time": "2021-12-08T08:14:06.933Z"
   },
   {
    "duration": 22,
    "start_time": "2021-12-08T08:14:06.942Z"
   },
   {
    "duration": 14,
    "start_time": "2021-12-08T08:14:06.966Z"
   },
   {
    "duration": 32,
    "start_time": "2021-12-08T08:14:06.981Z"
   },
   {
    "duration": 456,
    "start_time": "2021-12-08T08:14:07.015Z"
   },
   {
    "duration": 400,
    "start_time": "2021-12-08T08:14:07.473Z"
   },
   {
    "duration": 31,
    "start_time": "2021-12-08T08:14:07.875Z"
   },
   {
    "duration": 4,
    "start_time": "2021-12-08T08:14:07.908Z"
   },
   {
    "duration": 8,
    "start_time": "2021-12-08T08:14:07.914Z"
   },
   {
    "duration": 5,
    "start_time": "2021-12-08T08:14:07.923Z"
   },
   {
    "duration": 10,
    "start_time": "2021-12-08T08:14:07.929Z"
   },
   {
    "duration": 24,
    "start_time": "2021-12-08T08:14:07.941Z"
   },
   {
    "duration": 4,
    "start_time": "2021-12-08T08:14:07.966Z"
   },
   {
    "duration": 13,
    "start_time": "2021-12-08T08:14:07.972Z"
   },
   {
    "duration": 9,
    "start_time": "2021-12-08T08:14:07.986Z"
   },
   {
    "duration": 27,
    "start_time": "2021-12-08T08:14:07.997Z"
   },
   {
    "duration": 4,
    "start_time": "2021-12-08T08:14:08.026Z"
   },
   {
    "duration": 4,
    "start_time": "2021-12-08T08:14:08.032Z"
   },
   {
    "duration": 9,
    "start_time": "2021-12-08T08:14:08.037Z"
   },
   {
    "duration": 16,
    "start_time": "2021-12-08T08:14:08.047Z"
   },
   {
    "duration": 10,
    "start_time": "2021-12-08T08:14:08.065Z"
   },
   {
    "duration": 9,
    "start_time": "2021-12-08T08:14:08.076Z"
   },
   {
    "duration": 7,
    "start_time": "2021-12-08T08:14:08.087Z"
   },
   {
    "duration": 15,
    "start_time": "2021-12-08T08:14:08.096Z"
   },
   {
    "duration": 12,
    "start_time": "2021-12-08T08:14:08.113Z"
   },
   {
    "duration": 4,
    "start_time": "2021-12-08T08:14:08.126Z"
   },
   {
    "duration": 30,
    "start_time": "2021-12-08T08:14:08.132Z"
   },
   {
    "duration": 16,
    "start_time": "2021-12-08T08:14:08.164Z"
   },
   {
    "duration": 24,
    "start_time": "2021-12-08T08:14:08.182Z"
   },
   {
    "duration": 34,
    "start_time": "2021-12-08T08:14:08.208Z"
   },
   {
    "duration": 38,
    "start_time": "2021-12-08T08:14:08.244Z"
   },
   {
    "duration": 8,
    "start_time": "2021-12-08T08:14:08.287Z"
   },
   {
    "duration": 4,
    "start_time": "2021-12-08T08:14:08.306Z"
   },
   {
    "duration": 1517,
    "start_time": "2021-12-08T08:14:08.312Z"
   },
   {
    "duration": 3,
    "start_time": "2021-12-08T08:14:09.831Z"
   },
   {
    "duration": 6,
    "start_time": "2021-12-08T08:14:09.836Z"
   },
   {
    "duration": 23,
    "start_time": "2021-12-08T08:14:09.844Z"
   },
   {
    "duration": 12,
    "start_time": "2021-12-08T08:14:09.868Z"
   },
   {
    "duration": 51,
    "start_time": "2021-12-08T08:14:09.882Z"
   },
   {
    "duration": 11,
    "start_time": "2021-12-08T08:14:09.934Z"
   },
   {
    "duration": 9,
    "start_time": "2021-12-08T08:14:09.948Z"
   },
   {
    "duration": 9,
    "start_time": "2021-12-08T08:14:09.958Z"
   },
   {
    "duration": 7,
    "start_time": "2021-12-08T08:14:09.969Z"
   },
   {
    "duration": 5,
    "start_time": "2021-12-08T08:14:09.977Z"
   },
   {
    "duration": 5,
    "start_time": "2021-12-08T08:14:10.007Z"
   },
   {
    "duration": 256,
    "start_time": "2021-12-08T08:14:10.014Z"
   },
   {
    "duration": 5,
    "start_time": "2021-12-08T08:14:10.272Z"
   },
   {
    "duration": 37,
    "start_time": "2021-12-08T08:14:10.279Z"
   },
   {
    "duration": 24,
    "start_time": "2021-12-08T08:14:10.318Z"
   },
   {
    "duration": 3,
    "start_time": "2021-12-08T08:14:10.344Z"
   },
   {
    "duration": 4,
    "start_time": "2021-12-08T08:14:10.349Z"
   },
   {
    "duration": 23,
    "start_time": "2021-12-08T08:14:10.355Z"
   },
   {
    "duration": 31,
    "start_time": "2021-12-08T08:14:10.380Z"
   },
   {
    "duration": 463,
    "start_time": "2021-12-08T08:14:10.412Z"
   },
   {
    "duration": 1975,
    "start_time": "2021-12-08T08:14:10.876Z"
   },
   {
    "duration": 9,
    "start_time": "2021-12-08T08:14:12.853Z"
   },
   {
    "duration": 526,
    "start_time": "2021-12-08T08:14:12.863Z"
   },
   {
    "duration": 18,
    "start_time": "2021-12-08T08:14:13.391Z"
   },
   {
    "duration": 325,
    "start_time": "2021-12-08T08:14:13.411Z"
   },
   {
    "duration": 579,
    "start_time": "2021-12-08T08:14:13.738Z"
   },
   {
    "duration": 527,
    "start_time": "2021-12-08T08:14:14.319Z"
   },
   {
    "duration": 8,
    "start_time": "2021-12-08T08:14:14.848Z"
   },
   {
    "duration": 396,
    "start_time": "2021-12-08T08:14:14.858Z"
   },
   {
    "duration": 355,
    "start_time": "2021-12-08T08:14:15.256Z"
   },
   {
    "duration": 463,
    "start_time": "2021-12-08T08:14:15.613Z"
   },
   {
    "duration": 2,
    "start_time": "2021-12-08T08:14:16.078Z"
   },
   {
    "duration": 34,
    "start_time": "2021-12-08T08:14:16.082Z"
   },
   {
    "duration": 383,
    "start_time": "2021-12-08T08:14:16.117Z"
   },
   {
    "duration": 274,
    "start_time": "2021-12-08T08:14:16.502Z"
   },
   {
    "duration": 489,
    "start_time": "2021-12-08T08:14:16.777Z"
   },
   {
    "duration": 7,
    "start_time": "2021-12-08T08:14:17.268Z"
   },
   {
    "duration": 375,
    "start_time": "2021-12-08T08:14:17.277Z"
   },
   {
    "duration": 348,
    "start_time": "2021-12-08T08:14:17.653Z"
   },
   {
    "duration": 477,
    "start_time": "2021-12-08T08:14:18.002Z"
   },
   {
    "duration": 43,
    "start_time": "2021-12-08T08:14:18.481Z"
   },
   {
    "duration": 5,
    "start_time": "2021-12-08T08:14:18.525Z"
   },
   {
    "duration": 6,
    "start_time": "2021-12-08T08:14:18.532Z"
   },
   {
    "duration": 11,
    "start_time": "2021-12-08T08:14:18.540Z"
   },
   {
    "duration": 12,
    "start_time": "2021-12-08T08:14:18.553Z"
   },
   {
    "duration": 2262,
    "start_time": "2021-12-08T19:08:42.990Z"
   },
   {
    "duration": 894,
    "start_time": "2021-12-08T19:08:45.255Z"
   },
   {
    "duration": 10,
    "start_time": "2021-12-08T19:08:46.152Z"
   },
   {
    "duration": 21,
    "start_time": "2021-12-08T19:08:46.164Z"
   },
   {
    "duration": 10,
    "start_time": "2021-12-08T19:08:46.187Z"
   },
   {
    "duration": 20,
    "start_time": "2021-12-08T19:08:46.199Z"
   },
   {
    "duration": 8,
    "start_time": "2021-12-08T19:08:46.222Z"
   },
   {
    "duration": 10,
    "start_time": "2021-12-08T19:08:46.233Z"
   },
   {
    "duration": 10,
    "start_time": "2021-12-08T19:08:46.246Z"
   },
   {
    "duration": 13,
    "start_time": "2021-12-08T19:08:46.259Z"
   },
   {
    "duration": 45,
    "start_time": "2021-12-08T19:08:46.274Z"
   },
   {
    "duration": 24,
    "start_time": "2021-12-08T19:08:46.321Z"
   },
   {
    "duration": 11,
    "start_time": "2021-12-08T19:08:46.347Z"
   },
   {
    "duration": 57,
    "start_time": "2021-12-08T19:08:46.360Z"
   },
   {
    "duration": 24,
    "start_time": "2021-12-08T19:08:46.420Z"
   },
   {
    "duration": 4,
    "start_time": "2021-12-08T19:08:46.447Z"
   },
   {
    "duration": 248,
    "start_time": "2021-12-08T19:08:46.453Z"
   },
   {
    "duration": 17,
    "start_time": "2021-12-08T19:08:46.703Z"
   },
   {
    "duration": 15,
    "start_time": "2021-12-08T19:08:46.724Z"
   },
   {
    "duration": 12,
    "start_time": "2021-12-08T19:08:46.742Z"
   },
   {
    "duration": 19,
    "start_time": "2021-12-08T19:08:46.756Z"
   },
   {
    "duration": 47,
    "start_time": "2021-12-08T19:08:46.777Z"
   },
   {
    "duration": 21,
    "start_time": "2021-12-08T19:08:46.832Z"
   },
   {
    "duration": 12,
    "start_time": "2021-12-08T19:08:46.857Z"
   },
   {
    "duration": 58,
    "start_time": "2021-12-08T19:08:46.871Z"
   },
   {
    "duration": 19,
    "start_time": "2021-12-08T19:08:46.931Z"
   },
   {
    "duration": 13,
    "start_time": "2021-12-08T19:08:46.952Z"
   },
   {
    "duration": 703,
    "start_time": "2021-12-08T19:08:46.967Z"
   },
   {
    "duration": 645,
    "start_time": "2021-12-08T19:08:47.673Z"
   },
   {
    "duration": 42,
    "start_time": "2021-12-08T19:08:48.320Z"
   },
   {
    "duration": 6,
    "start_time": "2021-12-08T19:08:48.364Z"
   },
   {
    "duration": 9,
    "start_time": "2021-12-08T19:08:48.372Z"
   },
   {
    "duration": 55,
    "start_time": "2021-12-08T19:08:48.383Z"
   },
   {
    "duration": 15,
    "start_time": "2021-12-08T19:08:48.444Z"
   },
   {
    "duration": 36,
    "start_time": "2021-12-08T19:08:48.462Z"
   },
   {
    "duration": 19,
    "start_time": "2021-12-08T19:08:48.501Z"
   },
   {
    "duration": 18,
    "start_time": "2021-12-08T19:08:48.523Z"
   },
   {
    "duration": 14,
    "start_time": "2021-12-08T19:08:48.544Z"
   },
   {
    "duration": 68,
    "start_time": "2021-12-08T19:08:48.560Z"
   },
   {
    "duration": 8,
    "start_time": "2021-12-08T19:08:48.630Z"
   },
   {
    "duration": 7,
    "start_time": "2021-12-08T19:08:48.641Z"
   },
   {
    "duration": 12,
    "start_time": "2021-12-08T19:08:48.650Z"
   },
   {
    "duration": 7,
    "start_time": "2021-12-08T19:08:48.665Z"
   },
   {
    "duration": 46,
    "start_time": "2021-12-08T19:08:48.674Z"
   },
   {
    "duration": 14,
    "start_time": "2021-12-08T19:08:48.722Z"
   },
   {
    "duration": 10,
    "start_time": "2021-12-08T19:08:48.739Z"
   },
   {
    "duration": 11,
    "start_time": "2021-12-08T19:08:48.752Z"
   },
   {
    "duration": 62,
    "start_time": "2021-12-08T19:08:48.766Z"
   },
   {
    "duration": 6,
    "start_time": "2021-12-08T19:08:48.830Z"
   },
   {
    "duration": 56,
    "start_time": "2021-12-08T19:08:48.838Z"
   },
   {
    "duration": 43,
    "start_time": "2021-12-08T19:08:48.896Z"
   },
   {
    "duration": 27,
    "start_time": "2021-12-08T19:08:48.941Z"
   },
   {
    "duration": 83,
    "start_time": "2021-12-08T19:08:48.971Z"
   },
   {
    "duration": 44,
    "start_time": "2021-12-08T19:08:49.057Z"
   },
   {
    "duration": 23,
    "start_time": "2021-12-08T19:08:49.103Z"
   },
   {
    "duration": 6,
    "start_time": "2021-12-08T19:08:49.128Z"
   },
   {
    "duration": 2288,
    "start_time": "2021-12-08T19:08:49.137Z"
   },
   {
    "duration": 3,
    "start_time": "2021-12-08T19:08:51.428Z"
   },
   {
    "duration": 12,
    "start_time": "2021-12-08T19:08:51.433Z"
   },
   {
    "duration": 35,
    "start_time": "2021-12-08T19:08:51.447Z"
   },
   {
    "duration": 35,
    "start_time": "2021-12-08T19:08:51.484Z"
   },
   {
    "duration": 49,
    "start_time": "2021-12-08T19:08:51.522Z"
   },
   {
    "duration": 13,
    "start_time": "2021-12-08T19:08:51.574Z"
   },
   {
    "duration": 11,
    "start_time": "2021-12-08T19:08:51.617Z"
   },
   {
    "duration": 11,
    "start_time": "2021-12-08T19:08:51.630Z"
   },
   {
    "duration": 14,
    "start_time": "2021-12-08T19:08:51.643Z"
   },
   {
    "duration": 7,
    "start_time": "2021-12-08T19:08:51.659Z"
   },
   {
    "duration": 42,
    "start_time": "2021-12-08T19:08:51.675Z"
   },
   {
    "duration": 314,
    "start_time": "2021-12-08T19:08:51.720Z"
   },
   {
    "duration": 8,
    "start_time": "2021-12-08T19:08:52.036Z"
   },
   {
    "duration": 43,
    "start_time": "2021-12-08T19:08:52.047Z"
   },
   {
    "duration": 51,
    "start_time": "2021-12-08T19:08:52.093Z"
   },
   {
    "duration": 4,
    "start_time": "2021-12-08T19:08:52.147Z"
   },
   {
    "duration": 5,
    "start_time": "2021-12-08T19:08:52.154Z"
   },
   {
    "duration": 67,
    "start_time": "2021-12-08T19:08:52.162Z"
   },
   {
    "duration": 15,
    "start_time": "2021-12-08T19:08:52.232Z"
   },
   {
    "duration": 713,
    "start_time": "2021-12-08T19:08:52.249Z"
   },
   {
    "duration": 3694,
    "start_time": "2021-12-08T19:08:52.964Z"
   },
   {
    "duration": 12,
    "start_time": "2021-12-08T19:08:56.660Z"
   },
   {
    "duration": 716,
    "start_time": "2021-12-08T19:08:56.675Z"
   },
   {
    "duration": 27,
    "start_time": "2021-12-08T19:08:57.394Z"
   },
   {
    "duration": 511,
    "start_time": "2021-12-08T19:08:57.424Z"
   },
   {
    "duration": 740,
    "start_time": "2021-12-08T19:08:57.938Z"
   },
   {
    "duration": 646,
    "start_time": "2021-12-08T19:08:58.681Z"
   },
   {
    "duration": 11,
    "start_time": "2021-12-08T19:08:59.330Z"
   },
   {
    "duration": 631,
    "start_time": "2021-12-08T19:08:59.343Z"
   },
   {
    "duration": 538,
    "start_time": "2021-12-08T19:08:59.976Z"
   },
   {
    "duration": 635,
    "start_time": "2021-12-08T19:09:00.516Z"
   },
   {
    "duration": 4,
    "start_time": "2021-12-08T19:09:01.154Z"
   },
   {
    "duration": 21,
    "start_time": "2021-12-08T19:09:01.161Z"
   },
   {
    "duration": 633,
    "start_time": "2021-12-08T19:09:01.184Z"
   },
   {
    "duration": 435,
    "start_time": "2021-12-08T19:09:01.819Z"
   },
   {
    "duration": 587,
    "start_time": "2021-12-08T19:09:02.256Z"
   },
   {
    "duration": 14,
    "start_time": "2021-12-08T19:09:02.846Z"
   },
   {
    "duration": 617,
    "start_time": "2021-12-08T19:09:02.862Z"
   },
   {
    "duration": 503,
    "start_time": "2021-12-08T19:09:03.484Z"
   },
   {
    "duration": 640,
    "start_time": "2021-12-08T19:09:03.990Z"
   },
   {
    "duration": 43,
    "start_time": "2021-12-08T19:09:04.633Z"
   },
   {
    "duration": 6,
    "start_time": "2021-12-08T19:09:04.679Z"
   },
   {
    "duration": 38,
    "start_time": "2021-12-08T19:09:04.687Z"
   },
   {
    "duration": 16,
    "start_time": "2021-12-08T19:09:04.727Z"
   },
   {
    "duration": 18,
    "start_time": "2021-12-08T19:09:04.746Z"
   },
   {
    "duration": 136,
    "start_time": "2021-12-08T19:09:04.766Z"
   },
   {
    "duration": 52,
    "start_time": "2021-12-08T19:14:51.873Z"
   },
   {
    "duration": 1238,
    "start_time": "2021-12-15T07:21:22.095Z"
   },
   {
    "duration": 396,
    "start_time": "2021-12-15T07:21:23.335Z"
   },
   {
    "duration": 10,
    "start_time": "2021-12-15T07:21:23.734Z"
   },
   {
    "duration": 17,
    "start_time": "2021-12-15T07:21:23.746Z"
   },
   {
    "duration": 9,
    "start_time": "2021-12-15T07:21:23.765Z"
   },
   {
    "duration": 17,
    "start_time": "2021-12-15T07:21:23.776Z"
   },
   {
    "duration": 6,
    "start_time": "2021-12-15T07:21:23.794Z"
   },
   {
    "duration": 6,
    "start_time": "2021-12-15T07:21:23.803Z"
   },
   {
    "duration": 9,
    "start_time": "2021-12-15T07:21:23.811Z"
   },
   {
    "duration": 11,
    "start_time": "2021-12-15T07:21:23.821Z"
   },
   {
    "duration": 29,
    "start_time": "2021-12-15T07:21:23.834Z"
   },
   {
    "duration": 20,
    "start_time": "2021-12-15T07:21:23.865Z"
   },
   {
    "duration": 8,
    "start_time": "2021-12-15T07:21:23.887Z"
   },
   {
    "duration": 27,
    "start_time": "2021-12-15T07:21:23.897Z"
   },
   {
    "duration": 41,
    "start_time": "2021-12-15T07:21:23.925Z"
   },
   {
    "duration": 3,
    "start_time": "2021-12-15T07:21:23.968Z"
   },
   {
    "duration": 139,
    "start_time": "2021-12-15T07:21:23.973Z"
   },
   {
    "duration": 9,
    "start_time": "2021-12-15T07:21:24.114Z"
   },
   {
    "duration": 28,
    "start_time": "2021-12-15T07:21:24.125Z"
   },
   {
    "duration": 9,
    "start_time": "2021-12-15T07:21:24.155Z"
   },
   {
    "duration": 23,
    "start_time": "2021-12-15T07:21:24.166Z"
   },
   {
    "duration": 10,
    "start_time": "2021-12-15T07:21:24.191Z"
   },
   {
    "duration": 17,
    "start_time": "2021-12-15T07:21:24.205Z"
   },
   {
    "duration": 8,
    "start_time": "2021-12-15T07:21:24.225Z"
   },
   {
    "duration": 36,
    "start_time": "2021-12-15T07:21:24.235Z"
   },
   {
    "duration": 12,
    "start_time": "2021-12-15T07:21:24.273Z"
   },
   {
    "duration": 8,
    "start_time": "2021-12-15T07:21:24.287Z"
   },
   {
    "duration": 928,
    "start_time": "2021-12-15T07:21:24.297Z"
   },
   {
    "duration": 604,
    "start_time": "2021-12-15T07:21:25.227Z"
   },
   {
    "duration": 115,
    "start_time": "2021-12-15T07:21:25.833Z"
   },
   {
    "duration": 3,
    "start_time": "2021-12-15T07:21:25.950Z"
   },
   {
    "duration": 11,
    "start_time": "2021-12-15T07:21:25.954Z"
   },
   {
    "duration": 6,
    "start_time": "2021-12-15T07:21:25.966Z"
   },
   {
    "duration": 10,
    "start_time": "2021-12-15T07:21:25.973Z"
   },
   {
    "duration": 24,
    "start_time": "2021-12-15T07:21:25.985Z"
   },
   {
    "duration": 2,
    "start_time": "2021-12-15T07:21:26.011Z"
   },
   {
    "duration": 13,
    "start_time": "2021-12-15T07:21:26.015Z"
   },
   {
    "duration": 34,
    "start_time": "2021-12-15T07:21:26.030Z"
   },
   {
    "duration": 31,
    "start_time": "2021-12-15T07:21:26.066Z"
   },
   {
    "duration": 3,
    "start_time": "2021-12-15T07:21:26.098Z"
   },
   {
    "duration": 6,
    "start_time": "2021-12-15T07:21:26.103Z"
   },
   {
    "duration": 11,
    "start_time": "2021-12-15T07:21:26.110Z"
   },
   {
    "duration": 10,
    "start_time": "2021-12-15T07:21:26.123Z"
   },
   {
    "duration": 14,
    "start_time": "2021-12-15T07:21:26.135Z"
   },
   {
    "duration": 15,
    "start_time": "2021-12-15T07:21:26.151Z"
   },
   {
    "duration": 12,
    "start_time": "2021-12-15T07:21:26.168Z"
   },
   {
    "duration": 10,
    "start_time": "2021-12-15T07:21:26.182Z"
   },
   {
    "duration": 18,
    "start_time": "2021-12-15T07:21:26.193Z"
   },
   {
    "duration": 4,
    "start_time": "2021-12-15T07:21:26.212Z"
   },
   {
    "duration": 56,
    "start_time": "2021-12-15T07:21:26.218Z"
   },
   {
    "duration": 16,
    "start_time": "2021-12-15T07:21:26.276Z"
   },
   {
    "duration": 10,
    "start_time": "2021-12-15T07:21:26.294Z"
   },
   {
    "duration": 30,
    "start_time": "2021-12-15T07:21:26.305Z"
   },
   {
    "duration": 49,
    "start_time": "2021-12-15T07:21:26.337Z"
   },
   {
    "duration": 6,
    "start_time": "2021-12-15T07:21:26.388Z"
   },
   {
    "duration": 13,
    "start_time": "2021-12-15T07:21:26.396Z"
   },
   {
    "duration": 679,
    "start_time": "2021-12-15T07:21:26.411Z"
   },
   {
    "duration": 3,
    "start_time": "2021-12-15T07:21:27.092Z"
   },
   {
    "duration": 7,
    "start_time": "2021-12-15T07:21:27.097Z"
   },
   {
    "duration": 19,
    "start_time": "2021-12-15T07:21:27.106Z"
   },
   {
    "duration": 10,
    "start_time": "2021-12-15T07:21:27.127Z"
   },
   {
    "duration": 52,
    "start_time": "2021-12-15T07:21:27.139Z"
   },
   {
    "duration": 8,
    "start_time": "2021-12-15T07:21:27.192Z"
   },
   {
    "duration": 9,
    "start_time": "2021-12-15T07:21:27.201Z"
   },
   {
    "duration": 6,
    "start_time": "2021-12-15T07:21:27.212Z"
   },
   {
    "duration": 8,
    "start_time": "2021-12-15T07:21:27.219Z"
   },
   {
    "duration": 5,
    "start_time": "2021-12-15T07:21:27.228Z"
   },
   {
    "duration": 25,
    "start_time": "2021-12-15T07:21:27.239Z"
   },
   {
    "duration": 197,
    "start_time": "2021-12-15T07:21:27.266Z"
   },
   {
    "duration": 6,
    "start_time": "2021-12-15T07:21:27.465Z"
   },
   {
    "duration": 36,
    "start_time": "2021-12-15T07:21:27.472Z"
   },
   {
    "duration": 23,
    "start_time": "2021-12-15T07:21:27.510Z"
   },
   {
    "duration": 3,
    "start_time": "2021-12-15T07:21:27.535Z"
   },
   {
    "duration": 24,
    "start_time": "2021-12-15T07:21:27.539Z"
   },
   {
    "duration": 24,
    "start_time": "2021-12-15T07:21:27.565Z"
   },
   {
    "duration": 8,
    "start_time": "2021-12-15T07:21:27.591Z"
   },
   {
    "duration": 411,
    "start_time": "2021-12-15T07:21:27.601Z"
   },
   {
    "duration": 1778,
    "start_time": "2021-12-15T07:21:28.014Z"
   },
   {
    "duration": 9,
    "start_time": "2021-12-15T07:21:29.794Z"
   },
   {
    "duration": 431,
    "start_time": "2021-12-15T07:21:29.804Z"
   },
   {
    "duration": 12,
    "start_time": "2021-12-15T07:21:30.237Z"
   },
   {
    "duration": 315,
    "start_time": "2021-12-15T07:21:30.251Z"
   },
   {
    "duration": 582,
    "start_time": "2021-12-15T07:21:30.568Z"
   },
   {
    "duration": 459,
    "start_time": "2021-12-15T07:21:31.152Z"
   },
   {
    "duration": 11,
    "start_time": "2021-12-15T07:21:31.614Z"
   },
   {
    "duration": 370,
    "start_time": "2021-12-15T07:21:31.627Z"
   },
   {
    "duration": 386,
    "start_time": "2021-12-15T07:21:31.999Z"
   },
   {
    "duration": 441,
    "start_time": "2021-12-15T07:21:32.387Z"
   },
   {
    "duration": 3,
    "start_time": "2021-12-15T07:21:32.829Z"
   },
   {
    "duration": 16,
    "start_time": "2021-12-15T07:21:32.833Z"
   },
   {
    "duration": 367,
    "start_time": "2021-12-15T07:21:32.850Z"
   },
   {
    "duration": 277,
    "start_time": "2021-12-15T07:21:33.219Z"
   },
   {
    "duration": 433,
    "start_time": "2021-12-15T07:21:33.498Z"
   },
   {
    "duration": 10,
    "start_time": "2021-12-15T07:21:33.963Z"
   },
   {
    "duration": 357,
    "start_time": "2021-12-15T07:21:33.975Z"
   },
   {
    "duration": 348,
    "start_time": "2021-12-15T07:21:34.334Z"
   },
   {
    "duration": 434,
    "start_time": "2021-12-15T07:21:34.683Z"
   }
  ],
  "kernelspec": {
   "display_name": "Python 3",
   "language": "python",
   "name": "python3"
  },
  "language_info": {
   "codemirror_mode": {
    "name": "ipython",
    "version": 3
   },
   "file_extension": ".py",
   "mimetype": "text/x-python",
   "name": "python",
   "nbconvert_exporter": "python",
   "pygments_lexer": "ipython3",
   "version": "3.8.8"
  },
  "toc": {
   "base_numbering": 1,
   "nav_menu": {},
   "number_sections": true,
   "sideBar": true,
   "skip_h1_title": false,
   "title_cell": "Table of Contents",
   "title_sidebar": "Contents",
   "toc_cell": false,
   "toc_position": {},
   "toc_section_display": true,
   "toc_window_display": false
  }
 },
 "nbformat": 4,
 "nbformat_minor": 2
}
