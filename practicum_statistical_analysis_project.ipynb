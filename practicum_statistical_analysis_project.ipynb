{
 "cells": [
  {
   "cell_type": "markdown",
   "metadata": {},
   "source": [
    "# Introduction \n",
    "\n",
    "The telecom operator Megaline company offers its clients two prepaid plans, Surf and Ultimate. The commercial department wants to know which of the plans brings in more revenue in order to adjust the advertising budget.\n",
    "\n",
    "A preliminary analysis of the plans based on a relatively small client selection is carried out. This analysis uses the data on 500 Megaline clients: who the clients are, where they're from, which plan they use, and the number of calls they made and text messages they sent in 2018. This project analyze the clients' behavior and determine which prepaid plan brings in more revenue."
   ]
  },
  {
   "cell_type": "code",
   "execution_count": 1,
   "metadata": {},
   "outputs": [],
   "source": [
    "# Loading all the libraries\n",
    "import pandas as pd\n",
    "import numpy as np\n",
    "from scipy import stats as st\n",
    "import os\n",
    "import datetime\n",
    "import matplotlib\n",
    "import matplotlib.pyplot as plt\n",
    "import seaborn as sns"
   ]
  },
  {
   "cell_type": "markdown",
   "metadata": {},
   "source": [
    "## Loading data"
   ]
  },
  {
   "cell_type": "code",
   "execution_count": 2,
   "metadata": {},
   "outputs": [],
   "source": [
    "# Load the data files into different DataFrames\n",
    "\n",
    "df_call=pd.read_csv(\"megaline_calls.csv\")\n",
    "df_message=pd.read_csv(\"megaline_messages.csv\")\n",
    "df_internet=pd.read_csv(\"megaline_internet.csv\")\n",
    "df_user=pd.read_csv(\"megaline_users.csv\")\n",
    "df_plan=pd.read_csv(\"megaline_plans.csv\")\n"
   ]
  },
  {
   "cell_type": "markdown",
   "metadata": {},
   "source": [
    "## Preparing the data"
   ]
  },
  {
   "cell_type": "markdown",
   "metadata": {},
   "source": [
    "### Data about two telephone plans"
   ]
  },
  {
   "cell_type": "code",
   "execution_count": 3,
   "metadata": {},
   "outputs": [
    {
     "name": "stdout",
     "output_type": "stream",
     "text": [
      "<class 'pandas.core.frame.DataFrame'>\n",
      "RangeIndex: 2 entries, 0 to 1\n",
      "Data columns (total 8 columns):\n",
      " #   Column                 Non-Null Count  Dtype  \n",
      "---  ------                 --------------  -----  \n",
      " 0   messages_included      2 non-null      int64  \n",
      " 1   mb_per_month_included  2 non-null      int64  \n",
      " 2   minutes_included       2 non-null      int64  \n",
      " 3   usd_monthly_pay        2 non-null      int64  \n",
      " 4   usd_per_gb             2 non-null      int64  \n",
      " 5   usd_per_message        2 non-null      float64\n",
      " 6   usd_per_minute         2 non-null      float64\n",
      " 7   plan_name              2 non-null      object \n",
      "dtypes: float64(2), int64(5), object(1)\n",
      "memory usage: 256.0+ bytes\n"
     ]
    }
   ],
   "source": [
    "# Print the general/summary information about the plans' DataFrame\n",
    "df_plan.info()\n"
   ]
  },
  {
   "cell_type": "code",
   "execution_count": 4,
   "metadata": {},
   "outputs": [
    {
     "data": {
      "text/html": [
       "<div>\n",
       "<style scoped>\n",
       "    .dataframe tbody tr th:only-of-type {\n",
       "        vertical-align: middle;\n",
       "    }\n",
       "\n",
       "    .dataframe tbody tr th {\n",
       "        vertical-align: top;\n",
       "    }\n",
       "\n",
       "    .dataframe thead th {\n",
       "        text-align: right;\n",
       "    }\n",
       "</style>\n",
       "<table border=\"1\" class=\"dataframe\">\n",
       "  <thead>\n",
       "    <tr style=\"text-align: right;\">\n",
       "      <th></th>\n",
       "      <th>messages_included</th>\n",
       "      <th>mb_per_month_included</th>\n",
       "      <th>minutes_included</th>\n",
       "      <th>usd_monthly_pay</th>\n",
       "      <th>usd_per_gb</th>\n",
       "      <th>usd_per_message</th>\n",
       "      <th>usd_per_minute</th>\n",
       "      <th>plan_name</th>\n",
       "    </tr>\n",
       "  </thead>\n",
       "  <tbody>\n",
       "    <tr>\n",
       "      <th>0</th>\n",
       "      <td>50</td>\n",
       "      <td>15360</td>\n",
       "      <td>500</td>\n",
       "      <td>20</td>\n",
       "      <td>10</td>\n",
       "      <td>0.03</td>\n",
       "      <td>0.03</td>\n",
       "      <td>surf</td>\n",
       "    </tr>\n",
       "    <tr>\n",
       "      <th>1</th>\n",
       "      <td>1000</td>\n",
       "      <td>30720</td>\n",
       "      <td>3000</td>\n",
       "      <td>70</td>\n",
       "      <td>7</td>\n",
       "      <td>0.01</td>\n",
       "      <td>0.01</td>\n",
       "      <td>ultimate</td>\n",
       "    </tr>\n",
       "  </tbody>\n",
       "</table>\n",
       "</div>"
      ],
      "text/plain": [
       "   messages_included  mb_per_month_included  minutes_included  \\\n",
       "0                 50                  15360               500   \n",
       "1               1000                  30720              3000   \n",
       "\n",
       "   usd_monthly_pay  usd_per_gb  usd_per_message  usd_per_minute plan_name  \n",
       "0               20          10             0.03            0.03      surf  \n",
       "1               70           7             0.01            0.01  ultimate  "
      ]
     },
     "execution_count": 4,
     "metadata": {},
     "output_type": "execute_result"
    }
   ],
   "source": [
    "# Print a sample of data for plans\n",
    "df_plan.head(5)"
   ]
  },
  {
   "cell_type": "markdown",
   "metadata": {},
   "source": [
    " "
   ]
  },
  {
   "cell_type": "markdown",
   "metadata": {},
   "source": [
    "### Data about Users"
   ]
  },
  {
   "cell_type": "code",
   "execution_count": 5,
   "metadata": {},
   "outputs": [
    {
     "name": "stdout",
     "output_type": "stream",
     "text": [
      "<class 'pandas.core.frame.DataFrame'>\n",
      "RangeIndex: 500 entries, 0 to 499\n",
      "Data columns (total 8 columns):\n",
      " #   Column      Non-Null Count  Dtype \n",
      "---  ------      --------------  ----- \n",
      " 0   user_id     500 non-null    int64 \n",
      " 1   first_name  500 non-null    object\n",
      " 2   last_name   500 non-null    object\n",
      " 3   age         500 non-null    int64 \n",
      " 4   city        500 non-null    object\n",
      " 5   reg_date    500 non-null    object\n",
      " 6   plan        500 non-null    object\n",
      " 7   churn_date  34 non-null     object\n",
      "dtypes: int64(2), object(6)\n",
      "memory usage: 31.4+ KB\n"
     ]
    }
   ],
   "source": [
    "# Print the general/summary information about the users' DataFrame\n",
    "df_user.info()"
   ]
  },
  {
   "cell_type": "code",
   "execution_count": 6,
   "metadata": {},
   "outputs": [
    {
     "data": {
      "text/html": [
       "<div>\n",
       "<style scoped>\n",
       "    .dataframe tbody tr th:only-of-type {\n",
       "        vertical-align: middle;\n",
       "    }\n",
       "\n",
       "    .dataframe tbody tr th {\n",
       "        vertical-align: top;\n",
       "    }\n",
       "\n",
       "    .dataframe thead th {\n",
       "        text-align: right;\n",
       "    }\n",
       "</style>\n",
       "<table border=\"1\" class=\"dataframe\">\n",
       "  <thead>\n",
       "    <tr style=\"text-align: right;\">\n",
       "      <th></th>\n",
       "      <th>user_id</th>\n",
       "      <th>first_name</th>\n",
       "      <th>last_name</th>\n",
       "      <th>age</th>\n",
       "      <th>city</th>\n",
       "      <th>reg_date</th>\n",
       "      <th>plan</th>\n",
       "      <th>churn_date</th>\n",
       "    </tr>\n",
       "  </thead>\n",
       "  <tbody>\n",
       "    <tr>\n",
       "      <th>0</th>\n",
       "      <td>1000</td>\n",
       "      <td>Anamaria</td>\n",
       "      <td>Bauer</td>\n",
       "      <td>45</td>\n",
       "      <td>Atlanta-Sandy Springs-Roswell, GA MSA</td>\n",
       "      <td>2018-12-24</td>\n",
       "      <td>ultimate</td>\n",
       "      <td>NaN</td>\n",
       "    </tr>\n",
       "    <tr>\n",
       "      <th>1</th>\n",
       "      <td>1001</td>\n",
       "      <td>Mickey</td>\n",
       "      <td>Wilkerson</td>\n",
       "      <td>28</td>\n",
       "      <td>Seattle-Tacoma-Bellevue, WA MSA</td>\n",
       "      <td>2018-08-13</td>\n",
       "      <td>surf</td>\n",
       "      <td>NaN</td>\n",
       "    </tr>\n",
       "    <tr>\n",
       "      <th>2</th>\n",
       "      <td>1002</td>\n",
       "      <td>Carlee</td>\n",
       "      <td>Hoffman</td>\n",
       "      <td>36</td>\n",
       "      <td>Las Vegas-Henderson-Paradise, NV MSA</td>\n",
       "      <td>2018-10-21</td>\n",
       "      <td>surf</td>\n",
       "      <td>NaN</td>\n",
       "    </tr>\n",
       "    <tr>\n",
       "      <th>3</th>\n",
       "      <td>1003</td>\n",
       "      <td>Reynaldo</td>\n",
       "      <td>Jenkins</td>\n",
       "      <td>52</td>\n",
       "      <td>Tulsa, OK MSA</td>\n",
       "      <td>2018-01-28</td>\n",
       "      <td>surf</td>\n",
       "      <td>NaN</td>\n",
       "    </tr>\n",
       "    <tr>\n",
       "      <th>4</th>\n",
       "      <td>1004</td>\n",
       "      <td>Leonila</td>\n",
       "      <td>Thompson</td>\n",
       "      <td>40</td>\n",
       "      <td>Seattle-Tacoma-Bellevue, WA MSA</td>\n",
       "      <td>2018-05-23</td>\n",
       "      <td>surf</td>\n",
       "      <td>NaN</td>\n",
       "    </tr>\n",
       "  </tbody>\n",
       "</table>\n",
       "</div>"
      ],
      "text/plain": [
       "   user_id first_name  last_name  age                                   city  \\\n",
       "0     1000   Anamaria      Bauer   45  Atlanta-Sandy Springs-Roswell, GA MSA   \n",
       "1     1001     Mickey  Wilkerson   28        Seattle-Tacoma-Bellevue, WA MSA   \n",
       "2     1002     Carlee    Hoffman   36   Las Vegas-Henderson-Paradise, NV MSA   \n",
       "3     1003   Reynaldo    Jenkins   52                          Tulsa, OK MSA   \n",
       "4     1004    Leonila   Thompson   40        Seattle-Tacoma-Bellevue, WA MSA   \n",
       "\n",
       "     reg_date      plan churn_date  \n",
       "0  2018-12-24  ultimate        NaN  \n",
       "1  2018-08-13      surf        NaN  \n",
       "2  2018-10-21      surf        NaN  \n",
       "3  2018-01-28      surf        NaN  \n",
       "4  2018-05-23      surf        NaN  "
      ]
     },
     "execution_count": 6,
     "metadata": {},
     "output_type": "execute_result"
    }
   ],
   "source": [
    "# Print a sample of data for users\n",
    "df_user.head(5)"
   ]
  },
  {
   "cell_type": "markdown",
   "metadata": {},
   "source": [
    " "
   ]
  },
  {
   "cell_type": "code",
   "execution_count": 7,
   "metadata": {},
   "outputs": [],
   "source": [
    "# change data type\n",
    "df_user[\"reg_date\"]=pd.to_datetime(df_user[\"reg_date\"])"
   ]
  },
  {
   "cell_type": "code",
   "execution_count": 8,
   "metadata": {},
   "outputs": [],
   "source": [
    "df_user[\"churn_date\"]=pd.to_datetime(df_user[\"churn_date\"])\n"
   ]
  },
  {
   "cell_type": "code",
   "execution_count": 9,
   "metadata": {},
   "outputs": [
    {
     "data": {
      "text/plain": [
       "user_id         0\n",
       "first_name      0\n",
       "last_name       0\n",
       "age             0\n",
       "city            0\n",
       "reg_date        0\n",
       "plan            0\n",
       "churn_date    466\n",
       "dtype: int64"
      ]
     },
     "execution_count": 9,
     "metadata": {},
     "output_type": "execute_result"
    }
   ],
   "source": [
    "# check missing values\n",
    "df_user.isnull().sum()"
   ]
  },
  {
   "cell_type": "code",
   "execution_count": 10,
   "metadata": {},
   "outputs": [
    {
     "name": "stdout",
     "output_type": "stream",
     "text": [
      "<class 'pandas.core.frame.DataFrame'>\n",
      "RangeIndex: 500 entries, 0 to 499\n",
      "Data columns (total 8 columns):\n",
      " #   Column      Non-Null Count  Dtype         \n",
      "---  ------      --------------  -----         \n",
      " 0   user_id     500 non-null    int64         \n",
      " 1   first_name  500 non-null    object        \n",
      " 2   last_name   500 non-null    object        \n",
      " 3   age         500 non-null    int64         \n",
      " 4   city        500 non-null    object        \n",
      " 5   reg_date    500 non-null    datetime64[ns]\n",
      " 6   plan        500 non-null    object        \n",
      " 7   churn_date  34 non-null     datetime64[ns]\n",
      "dtypes: datetime64[ns](2), int64(2), object(4)\n",
      "memory usage: 31.4+ KB\n"
     ]
    }
   ],
   "source": [
    "df_user.info()"
   ]
  },
  {
   "cell_type": "markdown",
   "metadata": {},
   "source": [
    "### Enriching Data"
   ]
  },
  {
   "cell_type": "markdown",
   "metadata": {},
   "source": [
    "Since users who were still using the plan have missing data on churn_date column, so this missing values are replaced with currently_using.\n",
    "Get date and month for date columns"
   ]
  },
  {
   "cell_type": "code",
   "execution_count": 11,
   "metadata": {},
   "outputs": [],
   "source": [
    "# get churn_month and reg_month from churn_date and reg_date respectively\n",
    "df_user[\"month\"]=df_user[\"reg_date\"].dt.month\n",
    "df_user[\"churn_month\"]=df_user[\"churn_date\"].dt.month"
   ]
  },
  {
   "cell_type": "markdown",
   "metadata": {},
   "source": [
    "### Data about Calls"
   ]
  },
  {
   "cell_type": "code",
   "execution_count": 12,
   "metadata": {},
   "outputs": [
    {
     "name": "stdout",
     "output_type": "stream",
     "text": [
      "<class 'pandas.core.frame.DataFrame'>\n",
      "RangeIndex: 137735 entries, 0 to 137734\n",
      "Data columns (total 4 columns):\n",
      " #   Column     Non-Null Count   Dtype  \n",
      "---  ------     --------------   -----  \n",
      " 0   id         137735 non-null  object \n",
      " 1   user_id    137735 non-null  int64  \n",
      " 2   call_date  137735 non-null  object \n",
      " 3   duration   137735 non-null  float64\n",
      "dtypes: float64(1), int64(1), object(2)\n",
      "memory usage: 4.2+ MB\n"
     ]
    }
   ],
   "source": [
    "# Print the general/summary information about the calls' DataFrame\n",
    "df_call.info()"
   ]
  },
  {
   "cell_type": "code",
   "execution_count": 13,
   "metadata": {},
   "outputs": [
    {
     "data": {
      "text/html": [
       "<div>\n",
       "<style scoped>\n",
       "    .dataframe tbody tr th:only-of-type {\n",
       "        vertical-align: middle;\n",
       "    }\n",
       "\n",
       "    .dataframe tbody tr th {\n",
       "        vertical-align: top;\n",
       "    }\n",
       "\n",
       "    .dataframe thead th {\n",
       "        text-align: right;\n",
       "    }\n",
       "</style>\n",
       "<table border=\"1\" class=\"dataframe\">\n",
       "  <thead>\n",
       "    <tr style=\"text-align: right;\">\n",
       "      <th></th>\n",
       "      <th>id</th>\n",
       "      <th>user_id</th>\n",
       "      <th>call_date</th>\n",
       "      <th>duration</th>\n",
       "    </tr>\n",
       "  </thead>\n",
       "  <tbody>\n",
       "    <tr>\n",
       "      <th>0</th>\n",
       "      <td>1000_93</td>\n",
       "      <td>1000</td>\n",
       "      <td>2018-12-27</td>\n",
       "      <td>8.52</td>\n",
       "    </tr>\n",
       "    <tr>\n",
       "      <th>1</th>\n",
       "      <td>1000_145</td>\n",
       "      <td>1000</td>\n",
       "      <td>2018-12-27</td>\n",
       "      <td>13.66</td>\n",
       "    </tr>\n",
       "    <tr>\n",
       "      <th>2</th>\n",
       "      <td>1000_247</td>\n",
       "      <td>1000</td>\n",
       "      <td>2018-12-27</td>\n",
       "      <td>14.48</td>\n",
       "    </tr>\n",
       "    <tr>\n",
       "      <th>3</th>\n",
       "      <td>1000_309</td>\n",
       "      <td>1000</td>\n",
       "      <td>2018-12-28</td>\n",
       "      <td>5.76</td>\n",
       "    </tr>\n",
       "    <tr>\n",
       "      <th>4</th>\n",
       "      <td>1000_380</td>\n",
       "      <td>1000</td>\n",
       "      <td>2018-12-30</td>\n",
       "      <td>4.22</td>\n",
       "    </tr>\n",
       "  </tbody>\n",
       "</table>\n",
       "</div>"
      ],
      "text/plain": [
       "         id  user_id   call_date  duration\n",
       "0   1000_93     1000  2018-12-27      8.52\n",
       "1  1000_145     1000  2018-12-27     13.66\n",
       "2  1000_247     1000  2018-12-27     14.48\n",
       "3  1000_309     1000  2018-12-28      5.76\n",
       "4  1000_380     1000  2018-12-30      4.22"
      ]
     },
     "execution_count": 13,
     "metadata": {},
     "output_type": "execute_result"
    }
   ],
   "source": [
    "# Print a sample of data for calls\n",
    "df_call.head(5)"
   ]
  },
  {
   "cell_type": "markdown",
   "metadata": {},
   "source": [
    "Call_date column is in object dtype, so change them to date type"
   ]
  },
  {
   "cell_type": "markdown",
   "metadata": {},
   "source": [
    " "
   ]
  },
  {
   "cell_type": "code",
   "execution_count": 14,
   "metadata": {},
   "outputs": [],
   "source": [
    "# change call_date date type to date type\n",
    "df_call[\"call_date\"]=pd.to_datetime(df_call[\"call_date\"])"
   ]
  },
  {
   "cell_type": "markdown",
   "metadata": {},
   "source": [
    "### Enriching Call data"
   ]
  },
  {
   "cell_type": "code",
   "execution_count": 15,
   "metadata": {},
   "outputs": [],
   "source": [
    "# getting month \n",
    "df_call[\"month\"]=df_call[\"call_date\"].dt.month"
   ]
  },
  {
   "cell_type": "code",
   "execution_count": 19,
   "metadata": {},
   "outputs": [],
   "source": [
    "# round up duration to minutes\n",
    "def round_up(duration):\n",
    "    seconds=duration*60\n",
    "    if seconds%60==0:\n",
    "        return duration\n",
    "    return np.ceil(duration)"
   ]
  },
  {
   "cell_type": "markdown",
   "metadata": {},
   "source": [
    "### Data about messages"
   ]
  },
  {
   "cell_type": "code",
   "execution_count": 20,
   "metadata": {},
   "outputs": [
    {
     "name": "stdout",
     "output_type": "stream",
     "text": [
      "<class 'pandas.core.frame.DataFrame'>\n",
      "RangeIndex: 76051 entries, 0 to 76050\n",
      "Data columns (total 3 columns):\n",
      " #   Column        Non-Null Count  Dtype         \n",
      "---  ------        --------------  -----         \n",
      " 0   id            76051 non-null  object        \n",
      " 1   user_id       76051 non-null  int64         \n",
      " 2   message_date  76051 non-null  datetime64[ns]\n",
      "dtypes: datetime64[ns](1), int64(1), object(1)\n",
      "memory usage: 1.7+ MB\n"
     ]
    }
   ],
   "source": [
    "# Print the general/summary information about the messages' DataFrame\n",
    "df_message.info()\n"
   ]
  },
  {
   "cell_type": "code",
   "execution_count": 21,
   "metadata": {},
   "outputs": [
    {
     "data": {
      "text/html": [
       "<div>\n",
       "<style scoped>\n",
       "    .dataframe tbody tr th:only-of-type {\n",
       "        vertical-align: middle;\n",
       "    }\n",
       "\n",
       "    .dataframe tbody tr th {\n",
       "        vertical-align: top;\n",
       "    }\n",
       "\n",
       "    .dataframe thead th {\n",
       "        text-align: right;\n",
       "    }\n",
       "</style>\n",
       "<table border=\"1\" class=\"dataframe\">\n",
       "  <thead>\n",
       "    <tr style=\"text-align: right;\">\n",
       "      <th></th>\n",
       "      <th>id</th>\n",
       "      <th>user_id</th>\n",
       "      <th>message_date</th>\n",
       "    </tr>\n",
       "  </thead>\n",
       "  <tbody>\n",
       "    <tr>\n",
       "      <th>0</th>\n",
       "      <td>1000_125</td>\n",
       "      <td>1000</td>\n",
       "      <td>2018-12-27</td>\n",
       "    </tr>\n",
       "    <tr>\n",
       "      <th>1</th>\n",
       "      <td>1000_160</td>\n",
       "      <td>1000</td>\n",
       "      <td>2018-12-31</td>\n",
       "    </tr>\n",
       "    <tr>\n",
       "      <th>2</th>\n",
       "      <td>1000_223</td>\n",
       "      <td>1000</td>\n",
       "      <td>2018-12-31</td>\n",
       "    </tr>\n",
       "    <tr>\n",
       "      <th>3</th>\n",
       "      <td>1000_251</td>\n",
       "      <td>1000</td>\n",
       "      <td>2018-12-27</td>\n",
       "    </tr>\n",
       "    <tr>\n",
       "      <th>4</th>\n",
       "      <td>1000_255</td>\n",
       "      <td>1000</td>\n",
       "      <td>2018-12-26</td>\n",
       "    </tr>\n",
       "  </tbody>\n",
       "</table>\n",
       "</div>"
      ],
      "text/plain": [
       "         id  user_id message_date\n",
       "0  1000_125     1000   2018-12-27\n",
       "1  1000_160     1000   2018-12-31\n",
       "2  1000_223     1000   2018-12-31\n",
       "3  1000_251     1000   2018-12-27\n",
       "4  1000_255     1000   2018-12-26"
      ]
     },
     "execution_count": 21,
     "metadata": {},
     "output_type": "execute_result"
    }
   ],
   "source": [
    "# Print a sample of data for messages\n",
    "df_message.head(5)"
   ]
  },
  {
   "cell_type": "markdown",
   "metadata": {},
   "source": [
    "message_date is given in object type, so change it to date type"
   ]
  },
  {
   "cell_type": "markdown",
   "metadata": {},
   "source": [
    " "
   ]
  },
  {
   "cell_type": "code",
   "execution_count": 22,
   "metadata": {},
   "outputs": [],
   "source": [
    "# change the given column to date type\n",
    "df_message[\"message_date\"]=pd.to_datetime(df_message[\"message_date\"])"
   ]
  },
  {
   "cell_type": "markdown",
   "metadata": {},
   "source": [
    "### Enriching  Messages data"
   ]
  },
  {
   "cell_type": "code",
   "execution_count": 23,
   "metadata": {},
   "outputs": [],
   "source": [
    "# get month of message_date\n",
    "df_message[\"month\"]=df_message[\"message_date\"].dt.month"
   ]
  },
  {
   "cell_type": "markdown",
   "metadata": {},
   "source": [
    "### Data about Internet "
   ]
  },
  {
   "cell_type": "code",
   "execution_count": 24,
   "metadata": {},
   "outputs": [
    {
     "name": "stdout",
     "output_type": "stream",
     "text": [
      "<class 'pandas.core.frame.DataFrame'>\n",
      "RangeIndex: 104825 entries, 0 to 104824\n",
      "Data columns (total 4 columns):\n",
      " #   Column        Non-Null Count   Dtype  \n",
      "---  ------        --------------   -----  \n",
      " 0   id            104825 non-null  object \n",
      " 1   user_id       104825 non-null  int64  \n",
      " 2   session_date  104825 non-null  object \n",
      " 3   mb_used       104825 non-null  float64\n",
      "dtypes: float64(1), int64(1), object(2)\n",
      "memory usage: 3.2+ MB\n"
     ]
    }
   ],
   "source": [
    "# Print the general/summary information about the internet DataFrame\n",
    "df_internet.info()"
   ]
  },
  {
   "cell_type": "code",
   "execution_count": 25,
   "metadata": {},
   "outputs": [
    {
     "data": {
      "text/html": [
       "<div>\n",
       "<style scoped>\n",
       "    .dataframe tbody tr th:only-of-type {\n",
       "        vertical-align: middle;\n",
       "    }\n",
       "\n",
       "    .dataframe tbody tr th {\n",
       "        vertical-align: top;\n",
       "    }\n",
       "\n",
       "    .dataframe thead th {\n",
       "        text-align: right;\n",
       "    }\n",
       "</style>\n",
       "<table border=\"1\" class=\"dataframe\">\n",
       "  <thead>\n",
       "    <tr style=\"text-align: right;\">\n",
       "      <th></th>\n",
       "      <th>id</th>\n",
       "      <th>user_id</th>\n",
       "      <th>session_date</th>\n",
       "      <th>mb_used</th>\n",
       "    </tr>\n",
       "  </thead>\n",
       "  <tbody>\n",
       "    <tr>\n",
       "      <th>0</th>\n",
       "      <td>1000_13</td>\n",
       "      <td>1000</td>\n",
       "      <td>2018-12-29</td>\n",
       "      <td>89.86</td>\n",
       "    </tr>\n",
       "    <tr>\n",
       "      <th>1</th>\n",
       "      <td>1000_204</td>\n",
       "      <td>1000</td>\n",
       "      <td>2018-12-31</td>\n",
       "      <td>0.00</td>\n",
       "    </tr>\n",
       "    <tr>\n",
       "      <th>2</th>\n",
       "      <td>1000_379</td>\n",
       "      <td>1000</td>\n",
       "      <td>2018-12-28</td>\n",
       "      <td>660.40</td>\n",
       "    </tr>\n",
       "    <tr>\n",
       "      <th>3</th>\n",
       "      <td>1000_413</td>\n",
       "      <td>1000</td>\n",
       "      <td>2018-12-26</td>\n",
       "      <td>270.99</td>\n",
       "    </tr>\n",
       "    <tr>\n",
       "      <th>4</th>\n",
       "      <td>1000_442</td>\n",
       "      <td>1000</td>\n",
       "      <td>2018-12-27</td>\n",
       "      <td>880.22</td>\n",
       "    </tr>\n",
       "  </tbody>\n",
       "</table>\n",
       "</div>"
      ],
      "text/plain": [
       "         id  user_id session_date  mb_used\n",
       "0   1000_13     1000   2018-12-29    89.86\n",
       "1  1000_204     1000   2018-12-31     0.00\n",
       "2  1000_379     1000   2018-12-28   660.40\n",
       "3  1000_413     1000   2018-12-26   270.99\n",
       "4  1000_442     1000   2018-12-27   880.22"
      ]
     },
     "execution_count": 25,
     "metadata": {},
     "output_type": "execute_result"
    }
   ],
   "source": [
    "# Print a sample of data for the internet traffic\n",
    "df_internet.head(5)"
   ]
  },
  {
   "cell_type": "markdown",
   "metadata": {},
   "source": [
    " session_date is given as object type, so change it to date data type."
   ]
  },
  {
   "cell_type": "code",
   "execution_count": 26,
   "metadata": {},
   "outputs": [],
   "source": [
    "# change the given column to datetime type\n",
    "df_internet[\"session_date\"]=pd.to_datetime(df_internet[\"session_date\"])"
   ]
  },
  {
   "cell_type": "markdown",
   "metadata": {},
   "source": [
    "### Enriching Messages data"
   ]
  },
  {
   "cell_type": "code",
   "execution_count": 27,
   "metadata": {},
   "outputs": [],
   "source": [
    "# Get session month from session date\n",
    "df_internet[\"month\"]=df_internet[\"session_date\"].dt.month"
   ]
  },
  {
   "cell_type": "markdown",
   "metadata": {},
   "source": [
    "## Study plan conditions"
   ]
  },
  {
   "cell_type": "code",
   "execution_count": 28,
   "metadata": {},
   "outputs": [
    {
     "data": {
      "text/html": [
       "<div>\n",
       "<style scoped>\n",
       "    .dataframe tbody tr th:only-of-type {\n",
       "        vertical-align: middle;\n",
       "    }\n",
       "\n",
       "    .dataframe tbody tr th {\n",
       "        vertical-align: top;\n",
       "    }\n",
       "\n",
       "    .dataframe thead th {\n",
       "        text-align: right;\n",
       "    }\n",
       "</style>\n",
       "<table border=\"1\" class=\"dataframe\">\n",
       "  <thead>\n",
       "    <tr style=\"text-align: right;\">\n",
       "      <th></th>\n",
       "      <th>messages_included</th>\n",
       "      <th>mb_per_month_included</th>\n",
       "      <th>minutes_included</th>\n",
       "      <th>usd_monthly_pay</th>\n",
       "      <th>usd_per_gb</th>\n",
       "      <th>usd_per_message</th>\n",
       "      <th>usd_per_minute</th>\n",
       "      <th>plan_name</th>\n",
       "    </tr>\n",
       "  </thead>\n",
       "  <tbody>\n",
       "    <tr>\n",
       "      <th>0</th>\n",
       "      <td>50</td>\n",
       "      <td>15360</td>\n",
       "      <td>500</td>\n",
       "      <td>20</td>\n",
       "      <td>10</td>\n",
       "      <td>0.03</td>\n",
       "      <td>0.03</td>\n",
       "      <td>surf</td>\n",
       "    </tr>\n",
       "    <tr>\n",
       "      <th>1</th>\n",
       "      <td>1000</td>\n",
       "      <td>30720</td>\n",
       "      <td>3000</td>\n",
       "      <td>70</td>\n",
       "      <td>7</td>\n",
       "      <td>0.01</td>\n",
       "      <td>0.01</td>\n",
       "      <td>ultimate</td>\n",
       "    </tr>\n",
       "  </tbody>\n",
       "</table>\n",
       "</div>"
      ],
      "text/plain": [
       "   messages_included  mb_per_month_included  minutes_included  \\\n",
       "0                 50                  15360               500   \n",
       "1               1000                  30720              3000   \n",
       "\n",
       "   usd_monthly_pay  usd_per_gb  usd_per_message  usd_per_minute plan_name  \n",
       "0               20          10             0.03            0.03      surf  \n",
       "1               70           7             0.01            0.01  ultimate  "
      ]
     },
     "execution_count": 28,
     "metadata": {},
     "output_type": "execute_result"
    }
   ],
   "source": [
    "# Print out the plan conditions and make sure they are clear for you\n",
    "df_plan.head(5)\n"
   ]
  },
  {
   "cell_type": "code",
   "execution_count": 30,
   "metadata": {},
   "outputs": [
    {
     "data": {
      "image/png": "[encoded data removed]",
      "text/plain": [
       "<Figure size 432x288 with 4 Axes>"
      ]
     },
     "metadata": {
      "needs_background": "light"
     },
     "output_type": "display_data"
    }
   ],
   "source": [
    "# check data\n",
    "df_call.hist()\n",
    "plt.show()"
   ]
  },
  {
   "cell_type": "code",
   "execution_count": 31,
   "metadata": {},
   "outputs": [
    {
     "data": {
      "image/png": "[encoded data removed]",
      "text/plain": [
       "<Figure size 432x288 with 4 Axes>"
      ]
     },
     "metadata": {
      "needs_background": "light"
     },
     "output_type": "display_data"
    }
   ],
   "source": [
    "# check internet data\n",
    "df_internet.hist()\n",
    "plt.show()"
   ]
  },
  {
   "cell_type": "markdown",
   "metadata": {},
   "source": [
    "## Aggregate data per user\n",
    "\n",
    "[Now, as the data is clean, aggregate data per user per period in order to have just one record per user per period. It should ease the further analysis a lot.]"
   ]
  },
  {
   "cell_type": "code",
   "execution_count": 29,
   "metadata": {},
   "outputs": [],
   "source": [
    "# Calculate the number of calls made by each user per month. Save the result.\n",
    "df_call.head(5)\n",
    "call_per_user_month=pd.pivot_table(df_call, index=[\"user_id\",\"month\"],values=[\"id\"],aggfunc=\"count\")"
   ]
  },
  {
   "cell_type": "code",
   "execution_count": 32,
   "metadata": {},
   "outputs": [],
   "source": [
    "# Calculate the amount of minutes spent by each user per month. Save the result.\n",
    "\n",
    "call_per_user_month=df_call.pivot_table(index = ('user_id','month'), values = 'duration', aggfunc = ('count','sum')).reset_index()"
   ]
  },
  {
   "cell_type": "code",
   "execution_count": 33,
   "metadata": {},
   "outputs": [],
   "source": [
    "# change columns name \n",
    "call_per_user_month.rename(columns={\"count\":\"call_count\",\"sum\":\"total_duration\"},inplace=True)"
   ]
  },
  {
   "cell_type": "code",
   "execution_count": 34,
   "metadata": {},
   "outputs": [
    {
     "data": {
      "text/plain": [
       "Index(['user_id', 'month', 'call_count', 'total_duration'], dtype='object')"
      ]
     },
     "execution_count": 34,
     "metadata": {},
     "output_type": "execute_result"
    }
   ],
   "source": [
    "call_per_user_month.columns"
   ]
  },
  {
   "cell_type": "code",
   "execution_count": 35,
   "metadata": {},
   "outputs": [],
   "source": [
    "# creating avg_call_duration of each user\n",
    "call_per_user_month[\"avg_call_duration\"]=round(call_per_user_month[\"total_duration\"]/call_per_user_month[\"call_count\"],2)"
   ]
  },
  {
   "cell_type": "code",
   "execution_count": 107,
   "metadata": {},
   "outputs": [
    {
     "data": {
      "text/html": [
       "<div>\n",
       "<style scoped>\n",
       "    .dataframe tbody tr th:only-of-type {\n",
       "        vertical-align: middle;\n",
       "    }\n",
       "\n",
       "    .dataframe tbody tr th {\n",
       "        vertical-align: top;\n",
       "    }\n",
       "\n",
       "    .dataframe thead th {\n",
       "        text-align: right;\n",
       "    }\n",
       "</style>\n",
       "<table border=\"1\" class=\"dataframe\">\n",
       "  <thead>\n",
       "    <tr style=\"text-align: right;\">\n",
       "      <th></th>\n",
       "      <th></th>\n",
       "      <th>id</th>\n",
       "    </tr>\n",
       "    <tr>\n",
       "      <th>user_id</th>\n",
       "      <th>month</th>\n",
       "      <th></th>\n",
       "    </tr>\n",
       "  </thead>\n",
       "  <tbody>\n",
       "    <tr>\n",
       "      <th>1000</th>\n",
       "      <th>12</th>\n",
       "      <td>16</td>\n",
       "    </tr>\n",
       "    <tr>\n",
       "      <th rowspan=\"5\" valign=\"top\">1001</th>\n",
       "      <th>8</th>\n",
       "      <td>27</td>\n",
       "    </tr>\n",
       "    <tr>\n",
       "      <th>9</th>\n",
       "      <td>49</td>\n",
       "    </tr>\n",
       "    <tr>\n",
       "      <th>10</th>\n",
       "      <td>65</td>\n",
       "    </tr>\n",
       "    <tr>\n",
       "      <th>11</th>\n",
       "      <td>64</td>\n",
       "    </tr>\n",
       "    <tr>\n",
       "      <th>12</th>\n",
       "      <td>56</td>\n",
       "    </tr>\n",
       "    <tr>\n",
       "      <th rowspan=\"3\" valign=\"top\">1002</th>\n",
       "      <th>10</th>\n",
       "      <td>11</td>\n",
       "    </tr>\n",
       "    <tr>\n",
       "      <th>11</th>\n",
       "      <td>55</td>\n",
       "    </tr>\n",
       "    <tr>\n",
       "      <th>12</th>\n",
       "      <td>47</td>\n",
       "    </tr>\n",
       "    <tr>\n",
       "      <th>1003</th>\n",
       "      <th>12</th>\n",
       "      <td>149</td>\n",
       "    </tr>\n",
       "  </tbody>\n",
       "</table>\n",
       "</div>"
      ],
      "text/plain": [
       "                id\n",
       "user_id month     \n",
       "1000    12      16\n",
       "1001    8       27\n",
       "        9       49\n",
       "        10      65\n",
       "        11      64\n",
       "        12      56\n",
       "1002    10      11\n",
       "        11      55\n",
       "        12      47\n",
       "1003    12     149"
      ]
     },
     "execution_count": 107,
     "metadata": {},
     "output_type": "execute_result"
    }
   ],
   "source": [
    "call_per_user_month.head(10)"
   ]
  },
  {
   "cell_type": "code",
   "execution_count": 108,
   "metadata": {},
   "outputs": [
    {
     "data": {
      "text/plain": [
       "Index(['id', 'user_id', 'call_date', 'duration', 'month'], dtype='object')"
      ]
     },
     "execution_count": 108,
     "metadata": {},
     "output_type": "execute_result"
    }
   ],
   "source": [
    "df_call.columns"
   ]
  },
  {
   "cell_type": "code",
   "execution_count": 109,
   "metadata": {},
   "outputs": [
    {
     "data": {
      "text/html": [
       "<div>\n",
       "<style scoped>\n",
       "    .dataframe tbody tr th:only-of-type {\n",
       "        vertical-align: middle;\n",
       "    }\n",
       "\n",
       "    .dataframe tbody tr th {\n",
       "        vertical-align: top;\n",
       "    }\n",
       "\n",
       "    .dataframe thead th {\n",
       "        text-align: right;\n",
       "    }\n",
       "</style>\n",
       "<table border=\"1\" class=\"dataframe\">\n",
       "  <thead>\n",
       "    <tr style=\"text-align: right;\">\n",
       "      <th></th>\n",
       "      <th></th>\n",
       "      <th>duration</th>\n",
       "    </tr>\n",
       "    <tr>\n",
       "      <th>user_id</th>\n",
       "      <th>month</th>\n",
       "      <th></th>\n",
       "    </tr>\n",
       "  </thead>\n",
       "  <tbody>\n",
       "    <tr>\n",
       "      <th>1000</th>\n",
       "      <th>12</th>\n",
       "      <td>116.83</td>\n",
       "    </tr>\n",
       "    <tr>\n",
       "      <th rowspan=\"4\" valign=\"top\">1001</th>\n",
       "      <th>8</th>\n",
       "      <td>171.14</td>\n",
       "    </tr>\n",
       "    <tr>\n",
       "      <th>9</th>\n",
       "      <td>297.69</td>\n",
       "    </tr>\n",
       "    <tr>\n",
       "      <th>10</th>\n",
       "      <td>374.11</td>\n",
       "    </tr>\n",
       "    <tr>\n",
       "      <th>11</th>\n",
       "      <td>404.59</td>\n",
       "    </tr>\n",
       "    <tr>\n",
       "      <th>...</th>\n",
       "      <th>...</th>\n",
       "      <td>...</td>\n",
       "    </tr>\n",
       "    <tr>\n",
       "      <th>1498</th>\n",
       "      <th>12</th>\n",
       "      <td>324.77</td>\n",
       "    </tr>\n",
       "    <tr>\n",
       "      <th rowspan=\"4\" valign=\"top\">1499</th>\n",
       "      <th>9</th>\n",
       "      <td>330.37</td>\n",
       "    </tr>\n",
       "    <tr>\n",
       "      <th>10</th>\n",
       "      <td>363.28</td>\n",
       "    </tr>\n",
       "    <tr>\n",
       "      <th>11</th>\n",
       "      <td>288.56</td>\n",
       "    </tr>\n",
       "    <tr>\n",
       "      <th>12</th>\n",
       "      <td>468.10</td>\n",
       "    </tr>\n",
       "  </tbody>\n",
       "</table>\n",
       "<p>2258 rows × 1 columns</p>\n",
       "</div>"
      ],
      "text/plain": [
       "               duration\n",
       "user_id month          \n",
       "1000    12       116.83\n",
       "1001    8        171.14\n",
       "        9        297.69\n",
       "        10       374.11\n",
       "        11       404.59\n",
       "...                 ...\n",
       "1498    12       324.77\n",
       "1499    9        330.37\n",
       "        10       363.28\n",
       "        11       288.56\n",
       "        12       468.10\n",
       "\n",
       "[2258 rows x 1 columns]"
      ]
     },
     "execution_count": 109,
     "metadata": {},
     "output_type": "execute_result"
    }
   ],
   "source": [
    "# Calculate the amount of minutes spent by each user per month. Save the result.\n",
    "minute_by_user_month=pd.pivot_table(df_call,index=[\"user_id\",\"month\"],values=\"duration\",aggfunc=\"sum\")\n",
    "minute_by_user_month\n"
   ]
  },
  {
   "cell_type": "code",
   "execution_count": 110,
   "metadata": {
    "scrolled": true
   },
   "outputs": [
    {
     "data": {
      "text/html": [
       "<div>\n",
       "<style scoped>\n",
       "    .dataframe tbody tr th:only-of-type {\n",
       "        vertical-align: middle;\n",
       "    }\n",
       "\n",
       "    .dataframe tbody tr th {\n",
       "        vertical-align: top;\n",
       "    }\n",
       "\n",
       "    .dataframe thead th {\n",
       "        text-align: right;\n",
       "    }\n",
       "</style>\n",
       "<table border=\"1\" class=\"dataframe\">\n",
       "  <thead>\n",
       "    <tr style=\"text-align: right;\">\n",
       "      <th></th>\n",
       "      <th></th>\n",
       "      <th>id</th>\n",
       "    </tr>\n",
       "    <tr>\n",
       "      <th>user_id</th>\n",
       "      <th>month</th>\n",
       "      <th></th>\n",
       "    </tr>\n",
       "  </thead>\n",
       "  <tbody>\n",
       "    <tr>\n",
       "      <th>1000</th>\n",
       "      <th>12</th>\n",
       "      <td>11</td>\n",
       "    </tr>\n",
       "    <tr>\n",
       "      <th rowspan=\"4\" valign=\"top\">1001</th>\n",
       "      <th>8</th>\n",
       "      <td>30</td>\n",
       "    </tr>\n",
       "    <tr>\n",
       "      <th>9</th>\n",
       "      <td>44</td>\n",
       "    </tr>\n",
       "    <tr>\n",
       "      <th>10</th>\n",
       "      <td>53</td>\n",
       "    </tr>\n",
       "    <tr>\n",
       "      <th>11</th>\n",
       "      <td>36</td>\n",
       "    </tr>\n",
       "  </tbody>\n",
       "</table>\n",
       "</div>"
      ],
      "text/plain": [
       "               id\n",
       "user_id month    \n",
       "1000    12     11\n",
       "1001    8      30\n",
       "        9      44\n",
       "        10     53\n",
       "        11     36"
      ]
     },
     "execution_count": 110,
     "metadata": {},
     "output_type": "execute_result"
    }
   ],
   "source": [
    "# Calculate the number of messages sent by each user per month. Save the result.\n",
    "message_by_user_month=pd.pivot_table(df_message,index=[\"user_id\",\"month\"],values=\"id\",aggfunc=\"count\")\n",
    "message_by_user_month.head(5)"
   ]
  },
  {
   "cell_type": "code",
   "execution_count": 111,
   "metadata": {},
   "outputs": [
    {
     "data": {
      "text/html": [
       "<div>\n",
       "<style scoped>\n",
       "    .dataframe tbody tr th:only-of-type {\n",
       "        vertical-align: middle;\n",
       "    }\n",
       "\n",
       "    .dataframe tbody tr th {\n",
       "        vertical-align: top;\n",
       "    }\n",
       "\n",
       "    .dataframe thead th {\n",
       "        text-align: right;\n",
       "    }\n",
       "</style>\n",
       "<table border=\"1\" class=\"dataframe\">\n",
       "  <thead>\n",
       "    <tr style=\"text-align: right;\">\n",
       "      <th></th>\n",
       "      <th>id</th>\n",
       "      <th>user_id</th>\n",
       "      <th>session_date</th>\n",
       "      <th>mb_used</th>\n",
       "      <th>month</th>\n",
       "    </tr>\n",
       "  </thead>\n",
       "  <tbody>\n",
       "    <tr>\n",
       "      <th>0</th>\n",
       "      <td>1000_13</td>\n",
       "      <td>1000</td>\n",
       "      <td>2018-12-29</td>\n",
       "      <td>89.86</td>\n",
       "      <td>12</td>\n",
       "    </tr>\n",
       "    <tr>\n",
       "      <th>1</th>\n",
       "      <td>1000_204</td>\n",
       "      <td>1000</td>\n",
       "      <td>2018-12-31</td>\n",
       "      <td>0.00</td>\n",
       "      <td>12</td>\n",
       "    </tr>\n",
       "    <tr>\n",
       "      <th>2</th>\n",
       "      <td>1000_379</td>\n",
       "      <td>1000</td>\n",
       "      <td>2018-12-28</td>\n",
       "      <td>660.40</td>\n",
       "      <td>12</td>\n",
       "    </tr>\n",
       "    <tr>\n",
       "      <th>3</th>\n",
       "      <td>1000_413</td>\n",
       "      <td>1000</td>\n",
       "      <td>2018-12-26</td>\n",
       "      <td>270.99</td>\n",
       "      <td>12</td>\n",
       "    </tr>\n",
       "    <tr>\n",
       "      <th>4</th>\n",
       "      <td>1000_442</td>\n",
       "      <td>1000</td>\n",
       "      <td>2018-12-27</td>\n",
       "      <td>880.22</td>\n",
       "      <td>12</td>\n",
       "    </tr>\n",
       "  </tbody>\n",
       "</table>\n",
       "</div>"
      ],
      "text/plain": [
       "         id  user_id session_date  mb_used  month\n",
       "0   1000_13     1000   2018-12-29    89.86     12\n",
       "1  1000_204     1000   2018-12-31     0.00     12\n",
       "2  1000_379     1000   2018-12-28   660.40     12\n",
       "3  1000_413     1000   2018-12-26   270.99     12\n",
       "4  1000_442     1000   2018-12-27   880.22     12"
      ]
     },
     "execution_count": 111,
     "metadata": {},
     "output_type": "execute_result"
    }
   ],
   "source": [
    "df_internet.head(5)"
   ]
  },
  {
   "cell_type": "code",
   "execution_count": 112,
   "metadata": {},
   "outputs": [
    {
     "data": {
      "text/html": [
       "<div>\n",
       "<style scoped>\n",
       "    .dataframe tbody tr th:only-of-type {\n",
       "        vertical-align: middle;\n",
       "    }\n",
       "\n",
       "    .dataframe tbody tr th {\n",
       "        vertical-align: top;\n",
       "    }\n",
       "\n",
       "    .dataframe thead th {\n",
       "        text-align: right;\n",
       "    }\n",
       "</style>\n",
       "<table border=\"1\" class=\"dataframe\">\n",
       "  <thead>\n",
       "    <tr style=\"text-align: right;\">\n",
       "      <th></th>\n",
       "      <th></th>\n",
       "      <th>mb_used</th>\n",
       "    </tr>\n",
       "    <tr>\n",
       "      <th>user_id</th>\n",
       "      <th>month</th>\n",
       "      <th></th>\n",
       "    </tr>\n",
       "  </thead>\n",
       "  <tbody>\n",
       "    <tr>\n",
       "      <th>1000</th>\n",
       "      <th>12</th>\n",
       "      <td>1901.47</td>\n",
       "    </tr>\n",
       "    <tr>\n",
       "      <th rowspan=\"4\" valign=\"top\">1001</th>\n",
       "      <th>8</th>\n",
       "      <td>6919.15</td>\n",
       "    </tr>\n",
       "    <tr>\n",
       "      <th>9</th>\n",
       "      <td>13314.82</td>\n",
       "    </tr>\n",
       "    <tr>\n",
       "      <th>10</th>\n",
       "      <td>22330.49</td>\n",
       "    </tr>\n",
       "    <tr>\n",
       "      <th>11</th>\n",
       "      <td>18504.30</td>\n",
       "    </tr>\n",
       "  </tbody>\n",
       "</table>\n",
       "</div>"
      ],
      "text/plain": [
       "                mb_used\n",
       "user_id month          \n",
       "1000    12      1901.47\n",
       "1001    8       6919.15\n",
       "        9      13314.82\n",
       "        10     22330.49\n",
       "        11     18504.30"
      ]
     },
     "execution_count": 112,
     "metadata": {},
     "output_type": "execute_result"
    }
   ],
   "source": [
    "# Calculate the volume of internet traffic used by each user per month. Save the result.\n",
    "mb_each_user_month=pd.pivot_table(df_internet,index=[\"user_id\",\"month\"],values=\"mb_used\",aggfunc=\"sum\")\n",
    "mb_each_user_month.head(5)"
   ]
  },
  {
   "cell_type": "markdown",
   "metadata": {},
   "source": [
    "[Put the aggregate data together into one DataFrame so that one record in it would represent what an unique user consumed in a given month.]"
   ]
  },
  {
   "cell_type": "code",
   "execution_count": 113,
   "metadata": {},
   "outputs": [
    {
     "data": {
      "text/html": [
       "<div>\n",
       "<style scoped>\n",
       "    .dataframe tbody tr th:only-of-type {\n",
       "        vertical-align: middle;\n",
       "    }\n",
       "\n",
       "    .dataframe tbody tr th {\n",
       "        vertical-align: top;\n",
       "    }\n",
       "\n",
       "    .dataframe thead th {\n",
       "        text-align: right;\n",
       "    }\n",
       "</style>\n",
       "<table border=\"1\" class=\"dataframe\">\n",
       "  <thead>\n",
       "    <tr style=\"text-align: right;\">\n",
       "      <th></th>\n",
       "      <th></th>\n",
       "      <th>id_x</th>\n",
       "      <th>duration</th>\n",
       "      <th>id_y</th>\n",
       "      <th>mb_used</th>\n",
       "    </tr>\n",
       "    <tr>\n",
       "      <th>user_id</th>\n",
       "      <th>month</th>\n",
       "      <th></th>\n",
       "      <th></th>\n",
       "      <th></th>\n",
       "      <th></th>\n",
       "    </tr>\n",
       "  </thead>\n",
       "  <tbody>\n",
       "    <tr>\n",
       "      <th>1000</th>\n",
       "      <th>12</th>\n",
       "      <td>16</td>\n",
       "      <td>116.83</td>\n",
       "      <td>11</td>\n",
       "      <td>1901.47</td>\n",
       "    </tr>\n",
       "    <tr>\n",
       "      <th rowspan=\"4\" valign=\"top\">1001</th>\n",
       "      <th>8</th>\n",
       "      <td>27</td>\n",
       "      <td>171.14</td>\n",
       "      <td>30</td>\n",
       "      <td>6919.15</td>\n",
       "    </tr>\n",
       "    <tr>\n",
       "      <th>9</th>\n",
       "      <td>49</td>\n",
       "      <td>297.69</td>\n",
       "      <td>44</td>\n",
       "      <td>13314.82</td>\n",
       "    </tr>\n",
       "    <tr>\n",
       "      <th>10</th>\n",
       "      <td>65</td>\n",
       "      <td>374.11</td>\n",
       "      <td>53</td>\n",
       "      <td>22330.49</td>\n",
       "    </tr>\n",
       "    <tr>\n",
       "      <th>11</th>\n",
       "      <td>64</td>\n",
       "      <td>404.59</td>\n",
       "      <td>36</td>\n",
       "      <td>18504.30</td>\n",
       "    </tr>\n",
       "  </tbody>\n",
       "</table>\n",
       "</div>"
      ],
      "text/plain": [
       "               id_x  duration  id_y   mb_used\n",
       "user_id month                                \n",
       "1000    12       16    116.83    11   1901.47\n",
       "1001    8        27    171.14    30   6919.15\n",
       "        9        49    297.69    44  13314.82\n",
       "        10       65    374.11    53  22330.49\n",
       "        11       64    404.59    36  18504.30"
      ]
     },
     "execution_count": 113,
     "metadata": {},
     "output_type": "execute_result"
    }
   ],
   "source": [
    "# Merge the data for calls, minutes, messages, internet based on user_id and month\n",
    "df_com=call_per_user_month.merge(minute_by_user_month,on=[\"user_id\",\"month\"]).merge(message_by_user_month,on=[\"user_id\",\"month\"]).merge(mb_each_user_month,on=[\"user_id\",\"month\"])\n",
    "df_com.head(5)"
   ]
  },
  {
   "cell_type": "code",
   "execution_count": 114,
   "metadata": {},
   "outputs": [],
   "source": [
    "# renaming column names\n",
    "df_com.rename(columns={\"id_x\":\"total_calls\",\"id_y\":\"messages_user_month\"},inplace=True)"
   ]
  },
  {
   "cell_type": "code",
   "execution_count": 115,
   "metadata": {},
   "outputs": [
    {
     "data": {
      "text/html": [
       "<div>\n",
       "<style scoped>\n",
       "    .dataframe tbody tr th:only-of-type {\n",
       "        vertical-align: middle;\n",
       "    }\n",
       "\n",
       "    .dataframe tbody tr th {\n",
       "        vertical-align: top;\n",
       "    }\n",
       "\n",
       "    .dataframe thead th {\n",
       "        text-align: right;\n",
       "    }\n",
       "</style>\n",
       "<table border=\"1\" class=\"dataframe\">\n",
       "  <thead>\n",
       "    <tr style=\"text-align: right;\">\n",
       "      <th></th>\n",
       "      <th>user_id</th>\n",
       "      <th>total_calls</th>\n",
       "      <th>duration</th>\n",
       "      <th>messages_user_month</th>\n",
       "      <th>mb_used</th>\n",
       "      <th>first_name</th>\n",
       "      <th>last_name</th>\n",
       "      <th>age</th>\n",
       "      <th>city</th>\n",
       "      <th>reg_date</th>\n",
       "      <th>plan</th>\n",
       "      <th>churn_date</th>\n",
       "      <th>month</th>\n",
       "      <th>churn_month</th>\n",
       "    </tr>\n",
       "  </thead>\n",
       "  <tbody>\n",
       "    <tr>\n",
       "      <th>0</th>\n",
       "      <td>1000</td>\n",
       "      <td>16.0</td>\n",
       "      <td>116.83</td>\n",
       "      <td>11.0</td>\n",
       "      <td>1901.47</td>\n",
       "      <td>Anamaria</td>\n",
       "      <td>Bauer</td>\n",
       "      <td>45</td>\n",
       "      <td>Atlanta-Sandy Springs-Roswell, GA MSA</td>\n",
       "      <td>2018-12-24</td>\n",
       "      <td>ultimate</td>\n",
       "      <td>NaT</td>\n",
       "      <td>12</td>\n",
       "      <td>NaN</td>\n",
       "    </tr>\n",
       "    <tr>\n",
       "      <th>1</th>\n",
       "      <td>1001</td>\n",
       "      <td>27.0</td>\n",
       "      <td>171.14</td>\n",
       "      <td>30.0</td>\n",
       "      <td>6919.15</td>\n",
       "      <td>Mickey</td>\n",
       "      <td>Wilkerson</td>\n",
       "      <td>28</td>\n",
       "      <td>Seattle-Tacoma-Bellevue, WA MSA</td>\n",
       "      <td>2018-08-13</td>\n",
       "      <td>surf</td>\n",
       "      <td>NaT</td>\n",
       "      <td>8</td>\n",
       "      <td>NaN</td>\n",
       "    </tr>\n",
       "    <tr>\n",
       "      <th>2</th>\n",
       "      <td>1001</td>\n",
       "      <td>49.0</td>\n",
       "      <td>297.69</td>\n",
       "      <td>44.0</td>\n",
       "      <td>13314.82</td>\n",
       "      <td>Mickey</td>\n",
       "      <td>Wilkerson</td>\n",
       "      <td>28</td>\n",
       "      <td>Seattle-Tacoma-Bellevue, WA MSA</td>\n",
       "      <td>2018-08-13</td>\n",
       "      <td>surf</td>\n",
       "      <td>NaT</td>\n",
       "      <td>8</td>\n",
       "      <td>NaN</td>\n",
       "    </tr>\n",
       "    <tr>\n",
       "      <th>3</th>\n",
       "      <td>1001</td>\n",
       "      <td>65.0</td>\n",
       "      <td>374.11</td>\n",
       "      <td>53.0</td>\n",
       "      <td>22330.49</td>\n",
       "      <td>Mickey</td>\n",
       "      <td>Wilkerson</td>\n",
       "      <td>28</td>\n",
       "      <td>Seattle-Tacoma-Bellevue, WA MSA</td>\n",
       "      <td>2018-08-13</td>\n",
       "      <td>surf</td>\n",
       "      <td>NaT</td>\n",
       "      <td>8</td>\n",
       "      <td>NaN</td>\n",
       "    </tr>\n",
       "    <tr>\n",
       "      <th>4</th>\n",
       "      <td>1001</td>\n",
       "      <td>64.0</td>\n",
       "      <td>404.59</td>\n",
       "      <td>36.0</td>\n",
       "      <td>18504.30</td>\n",
       "      <td>Mickey</td>\n",
       "      <td>Wilkerson</td>\n",
       "      <td>28</td>\n",
       "      <td>Seattle-Tacoma-Bellevue, WA MSA</td>\n",
       "      <td>2018-08-13</td>\n",
       "      <td>surf</td>\n",
       "      <td>NaT</td>\n",
       "      <td>8</td>\n",
       "      <td>NaN</td>\n",
       "    </tr>\n",
       "  </tbody>\n",
       "</table>\n",
       "</div>"
      ],
      "text/plain": [
       "   user_id  total_calls  duration  messages_user_month   mb_used first_name  \\\n",
       "0     1000         16.0    116.83                 11.0   1901.47   Anamaria   \n",
       "1     1001         27.0    171.14                 30.0   6919.15     Mickey   \n",
       "2     1001         49.0    297.69                 44.0  13314.82     Mickey   \n",
       "3     1001         65.0    374.11                 53.0  22330.49     Mickey   \n",
       "4     1001         64.0    404.59                 36.0  18504.30     Mickey   \n",
       "\n",
       "   last_name  age                                   city   reg_date      plan  \\\n",
       "0      Bauer   45  Atlanta-Sandy Springs-Roswell, GA MSA 2018-12-24  ultimate   \n",
       "1  Wilkerson   28        Seattle-Tacoma-Bellevue, WA MSA 2018-08-13      surf   \n",
       "2  Wilkerson   28        Seattle-Tacoma-Bellevue, WA MSA 2018-08-13      surf   \n",
       "3  Wilkerson   28        Seattle-Tacoma-Bellevue, WA MSA 2018-08-13      surf   \n",
       "4  Wilkerson   28        Seattle-Tacoma-Bellevue, WA MSA 2018-08-13      surf   \n",
       "\n",
       "  churn_date  month  churn_month  \n",
       "0        NaT     12          NaN  \n",
       "1        NaT      8          NaN  \n",
       "2        NaT      8          NaN  \n",
       "3        NaT      8          NaN  \n",
       "4        NaT      8          NaN  "
      ]
     },
     "execution_count": 115,
     "metadata": {},
     "output_type": "execute_result"
    }
   ],
   "source": [
    "# Add the plan information\n",
    "df_all=df_com.merge(df_user,how=\"outer\",on=\"user_id\")\n",
    "df_all.head(5)"
   ]
  },
  {
   "cell_type": "code",
   "execution_count": 116,
   "metadata": {},
   "outputs": [],
   "source": [
    "# change column name \"plan\" to \"plan_name\"\n",
    "df_all.rename(columns={\"plan\":\"plan_name\"},inplace=True)"
   ]
  },
  {
   "cell_type": "code",
   "execution_count": 117,
   "metadata": {},
   "outputs": [],
   "source": [
    "# merge combined df with plan \n",
    "df_all=df_all.merge(df_plan,how=\"outer\",on=\"plan_name\")"
   ]
  },
  {
   "cell_type": "code",
   "execution_count": 118,
   "metadata": {},
   "outputs": [
    {
     "data": {
      "text/plain": [
       "Index(['user_id', 'total_calls', 'duration', 'messages_user_month', 'mb_used',\n",
       "       'first_name', 'last_name', 'age', 'city', 'reg_date', 'plan_name',\n",
       "       'churn_date', 'month', 'churn_month', 'messages_included',\n",
       "       'mb_per_month_included', 'minutes_included', 'usd_monthly_pay',\n",
       "       'usd_per_gb', 'usd_per_message', 'usd_per_minute'],\n",
       "      dtype='object')"
      ]
     },
     "execution_count": 118,
     "metadata": {},
     "output_type": "execute_result"
    }
   ],
   "source": [
    "df_all.columns"
   ]
  },
  {
   "cell_type": "markdown",
   "metadata": {},
   "source": [
    "[Calculate the monthly revenue from each user (subtract the free package limit from the total number of calls, text messages, and data; multiply the result by the calling plan value; add the monthly charge depending on the calling plan). N.B. This might not be as trivial as just a couple of lines given the plan conditions! So, it's okay to spend some time on it.]"
   ]
  },
  {
   "cell_type": "code",
   "execution_count": 119,
   "metadata": {},
   "outputs": [],
   "source": [
    "# Calculate the monthly revenue for each user\n",
    "def cal_revenue(row):\n",
    "    \"\"\"\n",
    "    Calculate the revenue for each plan\n",
    "    \"\"\"\n",
    "    (\n",
    "        duration,\n",
    "        messages_user_month,\n",
    "        mb_used,\n",
    "        messages_included,\n",
    "        mb_per_month_included,\n",
    "        minutes_included,\n",
    "        usd_monthly_pay,\n",
    "        usd_per_gb,\n",
    "        usd_per_message,\n",
    "        usd_per_minute\n",
    "    ) = row\n",
    "    additional_call_cost, additional_session_cost, additional_msg_cost = 0, 0, 0\n",
    "    if duration > minutes_included:\n",
    "        additional_call_cost = (duration - minutes_included) * usd_per_minute\n",
    "    if mb_used > mb_per_month_included:\n",
    "        additional_session_cost = ((mb_used - mb_per_month_included) / 1024) * usd_per_gb\n",
    "    if messages_user_month > messages_included:\n",
    "        additional_msg_cost = (messages_user_month - messages_included) * usd_per_message\n",
    "    return usd_monthly_pay + additional_call_cost + additional_session_cost + additional_msg_cost"
   ]
  },
  {
   "cell_type": "code",
   "execution_count": 120,
   "metadata": {},
   "outputs": [],
   "source": [
    "columns_to_use = ['duration', 'messages_user_month', 'mb_used',\n",
    "                'messages_included', 'mb_per_month_included', 'minutes_included',\n",
    "                'usd_monthly_pay', 'usd_per_gb', 'usd_per_message', 'usd_per_minute']\n",
    "df_all['cal_revenue'] = df_all[columns_to_use].apply(cal_revenue, axis=1)"
   ]
  },
  {
   "cell_type": "code",
   "execution_count": 121,
   "metadata": {},
   "outputs": [
    {
     "data": {
      "text/html": [
       "<div>\n",
       "<style scoped>\n",
       "    .dataframe tbody tr th:only-of-type {\n",
       "        vertical-align: middle;\n",
       "    }\n",
       "\n",
       "    .dataframe tbody tr th {\n",
       "        vertical-align: top;\n",
       "    }\n",
       "\n",
       "    .dataframe thead th {\n",
       "        text-align: right;\n",
       "    }\n",
       "</style>\n",
       "<table border=\"1\" class=\"dataframe\">\n",
       "  <thead>\n",
       "    <tr style=\"text-align: right;\">\n",
       "      <th></th>\n",
       "      <th>user_id</th>\n",
       "      <th>total_calls</th>\n",
       "      <th>duration</th>\n",
       "      <th>messages_user_month</th>\n",
       "      <th>mb_used</th>\n",
       "      <th>first_name</th>\n",
       "      <th>last_name</th>\n",
       "      <th>age</th>\n",
       "      <th>city</th>\n",
       "      <th>reg_date</th>\n",
       "      <th>...</th>\n",
       "      <th>month</th>\n",
       "      <th>churn_month</th>\n",
       "      <th>messages_included</th>\n",
       "      <th>mb_per_month_included</th>\n",
       "      <th>minutes_included</th>\n",
       "      <th>usd_monthly_pay</th>\n",
       "      <th>usd_per_gb</th>\n",
       "      <th>usd_per_message</th>\n",
       "      <th>usd_per_minute</th>\n",
       "      <th>cal_revenue</th>\n",
       "    </tr>\n",
       "  </thead>\n",
       "  <tbody>\n",
       "    <tr>\n",
       "      <th>0</th>\n",
       "      <td>1000</td>\n",
       "      <td>16.0</td>\n",
       "      <td>116.83</td>\n",
       "      <td>11.0</td>\n",
       "      <td>1901.47</td>\n",
       "      <td>Anamaria</td>\n",
       "      <td>Bauer</td>\n",
       "      <td>45</td>\n",
       "      <td>Atlanta-Sandy Springs-Roswell, GA MSA</td>\n",
       "      <td>2018-12-24</td>\n",
       "      <td>...</td>\n",
       "      <td>12</td>\n",
       "      <td>NaN</td>\n",
       "      <td>1000</td>\n",
       "      <td>30720</td>\n",
       "      <td>3000</td>\n",
       "      <td>70</td>\n",
       "      <td>7</td>\n",
       "      <td>0.01</td>\n",
       "      <td>0.01</td>\n",
       "      <td>70.000000</td>\n",
       "    </tr>\n",
       "    <tr>\n",
       "      <th>1</th>\n",
       "      <td>1006</td>\n",
       "      <td>2.0</td>\n",
       "      <td>9.32</td>\n",
       "      <td>15.0</td>\n",
       "      <td>2068.37</td>\n",
       "      <td>Jesusa</td>\n",
       "      <td>Bradford</td>\n",
       "      <td>73</td>\n",
       "      <td>San Francisco-Oakland-Berkeley, CA MSA</td>\n",
       "      <td>2018-11-27</td>\n",
       "      <td>...</td>\n",
       "      <td>11</td>\n",
       "      <td>12.0</td>\n",
       "      <td>1000</td>\n",
       "      <td>30720</td>\n",
       "      <td>3000</td>\n",
       "      <td>70</td>\n",
       "      <td>7</td>\n",
       "      <td>0.01</td>\n",
       "      <td>0.01</td>\n",
       "      <td>70.000000</td>\n",
       "    </tr>\n",
       "    <tr>\n",
       "      <th>2</th>\n",
       "      <td>1006</td>\n",
       "      <td>9.0</td>\n",
       "      <td>54.79</td>\n",
       "      <td>139.0</td>\n",
       "      <td>32118.82</td>\n",
       "      <td>Jesusa</td>\n",
       "      <td>Bradford</td>\n",
       "      <td>73</td>\n",
       "      <td>San Francisco-Oakland-Berkeley, CA MSA</td>\n",
       "      <td>2018-11-27</td>\n",
       "      <td>...</td>\n",
       "      <td>11</td>\n",
       "      <td>12.0</td>\n",
       "      <td>1000</td>\n",
       "      <td>30720</td>\n",
       "      <td>3000</td>\n",
       "      <td>70</td>\n",
       "      <td>7</td>\n",
       "      <td>0.01</td>\n",
       "      <td>0.01</td>\n",
       "      <td>79.562246</td>\n",
       "    </tr>\n",
       "    <tr>\n",
       "      <th>3</th>\n",
       "      <td>1008</td>\n",
       "      <td>71.0</td>\n",
       "      <td>450.21</td>\n",
       "      <td>21.0</td>\n",
       "      <td>17106.99</td>\n",
       "      <td>Emely</td>\n",
       "      <td>Hoffman</td>\n",
       "      <td>53</td>\n",
       "      <td>Orlando-Kissimmee-Sanford, FL MSA</td>\n",
       "      <td>2018-08-03</td>\n",
       "      <td>...</td>\n",
       "      <td>8</td>\n",
       "      <td>NaN</td>\n",
       "      <td>1000</td>\n",
       "      <td>30720</td>\n",
       "      <td>3000</td>\n",
       "      <td>70</td>\n",
       "      <td>7</td>\n",
       "      <td>0.01</td>\n",
       "      <td>0.01</td>\n",
       "      <td>70.000000</td>\n",
       "    </tr>\n",
       "    <tr>\n",
       "      <th>4</th>\n",
       "      <td>1008</td>\n",
       "      <td>63.0</td>\n",
       "      <td>422.81</td>\n",
       "      <td>37.0</td>\n",
       "      <td>23676.72</td>\n",
       "      <td>Emely</td>\n",
       "      <td>Hoffman</td>\n",
       "      <td>53</td>\n",
       "      <td>Orlando-Kissimmee-Sanford, FL MSA</td>\n",
       "      <td>2018-08-03</td>\n",
       "      <td>...</td>\n",
       "      <td>8</td>\n",
       "      <td>NaN</td>\n",
       "      <td>1000</td>\n",
       "      <td>30720</td>\n",
       "      <td>3000</td>\n",
       "      <td>70</td>\n",
       "      <td>7</td>\n",
       "      <td>0.01</td>\n",
       "      <td>0.01</td>\n",
       "      <td>70.000000</td>\n",
       "    </tr>\n",
       "  </tbody>\n",
       "</table>\n",
       "<p>5 rows × 22 columns</p>\n",
       "</div>"
      ],
      "text/plain": [
       "   user_id  total_calls  duration  messages_user_month   mb_used first_name  \\\n",
       "0     1000         16.0    116.83                 11.0   1901.47   Anamaria   \n",
       "1     1006          2.0      9.32                 15.0   2068.37     Jesusa   \n",
       "2     1006          9.0     54.79                139.0  32118.82     Jesusa   \n",
       "3     1008         71.0    450.21                 21.0  17106.99      Emely   \n",
       "4     1008         63.0    422.81                 37.0  23676.72      Emely   \n",
       "\n",
       "  last_name  age                                    city   reg_date  ...  \\\n",
       "0     Bauer   45   Atlanta-Sandy Springs-Roswell, GA MSA 2018-12-24  ...   \n",
       "1  Bradford   73  San Francisco-Oakland-Berkeley, CA MSA 2018-11-27  ...   \n",
       "2  Bradford   73  San Francisco-Oakland-Berkeley, CA MSA 2018-11-27  ...   \n",
       "3   Hoffman   53       Orlando-Kissimmee-Sanford, FL MSA 2018-08-03  ...   \n",
       "4   Hoffman   53       Orlando-Kissimmee-Sanford, FL MSA 2018-08-03  ...   \n",
       "\n",
       "  month churn_month  messages_included  mb_per_month_included  \\\n",
       "0    12         NaN               1000                  30720   \n",
       "1    11        12.0               1000                  30720   \n",
       "2    11        12.0               1000                  30720   \n",
       "3     8         NaN               1000                  30720   \n",
       "4     8         NaN               1000                  30720   \n",
       "\n",
       "   minutes_included  usd_monthly_pay  usd_per_gb  usd_per_message  \\\n",
       "0              3000               70           7             0.01   \n",
       "1              3000               70           7             0.01   \n",
       "2              3000               70           7             0.01   \n",
       "3              3000               70           7             0.01   \n",
       "4              3000               70           7             0.01   \n",
       "\n",
       "   usd_per_minute  cal_revenue  \n",
       "0            0.01    70.000000  \n",
       "1            0.01    70.000000  \n",
       "2            0.01    79.562246  \n",
       "3            0.01    70.000000  \n",
       "4            0.01    70.000000  \n",
       "\n",
       "[5 rows x 22 columns]"
      ]
     },
     "execution_count": 121,
     "metadata": {},
     "output_type": "execute_result"
    }
   ],
   "source": [
    "df_all.head(5)"
   ]
  },
  {
   "cell_type": "code",
   "execution_count": 122,
   "metadata": {},
   "outputs": [],
   "source": [
    " # creating age group function\n",
    "def age_groups(age):\n",
    "    if age < 30:\n",
    "        return '18-29 years'\n",
    "    if age < 40:\n",
    "        return '30-39 years'\n",
    "    if age < 50:\n",
    "        return '40-49 years'\n",
    "    if age < 60:\n",
    "        return '50-59 years'\n",
    "    return '60+ years'"
   ]
  },
  {
   "cell_type": "code",
   "execution_count": 123,
   "metadata": {},
   "outputs": [],
   "source": [
    "# creating age_group column\n",
    "df_all[\"age_groups\"]=df_all[\"age\"].apply(age_groups)"
   ]
  },
  {
   "cell_type": "code",
   "execution_count": 124,
   "metadata": {},
   "outputs": [
    {
     "data": {
      "text/plain": [
       "60+ years      0.274384\n",
       "18-29 years    0.232583\n",
       "30-39 years    0.173098\n",
       "40-49 years    0.163451\n",
       "50-59 years    0.156484\n",
       "Name: age_groups, dtype: float64"
      ]
     },
     "execution_count": 124,
     "metadata": {},
     "output_type": "execute_result"
    }
   ],
   "source": [
    "df_all[\"age_groups\"].value_counts(normalize=True)"
   ]
  },
  {
   "cell_type": "markdown",
   "metadata": {},
   "source": [
    "60 plus group are top age group"
   ]
  },
  {
   "cell_type": "code",
   "execution_count": 125,
   "metadata": {},
   "outputs": [],
   "source": [
    "# df of each plan\n",
    "df_surf=df_all.query('plan_name==\"surf\"')\n",
    "df_ultimate=df_all.query('plan_name==\"ultimate\"')"
   ]
  },
  {
   "cell_type": "code",
   "execution_count": 126,
   "metadata": {},
   "outputs": [
    {
     "data": {
      "text/plain": [
       "60+ years      0.266508\n",
       "18-29 years    0.260143\n",
       "40-49 years    0.166269\n",
       "30-39 years    0.165473\n",
       "50-59 years    0.141607\n",
       "Name: age_groups, dtype: float64"
      ]
     },
     "execution_count": 126,
     "metadata": {},
     "output_type": "execute_result"
    }
   ],
   "source": [
    "# age group in surf plan\n",
    "df_surf[\"age_groups\"].value_counts(normalize=True)"
   ]
  },
  {
   "cell_type": "code",
   "execution_count": 127,
   "metadata": {},
   "outputs": [
    {
     "data": {
      "text/plain": [
       "60+ years      0.290640\n",
       "30-39 years    0.188834\n",
       "50-59 years    0.187192\n",
       "18-29 years    0.175698\n",
       "40-49 years    0.157635\n",
       "Name: age_groups, dtype: float64"
      ]
     },
     "execution_count": 127,
     "metadata": {},
     "output_type": "execute_result"
    }
   ],
   "source": [
    "# age_group in ultimate plan\n",
    "df_ultimate[\"age_groups\"].value_counts(normalize=True)"
   ]
  },
  {
   "cell_type": "markdown",
   "metadata": {},
   "source": [
    "On both plans 60 plus age group have the top age group.\n",
    "Age group of Surf plan is similar to the overall dataset."
   ]
  },
  {
   "cell_type": "code",
   "execution_count": 128,
   "metadata": {},
   "outputs": [
    {
     "data": {
      "text/plain": [
       "Index(['user_id', 'total_calls', 'duration', 'messages_user_month', 'mb_used',\n",
       "       'first_name', 'last_name', 'age', 'city', 'reg_date', 'plan_name',\n",
       "       'churn_date', 'month', 'churn_month', 'messages_included',\n",
       "       'mb_per_month_included', 'minutes_included', 'usd_monthly_pay',\n",
       "       'usd_per_gb', 'usd_per_message', 'usd_per_minute', 'cal_revenue',\n",
       "       'age_groups'],\n",
       "      dtype='object')"
      ]
     },
     "execution_count": 128,
     "metadata": {},
     "output_type": "execute_result"
    }
   ],
   "source": [
    "df_all.columns"
   ]
  },
  {
   "cell_type": "code",
   "execution_count": 129,
   "metadata": {},
   "outputs": [
    {
     "name": "stdout",
     "output_type": "stream",
     "text": [
      "Average duration of each user in Surf plan is 420.78 minutes\n",
      "Average duration of each user in Ultimate plan is 417.56 minutes \n"
     ]
    }
   ],
   "source": [
    "print('Average duration of each user in Surf plan is {:.2f} minutes'.format(df_surf[\"duration\"].mean()))\n",
    "print('Average duration of each user in Ultimate plan is {:.2f} minutes '.format(df_ultimate[\"duration\"].mean()))"
   ]
  },
  {
   "cell_type": "code",
   "execution_count": 130,
   "metadata": {},
   "outputs": [
    {
     "name": "stdout",
     "output_type": "stream",
     "text": [
      "Average messages of each user in Surf plan is 39.49 messages\n",
      "Average messages of each user in Ultimate plan is 46.46 messages\n"
     ]
    }
   ],
   "source": [
    "print('Average messages of each user in Surf plan is {:.2f} messages'.format(df_surf[\"messages_user_month\"].mean()))\n",
    "print('Average messages of each user in Ultimate plan is {:.2f} messages'.format(df_ultimate[\"messages_user_month\"].mean()))"
   ]
  },
  {
   "cell_type": "code",
   "execution_count": 131,
   "metadata": {},
   "outputs": [
    {
     "name": "stdout",
     "output_type": "stream",
     "text": [
      "Average mb used of each user in Surf plan is 16629.02 mb\n",
      "Average mb used of each user in Ultimate plan is 17251.00 mb\n"
     ]
    }
   ],
   "source": [
    "print('Average mb used of each user in Surf plan is {:.2f} mb'.format(df_surf[\"mb_used\"].mean()))\n",
    "print('Average mb used of each user in Ultimate plan is {:.2f} mb'.format(df_ultimate[\"mb_used\"].mean()))"
   ]
  },
  {
   "cell_type": "code",
   "execution_count": 132,
   "metadata": {},
   "outputs": [
    {
     "name": "stdout",
     "output_type": "stream",
     "text": [
      "Average revenue of each user in Surf plan is $ 54.62\n",
      "Average revenue of each user in Ultimate plan is  $71.96\n"
     ]
    }
   ],
   "source": [
    "print('Average revenue of each user in Surf plan is $ {:.2f}'.format(df_surf[\"cal_revenue\"].mean()))\n",
    "print('Average revenue of each user in Ultimate plan is  ${:.2f}'.format(df_ultimate[\"cal_revenue\"].mean()))"
   ]
  },
  {
   "cell_type": "code",
   "execution_count": 133,
   "metadata": {},
   "outputs": [],
   "source": [
    "# splitting city column \n",
    "new=df_all[\"city\"].str.split(\",\", n = 2, expand = True)"
   ]
  },
  {
   "cell_type": "code",
   "execution_count": 134,
   "metadata": {},
   "outputs": [],
   "source": [
    "# city_new column is created that contains only city name \n",
    "df_all[\"city_new\"]=new[0]"
   ]
  },
  {
   "cell_type": "code",
   "execution_count": 135,
   "metadata": {},
   "outputs": [],
   "source": [
    "# df of New York and New Jersy area\n",
    "df_all_NY_NJ = df_all.query('city_new==\"New York-Newark-Jersey City\"')"
   ]
  },
  {
   "cell_type": "code",
   "execution_count": 136,
   "metadata": {},
   "outputs": [],
   "source": [
    "# df of areas other than New York and New Jersy\n",
    "df_all_Other_Areas = df_all.query('city_new!=\"New York-Newark-Jersey City\"')"
   ]
  },
  {
   "cell_type": "code",
   "execution_count": 137,
   "metadata": {},
   "outputs": [
    {
     "name": "stdout",
     "output_type": "stream",
     "text": [
      "<class 'pandas.core.frame.DataFrame'>\n",
      "Int64Index: 1571 entries, 0 to 1865\n",
      "Data columns (total 24 columns):\n",
      " #   Column                 Non-Null Count  Dtype         \n",
      "---  ------                 --------------  -----         \n",
      " 0   user_id                1571 non-null   int64         \n",
      " 1   total_calls            1480 non-null   float64       \n",
      " 2   duration               1480 non-null   float64       \n",
      " 3   messages_user_month    1480 non-null   float64       \n",
      " 4   mb_used                1480 non-null   float64       \n",
      " 5   first_name             1571 non-null   object        \n",
      " 6   last_name              1571 non-null   object        \n",
      " 7   age                    1571 non-null   int64         \n",
      " 8   city                   1571 non-null   object        \n",
      " 9   reg_date               1571 non-null   datetime64[ns]\n",
      " 10  plan_name              1571 non-null   object        \n",
      " 11  churn_date             114 non-null    datetime64[ns]\n",
      " 12  month                  1571 non-null   int64         \n",
      " 13  churn_month            114 non-null    float64       \n",
      " 14  messages_included      1571 non-null   int64         \n",
      " 15  mb_per_month_included  1571 non-null   int64         \n",
      " 16  minutes_included       1571 non-null   int64         \n",
      " 17  usd_monthly_pay        1571 non-null   int64         \n",
      " 18  usd_per_gb             1571 non-null   int64         \n",
      " 19  usd_per_message        1571 non-null   float64       \n",
      " 20  usd_per_minute         1571 non-null   float64       \n",
      " 21  cal_revenue            1571 non-null   float64       \n",
      " 22  age_groups             1571 non-null   object        \n",
      " 23  city_new               1571 non-null   object        \n",
      "dtypes: datetime64[ns](2), float64(8), int64(8), object(6)\n",
      "memory usage: 306.8+ KB\n"
     ]
    }
   ],
   "source": [
    "df_all_Other_Areas.info()"
   ]
  },
  {
   "cell_type": "code",
   "execution_count": 138,
   "metadata": {},
   "outputs": [],
   "source": [
    "# Revenue of Other areas\n",
    "df_all_other_area_revenue=df_all_Other_Areas[\"cal_revenue\"]"
   ]
  },
  {
   "cell_type": "code",
   "execution_count": 139,
   "metadata": {},
   "outputs": [
    {
     "name": "stdout",
     "output_type": "stream",
     "text": [
      "<class 'pandas.core.frame.DataFrame'>\n",
      "Int64Index: 295 entries, 29 to 1864\n",
      "Data columns (total 24 columns):\n",
      " #   Column                 Non-Null Count  Dtype         \n",
      "---  ------                 --------------  -----         \n",
      " 0   user_id                295 non-null    int64         \n",
      " 1   total_calls            279 non-null    float64       \n",
      " 2   duration               279 non-null    float64       \n",
      " 3   messages_user_month    279 non-null    float64       \n",
      " 4   mb_used                279 non-null    float64       \n",
      " 5   first_name             295 non-null    object        \n",
      " 6   last_name              295 non-null    object        \n",
      " 7   age                    295 non-null    int64         \n",
      " 8   city                   295 non-null    object        \n",
      " 9   reg_date               295 non-null    datetime64[ns]\n",
      " 10  plan_name              295 non-null    object        \n",
      " 11  churn_date             13 non-null     datetime64[ns]\n",
      " 12  month                  295 non-null    int64         \n",
      " 13  churn_month            13 non-null     float64       \n",
      " 14  messages_included      295 non-null    int64         \n",
      " 15  mb_per_month_included  295 non-null    int64         \n",
      " 16  minutes_included       295 non-null    int64         \n",
      " 17  usd_monthly_pay        295 non-null    int64         \n",
      " 18  usd_per_gb             295 non-null    int64         \n",
      " 19  usd_per_message        295 non-null    float64       \n",
      " 20  usd_per_minute         295 non-null    float64       \n",
      " 21  cal_revenue            295 non-null    float64       \n",
      " 22  age_groups             295 non-null    object        \n",
      " 23  city_new               295 non-null    object        \n",
      "dtypes: datetime64[ns](2), float64(8), int64(8), object(6)\n",
      "memory usage: 57.6+ KB\n"
     ]
    }
   ],
   "source": [
    "df_all_NY_NJ.info()"
   ]
  },
  {
   "cell_type": "code",
   "execution_count": 140,
   "metadata": {},
   "outputs": [],
   "source": [
    "# revenue of NY NJ\n",
    "df_all_NY_NJ_revenue=df_all_NY_NJ[\"cal_revenue\"]"
   ]
  },
  {
   "cell_type": "markdown",
   "metadata": {},
   "source": [
    "## Study user behaviour"
   ]
  },
  {
   "cell_type": "markdown",
   "metadata": {},
   "source": [
    "[Calculate some useful descriptive statistics for the aggregated and merged data, which typically reveal an overall picture captured by the data. Draw useful plots to help the understanding. Given that the main task is to compare the plans and decide on which one is more profitable, the statistics and the plots should be calculated on a per-plan basis.]\n",
    "\n",
    "[There are relevant hints in the comments for Calls but they are not provided for Messages and Internet though the principle of statistical study is the same for them as for Calls.]"
   ]
  },
  {
   "cell_type": "markdown",
   "metadata": {},
   "source": [
    "### Calls"
   ]
  },
  {
   "cell_type": "code",
   "execution_count": 58,
   "metadata": {},
   "outputs": [],
   "source": [
    "# Compare average duration of calls per each plan per each distinct month. Plot a bar plat to visualize it.\n"
   ]
  },
  {
   "cell_type": "code",
   "execution_count": 59,
   "metadata": {},
   "outputs": [],
   "source": [
    "# average duration for each month\n",
    "avg_duration_surf=df_surf.groupby(\"month\")[\"duration\"].mean()\n",
    "avg_duration_ultimate=df_ultimate.groupby(\"month\")[\"duration\"].mean()"
   ]
  },
  {
   "cell_type": "code",
   "execution_count": 60,
   "metadata": {},
   "outputs": [
    {
     "data": {
      "image/png": "[encoded data removed]",
      "text/plain": [
       "<Figure size 432x288 with 1 Axes>"
      ]
     },
     "metadata": {
      "needs_background": "light"
     },
     "output_type": "display_data"
    },
    {
     "data": {
      "image/png": "[encoded data removed]",
      "text/plain": [
       "<Figure size 432x288 with 1 Axes>"
      ]
     },
     "metadata": {
      "needs_background": "light"
     },
     "output_type": "display_data"
    }
   ],
   "source": [
    "# plot bar plot for each plan df\n",
    "avg_duration_surf.plot.bar(rot=45)\n",
    "plt.title(\"Average duration of Surf plan\")\n",
    "plt.ylabel(\"average duration\")\n",
    "plt.show()\n",
    "avg_duration_ultimate.plot.bar(rot=45,color=\"orange\")\n",
    "plt.title(\"Average duration of Ultimate plan\")\n",
    "plt.ylabel(\"average duration\")\n",
    "plt.show()"
   ]
  },
  {
   "cell_type": "code",
   "execution_count": 61,
   "metadata": {},
   "outputs": [],
   "source": [
    "# Compare the number of minutes users of each plan require each month. Plot a histogram.\n",
    "# getting total minutes for each month\n",
    "total_minutes_surf=df_surf.groupby(\"month\")[\"duration\"].sum()\n",
    "total_minutes_ultimate=df_ultimate.groupby(\"month\")[\"duration\"].sum()"
   ]
  },
  {
   "cell_type": "code",
   "execution_count": 62,
   "metadata": {},
   "outputs": [
    {
     "data": {
      "image/png": "[encoded data removed]",
      "text/plain": [
       "<Figure size 432x288 with 1 Axes>"
      ]
     },
     "metadata": {
      "needs_background": "light"
     },
     "output_type": "display_data"
    },
    {
     "data": {
      "image/png": "[encoded data removed]",
      "text/plain": [
       "<Figure size 432x288 with 1 Axes>"
      ]
     },
     "metadata": {
      "needs_background": "light"
     },
     "output_type": "display_data"
    }
   ],
   "source": [
    "# histogram plot for each plan\n",
    "total_minutes_surf.plot.hist(bins=20,range=(0,100000))\n",
    "plt.title(\"Minutes used in Surf plan\")\n",
    "plt.xlabel(\"Minutes by users in each month\")\n",
    "plt.show()\n",
    "total_minutes_ultimate.hist(bins=20,range=(0,100000),color=\"orange\")\n",
    "plt.title(\"Minutes used in Ultimate plan\")\n",
    "plt.xlabel(\"Minutes by users in each month\")\n",
    "plt.ylabel(\"Frequency\")\n",
    "plt.show()"
   ]
  },
  {
   "cell_type": "markdown",
   "metadata": {},
   "source": [
    "[Calculate the mean and the variable of the call duration to reason on whether users on the different plans have different behaviours for their calls.]"
   ]
  },
  {
   "cell_type": "code",
   "execution_count": 63,
   "metadata": {},
   "outputs": [],
   "source": [
    "# Calculate the mean and the variance of the monthly call duration\n",
    "avg_monthly_duration_surf=df_surf.groupby(\"month\")[\"duration\"].mean()\n",
    "avg_monthly_duration_ultimate=df_ultimate.groupby(\"month\")[\"duration\"].mean()"
   ]
  },
  {
   "cell_type": "code",
   "execution_count": 64,
   "metadata": {},
   "outputs": [],
   "source": [
    "# variance of the monthly call duration \n",
    "variance_monthly_duration_surf=df_surf.groupby(\"month\")[\"duration\"].var()\n",
    "variance_monthly_duration_ultimate=df_ultimate.groupby(\"month\")[\"duration\"].var()"
   ]
  },
  {
   "cell_type": "code",
   "execution_count": 65,
   "metadata": {},
   "outputs": [
    {
     "data": {
      "image/png": "[encoded data removed]",
      "text/plain": [
       "<Figure size 432x288 with 1 Axes>"
      ]
     },
     "metadata": {
      "needs_background": "light"
     },
     "output_type": "display_data"
    },
    {
     "data": {
      "image/png": "[encoded data removed]",
      "text/plain": [
       "<Figure size 432x288 with 1 Axes>"
      ]
     },
     "metadata": {
      "needs_background": "light"
     },
     "output_type": "display_data"
    }
   ],
   "source": [
    "# Plot a boxplot to visualize the distribution of the monthly call duration\n",
    "sns.boxplot(x=avg_monthly_duration_surf)\n",
    "plt.title(\"Average Monthly Duration in Surf Plan\")\n",
    "plt.show()\n",
    "sns.boxplot(x=avg_monthly_duration_ultimate,color=\"orange\")\n",
    "plt.title(\"Average Monthly Duration in Ultimate Plan\",color=\"orange\")\n",
    "plt.show()"
   ]
  },
  {
   "cell_type": "code",
   "execution_count": 66,
   "metadata": {},
   "outputs": [
    {
     "data": {
      "image/png": "[encoded data removed]",
      "text/plain": [
       "<Figure size 432x288 with 1 Axes>"
      ]
     },
     "metadata": {
      "needs_background": "light"
     },
     "output_type": "display_data"
    },
    {
     "data": {
      "image/png": "[encoded data removed]",
      "text/plain": [
       "<Figure size 432x288 with 1 Axes>"
      ]
     },
     "metadata": {
      "needs_background": "light"
     },
     "output_type": "display_data"
    }
   ],
   "source": [
    "sns.boxplot(x=variance_monthly_duration_surf)\n",
    "plt.title(\"Variance of Monthly Duration in Surf Plan\")\n",
    "plt.show()\n",
    "sns.boxplot(x=variance_monthly_duration_ultimate,color=\"orange\")\n",
    "plt.title(\"Variance of Monthly Duration in Ultimate Plan\",color=\"orange\")\n",
    "plt.show()"
   ]
  },
  {
   "cell_type": "markdown",
   "metadata": {},
   "source": [
    "[Formulate conclusions on how the users behave in terms of calling. Is their behaviour different between the plans?]"
   ]
  },
  {
   "cell_type": "markdown",
   "metadata": {},
   "source": [
    "It shows that in average Ultimate plan users have longer call duration than Surf plan users."
   ]
  },
  {
   "cell_type": "markdown",
   "metadata": {},
   "source": [
    " "
   ]
  },
  {
   "cell_type": "markdown",
   "metadata": {},
   "source": [
    "### Messages"
   ]
  },
  {
   "cell_type": "code",
   "execution_count": 67,
   "metadata": {},
   "outputs": [],
   "source": [
    "# Compare the number of messages users of each plan tend to send each month\n",
    "# messages in each plan in each month\n",
    "avg_messages_month_surf=df_surf.groupby(\"month\")[\"messages_user_month\"].sum()\n",
    "avg_messages_month_ultimate= df_ultimate.groupby(\"month\")[\"messages_user_month\"].sum()"
   ]
  },
  {
   "cell_type": "code",
   "execution_count": 68,
   "metadata": {},
   "outputs": [
    {
     "data": {
      "image/png": "[encoded data removed]",
      "text/plain": [
       "<Figure size 432x288 with 1 Axes>"
      ]
     },
     "metadata": {
      "needs_background": "light"
     },
     "output_type": "display_data"
    },
    {
     "data": {
      "image/png": "[encoded data removed]",
      "text/plain": [
       "<Figure size 432x288 with 1 Axes>"
      ]
     },
     "metadata": {
      "needs_background": "light"
     },
     "output_type": "display_data"
    }
   ],
   "source": [
    "avg_messages_month_surf.plot.bar(rot=45)\n",
    "plt.title(\"Average messages in month in Surf plan\")\n",
    "plt.ylabel(\"average messages\")\n",
    "plt.xlabel(\"months\")\n",
    "plt.show()\n",
    "avg_messages_month_ultimate.plot.bar(rot=45,color=\"orange\")\n",
    "plt.title(\"Average messages in month in Ultimate plan\")\n",
    "plt.ylabel(\"average messages\")\n",
    "plt.xlabel(\"months\")\n",
    "plt.show()"
   ]
  },
  {
   "cell_type": "code",
   "execution_count": 69,
   "metadata": {},
   "outputs": [
    {
     "data": {
      "image/png": "[encoded data removed]",
      "text/plain": [
       "<Figure size 432x288 with 1 Axes>"
      ]
     },
     "metadata": {
      "needs_background": "light"
     },
     "output_type": "display_data"
    },
    {
     "data": {
      "image/png": "[encoded data removed]",
      "text/plain": [
       "<Figure size 432x288 with 1 Axes>"
      ]
     },
     "metadata": {
      "needs_background": "light"
     },
     "output_type": "display_data"
    }
   ],
   "source": [
    "# boxplot of messages in each plan in each month\n",
    "sns.boxplot(x=avg_messages_month_surf)\n",
    "plt.title(\"Messages in month in Surf Plan\")\n",
    "plt.xlabel(\"average messages in month\")\n",
    "plt.show()\n",
    "sns.boxplot(x=avg_messages_month_ultimate,color=\"orange\")\n",
    "plt.title(\"Messages in month in Ultimate Plan\")\n",
    "plt.xlabel(\"average messages in month\")\n",
    "plt.show()"
   ]
  },
  {
   "cell_type": "markdown",
   "metadata": {},
   "source": [
    "[Formulate conclusions on how the users behave in terms of messaging. Is their behaviour different between the plans?]"
   ]
  },
  {
   "cell_type": "markdown",
   "metadata": {},
   "source": [
    "Median average number of messages in each month of Surf plan is higher than that of Ultimate plan."
   ]
  },
  {
   "cell_type": "markdown",
   "metadata": {},
   "source": [
    " "
   ]
  },
  {
   "cell_type": "markdown",
   "metadata": {},
   "source": [
    "### Internet"
   ]
  },
  {
   "cell_type": "code",
   "execution_count": 70,
   "metadata": {},
   "outputs": [],
   "source": [
    "# Compare the amount of internet traffic consumed by users per plan"
   ]
  },
  {
   "cell_type": "code",
   "execution_count": 71,
   "metadata": {},
   "outputs": [],
   "source": [
    "# df of each plan that have mb used in each month\n",
    "total_mb_month_surf = df_surf.groupby(\"month\")[\"mb_used\"].sum()\n",
    "total_mb_month_ultimate = df_ultimate.groupby(\"month\")[\"mb_used\"].sum()"
   ]
  },
  {
   "cell_type": "code",
   "execution_count": 72,
   "metadata": {},
   "outputs": [
    {
     "data": {
      "image/png": "[encoded data removed]",
      "text/plain": [
       "<Figure size 432x288 with 1 Axes>"
      ]
     },
     "metadata": {
      "needs_background": "light"
     },
     "output_type": "display_data"
    },
    {
     "data": {
      "image/png": "[encoded data removed]",
      "text/plain": [
       "<Figure size 432x288 with 1 Axes>"
      ]
     },
     "metadata": {
      "needs_background": "light"
     },
     "output_type": "display_data"
    }
   ],
   "source": [
    "total_mb_month_surf.plot.bar(rot=45)\n",
    "plt.title(\"total mb used in each month in Surf plan\")\n",
    "plt.ylabel(\"mb used in Surf plan\")\n",
    "plt.xlabel(\"months\")\n",
    "plt.show()\n",
    "total_mb_month_ultimate.plot.bar(rot=45,color=\"orange\")\n",
    "plt.title(\"total mb used in each in Ultimate plan\")\n",
    "plt.ylabel(\"mb used in Ultimate\")\n",
    "plt.xlabel(\"months\")\n",
    "plt.show()"
   ]
  },
  {
   "cell_type": "code",
   "execution_count": 73,
   "metadata": {},
   "outputs": [
    {
     "data": {
      "image/png": "[encoded data removed]",
      "text/plain": [
       "<Figure size 432x288 with 1 Axes>"
      ]
     },
     "metadata": {
      "needs_background": "light"
     },
     "output_type": "display_data"
    },
    {
     "data": {
      "image/png": "[encoded data removed]",
      "text/plain": [
       "<Figure size 432x288 with 1 Axes>"
      ]
     },
     "metadata": {
      "needs_background": "light"
     },
     "output_type": "display_data"
    }
   ],
   "source": [
    "sns.boxplot(x=total_mb_month_surf)\n",
    "plt.title(\"mb used in month in Surf Plan\")\n",
    "plt.xlabel(\"total mb used in month\")\n",
    "plt.show()\n",
    "sns.boxplot(x=total_mb_month_ultimate,color=\"orange\")\n",
    "plt.title(\"mb used in month in Ultimate Plan\")\n",
    "plt.xlabel(\"total mb used in month\")\n",
    "plt.show()"
   ]
  },
  {
   "cell_type": "markdown",
   "metadata": {},
   "source": [
    "[Formulate conclusions on how the users tend to consume the internet traffic? Is their behaviour different between the plans?]"
   ]
  },
  {
   "cell_type": "markdown",
   "metadata": {},
   "source": [
    "Median mb used in each month in Surf plan is higher than in Ultimate plan."
   ]
  },
  {
   "cell_type": "markdown",
   "metadata": {},
   "source": [
    " "
   ]
  },
  {
   "cell_type": "markdown",
   "metadata": {},
   "source": [
    "## Revenue"
   ]
  },
  {
   "cell_type": "markdown",
   "metadata": {},
   "source": [
    "[Likewise you have studied the user behaviour, statistically describe the revenue between the plans.]"
   ]
  },
  {
   "cell_type": "code",
   "execution_count": 74,
   "metadata": {},
   "outputs": [],
   "source": [
    "# df of revenue in each month in each plan\n",
    "total_revenue_month_surf = df_surf.groupby(\"month\")[\"cal_revenue\"].sum()\n",
    "total_revenue_month_ultimate = df_ultimate.groupby(\"month\")[\"cal_revenue\"].sum()"
   ]
  },
  {
   "cell_type": "code",
   "execution_count": 75,
   "metadata": {},
   "outputs": [
    {
     "data": {
      "image/png": "[encoded data removed]",
      "text/plain": [
       "<Figure size 432x288 with 1 Axes>"
      ]
     },
     "metadata": {
      "needs_background": "light"
     },
     "output_type": "display_data"
    },
    {
     "data": {
      "image/png": "[encoded data removed]",
      "text/plain": [
       "<Figure size 432x288 with 1 Axes>"
      ]
     },
     "metadata": {
      "needs_background": "light"
     },
     "output_type": "display_data"
    }
   ],
   "source": [
    "# bar plot of total revenue in each plan\n",
    "total_revenue_month_surf.plot.bar(rot=45)\n",
    "plt.title(\"total revenue used in each month in Surf plan\")\n",
    "plt.ylabel(\"total revenue in Surf plan\")\n",
    "plt.xlabel(\"months\")\n",
    "plt.show()\n",
    "total_revenue_month_ultimate.plot.bar(rot=45,color=\"orange\")\n",
    "plt.title(\"total revenue used in each in Ultimate plan\")\n",
    "plt.ylabel(\"total revenue in Ultimate plan\")\n",
    "plt.xlabel(\"months\")\n",
    "plt.show()"
   ]
  },
  {
   "cell_type": "code",
   "execution_count": 76,
   "metadata": {},
   "outputs": [
    {
     "data": {
      "image/png": "[encoded data removed]",
      "text/plain": [
       "<Figure size 432x288 with 1 Axes>"
      ]
     },
     "metadata": {
      "needs_background": "light"
     },
     "output_type": "display_data"
    },
    {
     "data": {
      "image/png": "[encoded data removed]",
      "text/plain": [
       "<Figure size 432x288 with 1 Axes>"
      ]
     },
     "metadata": {
      "needs_background": "light"
     },
     "output_type": "display_data"
    }
   ],
   "source": [
    "sns.boxplot(x=total_revenue_month_surf)\n",
    "plt.title(\"total revenue in month in Surf Plan\")\n",
    "plt.xlabel(\"total revenue in month\")\n",
    "plt.show()\n",
    "sns.boxplot(x=total_revenue_month_ultimate,color=\"orange\")\n",
    "plt.title(\"total revenuw in month in Ultimate Plan\")\n",
    "plt.xlabel(\"total revenue in month\")\n",
    "plt.show()"
   ]
  },
  {
   "cell_type": "markdown",
   "metadata": {},
   "source": [
    "Total revenue in Surf plan have higher median than in ultimate plan."
   ]
  },
  {
   "cell_type": "markdown",
   "metadata": {},
   "source": [
    "[Formulate conclusions about how the revenue differs between the plans.]"
   ]
  },
  {
   "cell_type": "markdown",
   "metadata": {},
   "source": [
    " "
   ]
  },
  {
   "cell_type": "markdown",
   "metadata": {},
   "source": [
    "## Test statistical hypotheses"
   ]
  },
  {
   "cell_type": "markdown",
   "metadata": {},
   "source": [
    "[Test the hypothesis that the average revenue from users of the Ultimate and Surf calling plans differs.]"
   ]
  },
  {
   "cell_type": "markdown",
   "metadata": {},
   "source": [
    "[Formulate the null and the alternative hypotheses, choose the statistical test, decide on the alpha value.]"
   ]
  },
  {
   "cell_type": "markdown",
   "metadata": {},
   "source": [
    "The null hypothesis is mean revenue in each month in Surf plan is equal to mean revenue of Ultimate plan."
   ]
  },
  {
   "cell_type": "code",
   "execution_count": 77,
   "metadata": {},
   "outputs": [
    {
     "name": "stdout",
     "output_type": "stream",
     "text": [
      "p-value: 0.07791231297731202\n",
      "We can't reject the null hypothesis\n"
     ]
    }
   ],
   "source": [
    "\n",
    "# Test the hypotheses\n",
    "mean_revenue_surf = total_revenue_month_surf\n",
    "mean_revenue_ultimate = total_revenue_month_ultimate\n",
    "\n",
    "alpha = 0.05 # your code: set a critical statistical significance level\n",
    "\n",
    "results = st.ttest_ind(mean_revenue_surf, mean_revenue_ultimate)\n",
    "# your code: test the hypothesis that the means of the two independent populations are equal\n",
    "\n",
    "print('p-value:', results.pvalue) # your code: print the p-value you get\n",
    "\n",
    "if results.pvalue < alpha:\n",
    "    print(\"We reject the null hypothesis\")\n",
    "else:\n",
    "    print(\"We can't reject the null hypothesis\")\n"
   ]
  },
  {
   "cell_type": "markdown",
   "metadata": {},
   "source": [
    "[Test the hypothesis that the average revenue from users in the NY-NJ area is different from that of the users from the other regions.]"
   ]
  },
  {
   "cell_type": "markdown",
   "metadata": {},
   "source": [
    "### General Conclusion"
   ]
  },
  {
   "cell_type": "markdown",
   "metadata": {},
   "source": [
    "1. Age_group\n",
    "\n",
    "On both plans 60 plus age group have the top age group.\n",
    "\n",
    "Age group composition percentage of Surf plan is closely related to  the overall dataset.\n",
    "\n",
    "\n",
    "2. Call duration\n",
    "\n",
    "Average duration of each user in Surf plan is 420.78 minutes\n",
    "\n",
    "Average duration of each user in Ultimate plan is 417.56 minutes \n",
    "\n",
    "\n",
    "3. Number of messages\n",
    "\n",
    "Average messages of each user in Surf plan is 39.49 messages\n",
    "\n",
    "Average messages of each user in Ultimate plan is 46.46 messages\n",
    "\n",
    "\n",
    "4. mb used\n",
    "\n",
    "Average mb used of each user in Surf plan is 16629.02 mb\n",
    "\n",
    "Average mb used of each user in Ultimate plan is 17251.00 mb\n",
    "\n",
    "\n",
    "5. Revenue\n",
    "\n",
    "Average Revenue of each user  in Surf plan is $ 54.62\n",
    "\n",
    "Average Revenue of each user in Ultimate plan is  $71.96\n",
    "\n"
   ]
  },
  {
   "cell_type": "markdown",
   "metadata": {},
   "source": [
    "Since it is less expenxive to use Surf plan for getting similar service like Ultimate plan, it is better to use Surf plan."
   ]
  },
  {
   "cell_type": "markdown",
   "metadata": {},
   "source": [
    "Null hypothesis: average revenuein NY-NJ area is equal to Other areas"
   ]
  },
  {
   "cell_type": "markdown",
   "metadata": {},
   "source": [
    "[Formulate the null and the alternative hypotheses, choose the statistical test, decide on the alpha value.]"
   ]
  },
  {
   "cell_type": "code",
   "execution_count": 142,
   "metadata": {},
   "outputs": [
    {
     "name": "stdout",
     "output_type": "stream",
     "text": [
      "p-value: 0.004318154793730765\n",
      "We reject the null hypothesis\n"
     ]
    }
   ],
   "source": [
    "# Test the hypotheses\n",
    "\n",
    "alpha = 0.05 # your code: set a critical statistical significance level\n",
    "\n",
    "results = st.ttest_ind(df_all_NY_NJ_revenue, df_all_other_area_revenue)\n",
    "# your code: test the hypothesis that the means of the two independent populations are equal\n",
    "\n",
    "print('p-value:', results.pvalue) # your code: print the p-value you get\n",
    "\n",
    "if results.pvalue < alpha:\n",
    "    print(\"We reject the null hypothesis\")\n",
    "else:\n",
    "    print(\"We can't reject the null hypothesis\")\n"
   ]
  },
  {
   "cell_type": "markdown",
   "metadata": {},
   "source": [
    "## General conclusion\n",
    "\n",
    "[List your important conclusions in this final section, make sure they cover all those important decisions (assumptions) that you've made and that led you to the way you processed and analyzed the data.]"
   ]
  },
  {
   "cell_type": "markdown",
   "metadata": {},
   "source": [
    "1. Age_group\n",
    "\n",
    "On both plans 60 plus age group have the top age group.\n",
    "\n",
    "Age group composition percentage of Surf plan is closely related to  the overall dataset.\n",
    "\n",
    "\n",
    "2. Call duration\n",
    "\n",
    "Average duration of each user in Surf plan is 420.78 minutes\n",
    "\n",
    "Average duration of each user in Ultimate plan is 417.56 minutes \n",
    "\n",
    "\n",
    "3. Number of messages\n",
    "\n",
    "Average messages of each user in Surf plan is 39.49 messages\n",
    "\n",
    "Average messages of each user in Ultimate plan is 46.46 messages\n",
    "\n",
    "\n",
    "4. mb used\n",
    "\n",
    "Average mb used of each user in Surf plan is 16629.02 mb\n",
    "\n",
    "Average mb used of each user in Ultimate plan is 17251.00 mb\n",
    "\n",
    "\n",
    "5. Revenue\n",
    "\n",
    "Average Revenue of each user  in Surf plan is $ 54.62\n",
    "\n",
    "Average Revenue of each user in Ultimate plan is  $71.96\n",
    "\n",
    "\n",
    "\n",
    "Since it is less expenxive to use Surf plan for getting similar service like Ultimate plan, it is better to use Surf plan."
   ]
  },
  {
   "cell_type": "markdown",
   "metadata": {},
   "source": [
    " "
   ]
  }
 ],
 "metadata": {
  "ExecuteTimeLog": [
   {
    "duration": 828,
    "start_time": "2021-11-16T09:21:11.304Z"
   },
   {
    "duration": 893,
    "start_time": "2021-11-16T09:21:17.728Z"
   },
   {
    "duration": 1150,
    "start_time": "2021-11-16T09:21:29.568Z"
   },
   {
    "duration": 3,
    "start_time": "2021-11-16T09:24:14.495Z"
   },
   {
    "duration": 120,
    "start_time": "2021-11-16T09:24:46.630Z"
   },
   {
    "duration": 3,
    "start_time": "2021-11-16T09:28:27.882Z"
   },
   {
    "duration": 4,
    "start_time": "2021-11-16T09:29:54.281Z"
   },
   {
    "duration": 3,
    "start_time": "2021-11-16T09:30:45.936Z"
   },
   {
    "duration": 4,
    "start_time": "2021-11-16T09:31:06.300Z"
   },
   {
    "duration": 113,
    "start_time": "2021-11-16T09:31:37.208Z"
   },
   {
    "duration": 143,
    "start_time": "2021-11-16T09:31:48.656Z"
   },
   {
    "duration": 98,
    "start_time": "2021-11-16T09:31:55.678Z"
   },
   {
    "duration": 3,
    "start_time": "2021-11-16T09:32:08.535Z"
   },
   {
    "duration": 111,
    "start_time": "2021-11-16T09:32:10.120Z"
   },
   {
    "duration": 3,
    "start_time": "2021-11-16T09:32:15.732Z"
   },
   {
    "duration": 4,
    "start_time": "2021-11-16T09:32:29.423Z"
   },
   {
    "duration": 3,
    "start_time": "2021-11-16T10:03:03.074Z"
   },
   {
    "duration": 3,
    "start_time": "2021-11-16T10:10:01.288Z"
   },
   {
    "duration": 3,
    "start_time": "2021-11-16T10:10:46.923Z"
   },
   {
    "duration": 121,
    "start_time": "2021-11-16T10:37:46.494Z"
   },
   {
    "duration": 125,
    "start_time": "2021-11-16T10:38:20.632Z"
   },
   {
    "duration": 112,
    "start_time": "2021-11-16T10:46:53.001Z"
   },
   {
    "duration": 110,
    "start_time": "2021-11-16T10:48:25.775Z"
   },
   {
    "duration": 3,
    "start_time": "2021-11-16T10:50:18.720Z"
   },
   {
    "duration": 4,
    "start_time": "2021-11-16T10:50:37.649Z"
   },
   {
    "duration": 2,
    "start_time": "2021-11-16T10:50:51.884Z"
   },
   {
    "duration": 3,
    "start_time": "2021-11-16T10:51:56.237Z"
   },
   {
    "duration": 101,
    "start_time": "2021-11-16T10:53:13.791Z"
   },
   {
    "duration": 3,
    "start_time": "2021-11-16T10:55:59.186Z"
   },
   {
    "duration": 3,
    "start_time": "2021-11-16T10:56:10.751Z"
   },
   {
    "duration": 3,
    "start_time": "2021-11-16T10:56:49.038Z"
   },
   {
    "duration": 3,
    "start_time": "2021-11-16T10:56:49.174Z"
   },
   {
    "duration": 4,
    "start_time": "2021-11-16T10:56:49.414Z"
   },
   {
    "duration": 3,
    "start_time": "2021-11-16T10:56:49.680Z"
   },
   {
    "duration": 3,
    "start_time": "2021-11-16T10:56:50.370Z"
   },
   {
    "duration": 114,
    "start_time": "2021-11-16T10:59:34.518Z"
   },
   {
    "duration": 3,
    "start_time": "2021-11-16T11:01:41.201Z"
   },
   {
    "duration": 116,
    "start_time": "2021-11-16T11:01:48.754Z"
   },
   {
    "duration": 3,
    "start_time": "2021-11-16T11:02:16.685Z"
   },
   {
    "duration": 3,
    "start_time": "2021-11-16T11:02:19.479Z"
   },
   {
    "duration": 3,
    "start_time": "2021-11-16T11:02:47.067Z"
   },
   {
    "duration": 3,
    "start_time": "2021-11-16T11:02:49.353Z"
   },
   {
    "duration": 3,
    "start_time": "2021-11-16T11:03:07.835Z"
   },
   {
    "duration": 3,
    "start_time": "2021-11-16T11:03:07.953Z"
   },
   {
    "duration": 112,
    "start_time": "2021-11-16T11:07:52.072Z"
   },
   {
    "duration": 187,
    "start_time": "2021-11-16T11:09:23.468Z"
   },
   {
    "duration": 4,
    "start_time": "2021-11-16T11:10:01.455Z"
   },
   {
    "duration": 3,
    "start_time": "2021-11-16T11:10:05.069Z"
   },
   {
    "duration": 4,
    "start_time": "2021-11-16T11:10:13.376Z"
   },
   {
    "duration": 3,
    "start_time": "2021-11-16T11:10:14.434Z"
   },
   {
    "duration": 3,
    "start_time": "2021-11-16T11:10:22.853Z"
   },
   {
    "duration": 4,
    "start_time": "2021-11-16T11:27:29.279Z"
   },
   {
    "duration": 4,
    "start_time": "2021-11-16T11:29:08.919Z"
   },
   {
    "duration": 118,
    "start_time": "2021-11-16T11:29:46.703Z"
   },
   {
    "duration": 437,
    "start_time": "2021-11-16T11:36:02.181Z"
   },
   {
    "duration": 157,
    "start_time": "2021-11-16T11:36:14.388Z"
   },
   {
    "duration": 207,
    "start_time": "2021-11-16T11:47:15.898Z"
   },
   {
    "duration": 3,
    "start_time": "2021-11-16T11:53:52.092Z"
   },
   {
    "duration": 3,
    "start_time": "2021-11-16T11:53:52.236Z"
   },
   {
    "duration": 3,
    "start_time": "2021-11-16T11:59:12.005Z"
   },
   {
    "duration": 112,
    "start_time": "2021-11-16T12:00:33.446Z"
   },
   {
    "duration": 3,
    "start_time": "2021-11-16T12:02:14.453Z"
   },
   {
    "duration": 3,
    "start_time": "2021-11-16T12:02:39.512Z"
   },
   {
    "duration": 106,
    "start_time": "2021-11-16T12:03:03.460Z"
   },
   {
    "duration": 3,
    "start_time": "2021-11-17T20:37:21.139Z"
   },
   {
    "duration": 3,
    "start_time": "2021-11-17T20:37:22.229Z"
   },
   {
    "duration": 3,
    "start_time": "2021-11-17T20:38:38.806Z"
   },
   {
    "duration": 3,
    "start_time": "2021-11-17T20:38:41.958Z"
   },
   {
    "duration": 3,
    "start_time": "2021-11-17T20:43:46.551Z"
   },
   {
    "duration": 4,
    "start_time": "2021-11-17T20:58:21.835Z"
   },
   {
    "duration": 3,
    "start_time": "2021-11-17T20:59:21.872Z"
   },
   {
    "duration": 4,
    "start_time": "2021-11-17T20:59:45.352Z"
   },
   {
    "duration": 4,
    "start_time": "2021-11-17T20:59:49.646Z"
   },
   {
    "duration": 159,
    "start_time": "2021-11-17T21:02:26.949Z"
   },
   {
    "duration": 3,
    "start_time": "2021-11-17T21:03:53.461Z"
   },
   {
    "duration": 3,
    "start_time": "2021-11-17T21:03:53.694Z"
   },
   {
    "duration": 3,
    "start_time": "2021-11-17T21:05:28.145Z"
   },
   {
    "duration": 116,
    "start_time": "2021-11-17T21:05:57.787Z"
   },
   {
    "duration": 3,
    "start_time": "2021-11-17T21:06:37.993Z"
   },
   {
    "duration": 3,
    "start_time": "2021-11-17T21:06:38.261Z"
   },
   {
    "duration": 3,
    "start_time": "2021-11-17T21:11:54.358Z"
   },
   {
    "duration": 3,
    "start_time": "2021-11-17T21:12:43.846Z"
   },
   {
    "duration": 4,
    "start_time": "2021-11-17T21:13:08.773Z"
   },
   {
    "duration": 3,
    "start_time": "2021-11-17T21:14:44.441Z"
   },
   {
    "duration": 3,
    "start_time": "2021-11-17T21:15:42.059Z"
   },
   {
    "duration": 4,
    "start_time": "2021-11-17T21:15:51.995Z"
   },
   {
    "duration": 3,
    "start_time": "2021-11-17T21:15:53.923Z"
   },
   {
    "duration": 3,
    "start_time": "2021-11-17T21:15:55.282Z"
   },
   {
    "duration": 3,
    "start_time": "2021-11-17T21:16:28.492Z"
   },
   {
    "duration": 3,
    "start_time": "2021-11-17T21:16:32.603Z"
   },
   {
    "duration": 3,
    "start_time": "2021-11-17T21:17:06.941Z"
   },
   {
    "duration": 98,
    "start_time": "2021-11-17T21:18:05.733Z"
   },
   {
    "duration": 4,
    "start_time": "2021-11-17T21:21:35.255Z"
   },
   {
    "duration": 3,
    "start_time": "2021-11-17T21:21:37.804Z"
   },
   {
    "duration": 4,
    "start_time": "2021-11-17T21:23:06.071Z"
   },
   {
    "duration": 3,
    "start_time": "2021-11-17T21:23:24.799Z"
   },
   {
    "duration": 3,
    "start_time": "2021-11-17T21:23:32.591Z"
   },
   {
    "duration": 98,
    "start_time": "2021-11-17T21:28:31.559Z"
   },
   {
    "duration": 3,
    "start_time": "2021-11-17T21:28:45.448Z"
   },
   {
    "duration": 3,
    "start_time": "2021-11-17T21:29:17.303Z"
   },
   {
    "duration": 3,
    "start_time": "2021-11-17T21:29:29.617Z"
   },
   {
    "duration": 3,
    "start_time": "2021-11-17T21:29:32.681Z"
   },
   {
    "duration": 3,
    "start_time": "2021-11-17T21:36:11.474Z"
   },
   {
    "duration": 3,
    "start_time": "2021-11-17T21:36:14.791Z"
   },
   {
    "duration": 3,
    "start_time": "2021-11-17T21:36:53.943Z"
   },
   {
    "duration": 3,
    "start_time": "2021-11-17T21:36:56.165Z"
   },
   {
    "duration": 4,
    "start_time": "2021-11-17T21:37:16.590Z"
   },
   {
    "duration": 3,
    "start_time": "2021-11-17T21:37:22.702Z"
   },
   {
    "duration": 4,
    "start_time": "2021-11-17T21:38:03.479Z"
   },
   {
    "duration": 3,
    "start_time": "2021-11-17T21:38:08.601Z"
   },
   {
    "duration": 3,
    "start_time": "2021-11-17T21:38:12.928Z"
   },
   {
    "duration": 3,
    "start_time": "2021-11-17T21:38:48.896Z"
   },
   {
    "duration": 2,
    "start_time": "2021-11-17T21:38:49.171Z"
   },
   {
    "duration": 4,
    "start_time": "2021-11-17T21:39:57.889Z"
   },
   {
    "duration": 3,
    "start_time": "2021-11-17T21:39:58.057Z"
   },
   {
    "duration": 3,
    "start_time": "2021-11-17T21:41:20.108Z"
   },
   {
    "duration": 3,
    "start_time": "2021-11-17T21:41:20.629Z"
   },
   {
    "duration": 3,
    "start_time": "2021-11-17T21:42:49.136Z"
   },
   {
    "duration": 3,
    "start_time": "2021-11-17T21:43:15.137Z"
   },
   {
    "duration": 4,
    "start_time": "2021-11-17T21:43:16.766Z"
   },
   {
    "duration": 4,
    "start_time": "2021-11-17T21:43:31.711Z"
   },
   {
    "duration": 3,
    "start_time": "2021-11-17T21:43:36.312Z"
   },
   {
    "duration": 4,
    "start_time": "2021-11-17T21:45:08.825Z"
   },
   {
    "duration": 4,
    "start_time": "2021-11-17T21:45:10.119Z"
   },
   {
    "duration": 4,
    "start_time": "2021-11-17T21:45:13.748Z"
   },
   {
    "duration": 3,
    "start_time": "2021-11-17T21:45:22.219Z"
   },
   {
    "duration": 3,
    "start_time": "2021-11-17T21:45:33.412Z"
   },
   {
    "duration": 2,
    "start_time": "2021-11-17T21:46:01.885Z"
   },
   {
    "duration": 3,
    "start_time": "2021-11-17T21:46:03.628Z"
   },
   {
    "duration": 107,
    "start_time": "2021-11-17T21:47:32.512Z"
   },
   {
    "duration": 103,
    "start_time": "2021-11-17T21:50:36.243Z"
   },
   {
    "duration": 3,
    "start_time": "2021-11-18T06:28:31.440Z"
   },
   {
    "duration": 3,
    "start_time": "2021-11-18T06:29:00.168Z"
   },
   {
    "duration": 3,
    "start_time": "2021-11-18T06:31:27.008Z"
   },
   {
    "duration": 2,
    "start_time": "2021-11-18T06:35:34.288Z"
   },
   {
    "duration": 2,
    "start_time": "2021-11-18T06:38:04.527Z"
   },
   {
    "duration": 1226,
    "start_time": "2021-11-28T19:04:53.440Z"
   },
   {
    "duration": 387,
    "start_time": "2021-11-28T19:06:47.222Z"
   },
   {
    "duration": 6274,
    "start_time": "2021-11-28T19:09:14.928Z"
   },
   {
    "duration": 5647,
    "start_time": "2021-11-28T19:10:52.099Z"
   },
   {
    "duration": 376,
    "start_time": "2021-11-28T19:13:03.302Z"
   },
   {
    "duration": 5630,
    "start_time": "2021-11-28T19:13:41.764Z"
   },
   {
    "duration": 3980,
    "start_time": "2021-11-28T19:14:56.242Z"
   },
   {
    "duration": 1067,
    "start_time": "2021-11-28T19:15:23.554Z"
   },
   {
    "duration": 5671,
    "start_time": "2021-11-28T20:06:49.446Z"
   },
   {
    "duration": 657,
    "start_time": "2021-11-28T20:07:18.474Z"
   },
   {
    "duration": 10,
    "start_time": "2021-11-28T20:07:41.643Z"
   },
   {
    "duration": 363,
    "start_time": "2021-11-28T20:08:41.955Z"
   },
   {
    "duration": 357,
    "start_time": "2021-11-28T20:08:49.730Z"
   },
   {
    "duration": 23,
    "start_time": "2021-11-28T20:09:02.544Z"
   },
   {
    "duration": 10,
    "start_time": "2021-11-28T20:18:50.130Z"
   },
   {
    "duration": 14,
    "start_time": "2021-11-28T20:19:08.007Z"
   },
   {
    "duration": 383,
    "start_time": "2021-11-28T20:25:15.242Z"
   },
   {
    "duration": 9,
    "start_time": "2021-11-28T20:25:32.048Z"
   },
   {
    "duration": 9,
    "start_time": "2021-11-28T20:26:09.678Z"
   },
   {
    "duration": 7,
    "start_time": "2021-11-28T20:27:03.278Z"
   },
   {
    "duration": 7,
    "start_time": "2021-11-28T20:27:15.767Z"
   },
   {
    "duration": 32,
    "start_time": "2021-11-28T21:02:17.768Z"
   },
   {
    "duration": 30,
    "start_time": "2021-11-28T21:16:53.524Z"
   },
   {
    "duration": 6,
    "start_time": "2021-11-28T21:17:50.512Z"
   },
   {
    "duration": 362,
    "start_time": "2021-11-28T21:17:55.890Z"
   },
   {
    "duration": 716,
    "start_time": "2021-11-28T21:18:13.994Z"
   },
   {
    "duration": 22,
    "start_time": "2021-11-28T21:18:22.976Z"
   },
   {
    "duration": 11,
    "start_time": "2021-11-28T21:18:57.369Z"
   },
   {
    "duration": 340,
    "start_time": "2021-11-28T21:24:13.684Z"
   },
   {
    "duration": 28,
    "start_time": "2021-11-28T21:24:50.351Z"
   },
   {
    "duration": 352,
    "start_time": "2021-11-28T21:55:58.948Z"
   },
   {
    "duration": 15,
    "start_time": "2021-11-28T21:56:04.373Z"
   },
   {
    "duration": 11,
    "start_time": "2021-11-28T21:57:47.684Z"
   },
   {
    "duration": 26,
    "start_time": "2021-11-28T21:59:34.803Z"
   },
   {
    "duration": 23,
    "start_time": "2021-11-28T21:59:52.400Z"
   },
   {
    "duration": 19,
    "start_time": "2021-11-28T22:00:23.395Z"
   },
   {
    "duration": 39,
    "start_time": "2021-11-28T22:01:46.788Z"
   },
   {
    "duration": 14,
    "start_time": "2021-11-28T22:21:37.231Z"
   },
   {
    "duration": 17,
    "start_time": "2021-11-28T22:22:44.000Z"
   },
   {
    "duration": 361,
    "start_time": "2021-11-28T22:28:08.883Z"
   },
   {
    "duration": 23,
    "start_time": "2021-11-28T22:28:29.927Z"
   },
   {
    "duration": 8740,
    "start_time": "2021-11-28T22:29:39.844Z"
   },
   {
    "duration": 15,
    "start_time": "2021-11-28T22:29:49.700Z"
   },
   {
    "duration": 19,
    "start_time": "2021-11-28T22:30:46.529Z"
   },
   {
    "duration": 372,
    "start_time": "2021-11-28T22:33:09.076Z"
   },
   {
    "duration": 9,
    "start_time": "2021-11-28T22:33:29.208Z"
   },
   {
    "duration": 8,
    "start_time": "2021-11-28T22:33:42.014Z"
   },
   {
    "duration": 14,
    "start_time": "2021-11-28T23:34:11.090Z"
   },
   {
    "duration": 5,
    "start_time": "2021-11-28T23:34:54.359Z"
   },
   {
    "duration": 35,
    "start_time": "2021-11-28T23:35:10.440Z"
   },
   {
    "duration": 201,
    "start_time": "2021-11-28T23:37:47.126Z"
   },
   {
    "duration": 10,
    "start_time": "2021-11-28T23:37:50.849Z"
   },
   {
    "duration": 376,
    "start_time": "2021-11-28T23:38:58.663Z"
   },
   {
    "duration": 15,
    "start_time": "2021-11-28T23:39:12.483Z"
   },
   {
    "duration": 9,
    "start_time": "2021-11-28T23:39:19.432Z"
   },
   {
    "duration": 375,
    "start_time": "2021-11-28T23:40:31.241Z"
   },
   {
    "duration": 15,
    "start_time": "2021-11-28T23:44:11.180Z"
   },
   {
    "duration": 9,
    "start_time": "2021-11-28T23:44:18.064Z"
   },
   {
    "duration": 9,
    "start_time": "2021-11-28T23:44:32.708Z"
   },
   {
    "duration": 367,
    "start_time": "2021-11-28T23:45:53.415Z"
   },
   {
    "duration": 168,
    "start_time": "2021-11-28T23:47:37.496Z"
   },
   {
    "duration": 6,
    "start_time": "2021-11-28T23:47:43.932Z"
   },
   {
    "duration": 346,
    "start_time": "2021-11-28T23:48:05.020Z"
   },
   {
    "duration": 4,
    "start_time": "2021-11-28T23:48:10.670Z"
   },
   {
    "duration": 6,
    "start_time": "2021-11-28T23:48:13.714Z"
   },
   {
    "duration": 15,
    "start_time": "2021-11-28T23:48:22.826Z"
   },
   {
    "duration": 4,
    "start_time": "2021-11-28T23:49:00.274Z"
   },
   {
    "duration": 20,
    "start_time": "2021-11-28T23:49:03.394Z"
   },
   {
    "duration": 377,
    "start_time": "2021-11-28T23:49:30.549Z"
   },
   {
    "duration": 41,
    "start_time": "2021-11-28T23:51:59.602Z"
   },
   {
    "duration": 19,
    "start_time": "2021-11-28T23:52:14.546Z"
   },
   {
    "duration": 10,
    "start_time": "2021-11-28T23:52:47.269Z"
   },
   {
    "duration": 40,
    "start_time": "2021-11-28T23:53:10.629Z"
   },
   {
    "duration": 11,
    "start_time": "2021-11-28T23:53:16.672Z"
   },
   {
    "duration": 42,
    "start_time": "2021-11-28T23:56:24.373Z"
   },
   {
    "duration": 396,
    "start_time": "2021-11-28T23:56:26.659Z"
   },
   {
    "duration": 11,
    "start_time": "2021-11-28T23:56:35.094Z"
   },
   {
    "duration": 5,
    "start_time": "2021-11-28T23:57:58.742Z"
   },
   {
    "duration": 43,
    "start_time": "2021-11-28T23:59:35.981Z"
   },
   {
    "duration": 28,
    "start_time": "2021-11-29T00:25:02.483Z"
   },
   {
    "duration": 39,
    "start_time": "2021-11-29T00:25:16.679Z"
   },
   {
    "duration": 13,
    "start_time": "2021-11-29T00:29:02.847Z"
   },
   {
    "duration": 31,
    "start_time": "2021-11-29T00:30:58.342Z"
   },
   {
    "duration": 40,
    "start_time": "2021-11-29T00:46:58.170Z"
   },
   {
    "duration": 33,
    "start_time": "2021-11-29T00:47:07.942Z"
   },
   {
    "duration": 8,
    "start_time": "2021-11-29T01:17:20.911Z"
   },
   {
    "duration": 24,
    "start_time": "2021-11-29T01:17:33.566Z"
   },
   {
    "duration": 18,
    "start_time": "2021-11-29T01:17:48.257Z"
   },
   {
    "duration": 19,
    "start_time": "2021-11-29T01:18:01.558Z"
   },
   {
    "duration": 3,
    "start_time": "2021-11-29T01:18:45.220Z"
   },
   {
    "duration": 656,
    "start_time": "2021-11-29T01:18:45.226Z"
   },
   {
    "duration": 9,
    "start_time": "2021-11-29T01:18:45.885Z"
   },
   {
    "duration": 24,
    "start_time": "2021-11-29T01:18:45.897Z"
   },
   {
    "duration": 19,
    "start_time": "2021-11-29T01:18:45.924Z"
   },
   {
    "duration": 46,
    "start_time": "2021-11-29T01:18:45.946Z"
   },
   {
    "duration": 16,
    "start_time": "2021-11-29T01:18:45.996Z"
   },
   {
    "duration": 12,
    "start_time": "2021-11-29T01:18:46.016Z"
   },
   {
    "duration": 9,
    "start_time": "2021-11-29T01:18:46.030Z"
   },
   {
    "duration": 350,
    "start_time": "2021-11-29T01:18:46.041Z"
   },
   {
    "duration": -298,
    "start_time": "2021-11-29T01:18:46.692Z"
   },
   {
    "duration": -301,
    "start_time": "2021-11-29T01:18:46.697Z"
   },
   {
    "duration": -304,
    "start_time": "2021-11-29T01:18:46.702Z"
   },
   {
    "duration": -495,
    "start_time": "2021-11-29T01:18:46.894Z"
   },
   {
    "duration": -505,
    "start_time": "2021-11-29T01:18:46.906Z"
   },
   {
    "duration": -509,
    "start_time": "2021-11-29T01:18:46.913Z"
   },
   {
    "duration": -511,
    "start_time": "2021-11-29T01:18:46.918Z"
   },
   {
    "duration": -515,
    "start_time": "2021-11-29T01:18:46.924Z"
   },
   {
    "duration": -519,
    "start_time": "2021-11-29T01:18:46.929Z"
   },
   {
    "duration": -523,
    "start_time": "2021-11-29T01:18:46.935Z"
   },
   {
    "duration": -528,
    "start_time": "2021-11-29T01:18:46.941Z"
   },
   {
    "duration": -533,
    "start_time": "2021-11-29T01:18:46.947Z"
   },
   {
    "duration": -536,
    "start_time": "2021-11-29T01:18:46.952Z"
   },
   {
    "duration": -534,
    "start_time": "2021-11-29T01:18:46.958Z"
   },
   {
    "duration": -537,
    "start_time": "2021-11-29T01:18:46.963Z"
   },
   {
    "duration": -542,
    "start_time": "2021-11-29T01:18:46.969Z"
   },
   {
    "duration": -546,
    "start_time": "2021-11-29T01:18:46.974Z"
   },
   {
    "duration": -549,
    "start_time": "2021-11-29T01:18:46.979Z"
   },
   {
    "duration": -554,
    "start_time": "2021-11-29T01:18:46.985Z"
   },
   {
    "duration": 5,
    "start_time": "2021-11-29T01:19:47.541Z"
   },
   {
    "duration": 463,
    "start_time": "2021-11-29T01:20:04.200Z"
   },
   {
    "duration": 10,
    "start_time": "2021-11-29T01:22:22.638Z"
   },
   {
    "duration": 7057,
    "start_time": "2021-11-29T01:22:54.098Z"
   },
   {
    "duration": 613,
    "start_time": "2021-11-29T01:23:27.329Z"
   },
   {
    "duration": 6,
    "start_time": "2021-11-29T01:23:43.375Z"
   },
   {
    "duration": 6,
    "start_time": "2021-11-29T01:23:46.220Z"
   },
   {
    "duration": 8,
    "start_time": "2021-11-29T01:23:49.475Z"
   },
   {
    "duration": 11,
    "start_time": "2021-11-29T01:23:53.365Z"
   },
   {
    "duration": 8,
    "start_time": "2021-11-29T01:23:59.982Z"
   },
   {
    "duration": 4,
    "start_time": "2021-11-29T01:24:19.978Z"
   },
   {
    "duration": 631,
    "start_time": "2021-11-29T01:24:19.984Z"
   },
   {
    "duration": 8,
    "start_time": "2021-11-29T01:24:20.618Z"
   },
   {
    "duration": 21,
    "start_time": "2021-11-29T01:24:20.629Z"
   },
   {
    "duration": 15,
    "start_time": "2021-11-29T01:24:20.652Z"
   },
   {
    "duration": 28,
    "start_time": "2021-11-29T01:24:20.670Z"
   },
   {
    "duration": 13,
    "start_time": "2021-11-29T01:24:20.701Z"
   },
   {
    "duration": 33,
    "start_time": "2021-11-29T01:24:20.717Z"
   },
   {
    "duration": 12,
    "start_time": "2021-11-29T01:24:20.753Z"
   },
   {
    "duration": 9,
    "start_time": "2021-11-29T01:24:20.767Z"
   },
   {
    "duration": 8,
    "start_time": "2021-11-29T01:24:20.779Z"
   },
   {
    "duration": 25,
    "start_time": "2021-11-29T01:24:20.790Z"
   },
   {
    "duration": 11,
    "start_time": "2021-11-29T01:24:20.817Z"
   },
   {
    "duration": 28,
    "start_time": "2021-11-29T01:24:20.830Z"
   },
   {
    "duration": 53,
    "start_time": "2021-11-29T01:24:20.860Z"
   },
   {
    "duration": 18,
    "start_time": "2021-11-29T01:24:20.915Z"
   },
   {
    "duration": 13,
    "start_time": "2021-11-29T01:24:20.936Z"
   },
   {
    "duration": 57,
    "start_time": "2021-11-29T01:24:20.951Z"
   },
   {
    "duration": 15,
    "start_time": "2021-11-29T01:24:21.015Z"
   },
   {
    "duration": 21,
    "start_time": "2021-11-29T01:24:21.033Z"
   },
   {
    "duration": 46,
    "start_time": "2021-11-29T01:24:21.057Z"
   },
   {
    "duration": 30,
    "start_time": "2021-11-29T01:24:21.107Z"
   },
   {
    "duration": 18,
    "start_time": "2021-11-29T01:24:21.140Z"
   },
   {
    "duration": 13,
    "start_time": "2021-11-29T01:24:21.160Z"
   },
   {
    "duration": 47,
    "start_time": "2021-11-29T01:24:21.200Z"
   },
   {
    "duration": 11,
    "start_time": "2021-11-29T01:24:21.250Z"
   },
   {
    "duration": 8,
    "start_time": "2021-11-29T01:24:21.263Z"
   },
   {
    "duration": 46,
    "start_time": "2021-11-29T01:24:21.300Z"
   },
   {
    "duration": 64,
    "start_time": "2021-11-29T01:24:21.349Z"
   },
   {
    "duration": 14,
    "start_time": "2021-11-29T01:24:21.416Z"
   },
   {
    "duration": 37,
    "start_time": "2021-11-29T01:24:21.433Z"
   },
   {
    "duration": 363,
    "start_time": "2021-11-29T01:28:30.964Z"
   },
   {
    "duration": 408,
    "start_time": "2021-11-29T01:45:21.219Z"
   },
   {
    "duration": 410,
    "start_time": "2021-11-29T01:47:19.556Z"
   },
   {
    "duration": 1274,
    "start_time": "2021-11-29T01:47:43.905Z"
   },
   {
    "duration": 1242,
    "start_time": "2021-11-29T01:47:45.182Z"
   },
   {
    "duration": 10,
    "start_time": "2021-11-29T01:47:46.427Z"
   },
   {
    "duration": 29,
    "start_time": "2021-11-29T01:47:46.440Z"
   },
   {
    "duration": 10,
    "start_time": "2021-11-29T01:47:46.472Z"
   },
   {
    "duration": 21,
    "start_time": "2021-11-29T01:47:46.485Z"
   },
   {
    "duration": 7,
    "start_time": "2021-11-29T01:47:46.509Z"
   },
   {
    "duration": 9,
    "start_time": "2021-11-29T01:47:46.520Z"
   },
   {
    "duration": 13,
    "start_time": "2021-11-29T01:47:46.532Z"
   },
   {
    "duration": 16,
    "start_time": "2021-11-29T01:47:46.548Z"
   },
   {
    "duration": 34,
    "start_time": "2021-11-29T01:47:46.566Z"
   },
   {
    "duration": 21,
    "start_time": "2021-11-29T01:47:46.603Z"
   },
   {
    "duration": 12,
    "start_time": "2021-11-29T01:47:46.626Z"
   },
   {
    "duration": 62,
    "start_time": "2021-11-29T01:47:46.640Z"
   },
   {
    "duration": 24,
    "start_time": "2021-11-29T01:47:46.704Z"
   },
   {
    "duration": 15,
    "start_time": "2021-11-29T01:47:46.730Z"
   },
   {
    "duration": 9,
    "start_time": "2021-11-29T01:47:46.748Z"
   },
   {
    "duration": 51,
    "start_time": "2021-11-29T01:47:46.760Z"
   },
   {
    "duration": 15,
    "start_time": "2021-11-29T01:47:46.813Z"
   },
   {
    "duration": 19,
    "start_time": "2021-11-29T01:47:46.830Z"
   },
   {
    "duration": 15,
    "start_time": "2021-11-29T01:47:46.852Z"
   },
   {
    "duration": 54,
    "start_time": "2021-11-29T01:47:46.869Z"
   },
   {
    "duration": 19,
    "start_time": "2021-11-29T01:47:46.928Z"
   },
   {
    "duration": 12,
    "start_time": "2021-11-29T01:47:46.949Z"
   },
   {
    "duration": 79,
    "start_time": "2021-11-29T01:47:46.964Z"
   },
   {
    "duration": 11,
    "start_time": "2021-11-29T01:47:47.045Z"
   },
   {
    "duration": 25,
    "start_time": "2021-11-29T01:47:47.058Z"
   },
   {
    "duration": 57,
    "start_time": "2021-11-29T01:47:47.086Z"
   },
   {
    "duration": 36,
    "start_time": "2021-11-29T01:47:47.145Z"
   },
   {
    "duration": 30,
    "start_time": "2021-11-29T01:47:47.183Z"
   },
   {
    "duration": 50,
    "start_time": "2021-11-29T01:47:47.215Z"
   },
   {
    "duration": 416,
    "start_time": "2021-11-29T01:48:03.561Z"
   },
   {
    "duration": 47,
    "start_time": "2021-11-29T01:48:29.752Z"
   },
   {
    "duration": 24,
    "start_time": "2021-11-29T01:48:39.270Z"
   },
   {
    "duration": 33,
    "start_time": "2021-11-29T01:48:53.450Z"
   },
   {
    "duration": 43,
    "start_time": "2021-11-29T01:50:23.509Z"
   },
   {
    "duration": 15,
    "start_time": "2021-11-29T01:57:31.021Z"
   },
   {
    "duration": 32,
    "start_time": "2021-11-29T01:57:47.688Z"
   },
   {
    "duration": 6,
    "start_time": "2021-11-29T02:02:11.271Z"
   },
   {
    "duration": 31,
    "start_time": "2021-11-29T02:02:16.553Z"
   },
   {
    "duration": 1236,
    "start_time": "2021-11-29T04:53:37.346Z"
   },
   {
    "duration": 606,
    "start_time": "2021-11-29T04:53:38.585Z"
   },
   {
    "duration": 11,
    "start_time": "2021-11-29T04:53:39.195Z"
   },
   {
    "duration": 24,
    "start_time": "2021-11-29T04:53:39.210Z"
   },
   {
    "duration": 9,
    "start_time": "2021-11-29T04:53:39.237Z"
   },
   {
    "duration": 60,
    "start_time": "2021-11-29T04:53:39.249Z"
   },
   {
    "duration": 9,
    "start_time": "2021-11-29T04:53:39.312Z"
   },
   {
    "duration": 9,
    "start_time": "2021-11-29T04:53:39.325Z"
   },
   {
    "duration": 11,
    "start_time": "2021-11-29T04:53:39.336Z"
   },
   {
    "duration": 9,
    "start_time": "2021-11-29T04:53:39.350Z"
   },
   {
    "duration": 39,
    "start_time": "2021-11-29T04:53:39.361Z"
   },
   {
    "duration": 24,
    "start_time": "2021-11-29T04:53:39.403Z"
   },
   {
    "duration": 11,
    "start_time": "2021-11-29T04:53:39.430Z"
   },
   {
    "duration": 57,
    "start_time": "2021-11-29T04:53:39.443Z"
   },
   {
    "duration": 24,
    "start_time": "2021-11-29T04:53:39.503Z"
   },
   {
    "duration": 15,
    "start_time": "2021-11-29T04:53:39.529Z"
   },
   {
    "duration": 10,
    "start_time": "2021-11-29T04:53:39.547Z"
   },
   {
    "duration": 51,
    "start_time": "2021-11-29T04:53:39.559Z"
   },
   {
    "duration": 15,
    "start_time": "2021-11-29T04:53:39.613Z"
   },
   {
    "duration": 21,
    "start_time": "2021-11-29T04:53:39.630Z"
   },
   {
    "duration": 11,
    "start_time": "2021-11-29T04:53:39.654Z"
   },
   {
    "duration": 54,
    "start_time": "2021-11-29T04:53:39.667Z"
   },
   {
    "duration": 21,
    "start_time": "2021-11-29T04:53:39.725Z"
   },
   {
    "duration": 17,
    "start_time": "2021-11-29T04:53:39.749Z"
   },
   {
    "duration": 76,
    "start_time": "2021-11-29T04:53:39.769Z"
   },
   {
    "duration": 11,
    "start_time": "2021-11-29T04:53:39.847Z"
   },
   {
    "duration": 10,
    "start_time": "2021-11-29T04:53:39.860Z"
   },
   {
    "duration": 69,
    "start_time": "2021-11-29T04:53:39.872Z"
   },
   {
    "duration": 34,
    "start_time": "2021-11-29T04:53:39.943Z"
   },
   {
    "duration": 30,
    "start_time": "2021-11-29T04:53:39.980Z"
   },
   {
    "duration": 44,
    "start_time": "2021-11-29T04:53:40.013Z"
   },
   {
    "duration": 70,
    "start_time": "2021-11-29T04:53:40.061Z"
   },
   {
    "duration": 7,
    "start_time": "2021-11-29T04:53:40.134Z"
   }
  ],
  "kernelspec": {
   "display_name": "Python 3",
   "language": "python",
   "name": "python3"
  },
  "language_info": {
   "codemirror_mode": {
    "name": "ipython",
    "version": 3
   },
   "file_extension": ".py",
   "mimetype": "text/x-python",
   "name": "python",
   "nbconvert_exporter": "python",
   "pygments_lexer": "ipython3",
   "version": "3.8.8"
  },
  "toc": {
   "base_numbering": 1,
   "nav_menu": {},
   "number_sections": true,
   "sideBar": true,
   "skip_h1_title": false,
   "title_cell": "Table of Contents",
   "title_sidebar": "Contents",
   "toc_cell": false,
   "toc_position": {},
   "toc_section_display": true,
   "toc_window_display": true
  }
 },
 "nbformat": 4,
 "nbformat_minor": 2
}
